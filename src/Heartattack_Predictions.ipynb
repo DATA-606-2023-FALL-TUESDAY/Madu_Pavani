{
 "cells": [
  {
   "cell_type": "markdown",
   "id": "4cd3f6b5",
   "metadata": {},
   "source": [
    "## Introduction"
   ]
  },
  {
   "cell_type": "markdown",
   "id": "9d8f8a1b",
   "metadata": {},
   "source": [
    "### Heartattack Predictions "
   ]
  },
  {
   "cell_type": "markdown",
   "id": "3f478c40",
   "metadata": {},
   "source": [
    "Student ID: IG74096"
   ]
  },
  {
   "cell_type": "markdown",
   "id": "7ed1471d",
   "metadata": {},
   "source": [
    "The dataset consists of 1025 rows and contains 14 columns. The goal is to predict the target variable."
   ]
  },
  {
   "cell_type": "markdown",
   "id": "cd97465b",
   "metadata": {},
   "source": [
    "### Importing Packages"
   ]
  },
  {
   "cell_type": "code",
   "execution_count": 43,
   "id": "a9cbdb73",
   "metadata": {},
   "outputs": [],
   "source": [
    "import numpy as np\n",
    "import pandas as pd \n",
    "import matplotlib.pyplot as plt\n",
    "import seaborn as sns\n",
    "\n",
    "import plotly.express as px\n",
    "\n",
    "%matplotlib inline\n",
    "\n",
    "import warnings\n",
    "warnings.filterwarnings(\"ignore\")"
   ]
  },
  {
   "cell_type": "markdown",
   "id": "d4c701a4",
   "metadata": {},
   "source": [
    "### Loading the Dataset"
   ]
  },
  {
   "cell_type": "code",
   "execution_count": 3,
   "id": "e3453ac8",
   "metadata": {},
   "outputs": [],
   "source": [
    "heart = pd.read_csv(\"heart.csv\") "
   ]
  },
  {
   "cell_type": "code",
   "execution_count": 4,
   "id": "8225b0fa",
   "metadata": {},
   "outputs": [
    {
     "data": {
      "text/html": [
       "<div>\n",
       "<style scoped>\n",
       "    .dataframe tbody tr th:only-of-type {\n",
       "        vertical-align: middle;\n",
       "    }\n",
       "\n",
       "    .dataframe tbody tr th {\n",
       "        vertical-align: top;\n",
       "    }\n",
       "\n",
       "    .dataframe thead th {\n",
       "        text-align: right;\n",
       "    }\n",
       "</style>\n",
       "<table border=\"1\" class=\"dataframe\">\n",
       "  <thead>\n",
       "    <tr style=\"text-align: right;\">\n",
       "      <th></th>\n",
       "      <th>age</th>\n",
       "      <th>sex</th>\n",
       "      <th>cp</th>\n",
       "      <th>trestbps</th>\n",
       "      <th>chol</th>\n",
       "      <th>fbs</th>\n",
       "      <th>restecg</th>\n",
       "      <th>thalach</th>\n",
       "      <th>exang</th>\n",
       "      <th>oldpeak</th>\n",
       "      <th>slope</th>\n",
       "      <th>ca</th>\n",
       "      <th>thal</th>\n",
       "      <th>disease</th>\n",
       "    </tr>\n",
       "  </thead>\n",
       "  <tbody>\n",
       "    <tr>\n",
       "      <th>0</th>\n",
       "      <td>52</td>\n",
       "      <td>1</td>\n",
       "      <td>0</td>\n",
       "      <td>125</td>\n",
       "      <td>212</td>\n",
       "      <td>0</td>\n",
       "      <td>1</td>\n",
       "      <td>168</td>\n",
       "      <td>0</td>\n",
       "      <td>1.0</td>\n",
       "      <td>2</td>\n",
       "      <td>2</td>\n",
       "      <td>3</td>\n",
       "      <td>0</td>\n",
       "    </tr>\n",
       "    <tr>\n",
       "      <th>1</th>\n",
       "      <td>53</td>\n",
       "      <td>1</td>\n",
       "      <td>0</td>\n",
       "      <td>140</td>\n",
       "      <td>203</td>\n",
       "      <td>1</td>\n",
       "      <td>0</td>\n",
       "      <td>155</td>\n",
       "      <td>1</td>\n",
       "      <td>3.1</td>\n",
       "      <td>0</td>\n",
       "      <td>0</td>\n",
       "      <td>3</td>\n",
       "      <td>0</td>\n",
       "    </tr>\n",
       "    <tr>\n",
       "      <th>2</th>\n",
       "      <td>70</td>\n",
       "      <td>1</td>\n",
       "      <td>0</td>\n",
       "      <td>145</td>\n",
       "      <td>174</td>\n",
       "      <td>0</td>\n",
       "      <td>1</td>\n",
       "      <td>125</td>\n",
       "      <td>1</td>\n",
       "      <td>2.6</td>\n",
       "      <td>0</td>\n",
       "      <td>0</td>\n",
       "      <td>3</td>\n",
       "      <td>0</td>\n",
       "    </tr>\n",
       "    <tr>\n",
       "      <th>3</th>\n",
       "      <td>61</td>\n",
       "      <td>1</td>\n",
       "      <td>0</td>\n",
       "      <td>148</td>\n",
       "      <td>203</td>\n",
       "      <td>0</td>\n",
       "      <td>1</td>\n",
       "      <td>161</td>\n",
       "      <td>0</td>\n",
       "      <td>0.0</td>\n",
       "      <td>2</td>\n",
       "      <td>1</td>\n",
       "      <td>3</td>\n",
       "      <td>0</td>\n",
       "    </tr>\n",
       "    <tr>\n",
       "      <th>4</th>\n",
       "      <td>62</td>\n",
       "      <td>0</td>\n",
       "      <td>0</td>\n",
       "      <td>138</td>\n",
       "      <td>294</td>\n",
       "      <td>1</td>\n",
       "      <td>1</td>\n",
       "      <td>106</td>\n",
       "      <td>0</td>\n",
       "      <td>1.9</td>\n",
       "      <td>1</td>\n",
       "      <td>3</td>\n",
       "      <td>2</td>\n",
       "      <td>0</td>\n",
       "    </tr>\n",
       "  </tbody>\n",
       "</table>\n",
       "</div>"
      ],
      "text/plain": [
       "   age  sex  cp  trestbps  chol  fbs  restecg  thalach  exang  oldpeak  slope  \\\n",
       "0   52    1   0       125   212    0        1      168      0      1.0      2   \n",
       "1   53    1   0       140   203    1        0      155      1      3.1      0   \n",
       "2   70    1   0       145   174    0        1      125      1      2.6      0   \n",
       "3   61    1   0       148   203    0        1      161      0      0.0      2   \n",
       "4   62    0   0       138   294    1        1      106      0      1.9      1   \n",
       "\n",
       "   ca  thal  disease  \n",
       "0   2     3        0  \n",
       "1   0     3        0  \n",
       "2   0     3        0  \n",
       "3   1     3        0  \n",
       "4   3     2        0  "
      ]
     },
     "execution_count": 4,
     "metadata": {},
     "output_type": "execute_result"
    }
   ],
   "source": [
    "heart.head()"
   ]
  },
  {
   "cell_type": "code",
   "execution_count": 5,
   "id": "e38e7eba",
   "metadata": {},
   "outputs": [
    {
     "name": "stdout",
     "output_type": "stream",
     "text": [
      "<class 'pandas.core.frame.DataFrame'>\n",
      "RangeIndex: 1025 entries, 0 to 1024\n",
      "Data columns (total 14 columns):\n",
      " #   Column    Non-Null Count  Dtype  \n",
      "---  ------    --------------  -----  \n",
      " 0   age       1025 non-null   int64  \n",
      " 1   sex       1025 non-null   int64  \n",
      " 2   cp        1025 non-null   int64  \n",
      " 3   trestbps  1025 non-null   int64  \n",
      " 4   chol      1025 non-null   int64  \n",
      " 5   fbs       1025 non-null   int64  \n",
      " 6   restecg   1025 non-null   int64  \n",
      " 7   thalach   1025 non-null   int64  \n",
      " 8   exang     1025 non-null   int64  \n",
      " 9   oldpeak   1025 non-null   float64\n",
      " 10  slope     1025 non-null   int64  \n",
      " 11  ca        1025 non-null   int64  \n",
      " 12  thal      1025 non-null   int64  \n",
      " 13  disease   1025 non-null   int64  \n",
      "dtypes: float64(1), int64(13)\n",
      "memory usage: 112.2 KB\n"
     ]
    }
   ],
   "source": [
    "heart.info()"
   ]
  },
  {
   "cell_type": "code",
   "execution_count": 6,
   "id": "4c6d4b01",
   "metadata": {},
   "outputs": [
    {
     "data": {
      "text/plain": [
       "(1025, 14)"
      ]
     },
     "execution_count": 6,
     "metadata": {},
     "output_type": "execute_result"
    }
   ],
   "source": [
    "heart.shape"
   ]
  },
  {
   "cell_type": "code",
   "execution_count": 7,
   "id": "97face8b",
   "metadata": {},
   "outputs": [
    {
     "data": {
      "text/html": [
       "<div>\n",
       "<style scoped>\n",
       "    .dataframe tbody tr th:only-of-type {\n",
       "        vertical-align: middle;\n",
       "    }\n",
       "\n",
       "    .dataframe tbody tr th {\n",
       "        vertical-align: top;\n",
       "    }\n",
       "\n",
       "    .dataframe thead th {\n",
       "        text-align: right;\n",
       "    }\n",
       "</style>\n",
       "<table border=\"1\" class=\"dataframe\">\n",
       "  <thead>\n",
       "    <tr style=\"text-align: right;\">\n",
       "      <th></th>\n",
       "      <th>age</th>\n",
       "      <th>sex</th>\n",
       "      <th>cp</th>\n",
       "      <th>trestbps</th>\n",
       "      <th>chol</th>\n",
       "      <th>fbs</th>\n",
       "      <th>restecg</th>\n",
       "      <th>thalach</th>\n",
       "      <th>exang</th>\n",
       "      <th>oldpeak</th>\n",
       "      <th>slope</th>\n",
       "      <th>ca</th>\n",
       "      <th>thal</th>\n",
       "      <th>disease</th>\n",
       "    </tr>\n",
       "  </thead>\n",
       "  <tbody>\n",
       "    <tr>\n",
       "      <th>count</th>\n",
       "      <td>1025.000000</td>\n",
       "      <td>1025.000000</td>\n",
       "      <td>1025.000000</td>\n",
       "      <td>1025.000000</td>\n",
       "      <td>1025.00000</td>\n",
       "      <td>1025.000000</td>\n",
       "      <td>1025.000000</td>\n",
       "      <td>1025.000000</td>\n",
       "      <td>1025.000000</td>\n",
       "      <td>1025.000000</td>\n",
       "      <td>1025.000000</td>\n",
       "      <td>1025.000000</td>\n",
       "      <td>1025.000000</td>\n",
       "      <td>1025.000000</td>\n",
       "    </tr>\n",
       "    <tr>\n",
       "      <th>mean</th>\n",
       "      <td>54.434146</td>\n",
       "      <td>0.695610</td>\n",
       "      <td>0.942439</td>\n",
       "      <td>131.611707</td>\n",
       "      <td>246.00000</td>\n",
       "      <td>0.149268</td>\n",
       "      <td>0.529756</td>\n",
       "      <td>149.114146</td>\n",
       "      <td>0.336585</td>\n",
       "      <td>1.071512</td>\n",
       "      <td>1.385366</td>\n",
       "      <td>0.754146</td>\n",
       "      <td>2.323902</td>\n",
       "      <td>0.513171</td>\n",
       "    </tr>\n",
       "    <tr>\n",
       "      <th>std</th>\n",
       "      <td>9.072290</td>\n",
       "      <td>0.460373</td>\n",
       "      <td>1.029641</td>\n",
       "      <td>17.516718</td>\n",
       "      <td>51.59251</td>\n",
       "      <td>0.356527</td>\n",
       "      <td>0.527878</td>\n",
       "      <td>23.005724</td>\n",
       "      <td>0.472772</td>\n",
       "      <td>1.175053</td>\n",
       "      <td>0.617755</td>\n",
       "      <td>1.030798</td>\n",
       "      <td>0.620660</td>\n",
       "      <td>0.500070</td>\n",
       "    </tr>\n",
       "    <tr>\n",
       "      <th>min</th>\n",
       "      <td>29.000000</td>\n",
       "      <td>0.000000</td>\n",
       "      <td>0.000000</td>\n",
       "      <td>94.000000</td>\n",
       "      <td>126.00000</td>\n",
       "      <td>0.000000</td>\n",
       "      <td>0.000000</td>\n",
       "      <td>71.000000</td>\n",
       "      <td>0.000000</td>\n",
       "      <td>0.000000</td>\n",
       "      <td>0.000000</td>\n",
       "      <td>0.000000</td>\n",
       "      <td>0.000000</td>\n",
       "      <td>0.000000</td>\n",
       "    </tr>\n",
       "    <tr>\n",
       "      <th>25%</th>\n",
       "      <td>48.000000</td>\n",
       "      <td>0.000000</td>\n",
       "      <td>0.000000</td>\n",
       "      <td>120.000000</td>\n",
       "      <td>211.00000</td>\n",
       "      <td>0.000000</td>\n",
       "      <td>0.000000</td>\n",
       "      <td>132.000000</td>\n",
       "      <td>0.000000</td>\n",
       "      <td>0.000000</td>\n",
       "      <td>1.000000</td>\n",
       "      <td>0.000000</td>\n",
       "      <td>2.000000</td>\n",
       "      <td>0.000000</td>\n",
       "    </tr>\n",
       "    <tr>\n",
       "      <th>50%</th>\n",
       "      <td>56.000000</td>\n",
       "      <td>1.000000</td>\n",
       "      <td>1.000000</td>\n",
       "      <td>130.000000</td>\n",
       "      <td>240.00000</td>\n",
       "      <td>0.000000</td>\n",
       "      <td>1.000000</td>\n",
       "      <td>152.000000</td>\n",
       "      <td>0.000000</td>\n",
       "      <td>0.800000</td>\n",
       "      <td>1.000000</td>\n",
       "      <td>0.000000</td>\n",
       "      <td>2.000000</td>\n",
       "      <td>1.000000</td>\n",
       "    </tr>\n",
       "    <tr>\n",
       "      <th>75%</th>\n",
       "      <td>61.000000</td>\n",
       "      <td>1.000000</td>\n",
       "      <td>2.000000</td>\n",
       "      <td>140.000000</td>\n",
       "      <td>275.00000</td>\n",
       "      <td>0.000000</td>\n",
       "      <td>1.000000</td>\n",
       "      <td>166.000000</td>\n",
       "      <td>1.000000</td>\n",
       "      <td>1.800000</td>\n",
       "      <td>2.000000</td>\n",
       "      <td>1.000000</td>\n",
       "      <td>3.000000</td>\n",
       "      <td>1.000000</td>\n",
       "    </tr>\n",
       "    <tr>\n",
       "      <th>max</th>\n",
       "      <td>77.000000</td>\n",
       "      <td>1.000000</td>\n",
       "      <td>3.000000</td>\n",
       "      <td>200.000000</td>\n",
       "      <td>564.00000</td>\n",
       "      <td>1.000000</td>\n",
       "      <td>2.000000</td>\n",
       "      <td>202.000000</td>\n",
       "      <td>1.000000</td>\n",
       "      <td>6.200000</td>\n",
       "      <td>2.000000</td>\n",
       "      <td>4.000000</td>\n",
       "      <td>3.000000</td>\n",
       "      <td>1.000000</td>\n",
       "    </tr>\n",
       "  </tbody>\n",
       "</table>\n",
       "</div>"
      ],
      "text/plain": [
       "               age          sex           cp     trestbps        chol  \\\n",
       "count  1025.000000  1025.000000  1025.000000  1025.000000  1025.00000   \n",
       "mean     54.434146     0.695610     0.942439   131.611707   246.00000   \n",
       "std       9.072290     0.460373     1.029641    17.516718    51.59251   \n",
       "min      29.000000     0.000000     0.000000    94.000000   126.00000   \n",
       "25%      48.000000     0.000000     0.000000   120.000000   211.00000   \n",
       "50%      56.000000     1.000000     1.000000   130.000000   240.00000   \n",
       "75%      61.000000     1.000000     2.000000   140.000000   275.00000   \n",
       "max      77.000000     1.000000     3.000000   200.000000   564.00000   \n",
       "\n",
       "               fbs      restecg      thalach        exang      oldpeak  \\\n",
       "count  1025.000000  1025.000000  1025.000000  1025.000000  1025.000000   \n",
       "mean      0.149268     0.529756   149.114146     0.336585     1.071512   \n",
       "std       0.356527     0.527878    23.005724     0.472772     1.175053   \n",
       "min       0.000000     0.000000    71.000000     0.000000     0.000000   \n",
       "25%       0.000000     0.000000   132.000000     0.000000     0.000000   \n",
       "50%       0.000000     1.000000   152.000000     0.000000     0.800000   \n",
       "75%       0.000000     1.000000   166.000000     1.000000     1.800000   \n",
       "max       1.000000     2.000000   202.000000     1.000000     6.200000   \n",
       "\n",
       "             slope           ca         thal      disease  \n",
       "count  1025.000000  1025.000000  1025.000000  1025.000000  \n",
       "mean      1.385366     0.754146     2.323902     0.513171  \n",
       "std       0.617755     1.030798     0.620660     0.500070  \n",
       "min       0.000000     0.000000     0.000000     0.000000  \n",
       "25%       1.000000     0.000000     2.000000     0.000000  \n",
       "50%       1.000000     0.000000     2.000000     1.000000  \n",
       "75%       2.000000     1.000000     3.000000     1.000000  \n",
       "max       2.000000     4.000000     3.000000     1.000000  "
      ]
     },
     "execution_count": 7,
     "metadata": {},
     "output_type": "execute_result"
    }
   ],
   "source": [
    "heart.describe()"
   ]
  },
  {
   "cell_type": "markdown",
   "id": "6ac3721c",
   "metadata": {},
   "source": [
    "## Data Pre-processing"
   ]
  },
  {
   "cell_type": "code",
   "execution_count": 8,
   "id": "69ff6f26",
   "metadata": {},
   "outputs": [
    {
     "data": {
      "text/plain": [
       "age         0\n",
       "sex         0\n",
       "cp          0\n",
       "trestbps    0\n",
       "chol        0\n",
       "fbs         0\n",
       "restecg     0\n",
       "thalach     0\n",
       "exang       0\n",
       "oldpeak     0\n",
       "slope       0\n",
       "ca          0\n",
       "thal        0\n",
       "disease     0\n",
       "dtype: int64"
      ]
     },
     "execution_count": 8,
     "metadata": {},
     "output_type": "execute_result"
    }
   ],
   "source": [
    "# Check missing values\n",
    "heart.isna().sum()"
   ]
  },
  {
   "cell_type": "code",
   "execution_count": 9,
   "id": "587e8dc9",
   "metadata": {},
   "outputs": [
    {
     "data": {
      "text/plain": [
       "1    713\n",
       "0    312\n",
       "Name: sex, dtype: int64"
      ]
     },
     "execution_count": 9,
     "metadata": {},
     "output_type": "execute_result"
    }
   ],
   "source": [
    "heart.sex.value_counts()"
   ]
  },
  {
   "cell_type": "code",
   "execution_count": 10,
   "id": "f67d1784",
   "metadata": {},
   "outputs": [
    {
     "data": {
      "text/html": [
       "<div>\n",
       "<style scoped>\n",
       "    .dataframe tbody tr th:only-of-type {\n",
       "        vertical-align: middle;\n",
       "    }\n",
       "\n",
       "    .dataframe tbody tr th {\n",
       "        vertical-align: top;\n",
       "    }\n",
       "\n",
       "    .dataframe thead th {\n",
       "        text-align: right;\n",
       "    }\n",
       "</style>\n",
       "<table border=\"1\" class=\"dataframe\">\n",
       "  <thead>\n",
       "    <tr style=\"text-align: right;\">\n",
       "      <th>disease</th>\n",
       "      <th>0</th>\n",
       "      <th>1</th>\n",
       "    </tr>\n",
       "    <tr>\n",
       "      <th>sex</th>\n",
       "      <th></th>\n",
       "      <th></th>\n",
       "    </tr>\n",
       "  </thead>\n",
       "  <tbody>\n",
       "    <tr>\n",
       "      <th>0</th>\n",
       "      <td>86</td>\n",
       "      <td>226</td>\n",
       "    </tr>\n",
       "    <tr>\n",
       "      <th>1</th>\n",
       "      <td>413</td>\n",
       "      <td>300</td>\n",
       "    </tr>\n",
       "  </tbody>\n",
       "</table>\n",
       "</div>"
      ],
      "text/plain": [
       "disease    0    1\n",
       "sex              \n",
       "0         86  226\n",
       "1        413  300"
      ]
     },
     "execution_count": 10,
     "metadata": {},
     "output_type": "execute_result"
    }
   ],
   "source": [
    "pd.crosstab(heart.sex, heart.disease)"
   ]
  },
  {
   "cell_type": "markdown",
   "id": "12e116fa",
   "metadata": {},
   "source": [
    "## Exploratory Data Analysis"
   ]
  },
  {
   "cell_type": "code",
   "execution_count": 12,
   "id": "0b3243f7",
   "metadata": {},
   "outputs": [
    {
     "data": {
      "text/plain": [
       "1    526\n",
       "0    499\n",
       "Name: disease, dtype: int64"
      ]
     },
     "execution_count": 12,
     "metadata": {},
     "output_type": "execute_result"
    }
   ],
   "source": [
    "heart.disease.value_counts()"
   ]
  },
  {
   "cell_type": "code",
   "execution_count": 54,
   "id": "7c74633b",
   "metadata": {},
   "outputs": [
    {
     "data": {
      "application/vnd.plotly.v1+json": {
       "config": {
        "plotlyServerURL": "https://plot.ly"
       },
       "data": [
        {
         "alignmentgroup": "True",
         "hovertemplate": "Heart Disease Presence (0: No Disease, 1: Disease)=%{x}<br>Count=%{y}<br>text=%{text}<br>color=%{marker.color}<extra></extra>",
         "legendgroup": "",
         "marker": {
          "color": [
           "#66B2FF",
           "#FF9999"
          ],
          "coloraxis": "coloraxis"
         },
         "name": "",
         "offsetgroup": "",
         "orientation": "v",
         "showlegend": false,
         "text": [
          526,
          499
         ],
         "textposition": "auto",
         "type": "bar",
         "x": [
          1,
          0
         ],
         "xaxis": "x",
         "y": [
          526,
          499
         ],
         "yaxis": "y"
        }
       ],
       "layout": {
        "barmode": "relative",
        "coloraxis": {
         "colorbar": {
          "title": {
           "text": "color"
          }
         },
         "colorscale": [
          [
           0,
           "#0d0887"
          ],
          [
           0.1111111111111111,
           "#46039f"
          ],
          [
           0.2222222222222222,
           "#7201a8"
          ],
          [
           0.3333333333333333,
           "#9c179e"
          ],
          [
           0.4444444444444444,
           "#bd3786"
          ],
          [
           0.5555555555555556,
           "#d8576b"
          ],
          [
           0.6666666666666666,
           "#ed7953"
          ],
          [
           0.7777777777777778,
           "#fb9f3a"
          ],
          [
           0.8888888888888888,
           "#fdca26"
          ],
          [
           1,
           "#f0f921"
          ]
         ]
        },
        "legend": {
         "tracegroupgap": 0
        },
        "template": {
         "data": {
          "bar": [
           {
            "error_x": {
             "color": "#2a3f5f"
            },
            "error_y": {
             "color": "#2a3f5f"
            },
            "marker": {
             "line": {
              "color": "#E5ECF6",
              "width": 0.5
             }
            },
            "type": "bar"
           }
          ],
          "barpolar": [
           {
            "marker": {
             "line": {
              "color": "#E5ECF6",
              "width": 0.5
             }
            },
            "type": "barpolar"
           }
          ],
          "carpet": [
           {
            "aaxis": {
             "endlinecolor": "#2a3f5f",
             "gridcolor": "white",
             "linecolor": "white",
             "minorgridcolor": "white",
             "startlinecolor": "#2a3f5f"
            },
            "baxis": {
             "endlinecolor": "#2a3f5f",
             "gridcolor": "white",
             "linecolor": "white",
             "minorgridcolor": "white",
             "startlinecolor": "#2a3f5f"
            },
            "type": "carpet"
           }
          ],
          "choropleth": [
           {
            "colorbar": {
             "outlinewidth": 0,
             "ticks": ""
            },
            "type": "choropleth"
           }
          ],
          "contour": [
           {
            "colorbar": {
             "outlinewidth": 0,
             "ticks": ""
            },
            "colorscale": [
             [
              0,
              "#0d0887"
             ],
             [
              0.1111111111111111,
              "#46039f"
             ],
             [
              0.2222222222222222,
              "#7201a8"
             ],
             [
              0.3333333333333333,
              "#9c179e"
             ],
             [
              0.4444444444444444,
              "#bd3786"
             ],
             [
              0.5555555555555556,
              "#d8576b"
             ],
             [
              0.6666666666666666,
              "#ed7953"
             ],
             [
              0.7777777777777778,
              "#fb9f3a"
             ],
             [
              0.8888888888888888,
              "#fdca26"
             ],
             [
              1,
              "#f0f921"
             ]
            ],
            "type": "contour"
           }
          ],
          "contourcarpet": [
           {
            "colorbar": {
             "outlinewidth": 0,
             "ticks": ""
            },
            "type": "contourcarpet"
           }
          ],
          "heatmap": [
           {
            "colorbar": {
             "outlinewidth": 0,
             "ticks": ""
            },
            "colorscale": [
             [
              0,
              "#0d0887"
             ],
             [
              0.1111111111111111,
              "#46039f"
             ],
             [
              0.2222222222222222,
              "#7201a8"
             ],
             [
              0.3333333333333333,
              "#9c179e"
             ],
             [
              0.4444444444444444,
              "#bd3786"
             ],
             [
              0.5555555555555556,
              "#d8576b"
             ],
             [
              0.6666666666666666,
              "#ed7953"
             ],
             [
              0.7777777777777778,
              "#fb9f3a"
             ],
             [
              0.8888888888888888,
              "#fdca26"
             ],
             [
              1,
              "#f0f921"
             ]
            ],
            "type": "heatmap"
           }
          ],
          "heatmapgl": [
           {
            "colorbar": {
             "outlinewidth": 0,
             "ticks": ""
            },
            "colorscale": [
             [
              0,
              "#0d0887"
             ],
             [
              0.1111111111111111,
              "#46039f"
             ],
             [
              0.2222222222222222,
              "#7201a8"
             ],
             [
              0.3333333333333333,
              "#9c179e"
             ],
             [
              0.4444444444444444,
              "#bd3786"
             ],
             [
              0.5555555555555556,
              "#d8576b"
             ],
             [
              0.6666666666666666,
              "#ed7953"
             ],
             [
              0.7777777777777778,
              "#fb9f3a"
             ],
             [
              0.8888888888888888,
              "#fdca26"
             ],
             [
              1,
              "#f0f921"
             ]
            ],
            "type": "heatmapgl"
           }
          ],
          "histogram": [
           {
            "marker": {
             "colorbar": {
              "outlinewidth": 0,
              "ticks": ""
             }
            },
            "type": "histogram"
           }
          ],
          "histogram2d": [
           {
            "colorbar": {
             "outlinewidth": 0,
             "ticks": ""
            },
            "colorscale": [
             [
              0,
              "#0d0887"
             ],
             [
              0.1111111111111111,
              "#46039f"
             ],
             [
              0.2222222222222222,
              "#7201a8"
             ],
             [
              0.3333333333333333,
              "#9c179e"
             ],
             [
              0.4444444444444444,
              "#bd3786"
             ],
             [
              0.5555555555555556,
              "#d8576b"
             ],
             [
              0.6666666666666666,
              "#ed7953"
             ],
             [
              0.7777777777777778,
              "#fb9f3a"
             ],
             [
              0.8888888888888888,
              "#fdca26"
             ],
             [
              1,
              "#f0f921"
             ]
            ],
            "type": "histogram2d"
           }
          ],
          "histogram2dcontour": [
           {
            "colorbar": {
             "outlinewidth": 0,
             "ticks": ""
            },
            "colorscale": [
             [
              0,
              "#0d0887"
             ],
             [
              0.1111111111111111,
              "#46039f"
             ],
             [
              0.2222222222222222,
              "#7201a8"
             ],
             [
              0.3333333333333333,
              "#9c179e"
             ],
             [
              0.4444444444444444,
              "#bd3786"
             ],
             [
              0.5555555555555556,
              "#d8576b"
             ],
             [
              0.6666666666666666,
              "#ed7953"
             ],
             [
              0.7777777777777778,
              "#fb9f3a"
             ],
             [
              0.8888888888888888,
              "#fdca26"
             ],
             [
              1,
              "#f0f921"
             ]
            ],
            "type": "histogram2dcontour"
           }
          ],
          "mesh3d": [
           {
            "colorbar": {
             "outlinewidth": 0,
             "ticks": ""
            },
            "type": "mesh3d"
           }
          ],
          "parcoords": [
           {
            "line": {
             "colorbar": {
              "outlinewidth": 0,
              "ticks": ""
             }
            },
            "type": "parcoords"
           }
          ],
          "pie": [
           {
            "automargin": true,
            "type": "pie"
           }
          ],
          "scatter": [
           {
            "marker": {
             "colorbar": {
              "outlinewidth": 0,
              "ticks": ""
             }
            },
            "type": "scatter"
           }
          ],
          "scatter3d": [
           {
            "line": {
             "colorbar": {
              "outlinewidth": 0,
              "ticks": ""
             }
            },
            "marker": {
             "colorbar": {
              "outlinewidth": 0,
              "ticks": ""
             }
            },
            "type": "scatter3d"
           }
          ],
          "scattercarpet": [
           {
            "marker": {
             "colorbar": {
              "outlinewidth": 0,
              "ticks": ""
             }
            },
            "type": "scattercarpet"
           }
          ],
          "scattergeo": [
           {
            "marker": {
             "colorbar": {
              "outlinewidth": 0,
              "ticks": ""
             }
            },
            "type": "scattergeo"
           }
          ],
          "scattergl": [
           {
            "marker": {
             "colorbar": {
              "outlinewidth": 0,
              "ticks": ""
             }
            },
            "type": "scattergl"
           }
          ],
          "scattermapbox": [
           {
            "marker": {
             "colorbar": {
              "outlinewidth": 0,
              "ticks": ""
             }
            },
            "type": "scattermapbox"
           }
          ],
          "scatterpolar": [
           {
            "marker": {
             "colorbar": {
              "outlinewidth": 0,
              "ticks": ""
             }
            },
            "type": "scatterpolar"
           }
          ],
          "scatterpolargl": [
           {
            "marker": {
             "colorbar": {
              "outlinewidth": 0,
              "ticks": ""
             }
            },
            "type": "scatterpolargl"
           }
          ],
          "scatterternary": [
           {
            "marker": {
             "colorbar": {
              "outlinewidth": 0,
              "ticks": ""
             }
            },
            "type": "scatterternary"
           }
          ],
          "surface": [
           {
            "colorbar": {
             "outlinewidth": 0,
             "ticks": ""
            },
            "colorscale": [
             [
              0,
              "#0d0887"
             ],
             [
              0.1111111111111111,
              "#46039f"
             ],
             [
              0.2222222222222222,
              "#7201a8"
             ],
             [
              0.3333333333333333,
              "#9c179e"
             ],
             [
              0.4444444444444444,
              "#bd3786"
             ],
             [
              0.5555555555555556,
              "#d8576b"
             ],
             [
              0.6666666666666666,
              "#ed7953"
             ],
             [
              0.7777777777777778,
              "#fb9f3a"
             ],
             [
              0.8888888888888888,
              "#fdca26"
             ],
             [
              1,
              "#f0f921"
             ]
            ],
            "type": "surface"
           }
          ],
          "table": [
           {
            "cells": {
             "fill": {
              "color": "#EBF0F8"
             },
             "line": {
              "color": "white"
             }
            },
            "header": {
             "fill": {
              "color": "#C8D4E3"
             },
             "line": {
              "color": "white"
             }
            },
            "type": "table"
           }
          ]
         },
         "layout": {
          "annotationdefaults": {
           "arrowcolor": "#2a3f5f",
           "arrowhead": 0,
           "arrowwidth": 1
          },
          "autotypenumbers": "strict",
          "coloraxis": {
           "colorbar": {
            "outlinewidth": 0,
            "ticks": ""
           }
          },
          "colorscale": {
           "diverging": [
            [
             0,
             "#8e0152"
            ],
            [
             0.1,
             "#c51b7d"
            ],
            [
             0.2,
             "#de77ae"
            ],
            [
             0.3,
             "#f1b6da"
            ],
            [
             0.4,
             "#fde0ef"
            ],
            [
             0.5,
             "#f7f7f7"
            ],
            [
             0.6,
             "#e6f5d0"
            ],
            [
             0.7,
             "#b8e186"
            ],
            [
             0.8,
             "#7fbc41"
            ],
            [
             0.9,
             "#4d9221"
            ],
            [
             1,
             "#276419"
            ]
           ],
           "sequential": [
            [
             0,
             "#0d0887"
            ],
            [
             0.1111111111111111,
             "#46039f"
            ],
            [
             0.2222222222222222,
             "#7201a8"
            ],
            [
             0.3333333333333333,
             "#9c179e"
            ],
            [
             0.4444444444444444,
             "#bd3786"
            ],
            [
             0.5555555555555556,
             "#d8576b"
            ],
            [
             0.6666666666666666,
             "#ed7953"
            ],
            [
             0.7777777777777778,
             "#fb9f3a"
            ],
            [
             0.8888888888888888,
             "#fdca26"
            ],
            [
             1,
             "#f0f921"
            ]
           ],
           "sequentialminus": [
            [
             0,
             "#0d0887"
            ],
            [
             0.1111111111111111,
             "#46039f"
            ],
            [
             0.2222222222222222,
             "#7201a8"
            ],
            [
             0.3333333333333333,
             "#9c179e"
            ],
            [
             0.4444444444444444,
             "#bd3786"
            ],
            [
             0.5555555555555556,
             "#d8576b"
            ],
            [
             0.6666666666666666,
             "#ed7953"
            ],
            [
             0.7777777777777778,
             "#fb9f3a"
            ],
            [
             0.8888888888888888,
             "#fdca26"
            ],
            [
             1,
             "#f0f921"
            ]
           ]
          },
          "colorway": [
           "#636efa",
           "#EF553B",
           "#00cc96",
           "#ab63fa",
           "#FFA15A",
           "#19d3f3",
           "#FF6692",
           "#B6E880",
           "#FF97FF",
           "#FECB52"
          ],
          "font": {
           "color": "#2a3f5f"
          },
          "geo": {
           "bgcolor": "white",
           "lakecolor": "white",
           "landcolor": "#E5ECF6",
           "showlakes": true,
           "showland": true,
           "subunitcolor": "white"
          },
          "hoverlabel": {
           "align": "left"
          },
          "hovermode": "closest",
          "mapbox": {
           "style": "light"
          },
          "paper_bgcolor": "white",
          "plot_bgcolor": "#E5ECF6",
          "polar": {
           "angularaxis": {
            "gridcolor": "white",
            "linecolor": "white",
            "ticks": ""
           },
           "bgcolor": "#E5ECF6",
           "radialaxis": {
            "gridcolor": "white",
            "linecolor": "white",
            "ticks": ""
           }
          },
          "scene": {
           "xaxis": {
            "backgroundcolor": "#E5ECF6",
            "gridcolor": "white",
            "gridwidth": 2,
            "linecolor": "white",
            "showbackground": true,
            "ticks": "",
            "zerolinecolor": "white"
           },
           "yaxis": {
            "backgroundcolor": "#E5ECF6",
            "gridcolor": "white",
            "gridwidth": 2,
            "linecolor": "white",
            "showbackground": true,
            "ticks": "",
            "zerolinecolor": "white"
           },
           "zaxis": {
            "backgroundcolor": "#E5ECF6",
            "gridcolor": "white",
            "gridwidth": 2,
            "linecolor": "white",
            "showbackground": true,
            "ticks": "",
            "zerolinecolor": "white"
           }
          },
          "shapedefaults": {
           "line": {
            "color": "#2a3f5f"
           }
          },
          "ternary": {
           "aaxis": {
            "gridcolor": "white",
            "linecolor": "white",
            "ticks": ""
           },
           "baxis": {
            "gridcolor": "white",
            "linecolor": "white",
            "ticks": ""
           },
           "bgcolor": "#E5ECF6",
           "caxis": {
            "gridcolor": "white",
            "linecolor": "white",
            "ticks": ""
           }
          },
          "title": {
           "x": 0.05
          },
          "xaxis": {
           "automargin": true,
           "gridcolor": "white",
           "linecolor": "white",
           "ticks": "",
           "title": {
            "standoff": 15
           },
           "zerolinecolor": "white",
           "zerolinewidth": 2
          },
          "yaxis": {
           "automargin": true,
           "gridcolor": "white",
           "linecolor": "white",
           "ticks": "",
           "title": {
            "standoff": 15
           },
           "zerolinecolor": "white",
           "zerolinewidth": 2
          }
         }
        },
        "title": {
         "text": "Distribution of Heart Disease Cases"
        },
        "xaxis": {
         "anchor": "y",
         "categoryorder": "total ascending",
         "domain": [
          0,
          1
         ],
         "title": {
          "text": "Heart Disease Presence (0: No Disease, 1: Disease)"
         }
        },
        "yaxis": {
         "anchor": "x",
         "domain": [
          0,
          1
         ],
         "title": {
          "text": "Count"
         }
        }
       }
      },
      "text/html": [
       "<div>                            <div id=\"d49384b6-e796-42d6-83e8-96ef02f90742\" class=\"plotly-graph-div\" style=\"height:525px; width:100%;\"></div>            <script type=\"text/javascript\">                require([\"plotly\"], function(Plotly) {                    window.PLOTLYENV=window.PLOTLYENV || {};                                    if (document.getElementById(\"d49384b6-e796-42d6-83e8-96ef02f90742\")) {                    Plotly.newPlot(                        \"d49384b6-e796-42d6-83e8-96ef02f90742\",                        [{\"alignmentgroup\": \"True\", \"hovertemplate\": \"Heart Disease Presence (0: No Disease, 1: Disease)=%{x}<br>Count=%{y}<br>text=%{text}<br>color=%{marker.color}<extra></extra>\", \"legendgroup\": \"\", \"marker\": {\"color\": [\"#66B2FF\", \"#FF9999\"], \"coloraxis\": \"coloraxis\"}, \"name\": \"\", \"offsetgroup\": \"\", \"orientation\": \"v\", \"showlegend\": false, \"text\": [526.0, 499.0], \"textposition\": \"auto\", \"type\": \"bar\", \"x\": [1, 0], \"xaxis\": \"x\", \"y\": [526, 499], \"yaxis\": \"y\"}],                        {\"barmode\": \"relative\", \"coloraxis\": {\"colorbar\": {\"title\": {\"text\": \"color\"}}, \"colorscale\": [[0.0, \"#0d0887\"], [0.1111111111111111, \"#46039f\"], [0.2222222222222222, \"#7201a8\"], [0.3333333333333333, \"#9c179e\"], [0.4444444444444444, \"#bd3786\"], [0.5555555555555556, \"#d8576b\"], [0.6666666666666666, \"#ed7953\"], [0.7777777777777778, \"#fb9f3a\"], [0.8888888888888888, \"#fdca26\"], [1.0, \"#f0f921\"]]}, \"legend\": {\"tracegroupgap\": 0}, \"template\": {\"data\": {\"bar\": [{\"error_x\": {\"color\": \"#2a3f5f\"}, \"error_y\": {\"color\": \"#2a3f5f\"}, \"marker\": {\"line\": {\"color\": \"#E5ECF6\", \"width\": 0.5}}, \"type\": \"bar\"}], \"barpolar\": [{\"marker\": {\"line\": {\"color\": \"#E5ECF6\", \"width\": 0.5}}, \"type\": \"barpolar\"}], \"carpet\": [{\"aaxis\": {\"endlinecolor\": \"#2a3f5f\", \"gridcolor\": \"white\", \"linecolor\": \"white\", \"minorgridcolor\": \"white\", \"startlinecolor\": \"#2a3f5f\"}, \"baxis\": {\"endlinecolor\": \"#2a3f5f\", \"gridcolor\": \"white\", \"linecolor\": \"white\", \"minorgridcolor\": \"white\", \"startlinecolor\": \"#2a3f5f\"}, \"type\": \"carpet\"}], \"choropleth\": [{\"colorbar\": {\"outlinewidth\": 0, \"ticks\": \"\"}, \"type\": \"choropleth\"}], \"contour\": [{\"colorbar\": {\"outlinewidth\": 0, \"ticks\": \"\"}, \"colorscale\": [[0.0, \"#0d0887\"], [0.1111111111111111, \"#46039f\"], [0.2222222222222222, \"#7201a8\"], [0.3333333333333333, \"#9c179e\"], [0.4444444444444444, \"#bd3786\"], [0.5555555555555556, \"#d8576b\"], [0.6666666666666666, \"#ed7953\"], [0.7777777777777778, \"#fb9f3a\"], [0.8888888888888888, \"#fdca26\"], [1.0, \"#f0f921\"]], \"type\": \"contour\"}], \"contourcarpet\": [{\"colorbar\": {\"outlinewidth\": 0, \"ticks\": \"\"}, \"type\": \"contourcarpet\"}], \"heatmap\": [{\"colorbar\": {\"outlinewidth\": 0, \"ticks\": \"\"}, \"colorscale\": [[0.0, \"#0d0887\"], [0.1111111111111111, \"#46039f\"], [0.2222222222222222, \"#7201a8\"], [0.3333333333333333, \"#9c179e\"], [0.4444444444444444, \"#bd3786\"], [0.5555555555555556, \"#d8576b\"], [0.6666666666666666, \"#ed7953\"], [0.7777777777777778, \"#fb9f3a\"], [0.8888888888888888, \"#fdca26\"], [1.0, \"#f0f921\"]], \"type\": \"heatmap\"}], \"heatmapgl\": [{\"colorbar\": {\"outlinewidth\": 0, \"ticks\": \"\"}, \"colorscale\": [[0.0, \"#0d0887\"], [0.1111111111111111, \"#46039f\"], [0.2222222222222222, \"#7201a8\"], [0.3333333333333333, \"#9c179e\"], [0.4444444444444444, \"#bd3786\"], [0.5555555555555556, \"#d8576b\"], [0.6666666666666666, \"#ed7953\"], [0.7777777777777778, \"#fb9f3a\"], [0.8888888888888888, \"#fdca26\"], [1.0, \"#f0f921\"]], \"type\": \"heatmapgl\"}], \"histogram\": [{\"marker\": {\"colorbar\": {\"outlinewidth\": 0, \"ticks\": \"\"}}, \"type\": \"histogram\"}], \"histogram2d\": [{\"colorbar\": {\"outlinewidth\": 0, \"ticks\": \"\"}, \"colorscale\": [[0.0, \"#0d0887\"], [0.1111111111111111, \"#46039f\"], [0.2222222222222222, \"#7201a8\"], [0.3333333333333333, \"#9c179e\"], [0.4444444444444444, \"#bd3786\"], [0.5555555555555556, \"#d8576b\"], [0.6666666666666666, \"#ed7953\"], [0.7777777777777778, \"#fb9f3a\"], [0.8888888888888888, \"#fdca26\"], [1.0, \"#f0f921\"]], \"type\": \"histogram2d\"}], \"histogram2dcontour\": [{\"colorbar\": {\"outlinewidth\": 0, \"ticks\": \"\"}, \"colorscale\": [[0.0, \"#0d0887\"], [0.1111111111111111, \"#46039f\"], [0.2222222222222222, \"#7201a8\"], [0.3333333333333333, \"#9c179e\"], [0.4444444444444444, \"#bd3786\"], [0.5555555555555556, \"#d8576b\"], [0.6666666666666666, \"#ed7953\"], [0.7777777777777778, \"#fb9f3a\"], [0.8888888888888888, \"#fdca26\"], [1.0, \"#f0f921\"]], \"type\": \"histogram2dcontour\"}], \"mesh3d\": [{\"colorbar\": {\"outlinewidth\": 0, \"ticks\": \"\"}, \"type\": \"mesh3d\"}], \"parcoords\": [{\"line\": {\"colorbar\": {\"outlinewidth\": 0, \"ticks\": \"\"}}, \"type\": \"parcoords\"}], \"pie\": [{\"automargin\": true, \"type\": \"pie\"}], \"scatter\": [{\"marker\": {\"colorbar\": {\"outlinewidth\": 0, \"ticks\": \"\"}}, \"type\": \"scatter\"}], \"scatter3d\": [{\"line\": {\"colorbar\": {\"outlinewidth\": 0, \"ticks\": \"\"}}, \"marker\": {\"colorbar\": {\"outlinewidth\": 0, \"ticks\": \"\"}}, \"type\": \"scatter3d\"}], \"scattercarpet\": [{\"marker\": {\"colorbar\": {\"outlinewidth\": 0, \"ticks\": \"\"}}, \"type\": \"scattercarpet\"}], \"scattergeo\": [{\"marker\": {\"colorbar\": {\"outlinewidth\": 0, \"ticks\": \"\"}}, \"type\": \"scattergeo\"}], \"scattergl\": [{\"marker\": {\"colorbar\": {\"outlinewidth\": 0, \"ticks\": \"\"}}, \"type\": \"scattergl\"}], \"scattermapbox\": [{\"marker\": {\"colorbar\": {\"outlinewidth\": 0, \"ticks\": \"\"}}, \"type\": \"scattermapbox\"}], \"scatterpolar\": [{\"marker\": {\"colorbar\": {\"outlinewidth\": 0, \"ticks\": \"\"}}, \"type\": \"scatterpolar\"}], \"scatterpolargl\": [{\"marker\": {\"colorbar\": {\"outlinewidth\": 0, \"ticks\": \"\"}}, \"type\": \"scatterpolargl\"}], \"scatterternary\": [{\"marker\": {\"colorbar\": {\"outlinewidth\": 0, \"ticks\": \"\"}}, \"type\": \"scatterternary\"}], \"surface\": [{\"colorbar\": {\"outlinewidth\": 0, \"ticks\": \"\"}, \"colorscale\": [[0.0, \"#0d0887\"], [0.1111111111111111, \"#46039f\"], [0.2222222222222222, \"#7201a8\"], [0.3333333333333333, \"#9c179e\"], [0.4444444444444444, \"#bd3786\"], [0.5555555555555556, \"#d8576b\"], [0.6666666666666666, \"#ed7953\"], [0.7777777777777778, \"#fb9f3a\"], [0.8888888888888888, \"#fdca26\"], [1.0, \"#f0f921\"]], \"type\": \"surface\"}], \"table\": [{\"cells\": {\"fill\": {\"color\": \"#EBF0F8\"}, \"line\": {\"color\": \"white\"}}, \"header\": {\"fill\": {\"color\": \"#C8D4E3\"}, \"line\": {\"color\": \"white\"}}, \"type\": \"table\"}]}, \"layout\": {\"annotationdefaults\": {\"arrowcolor\": \"#2a3f5f\", \"arrowhead\": 0, \"arrowwidth\": 1}, \"autotypenumbers\": \"strict\", \"coloraxis\": {\"colorbar\": {\"outlinewidth\": 0, \"ticks\": \"\"}}, \"colorscale\": {\"diverging\": [[0, \"#8e0152\"], [0.1, \"#c51b7d\"], [0.2, \"#de77ae\"], [0.3, \"#f1b6da\"], [0.4, \"#fde0ef\"], [0.5, \"#f7f7f7\"], [0.6, \"#e6f5d0\"], [0.7, \"#b8e186\"], [0.8, \"#7fbc41\"], [0.9, \"#4d9221\"], [1, \"#276419\"]], \"sequential\": [[0.0, \"#0d0887\"], [0.1111111111111111, \"#46039f\"], [0.2222222222222222, \"#7201a8\"], [0.3333333333333333, \"#9c179e\"], [0.4444444444444444, \"#bd3786\"], [0.5555555555555556, \"#d8576b\"], [0.6666666666666666, \"#ed7953\"], [0.7777777777777778, \"#fb9f3a\"], [0.8888888888888888, \"#fdca26\"], [1.0, \"#f0f921\"]], \"sequentialminus\": [[0.0, \"#0d0887\"], [0.1111111111111111, \"#46039f\"], [0.2222222222222222, \"#7201a8\"], [0.3333333333333333, \"#9c179e\"], [0.4444444444444444, \"#bd3786\"], [0.5555555555555556, \"#d8576b\"], [0.6666666666666666, \"#ed7953\"], [0.7777777777777778, \"#fb9f3a\"], [0.8888888888888888, \"#fdca26\"], [1.0, \"#f0f921\"]]}, \"colorway\": [\"#636efa\", \"#EF553B\", \"#00cc96\", \"#ab63fa\", \"#FFA15A\", \"#19d3f3\", \"#FF6692\", \"#B6E880\", \"#FF97FF\", \"#FECB52\"], \"font\": {\"color\": \"#2a3f5f\"}, \"geo\": {\"bgcolor\": \"white\", \"lakecolor\": \"white\", \"landcolor\": \"#E5ECF6\", \"showlakes\": true, \"showland\": true, \"subunitcolor\": \"white\"}, \"hoverlabel\": {\"align\": \"left\"}, \"hovermode\": \"closest\", \"mapbox\": {\"style\": \"light\"}, \"paper_bgcolor\": \"white\", \"plot_bgcolor\": \"#E5ECF6\", \"polar\": {\"angularaxis\": {\"gridcolor\": \"white\", \"linecolor\": \"white\", \"ticks\": \"\"}, \"bgcolor\": \"#E5ECF6\", \"radialaxis\": {\"gridcolor\": \"white\", \"linecolor\": \"white\", \"ticks\": \"\"}}, \"scene\": {\"xaxis\": {\"backgroundcolor\": \"#E5ECF6\", \"gridcolor\": \"white\", \"gridwidth\": 2, \"linecolor\": \"white\", \"showbackground\": true, \"ticks\": \"\", \"zerolinecolor\": \"white\"}, \"yaxis\": {\"backgroundcolor\": \"#E5ECF6\", \"gridcolor\": \"white\", \"gridwidth\": 2, \"linecolor\": \"white\", \"showbackground\": true, \"ticks\": \"\", \"zerolinecolor\": \"white\"}, \"zaxis\": {\"backgroundcolor\": \"#E5ECF6\", \"gridcolor\": \"white\", \"gridwidth\": 2, \"linecolor\": \"white\", \"showbackground\": true, \"ticks\": \"\", \"zerolinecolor\": \"white\"}}, \"shapedefaults\": {\"line\": {\"color\": \"#2a3f5f\"}}, \"ternary\": {\"aaxis\": {\"gridcolor\": \"white\", \"linecolor\": \"white\", \"ticks\": \"\"}, \"baxis\": {\"gridcolor\": \"white\", \"linecolor\": \"white\", \"ticks\": \"\"}, \"bgcolor\": \"#E5ECF6\", \"caxis\": {\"gridcolor\": \"white\", \"linecolor\": \"white\", \"ticks\": \"\"}}, \"title\": {\"x\": 0.05}, \"xaxis\": {\"automargin\": true, \"gridcolor\": \"white\", \"linecolor\": \"white\", \"ticks\": \"\", \"title\": {\"standoff\": 15}, \"zerolinecolor\": \"white\", \"zerolinewidth\": 2}, \"yaxis\": {\"automargin\": true, \"gridcolor\": \"white\", \"linecolor\": \"white\", \"ticks\": \"\", \"title\": {\"standoff\": 15}, \"zerolinecolor\": \"white\", \"zerolinewidth\": 2}}}, \"title\": {\"text\": \"Distribution of Heart Disease Cases\"}, \"xaxis\": {\"anchor\": \"y\", \"categoryorder\": \"total ascending\", \"domain\": [0.0, 1.0], \"title\": {\"text\": \"Heart Disease Presence (0: No Disease, 1: Disease)\"}}, \"yaxis\": {\"anchor\": \"x\", \"domain\": [0.0, 1.0], \"title\": {\"text\": \"Count\"}}},                        {\"responsive\": true}                    ).then(function(){\n",
       "                            \n",
       "var gd = document.getElementById('d49384b6-e796-42d6-83e8-96ef02f90742');\n",
       "var x = new MutationObserver(function (mutations, observer) {{\n",
       "        var display = window.getComputedStyle(gd).display;\n",
       "        if (!display || display === 'none') {{\n",
       "            console.log([gd, 'removed!']);\n",
       "            Plotly.purge(gd);\n",
       "            observer.disconnect();\n",
       "        }}\n",
       "}});\n",
       "\n",
       "// Listen for the removal of the full notebook cells\n",
       "var notebookContainer = gd.closest('#notebook-container');\n",
       "if (notebookContainer) {{\n",
       "    x.observe(notebookContainer, {childList: true});\n",
       "}}\n",
       "\n",
       "// Listen for the clearing of the current output cell\n",
       "var outputEl = gd.closest('.output');\n",
       "if (outputEl) {{\n",
       "    x.observe(outputEl, {childList: true});\n",
       "}}\n",
       "\n",
       "                        })                };                });            </script>        </div>"
      ]
     },
     "metadata": {},
     "output_type": "display_data"
    }
   ],
   "source": [
    "# Count the number of cases (presence of heart disease) and non-cases\n",
    "case_counts = heart['disease'].value_counts()\n",
    "\n",
    "# Create a bar plot using Plotly Express\n",
    "fig = px.bar(x=case_counts.index, y=case_counts.values, color=case_counts.index, text=case_counts.values,\n",
    "             title=\"Distribution of Heart Disease Cases\", labels={\"x\": \"Heart Disease Presence (0: No Disease, 1: Disease)\", \"y\": \"Count\"})\n",
    "fig.update_traces(marker_color=[\"#66B2FF\", \"#FF9999\"])\n",
    "fig.update_xaxes(categoryorder=\"total ascending\")\n",
    "fig.update_yaxes(title_text=\"Count\")\n",
    "\n",
    "fig.show()"
   ]
  },
  {
   "cell_type": "markdown",
   "id": "fc1abd4e",
   "metadata": {},
   "source": [
    "From above plot, there are 526 patients with heart disease cases and 499 patients with no heart disease"
   ]
  },
  {
   "cell_type": "code",
   "execution_count": 55,
   "id": "ac3ad657",
   "metadata": {},
   "outputs": [
    {
     "data": {
      "application/vnd.plotly.v1+json": {
       "config": {
        "plotlyServerURL": "https://plot.ly"
       },
       "data": [
        {
         "hovertemplate": "Age=%{x}<br>Heart Rate=%{y}<br>Heart Disease Presence=%{marker.color}<extra></extra>",
         "legendgroup": "",
         "marker": {
          "color": [
           0,
           0,
           0,
           0,
           0,
           1,
           0,
           0,
           0,
           0,
           1,
           0,
           1,
           0,
           0,
           1,
           1,
           0,
           1,
           1,
           0,
           1,
           1,
           1,
           1,
           0,
           1,
           0,
           0,
           0,
           0,
           1,
           0,
           0,
           1,
           0,
           1,
           1,
           1,
           0,
           1,
           1,
           0,
           0,
           1,
           1,
           1,
           0,
           1,
           0,
           1,
           0,
           1,
           0,
           0,
           0,
           1,
           1,
           0,
           0,
           1,
           1,
           0,
           1,
           1,
           0,
           1,
           0,
           1,
           0,
           0,
           0,
           0,
           0,
           0,
           1,
           1,
           0,
           1,
           1,
           0,
           0,
           0,
           1,
           1,
           1,
           1,
           0,
           0,
           0,
           1,
           1,
           0,
           0,
           1,
           1,
           1,
           0,
           0,
           1,
           1,
           1,
           1,
           1,
           1,
           0,
           0,
           0,
           0,
           0,
           0,
           1,
           0,
           0,
           0,
           0,
           0,
           0,
           1,
           1,
           1,
           0,
           0,
           1,
           0,
           1,
           1,
           1,
           1,
           1,
           1,
           1,
           1,
           1,
           1,
           0,
           1,
           1,
           1,
           1,
           0,
           0,
           0,
           1,
           1,
           0,
           1,
           0,
           1,
           1,
           0,
           0,
           0,
           1,
           0,
           1,
           1,
           1,
           1,
           1,
           0,
           1,
           0,
           0,
           0,
           0,
           0,
           1,
           1,
           1,
           1,
           0,
           1,
           1,
           0,
           0,
           0,
           0,
           0,
           0,
           0,
           1,
           0,
           1,
           1,
           0,
           0,
           0,
           0,
           0,
           1,
           1,
           1,
           1,
           0,
           1,
           0,
           1,
           1,
           0,
           1,
           1,
           1,
           1,
           1,
           1,
           0,
           1,
           1,
           0,
           1,
           0,
           0,
           1,
           1,
           1,
           0,
           1,
           0,
           0,
           0,
           0,
           1,
           1,
           1,
           1,
           0,
           1,
           1,
           0,
           0,
           1,
           0,
           1,
           1,
           1,
           0,
           0,
           0,
           0,
           1,
           0,
           1,
           0,
           1,
           1,
           0,
           0,
           1,
           1,
           0,
           1,
           0,
           0,
           0,
           1,
           1,
           1,
           0,
           1,
           1,
           1,
           1,
           1,
           0,
           1,
           0,
           0,
           0,
           1,
           1,
           1,
           1,
           0,
           1,
           0,
           1,
           1,
           0,
           1,
           1,
           1,
           1,
           1,
           0,
           1,
           1,
           1,
           1,
           0,
           1,
           0,
           1,
           1,
           0,
           0,
           0,
           0,
           1,
           1,
           1,
           1,
           1,
           0,
           1,
           0,
           1,
           1,
           0,
           1,
           0,
           0,
           0,
           1,
           1,
           1,
           1,
           1,
           0,
           1,
           1,
           1,
           0,
           0,
           1,
           1,
           0,
           0,
           0,
           1,
           1,
           0,
           1,
           1,
           0,
           0,
           1,
           1,
           0,
           0,
           1,
           1,
           1,
           1,
           1,
           0,
           0,
           1,
           0,
           0,
           1,
           0,
           0,
           1,
           0,
           1,
           0,
           0,
           0,
           1,
           1,
           1,
           1,
           1,
           0,
           1,
           0,
           0,
           1,
           1,
           0,
           0,
           1,
           0,
           1,
           1,
           1,
           1,
           0,
           1,
           0,
           0,
           0,
           0,
           0,
           1,
           1,
           0,
           0,
           1,
           0,
           0,
           1,
           0,
           0,
           1,
           0,
           0,
           1,
           1,
           0,
           1,
           1,
           1,
           0,
           0,
           1,
           0,
           1,
           0,
           1,
           0,
           0,
           0,
           0,
           1,
           1,
           1,
           1,
           1,
           1,
           1,
           1,
           0,
           0,
           0,
           1,
           1,
           0,
           0,
           0,
           0,
           1,
           1,
           1,
           1,
           0,
           0,
           1,
           0,
           0,
           0,
           0,
           1,
           1,
           1,
           1,
           0,
           1,
           0,
           0,
           1,
           0,
           1,
           0,
           1,
           0,
           1,
           1,
           1,
           0,
           1,
           1,
           1,
           1,
           1,
           1,
           0,
           1,
           0,
           1,
           1,
           1,
           1,
           0,
           1,
           0,
           0,
           1,
           0,
           0,
           0,
           0,
           1,
           0,
           0,
           0,
           0,
           1,
           1,
           1,
           1,
           0,
           0,
           1,
           1,
           0,
           0,
           1,
           1,
           1,
           1,
           1,
           1,
           0,
           1,
           0,
           1,
           0,
           0,
           1,
           0,
           0,
           0,
           1,
           0,
           0,
           1,
           0,
           0,
           0,
           1,
           1,
           0,
           0,
           1,
           0,
           1,
           1,
           1,
           0,
           1,
           0,
           1,
           1,
           1,
           1,
           1,
           0,
           1,
           0,
           1,
           1,
           0,
           1,
           0,
           0,
           1,
           1,
           1,
           0,
           0,
           0,
           1,
           0,
           0,
           0,
           1,
           1,
           0,
           1,
           1,
           1,
           0,
           0,
           1,
           1,
           1,
           1,
           1,
           1,
           0,
           1,
           0,
           0,
           1,
           1,
           0,
           1,
           0,
           1,
           1,
           1,
           0,
           0,
           1,
           0,
           0,
           0,
           0,
           1,
           0,
           0,
           0,
           0,
           0,
           1,
           1,
           0,
           1,
           0,
           0,
           1,
           1,
           1,
           1,
           0,
           0,
           0,
           0,
           0,
           0,
           0,
           0,
           0,
           1,
           1,
           1,
           1,
           0,
           0,
           0,
           0,
           0,
           1,
           0,
           0,
           0,
           1,
           0,
           0,
           1,
           1,
           0,
           0,
           1,
           0,
           1,
           0,
           1,
           1,
           0,
           1,
           1,
           1,
           0,
           0,
           1,
           1,
           1,
           0,
           1,
           1,
           0,
           1,
           1,
           0,
           1,
           0,
           1,
           0,
           0,
           1,
           1,
           1,
           1,
           1,
           0,
           1,
           0,
           0,
           0,
           1,
           1,
           0,
           0,
           0,
           0,
           1,
           0,
           1,
           0,
           0,
           0,
           0,
           0,
           0,
           0,
           0,
           1,
           1,
           1,
           0,
           1,
           0,
           0,
           1,
           0,
           0,
           0,
           1,
           0,
           1,
           1,
           1,
           0,
           0,
           1,
           1,
           0,
           1,
           0,
           1,
           1,
           1,
           1,
           0,
           0,
           1,
           1,
           0,
           1,
           1,
           1,
           1,
           0,
           0,
           1,
           0,
           1,
           1,
           0,
           1,
           1,
           0,
           1,
           0,
           0,
           0,
           0,
           1,
           1,
           0,
           1,
           1,
           1,
           0,
           0,
           1,
           1,
           1,
           1,
           1,
           1,
           1,
           1,
           0,
           1,
           1,
           0,
           0,
           1,
           1,
           1,
           0,
           0,
           0,
           0,
           1,
           1,
           1,
           1,
           0,
           0,
           1,
           1,
           0,
           0,
           0,
           1,
           0,
           0,
           1,
           1,
           1,
           0,
           0,
           0,
           0,
           0,
           0,
           0,
           0,
           1,
           0,
           1,
           1,
           0,
           0,
           1,
           0,
           1,
           0,
           0,
           1,
           1,
           0,
           1,
           1,
           1,
           0,
           0,
           0,
           0,
           1,
           1,
           1,
           1,
           1,
           0,
           0,
           0,
           0,
           1,
           0,
           1,
           1,
           0,
           1,
           0,
           1,
           1,
           1,
           0,
           0,
           0,
           1,
           1,
           1,
           1,
           0,
           1,
           0,
           0,
           0,
           0,
           1,
           0,
           1,
           0,
           0,
           1,
           0,
           0,
           0,
           1,
           1,
           1,
           1,
           0,
           0,
           0,
           0,
           0,
           0,
           1,
           1,
           1,
           1,
           1,
           1,
           1,
           1,
           1,
           0,
           0,
           0,
           1,
           0,
           1,
           1,
           0,
           0,
           0,
           0,
           0,
           0,
           1,
           0,
           0,
           0,
           1,
           0,
           0,
           0,
           0,
           1,
           1,
           1,
           1,
           0,
           1,
           0,
           0,
           1,
           0,
           1,
           1,
           0,
           0,
           0,
           0,
           0,
           1,
           0,
           0,
           0,
           1,
           0,
           0,
           0,
           0,
           1,
           1,
           0,
           0,
           0,
           1,
           0,
           0,
           0,
           0,
           1,
           0,
           1,
           1,
           1,
           0,
           1,
           1,
           0,
           1,
           1,
           1,
           0,
           1,
           1,
           1,
           0,
           1,
           0,
           0,
           1,
           1,
           1,
           1,
           1,
           0,
           1,
           1,
           1,
           1,
           1,
           0,
           1,
           1,
           0,
           1,
           0,
           1,
           1,
           1,
           1,
           1,
           1,
           0,
           0,
           1,
           0,
           0,
           1,
           0,
           1,
           1,
           1,
           1,
           0,
           0,
           0,
           1,
           1,
           0,
           1,
           0,
           0,
           1,
           0,
           0,
           0,
           0,
           0,
           1,
           0,
           1,
           1,
           0,
           1,
           1,
           1,
           0,
           0,
           1,
           0,
           0,
           1,
           0,
           0,
           0,
           0,
           1,
           1,
           0,
           0,
           1,
           0
          ],
          "coloraxis": "coloraxis",
          "symbol": "circle"
         },
         "mode": "markers",
         "name": "Yes",
         "showlegend": false,
         "type": "scattergl",
         "x": [
          52,
          53,
          70,
          61,
          62,
          58,
          58,
          55,
          46,
          54,
          71,
          43,
          34,
          51,
          52,
          34,
          51,
          54,
          50,
          58,
          60,
          67,
          45,
          63,
          42,
          61,
          44,
          58,
          56,
          55,
          44,
          50,
          57,
          70,
          50,
          46,
          51,
          59,
          64,
          57,
          65,
          54,
          61,
          46,
          55,
          42,
          41,
          66,
          66,
          60,
          58,
          57,
          38,
          49,
          55,
          55,
          56,
          48,
          67,
          57,
          29,
          66,
          67,
          59,
          29,
          59,
          53,
          42,
          37,
          62,
          59,
          61,
          56,
          59,
          48,
          47,
          48,
          63,
          52,
          52,
          50,
          49,
          46,
          38,
          37,
          44,
          58,
          59,
          62,
          68,
          54,
          62,
          63,
          44,
          62,
          45,
          57,
          53,
          65,
          76,
          43,
          57,
          54,
          47,
          52,
          47,
          51,
          62,
          40,
          54,
          44,
          53,
          48,
          57,
          59,
          61,
          63,
          43,
          29,
          42,
          54,
          44,
          60,
          65,
          61,
          60,
          66,
          53,
          52,
          57,
          60,
          51,
          41,
          50,
          54,
          58,
          55,
          64,
          47,
          41,
          57,
          63,
          61,
          34,
          47,
          40,
          51,
          41,
          52,
          39,
          58,
          54,
          58,
          54,
          63,
          54,
          40,
          54,
          67,
          41,
          77,
          51,
          77,
          48,
          56,
          59,
          56,
          57,
          43,
          45,
          43,
          56,
          56,
          39,
          54,
          56,
          56,
          64,
          44,
          56,
          63,
          64,
          60,
          42,
          45,
          57,
          40,
          56,
          63,
          64,
          41,
          56,
          67,
          69,
          67,
          59,
          58,
          45,
          60,
          50,
          62,
          34,
          52,
          64,
          66,
          42,
          59,
          41,
          38,
          62,
          42,
          67,
          50,
          43,
          45,
          49,
          65,
          41,
          46,
          54,
          57,
          63,
          64,
          39,
          51,
          54,
          49,
          44,
          52,
          66,
          58,
          56,
          60,
          41,
          49,
          64,
          49,
          57,
          60,
          62,
          54,
          67,
          38,
          60,
          51,
          44,
          54,
          46,
          39,
          42,
          47,
          45,
          55,
          57,
          35,
          62,
          35,
          64,
          38,
          66,
          44,
          54,
          48,
          55,
          58,
          45,
          53,
          67,
          58,
          71,
          43,
          44,
          39,
          54,
          66,
          56,
          57,
          44,
          55,
          41,
          45,
          35,
          41,
          64,
          58,
          71,
          64,
          71,
          58,
          40,
          52,
          58,
          61,
          59,
          56,
          67,
          67,
          58,
          35,
          52,
          46,
          51,
          55,
          60,
          52,
          62,
          44,
          44,
          59,
          56,
          61,
          48,
          70,
          74,
          40,
          42,
          64,
          63,
          59,
          53,
          53,
          48,
          45,
          66,
          48,
          56,
          54,
          57,
          70,
          53,
          37,
          63,
          37,
          54,
          60,
          58,
          57,
          54,
          56,
          60,
          38,
          44,
          65,
          52,
          41,
          66,
          50,
          54,
          43,
          62,
          66,
          50,
          57,
          57,
          57,
          46,
          59,
          67,
          59,
          53,
          48,
          62,
          43,
          53,
          57,
          53,
          58,
          48,
          58,
          51,
          43,
          55,
          54,
          58,
          46,
          66,
          59,
          64,
          67,
          52,
          58,
          58,
          59,
          58,
          35,
          51,
          42,
          77,
          64,
          63,
          58,
          45,
          51,
          62,
          63,
          66,
          68,
          40,
          66,
          63,
          49,
          71,
          70,
          46,
          61,
          56,
          58,
          58,
          46,
          46,
          41,
          56,
          57,
          70,
          59,
          41,
          54,
          52,
          62,
          65,
          57,
          42,
          57,
          58,
          45,
          51,
          54,
          57,
          43,
          47,
          67,
          65,
          60,
          37,
          41,
          57,
          59,
          67,
          47,
          58,
          62,
          60,
          57,
          57,
          47,
          52,
          53,
          55,
          51,
          52,
          63,
          49,
          66,
          49,
          65,
          69,
          47,
          39,
          43,
          51,
          69,
          48,
          52,
          43,
          67,
          38,
          44,
          47,
          61,
          67,
          60,
          64,
          58,
          41,
          48,
          57,
          57,
          57,
          39,
          58,
          51,
          63,
          51,
          35,
          65,
          62,
          41,
          65,
          54,
          61,
          57,
          57,
          64,
          55,
          51,
          59,
          68,
          57,
          54,
          46,
          71,
          35,
          46,
          45,
          47,
          44,
          61,
          41,
          56,
          55,
          54,
          43,
          44,
          54,
          44,
          49,
          60,
          41,
          49,
          61,
          59,
          58,
          67,
          61,
          58,
          51,
          62,
          62,
          59,
          69,
          60,
          65,
          63,
          53,
          54,
          76,
          50,
          52,
          46,
          64,
          58,
          44,
          62,
          59,
          54,
          48,
          70,
          67,
          51,
          68,
          69,
          54,
          43,
          53,
          58,
          67,
          59,
          48,
          39,
          67,
          58,
          65,
          42,
          44,
          56,
          53,
          50,
          41,
          54,
          42,
          54,
          60,
          34,
          44,
          60,
          43,
          52,
          70,
          62,
          58,
          46,
          44,
          55,
          43,
          55,
          40,
          64,
          59,
          61,
          54,
          74,
          63,
          70,
          63,
          64,
          61,
          59,
          38,
          58,
          63,
          62,
          46,
          58,
          63,
          47,
          71,
          66,
          42,
          64,
          55,
          43,
          55,
          58,
          55,
          51,
          50,
          43,
          41,
          49,
          65,
          57,
          48,
          62,
          61,
          59,
          69,
          58,
          38,
          69,
          65,
          45,
          49,
          45,
          61,
          52,
          53,
          59,
          58,
          65,
          58,
          46,
          56,
          64,
          65,
          44,
          50,
          47,
          64,
          71,
          45,
          62,
          41,
          66,
          56,
          41,
          41,
          57,
          39,
          64,
          59,
          61,
          58,
          47,
          58,
          66,
          65,
          35,
          57,
          29,
          66,
          61,
          52,
          68,
          54,
          63,
          58,
          60,
          63,
          41,
          68,
          42,
          59,
          59,
          43,
          60,
          63,
          52,
          58,
          56,
          54,
          58,
          55,
          53,
          63,
          39,
          35,
          50,
          67,
          66,
          35,
          41,
          35,
          71,
          57,
          51,
          58,
          57,
          56,
          60,
          45,
          56,
          35,
          45,
          66,
          51,
          70,
          55,
          56,
          55,
          52,
          64,
          45,
          67,
          68,
          74,
          60,
          48,
          56,
          46,
          55,
          44,
          52,
          51,
          44,
          52,
          50,
          59,
          67,
          58,
          52,
          44,
          41,
          63,
          58,
          60,
          51,
          64,
          60,
          44,
          58,
          55,
          65,
          48,
          65,
          51,
          48,
          64,
          66,
          46,
          61,
          57,
          49,
          56,
          58,
          63,
          57,
          57,
          68,
          46,
          71,
          41,
          45,
          62,
          65,
          48,
          51,
          61,
          53,
          59,
          34,
          44,
          58,
          64,
          56,
          54,
          55,
          67,
          51,
          62,
          62,
          54,
          54,
          68,
          60,
          61,
          62,
          41,
          65,
          59,
          43,
          67,
          63,
          63,
          52,
          58,
          53,
          57,
          44,
          51,
          54,
          40,
          57,
          62,
          53,
          62,
          58,
          70,
          45,
          42,
          58,
          61,
          62,
          60,
          54,
          61,
          63,
          42,
          57,
          44,
          54,
          51,
          58,
          68,
          55,
          42,
          49,
          53,
          52,
          51,
          51,
          70,
          35,
          58,
          59,
          60,
          56,
          35,
          61,
          58,
          52,
          58,
          37,
          52,
          67,
          65,
          46,
          68,
          43,
          68,
          51,
          52,
          64,
          59,
          52,
          59,
          60,
          41,
          41,
          56,
          56,
          48,
          39,
          64,
          57,
          59,
          60,
          61,
          43,
          54,
          59,
          57,
          57,
          57,
          48,
          70,
          57,
          61,
          57,
          60,
          63,
          55,
          64,
          54,
          52,
          51,
          62,
          59,
          52,
          42,
          59,
          61,
          42,
          62,
          59,
          55,
          64,
          42,
          50,
          62,
          50,
          50,
          58,
          35,
          45,
          66,
          46,
          65,
          47,
          59,
          38,
          39,
          58,
          44,
          54,
          61,
          57,
          54,
          42,
          54,
          60,
          65,
          40,
          51,
          38,
          42,
          56,
          43,
          64,
          53,
          49,
          57,
          52,
          69,
          65,
          66,
          56,
          67,
          54,
          70,
          57,
          67,
          62,
          54,
          45,
          53,
          62,
          49,
          50,
          65,
          69,
          52,
          58,
          52,
          57,
          44,
          76,
          58,
          60,
          53,
          52,
          38,
          52,
          52,
          51,
          43,
          39,
          63,
          52,
          44,
          45,
          57,
          39,
          67,
          64,
          59,
          62,
          55,
          57,
          60,
          71,
          56,
          60,
          50,
          43,
          59,
          44,
          56,
          54,
          42,
          67,
          64,
          42,
          66,
          52,
          51,
          55,
          58,
          56,
          42,
          40,
          51,
          45,
          48,
          58,
          44,
          58,
          65,
          53,
          41,
          47,
          59,
          60,
          47,
          50,
          54
         ],
         "xaxis": "x",
         "y": [
          168,
          155,
          125,
          161,
          106,
          122,
          140,
          145,
          144,
          116,
          125,
          136,
          192,
          122,
          156,
          192,
          142,
          109,
          162,
          165,
          155,
          142,
          148,
          172,
          173,
          146,
          179,
          152,
          142,
          117,
          144,
          162,
          115,
          112,
          163,
          147,
          125,
          182,
          105,
          150,
          151,
          147,
          169,
          144,
          166,
          178,
          132,
          165,
          152,
          160,
          162,
          123,
          173,
          139,
          111,
          111,
          162,
          180,
          150,
          164,
          202,
          152,
          125,
          157,
          202,
          159,
          152,
          125,
          170,
          145,
          140,
          138,
          144,
          162,
          150,
          156,
          175,
          144,
          158,
          158,
          163,
          126,
          147,
          173,
          170,
          170,
          165,
          143,
          160,
          141,
          167,
          163,
          144,
          144,
          140,
          152,
          159,
          95,
          158,
          116,
          165,
          173,
          156,
          156,
          190,
          118,
          173,
          103,
          181,
          108,
          177,
          111,
          150,
          143,
          134,
          146,
          147,
          120,
          202,
          162,
          156,
          144,
          142,
          157,
          140,
          171,
          151,
          152,
          169,
          148,
          171,
          149,
          132,
          163,
          156,
          146,
          166,
          154,
          156,
          153,
          88,
          136,
          145,
          174,
          143,
          114,
          157,
          158,
          178,
          182,
          140,
          195,
          171,
          147,
          132,
          156,
          178,
          147,
          160,
          182,
          162,
          143,
          162,
          166,
          144,
          140,
          105,
          163,
          162,
          138,
          171,
          103,
          169,
          179,
          126,
          133,
          103,
          96,
          177,
          150,
          144,
          144,
          170,
          150,
          170,
          124,
          114,
          144,
          147,
          131,
          179,
          163,
          160,
          131,
          108,
          157,
          156,
          185,
          160,
          126,
          163,
          174,
          178,
          155,
          152,
          178,
          134,
          179,
          173,
          103,
          194,
          125,
          128,
          162,
          170,
          171,
          127,
          182,
          120,
          116,
          174,
          147,
          144,
          179,
          186,
          165,
          126,
          149,
          184,
          165,
          171,
          178,
          141,
          163,
          163,
          155,
          126,
          141,
          160,
          154,
          159,
          150,
          173,
          155,
          166,
          188,
          195,
          120,
          152,
          150,
          118,
          138,
          132,
          124,
          130,
          157,
          182,
          154,
          182,
          151,
          169,
          165,
          186,
          166,
          146,
          148,
          95,
          71,
          173,
          130,
          161,
          173,
          152,
          108,
          138,
          103,
          168,
          188,
          145,
          168,
          175,
          174,
          172,
          144,
          173,
          130,
          133,
          162,
          172,
          181,
          169,
          130,
          137,
          157,
          133,
          125,
          71,
          111,
          174,
          172,
          172,
          154,
          166,
          142,
          169,
          99,
          149,
          170,
          134,
          153,
          140,
          150,
          112,
          121,
          178,
          178,
          133,
          172,
          162,
          115,
          143,
          139,
          147,
          120,
          180,
          153,
          195,
          112,
          109,
          115,
          170,
          169,
          187,
          158,
          132,
          111,
          173,
          152,
          142,
          144,
          173,
          169,
          148,
          162,
          182,
          120,
          128,
          167,
          143,
          97,
          151,
          126,
          143,
          126,
          141,
          152,
          90,
          108,
          162,
          115,
          186,
          146,
          165,
          173,
          174,
          173,
          165,
          168,
          154,
          123,
          136,
          132,
          158,
          160,
          160,
          138,
          164,
          122,
          71,
          190,
          105,
          173,
          142,
          111,
          156,
          123,
          173,
          162,
          96,
          150,
          152,
          132,
          123,
          145,
          132,
          152,
          150,
          114,
          138,
          150,
          139,
          125,
          143,
          172,
          138,
          142,
          165,
          156,
          152,
          147,
          168,
          144,
          112,
          109,
          159,
          172,
          152,
          169,
          163,
          151,
          159,
          122,
          163,
          152,
          147,
          142,
          163,
          174,
          143,
          152,
          150,
          114,
          160,
          187,
          172,
          163,
          143,
          129,
          179,
          160,
          154,
          170,
          88,
          174,
          179,
          184,
          173,
          145,
          157,
          160,
          154,
          162,
          165,
          162,
          114,
          131,
          152,
          152,
          171,
          186,
          146,
          175,
          190,
          161,
          160,
          173,
          188,
          118,
          137,
          108,
          171,
          133,
          131,
          168,
          168,
          173,
          124,
          150,
          182,
          131,
          142,
          154,
          122,
          174,
          158,
          103,
          158,
          127,
          159,
          137,
          159,
          174,
          131,
          132,
          166,
          161,
          150,
          164,
          160,
          160,
          125,
          182,
          160,
          175,
          152,
          149,
          140,
          172,
          133,
          117,
          159,
          120,
          153,
          108,
          170,
          139,
          132,
          168,
          139,
          161,
          162,
          144,
          172,
          161,
          165,
          149,
          145,
          163,
          145,
          131,
          157,
          148,
          136,
          160,
          167,
          116,
          158,
          172,
          144,
          155,
          130,
          180,
          157,
          162,
          152,
          168,
          109,
          142,
          157,
          151,
          146,
          116,
          136,
          152,
          156,
          163,
          162,
          186,
          179,
          71,
          131,
          148,
          173,
          153,
          105,
          160,
          159,
          168,
          163,
          194,
          170,
          142,
          174,
          153,
          141,
          171,
          178,
          109,
          157,
          105,
          156,
          180,
          155,
          120,
          132,
          178,
          131,
          90,
          146,
          116,
          121,
          169,
          112,
          169,
          132,
          161,
          164,
          173,
          160,
          179,
          97,
          120,
          172,
          179,
          179,
          130,
          132,
          125,
          132,
          117,
          136,
          130,
          146,
          111,
          142,
          158,
          181,
          163,
          171,
          158,
          88,
          150,
          106,
          145,
          145,
          146,
          173,
          182,
          151,
          174,
          132,
          171,
          175,
          125,
          168,
          143,
          143,
          172,
          174,
          131,
          152,
          150,
          105,
          140,
          169,
          128,
          152,
          122,
          125,
          175,
          99,
          182,
          114,
          103,
          163,
          153,
          174,
          152,
          131,
          182,
          125,
          140,
          143,
          122,
          114,
          157,
          174,
          141,
          202,
          120,
          169,
          168,
          151,
          147,
          132,
          156,
          144,
          147,
          172,
          150,
          162,
          140,
          90,
          120,
          155,
          154,
          156,
          171,
          133,
          170,
          154,
          161,
          155,
          179,
          140,
          156,
          158,
          150,
          132,
          156,
          168,
          130,
          162,
          126,
          154,
          131,
          150,
          153,
          96,
          132,
          163,
          130,
          138,
          114,
          125,
          143,
          130,
          142,
          161,
          147,
          158,
          185,
          172,
          115,
          121,
          157,
          166,
          163,
          120,
          161,
          170,
          160,
          154,
          175,
          156,
          163,
          142,
          129,
          171,
          161,
          180,
          172,
          132,
          144,
          160,
          143,
          158,
          160,
          169,
          144,
          155,
          151,
          180,
          140,
          149,
          175,
          96,
          138,
          172,
          169,
          112,
          163,
          163,
          162,
          144,
          143,
          143,
          141,
          156,
          130,
          132,
          152,
          154,
          114,
          139,
          143,
          146,
          95,
          162,
          192,
          144,
          105,
          122,
          169,
          165,
          145,
          163,
          122,
          106,
          103,
          126,
          126,
          141,
          96,
          145,
          140,
          132,
          114,
          159,
          181,
          129,
          150,
          136,
          160,
          131,
          111,
          112,
          179,
          154,
          158,
          114,
          141,
          160,
          155,
          140,
          154,
          143,
          185,
          178,
          146,
          138,
          160,
          144,
          160,
          125,
          172,
          150,
          150,
          179,
          109,
          143,
          144,
          151,
          111,
          125,
          126,
          160,
          162,
          125,
          186,
          125,
          182,
          165,
          125,
          170,
          105,
          182,
          125,
          162,
          161,
          160,
          187,
          161,
          129,
          174,
          156,
          115,
          181,
          115,
          173,
          160,
          158,
          159,
          168,
          125,
          171,
          179,
          153,
          169,
          178,
          139,
          182,
          155,
          148,
          125,
          132,
          138,
          165,
          113,
          182,
          168,
          164,
          115,
          166,
          125,
          124,
          140,
          126,
          157,
          154,
          130,
          154,
          126,
          156,
          173,
          97,
          145,
          158,
          122,
          161,
          145,
          122,
          160,
          134,
          155,
          96,
          178,
          162,
          99,
          126,
          163,
          152,
          130,
          148,
          132,
          144,
          127,
          179,
          162,
          182,
          140,
          105,
          173,
          160,
          169,
          115,
          108,
          194,
          109,
          132,
          127,
          181,
          142,
          182,
          150,
          169,
          162,
          158,
          111,
          162,
          123,
          169,
          151,
          140,
          165,
          162,
          172,
          163,
          125,
          168,
          108,
          97,
          170,
          152,
          143,
          146,
          163,
          163,
          157,
          151,
          169,
          122,
          147,
          123,
          175,
          116,
          130,
          96,
          155,
          172,
          173,
          162,
          190,
          166,
          161,
          140,
          169,
          184,
          177,
          147,
          148,
          140,
          142,
          105,
          161,
          146,
          117,
          164,
          170,
          162,
          178,
          160,
          159,
          143,
          142,
          173,
          150,
          113,
          125,
          163,
          132,
          178,
          132,
          147,
          142,
          130,
          165,
          162,
          162,
          181,
          173,
          170,
          168,
          140,
          175,
          131,
          174,
          95,
          158,
          143,
          164,
          141,
          118,
          159,
          113
         ],
         "yaxis": "y"
        }
       ],
       "layout": {
        "coloraxis": {
         "colorbar": {
          "title": {
           "text": "Heart Disease Presence"
          }
         },
         "colorscale": [
          [
           0,
           "#0d0887"
          ],
          [
           0.1111111111111111,
           "#46039f"
          ],
          [
           0.2222222222222222,
           "#7201a8"
          ],
          [
           0.3333333333333333,
           "#9c179e"
          ],
          [
           0.4444444444444444,
           "#bd3786"
          ],
          [
           0.5555555555555556,
           "#d8576b"
          ],
          [
           0.6666666666666666,
           "#ed7953"
          ],
          [
           0.7777777777777778,
           "#fb9f3a"
          ],
          [
           0.8888888888888888,
           "#fdca26"
          ],
          [
           1,
           "#f0f921"
          ]
         ]
        },
        "legend": {
         "tracegroupgap": 0
        },
        "template": {
         "data": {
          "bar": [
           {
            "error_x": {
             "color": "#2a3f5f"
            },
            "error_y": {
             "color": "#2a3f5f"
            },
            "marker": {
             "line": {
              "color": "#E5ECF6",
              "width": 0.5
             }
            },
            "type": "bar"
           }
          ],
          "barpolar": [
           {
            "marker": {
             "line": {
              "color": "#E5ECF6",
              "width": 0.5
             }
            },
            "type": "barpolar"
           }
          ],
          "carpet": [
           {
            "aaxis": {
             "endlinecolor": "#2a3f5f",
             "gridcolor": "white",
             "linecolor": "white",
             "minorgridcolor": "white",
             "startlinecolor": "#2a3f5f"
            },
            "baxis": {
             "endlinecolor": "#2a3f5f",
             "gridcolor": "white",
             "linecolor": "white",
             "minorgridcolor": "white",
             "startlinecolor": "#2a3f5f"
            },
            "type": "carpet"
           }
          ],
          "choropleth": [
           {
            "colorbar": {
             "outlinewidth": 0,
             "ticks": ""
            },
            "type": "choropleth"
           }
          ],
          "contour": [
           {
            "colorbar": {
             "outlinewidth": 0,
             "ticks": ""
            },
            "colorscale": [
             [
              0,
              "#0d0887"
             ],
             [
              0.1111111111111111,
              "#46039f"
             ],
             [
              0.2222222222222222,
              "#7201a8"
             ],
             [
              0.3333333333333333,
              "#9c179e"
             ],
             [
              0.4444444444444444,
              "#bd3786"
             ],
             [
              0.5555555555555556,
              "#d8576b"
             ],
             [
              0.6666666666666666,
              "#ed7953"
             ],
             [
              0.7777777777777778,
              "#fb9f3a"
             ],
             [
              0.8888888888888888,
              "#fdca26"
             ],
             [
              1,
              "#f0f921"
             ]
            ],
            "type": "contour"
           }
          ],
          "contourcarpet": [
           {
            "colorbar": {
             "outlinewidth": 0,
             "ticks": ""
            },
            "type": "contourcarpet"
           }
          ],
          "heatmap": [
           {
            "colorbar": {
             "outlinewidth": 0,
             "ticks": ""
            },
            "colorscale": [
             [
              0,
              "#0d0887"
             ],
             [
              0.1111111111111111,
              "#46039f"
             ],
             [
              0.2222222222222222,
              "#7201a8"
             ],
             [
              0.3333333333333333,
              "#9c179e"
             ],
             [
              0.4444444444444444,
              "#bd3786"
             ],
             [
              0.5555555555555556,
              "#d8576b"
             ],
             [
              0.6666666666666666,
              "#ed7953"
             ],
             [
              0.7777777777777778,
              "#fb9f3a"
             ],
             [
              0.8888888888888888,
              "#fdca26"
             ],
             [
              1,
              "#f0f921"
             ]
            ],
            "type": "heatmap"
           }
          ],
          "heatmapgl": [
           {
            "colorbar": {
             "outlinewidth": 0,
             "ticks": ""
            },
            "colorscale": [
             [
              0,
              "#0d0887"
             ],
             [
              0.1111111111111111,
              "#46039f"
             ],
             [
              0.2222222222222222,
              "#7201a8"
             ],
             [
              0.3333333333333333,
              "#9c179e"
             ],
             [
              0.4444444444444444,
              "#bd3786"
             ],
             [
              0.5555555555555556,
              "#d8576b"
             ],
             [
              0.6666666666666666,
              "#ed7953"
             ],
             [
              0.7777777777777778,
              "#fb9f3a"
             ],
             [
              0.8888888888888888,
              "#fdca26"
             ],
             [
              1,
              "#f0f921"
             ]
            ],
            "type": "heatmapgl"
           }
          ],
          "histogram": [
           {
            "marker": {
             "colorbar": {
              "outlinewidth": 0,
              "ticks": ""
             }
            },
            "type": "histogram"
           }
          ],
          "histogram2d": [
           {
            "colorbar": {
             "outlinewidth": 0,
             "ticks": ""
            },
            "colorscale": [
             [
              0,
              "#0d0887"
             ],
             [
              0.1111111111111111,
              "#46039f"
             ],
             [
              0.2222222222222222,
              "#7201a8"
             ],
             [
              0.3333333333333333,
              "#9c179e"
             ],
             [
              0.4444444444444444,
              "#bd3786"
             ],
             [
              0.5555555555555556,
              "#d8576b"
             ],
             [
              0.6666666666666666,
              "#ed7953"
             ],
             [
              0.7777777777777778,
              "#fb9f3a"
             ],
             [
              0.8888888888888888,
              "#fdca26"
             ],
             [
              1,
              "#f0f921"
             ]
            ],
            "type": "histogram2d"
           }
          ],
          "histogram2dcontour": [
           {
            "colorbar": {
             "outlinewidth": 0,
             "ticks": ""
            },
            "colorscale": [
             [
              0,
              "#0d0887"
             ],
             [
              0.1111111111111111,
              "#46039f"
             ],
             [
              0.2222222222222222,
              "#7201a8"
             ],
             [
              0.3333333333333333,
              "#9c179e"
             ],
             [
              0.4444444444444444,
              "#bd3786"
             ],
             [
              0.5555555555555556,
              "#d8576b"
             ],
             [
              0.6666666666666666,
              "#ed7953"
             ],
             [
              0.7777777777777778,
              "#fb9f3a"
             ],
             [
              0.8888888888888888,
              "#fdca26"
             ],
             [
              1,
              "#f0f921"
             ]
            ],
            "type": "histogram2dcontour"
           }
          ],
          "mesh3d": [
           {
            "colorbar": {
             "outlinewidth": 0,
             "ticks": ""
            },
            "type": "mesh3d"
           }
          ],
          "parcoords": [
           {
            "line": {
             "colorbar": {
              "outlinewidth": 0,
              "ticks": ""
             }
            },
            "type": "parcoords"
           }
          ],
          "pie": [
           {
            "automargin": true,
            "type": "pie"
           }
          ],
          "scatter": [
           {
            "marker": {
             "colorbar": {
              "outlinewidth": 0,
              "ticks": ""
             }
            },
            "type": "scatter"
           }
          ],
          "scatter3d": [
           {
            "line": {
             "colorbar": {
              "outlinewidth": 0,
              "ticks": ""
             }
            },
            "marker": {
             "colorbar": {
              "outlinewidth": 0,
              "ticks": ""
             }
            },
            "type": "scatter3d"
           }
          ],
          "scattercarpet": [
           {
            "marker": {
             "colorbar": {
              "outlinewidth": 0,
              "ticks": ""
             }
            },
            "type": "scattercarpet"
           }
          ],
          "scattergeo": [
           {
            "marker": {
             "colorbar": {
              "outlinewidth": 0,
              "ticks": ""
             }
            },
            "type": "scattergeo"
           }
          ],
          "scattergl": [
           {
            "marker": {
             "colorbar": {
              "outlinewidth": 0,
              "ticks": ""
             }
            },
            "type": "scattergl"
           }
          ],
          "scattermapbox": [
           {
            "marker": {
             "colorbar": {
              "outlinewidth": 0,
              "ticks": ""
             }
            },
            "type": "scattermapbox"
           }
          ],
          "scatterpolar": [
           {
            "marker": {
             "colorbar": {
              "outlinewidth": 0,
              "ticks": ""
             }
            },
            "type": "scatterpolar"
           }
          ],
          "scatterpolargl": [
           {
            "marker": {
             "colorbar": {
              "outlinewidth": 0,
              "ticks": ""
             }
            },
            "type": "scatterpolargl"
           }
          ],
          "scatterternary": [
           {
            "marker": {
             "colorbar": {
              "outlinewidth": 0,
              "ticks": ""
             }
            },
            "type": "scatterternary"
           }
          ],
          "surface": [
           {
            "colorbar": {
             "outlinewidth": 0,
             "ticks": ""
            },
            "colorscale": [
             [
              0,
              "#0d0887"
             ],
             [
              0.1111111111111111,
              "#46039f"
             ],
             [
              0.2222222222222222,
              "#7201a8"
             ],
             [
              0.3333333333333333,
              "#9c179e"
             ],
             [
              0.4444444444444444,
              "#bd3786"
             ],
             [
              0.5555555555555556,
              "#d8576b"
             ],
             [
              0.6666666666666666,
              "#ed7953"
             ],
             [
              0.7777777777777778,
              "#fb9f3a"
             ],
             [
              0.8888888888888888,
              "#fdca26"
             ],
             [
              1,
              "#f0f921"
             ]
            ],
            "type": "surface"
           }
          ],
          "table": [
           {
            "cells": {
             "fill": {
              "color": "#EBF0F8"
             },
             "line": {
              "color": "white"
             }
            },
            "header": {
             "fill": {
              "color": "#C8D4E3"
             },
             "line": {
              "color": "white"
             }
            },
            "type": "table"
           }
          ]
         },
         "layout": {
          "annotationdefaults": {
           "arrowcolor": "#2a3f5f",
           "arrowhead": 0,
           "arrowwidth": 1
          },
          "autotypenumbers": "strict",
          "coloraxis": {
           "colorbar": {
            "outlinewidth": 0,
            "ticks": ""
           }
          },
          "colorscale": {
           "diverging": [
            [
             0,
             "#8e0152"
            ],
            [
             0.1,
             "#c51b7d"
            ],
            [
             0.2,
             "#de77ae"
            ],
            [
             0.3,
             "#f1b6da"
            ],
            [
             0.4,
             "#fde0ef"
            ],
            [
             0.5,
             "#f7f7f7"
            ],
            [
             0.6,
             "#e6f5d0"
            ],
            [
             0.7,
             "#b8e186"
            ],
            [
             0.8,
             "#7fbc41"
            ],
            [
             0.9,
             "#4d9221"
            ],
            [
             1,
             "#276419"
            ]
           ],
           "sequential": [
            [
             0,
             "#0d0887"
            ],
            [
             0.1111111111111111,
             "#46039f"
            ],
            [
             0.2222222222222222,
             "#7201a8"
            ],
            [
             0.3333333333333333,
             "#9c179e"
            ],
            [
             0.4444444444444444,
             "#bd3786"
            ],
            [
             0.5555555555555556,
             "#d8576b"
            ],
            [
             0.6666666666666666,
             "#ed7953"
            ],
            [
             0.7777777777777778,
             "#fb9f3a"
            ],
            [
             0.8888888888888888,
             "#fdca26"
            ],
            [
             1,
             "#f0f921"
            ]
           ],
           "sequentialminus": [
            [
             0,
             "#0d0887"
            ],
            [
             0.1111111111111111,
             "#46039f"
            ],
            [
             0.2222222222222222,
             "#7201a8"
            ],
            [
             0.3333333333333333,
             "#9c179e"
            ],
            [
             0.4444444444444444,
             "#bd3786"
            ],
            [
             0.5555555555555556,
             "#d8576b"
            ],
            [
             0.6666666666666666,
             "#ed7953"
            ],
            [
             0.7777777777777778,
             "#fb9f3a"
            ],
            [
             0.8888888888888888,
             "#fdca26"
            ],
            [
             1,
             "#f0f921"
            ]
           ]
          },
          "colorway": [
           "#636efa",
           "#EF553B",
           "#00cc96",
           "#ab63fa",
           "#FFA15A",
           "#19d3f3",
           "#FF6692",
           "#B6E880",
           "#FF97FF",
           "#FECB52"
          ],
          "font": {
           "color": "#2a3f5f"
          },
          "geo": {
           "bgcolor": "white",
           "lakecolor": "white",
           "landcolor": "#E5ECF6",
           "showlakes": true,
           "showland": true,
           "subunitcolor": "white"
          },
          "hoverlabel": {
           "align": "left"
          },
          "hovermode": "closest",
          "mapbox": {
           "style": "light"
          },
          "paper_bgcolor": "white",
          "plot_bgcolor": "#E5ECF6",
          "polar": {
           "angularaxis": {
            "gridcolor": "white",
            "linecolor": "white",
            "ticks": ""
           },
           "bgcolor": "#E5ECF6",
           "radialaxis": {
            "gridcolor": "white",
            "linecolor": "white",
            "ticks": ""
           }
          },
          "scene": {
           "xaxis": {
            "backgroundcolor": "#E5ECF6",
            "gridcolor": "white",
            "gridwidth": 2,
            "linecolor": "white",
            "showbackground": true,
            "ticks": "",
            "zerolinecolor": "white"
           },
           "yaxis": {
            "backgroundcolor": "#E5ECF6",
            "gridcolor": "white",
            "gridwidth": 2,
            "linecolor": "white",
            "showbackground": true,
            "ticks": "",
            "zerolinecolor": "white"
           },
           "zaxis": {
            "backgroundcolor": "#E5ECF6",
            "gridcolor": "white",
            "gridwidth": 2,
            "linecolor": "white",
            "showbackground": true,
            "ticks": "",
            "zerolinecolor": "white"
           }
          },
          "shapedefaults": {
           "line": {
            "color": "#2a3f5f"
           }
          },
          "ternary": {
           "aaxis": {
            "gridcolor": "white",
            "linecolor": "white",
            "ticks": ""
           },
           "baxis": {
            "gridcolor": "white",
            "linecolor": "white",
            "ticks": ""
           },
           "bgcolor": "#E5ECF6",
           "caxis": {
            "gridcolor": "white",
            "linecolor": "white",
            "ticks": ""
           }
          },
          "title": {
           "x": 0.05
          },
          "xaxis": {
           "automargin": true,
           "gridcolor": "white",
           "linecolor": "white",
           "ticks": "",
           "title": {
            "standoff": 15
           },
           "zerolinecolor": "white",
           "zerolinewidth": 2
          },
          "yaxis": {
           "automargin": true,
           "gridcolor": "white",
           "linecolor": "white",
           "ticks": "",
           "title": {
            "standoff": 15
           },
           "zerolinecolor": "white",
           "zerolinewidth": 2
          }
         }
        },
        "title": {
         "text": "Age vs. Heart Rate"
        },
        "xaxis": {
         "anchor": "y",
         "domain": [
          0,
          1
         ],
         "title": {
          "text": "Age"
         }
        },
        "yaxis": {
         "anchor": "x",
         "domain": [
          0,
          1
         ],
         "title": {
          "text": "Heart Rate"
         }
        }
       }
      },
      "text/html": [
       "<div>                            <div id=\"8e1643ae-55d3-4935-8d7c-64ad6c22a681\" class=\"plotly-graph-div\" style=\"height:525px; width:100%;\"></div>            <script type=\"text/javascript\">                require([\"plotly\"], function(Plotly) {                    window.PLOTLYENV=window.PLOTLYENV || {};                                    if (document.getElementById(\"8e1643ae-55d3-4935-8d7c-64ad6c22a681\")) {                    Plotly.newPlot(                        \"8e1643ae-55d3-4935-8d7c-64ad6c22a681\",                        [{\"hovertemplate\": \"Age=%{x}<br>Heart Rate=%{y}<br>Heart Disease Presence=%{marker.color}<extra></extra>\", \"legendgroup\": \"\", \"marker\": {\"color\": [0, 0, 0, 0, 0, 1, 0, 0, 0, 0, 1, 0, 1, 0, 0, 1, 1, 0, 1, 1, 0, 1, 1, 1, 1, 0, 1, 0, 0, 0, 0, 1, 0, 0, 1, 0, 1, 1, 1, 0, 1, 1, 0, 0, 1, 1, 1, 0, 1, 0, 1, 0, 1, 0, 0, 0, 1, 1, 0, 0, 1, 1, 0, 1, 1, 0, 1, 0, 1, 0, 0, 0, 0, 0, 0, 1, 1, 0, 1, 1, 0, 0, 0, 1, 1, 1, 1, 0, 0, 0, 1, 1, 0, 0, 1, 1, 1, 0, 0, 1, 1, 1, 1, 1, 1, 0, 0, 0, 0, 0, 0, 1, 0, 0, 0, 0, 0, 0, 1, 1, 1, 0, 0, 1, 0, 1, 1, 1, 1, 1, 1, 1, 1, 1, 1, 0, 1, 1, 1, 1, 0, 0, 0, 1, 1, 0, 1, 0, 1, 1, 0, 0, 0, 1, 0, 1, 1, 1, 1, 1, 0, 1, 0, 0, 0, 0, 0, 1, 1, 1, 1, 0, 1, 1, 0, 0, 0, 0, 0, 0, 0, 1, 0, 1, 1, 0, 0, 0, 0, 0, 1, 1, 1, 1, 0, 1, 0, 1, 1, 0, 1, 1, 1, 1, 1, 1, 0, 1, 1, 0, 1, 0, 0, 1, 1, 1, 0, 1, 0, 0, 0, 0, 1, 1, 1, 1, 0, 1, 1, 0, 0, 1, 0, 1, 1, 1, 0, 0, 0, 0, 1, 0, 1, 0, 1, 1, 0, 0, 1, 1, 0, 1, 0, 0, 0, 1, 1, 1, 0, 1, 1, 1, 1, 1, 0, 1, 0, 0, 0, 1, 1, 1, 1, 0, 1, 0, 1, 1, 0, 1, 1, 1, 1, 1, 0, 1, 1, 1, 1, 0, 1, 0, 1, 1, 0, 0, 0, 0, 1, 1, 1, 1, 1, 0, 1, 0, 1, 1, 0, 1, 0, 0, 0, 1, 1, 1, 1, 1, 0, 1, 1, 1, 0, 0, 1, 1, 0, 0, 0, 1, 1, 0, 1, 1, 0, 0, 1, 1, 0, 0, 1, 1, 1, 1, 1, 0, 0, 1, 0, 0, 1, 0, 0, 1, 0, 1, 0, 0, 0, 1, 1, 1, 1, 1, 0, 1, 0, 0, 1, 1, 0, 0, 1, 0, 1, 1, 1, 1, 0, 1, 0, 0, 0, 0, 0, 1, 1, 0, 0, 1, 0, 0, 1, 0, 0, 1, 0, 0, 1, 1, 0, 1, 1, 1, 0, 0, 1, 0, 1, 0, 1, 0, 0, 0, 0, 1, 1, 1, 1, 1, 1, 1, 1, 0, 0, 0, 1, 1, 0, 0, 0, 0, 1, 1, 1, 1, 0, 0, 1, 0, 0, 0, 0, 1, 1, 1, 1, 0, 1, 0, 0, 1, 0, 1, 0, 1, 0, 1, 1, 1, 0, 1, 1, 1, 1, 1, 1, 0, 1, 0, 1, 1, 1, 1, 0, 1, 0, 0, 1, 0, 0, 0, 0, 1, 0, 0, 0, 0, 1, 1, 1, 1, 0, 0, 1, 1, 0, 0, 1, 1, 1, 1, 1, 1, 0, 1, 0, 1, 0, 0, 1, 0, 0, 0, 1, 0, 0, 1, 0, 0, 0, 1, 1, 0, 0, 1, 0, 1, 1, 1, 0, 1, 0, 1, 1, 1, 1, 1, 0, 1, 0, 1, 1, 0, 1, 0, 0, 1, 1, 1, 0, 0, 0, 1, 0, 0, 0, 1, 1, 0, 1, 1, 1, 0, 0, 1, 1, 1, 1, 1, 1, 0, 1, 0, 0, 1, 1, 0, 1, 0, 1, 1, 1, 0, 0, 1, 0, 0, 0, 0, 1, 0, 0, 0, 0, 0, 1, 1, 0, 1, 0, 0, 1, 1, 1, 1, 0, 0, 0, 0, 0, 0, 0, 0, 0, 1, 1, 1, 1, 0, 0, 0, 0, 0, 1, 0, 0, 0, 1, 0, 0, 1, 1, 0, 0, 1, 0, 1, 0, 1, 1, 0, 1, 1, 1, 0, 0, 1, 1, 1, 0, 1, 1, 0, 1, 1, 0, 1, 0, 1, 0, 0, 1, 1, 1, 1, 1, 0, 1, 0, 0, 0, 1, 1, 0, 0, 0, 0, 1, 0, 1, 0, 0, 0, 0, 0, 0, 0, 0, 1, 1, 1, 0, 1, 0, 0, 1, 0, 0, 0, 1, 0, 1, 1, 1, 0, 0, 1, 1, 0, 1, 0, 1, 1, 1, 1, 0, 0, 1, 1, 0, 1, 1, 1, 1, 0, 0, 1, 0, 1, 1, 0, 1, 1, 0, 1, 0, 0, 0, 0, 1, 1, 0, 1, 1, 1, 0, 0, 1, 1, 1, 1, 1, 1, 1, 1, 0, 1, 1, 0, 0, 1, 1, 1, 0, 0, 0, 0, 1, 1, 1, 1, 0, 0, 1, 1, 0, 0, 0, 1, 0, 0, 1, 1, 1, 0, 0, 0, 0, 0, 0, 0, 0, 1, 0, 1, 1, 0, 0, 1, 0, 1, 0, 0, 1, 1, 0, 1, 1, 1, 0, 0, 0, 0, 1, 1, 1, 1, 1, 0, 0, 0, 0, 1, 0, 1, 1, 0, 1, 0, 1, 1, 1, 0, 0, 0, 1, 1, 1, 1, 0, 1, 0, 0, 0, 0, 1, 0, 1, 0, 0, 1, 0, 0, 0, 1, 1, 1, 1, 0, 0, 0, 0, 0, 0, 1, 1, 1, 1, 1, 1, 1, 1, 1, 0, 0, 0, 1, 0, 1, 1, 0, 0, 0, 0, 0, 0, 1, 0, 0, 0, 1, 0, 0, 0, 0, 1, 1, 1, 1, 0, 1, 0, 0, 1, 0, 1, 1, 0, 0, 0, 0, 0, 1, 0, 0, 0, 1, 0, 0, 0, 0, 1, 1, 0, 0, 0, 1, 0, 0, 0, 0, 1, 0, 1, 1, 1, 0, 1, 1, 0, 1, 1, 1, 0, 1, 1, 1, 0, 1, 0, 0, 1, 1, 1, 1, 1, 0, 1, 1, 1, 1, 1, 0, 1, 1, 0, 1, 0, 1, 1, 1, 1, 1, 1, 0, 0, 1, 0, 0, 1, 0, 1, 1, 1, 1, 0, 0, 0, 1, 1, 0, 1, 0, 0, 1, 0, 0, 0, 0, 0, 1, 0, 1, 1, 0, 1, 1, 1, 0, 0, 1, 0, 0, 1, 0, 0, 0, 0, 1, 1, 0, 0, 1, 0], \"coloraxis\": \"coloraxis\", \"symbol\": \"circle\"}, \"mode\": \"markers\", \"name\": \"Yes\", \"showlegend\": false, \"type\": \"scattergl\", \"x\": [52, 53, 70, 61, 62, 58, 58, 55, 46, 54, 71, 43, 34, 51, 52, 34, 51, 54, 50, 58, 60, 67, 45, 63, 42, 61, 44, 58, 56, 55, 44, 50, 57, 70, 50, 46, 51, 59, 64, 57, 65, 54, 61, 46, 55, 42, 41, 66, 66, 60, 58, 57, 38, 49, 55, 55, 56, 48, 67, 57, 29, 66, 67, 59, 29, 59, 53, 42, 37, 62, 59, 61, 56, 59, 48, 47, 48, 63, 52, 52, 50, 49, 46, 38, 37, 44, 58, 59, 62, 68, 54, 62, 63, 44, 62, 45, 57, 53, 65, 76, 43, 57, 54, 47, 52, 47, 51, 62, 40, 54, 44, 53, 48, 57, 59, 61, 63, 43, 29, 42, 54, 44, 60, 65, 61, 60, 66, 53, 52, 57, 60, 51, 41, 50, 54, 58, 55, 64, 47, 41, 57, 63, 61, 34, 47, 40, 51, 41, 52, 39, 58, 54, 58, 54, 63, 54, 40, 54, 67, 41, 77, 51, 77, 48, 56, 59, 56, 57, 43, 45, 43, 56, 56, 39, 54, 56, 56, 64, 44, 56, 63, 64, 60, 42, 45, 57, 40, 56, 63, 64, 41, 56, 67, 69, 67, 59, 58, 45, 60, 50, 62, 34, 52, 64, 66, 42, 59, 41, 38, 62, 42, 67, 50, 43, 45, 49, 65, 41, 46, 54, 57, 63, 64, 39, 51, 54, 49, 44, 52, 66, 58, 56, 60, 41, 49, 64, 49, 57, 60, 62, 54, 67, 38, 60, 51, 44, 54, 46, 39, 42, 47, 45, 55, 57, 35, 62, 35, 64, 38, 66, 44, 54, 48, 55, 58, 45, 53, 67, 58, 71, 43, 44, 39, 54, 66, 56, 57, 44, 55, 41, 45, 35, 41, 64, 58, 71, 64, 71, 58, 40, 52, 58, 61, 59, 56, 67, 67, 58, 35, 52, 46, 51, 55, 60, 52, 62, 44, 44, 59, 56, 61, 48, 70, 74, 40, 42, 64, 63, 59, 53, 53, 48, 45, 66, 48, 56, 54, 57, 70, 53, 37, 63, 37, 54, 60, 58, 57, 54, 56, 60, 38, 44, 65, 52, 41, 66, 50, 54, 43, 62, 66, 50, 57, 57, 57, 46, 59, 67, 59, 53, 48, 62, 43, 53, 57, 53, 58, 48, 58, 51, 43, 55, 54, 58, 46, 66, 59, 64, 67, 52, 58, 58, 59, 58, 35, 51, 42, 77, 64, 63, 58, 45, 51, 62, 63, 66, 68, 40, 66, 63, 49, 71, 70, 46, 61, 56, 58, 58, 46, 46, 41, 56, 57, 70, 59, 41, 54, 52, 62, 65, 57, 42, 57, 58, 45, 51, 54, 57, 43, 47, 67, 65, 60, 37, 41, 57, 59, 67, 47, 58, 62, 60, 57, 57, 47, 52, 53, 55, 51, 52, 63, 49, 66, 49, 65, 69, 47, 39, 43, 51, 69, 48, 52, 43, 67, 38, 44, 47, 61, 67, 60, 64, 58, 41, 48, 57, 57, 57, 39, 58, 51, 63, 51, 35, 65, 62, 41, 65, 54, 61, 57, 57, 64, 55, 51, 59, 68, 57, 54, 46, 71, 35, 46, 45, 47, 44, 61, 41, 56, 55, 54, 43, 44, 54, 44, 49, 60, 41, 49, 61, 59, 58, 67, 61, 58, 51, 62, 62, 59, 69, 60, 65, 63, 53, 54, 76, 50, 52, 46, 64, 58, 44, 62, 59, 54, 48, 70, 67, 51, 68, 69, 54, 43, 53, 58, 67, 59, 48, 39, 67, 58, 65, 42, 44, 56, 53, 50, 41, 54, 42, 54, 60, 34, 44, 60, 43, 52, 70, 62, 58, 46, 44, 55, 43, 55, 40, 64, 59, 61, 54, 74, 63, 70, 63, 64, 61, 59, 38, 58, 63, 62, 46, 58, 63, 47, 71, 66, 42, 64, 55, 43, 55, 58, 55, 51, 50, 43, 41, 49, 65, 57, 48, 62, 61, 59, 69, 58, 38, 69, 65, 45, 49, 45, 61, 52, 53, 59, 58, 65, 58, 46, 56, 64, 65, 44, 50, 47, 64, 71, 45, 62, 41, 66, 56, 41, 41, 57, 39, 64, 59, 61, 58, 47, 58, 66, 65, 35, 57, 29, 66, 61, 52, 68, 54, 63, 58, 60, 63, 41, 68, 42, 59, 59, 43, 60, 63, 52, 58, 56, 54, 58, 55, 53, 63, 39, 35, 50, 67, 66, 35, 41, 35, 71, 57, 51, 58, 57, 56, 60, 45, 56, 35, 45, 66, 51, 70, 55, 56, 55, 52, 64, 45, 67, 68, 74, 60, 48, 56, 46, 55, 44, 52, 51, 44, 52, 50, 59, 67, 58, 52, 44, 41, 63, 58, 60, 51, 64, 60, 44, 58, 55, 65, 48, 65, 51, 48, 64, 66, 46, 61, 57, 49, 56, 58, 63, 57, 57, 68, 46, 71, 41, 45, 62, 65, 48, 51, 61, 53, 59, 34, 44, 58, 64, 56, 54, 55, 67, 51, 62, 62, 54, 54, 68, 60, 61, 62, 41, 65, 59, 43, 67, 63, 63, 52, 58, 53, 57, 44, 51, 54, 40, 57, 62, 53, 62, 58, 70, 45, 42, 58, 61, 62, 60, 54, 61, 63, 42, 57, 44, 54, 51, 58, 68, 55, 42, 49, 53, 52, 51, 51, 70, 35, 58, 59, 60, 56, 35, 61, 58, 52, 58, 37, 52, 67, 65, 46, 68, 43, 68, 51, 52, 64, 59, 52, 59, 60, 41, 41, 56, 56, 48, 39, 64, 57, 59, 60, 61, 43, 54, 59, 57, 57, 57, 48, 70, 57, 61, 57, 60, 63, 55, 64, 54, 52, 51, 62, 59, 52, 42, 59, 61, 42, 62, 59, 55, 64, 42, 50, 62, 50, 50, 58, 35, 45, 66, 46, 65, 47, 59, 38, 39, 58, 44, 54, 61, 57, 54, 42, 54, 60, 65, 40, 51, 38, 42, 56, 43, 64, 53, 49, 57, 52, 69, 65, 66, 56, 67, 54, 70, 57, 67, 62, 54, 45, 53, 62, 49, 50, 65, 69, 52, 58, 52, 57, 44, 76, 58, 60, 53, 52, 38, 52, 52, 51, 43, 39, 63, 52, 44, 45, 57, 39, 67, 64, 59, 62, 55, 57, 60, 71, 56, 60, 50, 43, 59, 44, 56, 54, 42, 67, 64, 42, 66, 52, 51, 55, 58, 56, 42, 40, 51, 45, 48, 58, 44, 58, 65, 53, 41, 47, 59, 60, 47, 50, 54], \"xaxis\": \"x\", \"y\": [168, 155, 125, 161, 106, 122, 140, 145, 144, 116, 125, 136, 192, 122, 156, 192, 142, 109, 162, 165, 155, 142, 148, 172, 173, 146, 179, 152, 142, 117, 144, 162, 115, 112, 163, 147, 125, 182, 105, 150, 151, 147, 169, 144, 166, 178, 132, 165, 152, 160, 162, 123, 173, 139, 111, 111, 162, 180, 150, 164, 202, 152, 125, 157, 202, 159, 152, 125, 170, 145, 140, 138, 144, 162, 150, 156, 175, 144, 158, 158, 163, 126, 147, 173, 170, 170, 165, 143, 160, 141, 167, 163, 144, 144, 140, 152, 159, 95, 158, 116, 165, 173, 156, 156, 190, 118, 173, 103, 181, 108, 177, 111, 150, 143, 134, 146, 147, 120, 202, 162, 156, 144, 142, 157, 140, 171, 151, 152, 169, 148, 171, 149, 132, 163, 156, 146, 166, 154, 156, 153, 88, 136, 145, 174, 143, 114, 157, 158, 178, 182, 140, 195, 171, 147, 132, 156, 178, 147, 160, 182, 162, 143, 162, 166, 144, 140, 105, 163, 162, 138, 171, 103, 169, 179, 126, 133, 103, 96, 177, 150, 144, 144, 170, 150, 170, 124, 114, 144, 147, 131, 179, 163, 160, 131, 108, 157, 156, 185, 160, 126, 163, 174, 178, 155, 152, 178, 134, 179, 173, 103, 194, 125, 128, 162, 170, 171, 127, 182, 120, 116, 174, 147, 144, 179, 186, 165, 126, 149, 184, 165, 171, 178, 141, 163, 163, 155, 126, 141, 160, 154, 159, 150, 173, 155, 166, 188, 195, 120, 152, 150, 118, 138, 132, 124, 130, 157, 182, 154, 182, 151, 169, 165, 186, 166, 146, 148, 95, 71, 173, 130, 161, 173, 152, 108, 138, 103, 168, 188, 145, 168, 175, 174, 172, 144, 173, 130, 133, 162, 172, 181, 169, 130, 137, 157, 133, 125, 71, 111, 174, 172, 172, 154, 166, 142, 169, 99, 149, 170, 134, 153, 140, 150, 112, 121, 178, 178, 133, 172, 162, 115, 143, 139, 147, 120, 180, 153, 195, 112, 109, 115, 170, 169, 187, 158, 132, 111, 173, 152, 142, 144, 173, 169, 148, 162, 182, 120, 128, 167, 143, 97, 151, 126, 143, 126, 141, 152, 90, 108, 162, 115, 186, 146, 165, 173, 174, 173, 165, 168, 154, 123, 136, 132, 158, 160, 160, 138, 164, 122, 71, 190, 105, 173, 142, 111, 156, 123, 173, 162, 96, 150, 152, 132, 123, 145, 132, 152, 150, 114, 138, 150, 139, 125, 143, 172, 138, 142, 165, 156, 152, 147, 168, 144, 112, 109, 159, 172, 152, 169, 163, 151, 159, 122, 163, 152, 147, 142, 163, 174, 143, 152, 150, 114, 160, 187, 172, 163, 143, 129, 179, 160, 154, 170, 88, 174, 179, 184, 173, 145, 157, 160, 154, 162, 165, 162, 114, 131, 152, 152, 171, 186, 146, 175, 190, 161, 160, 173, 188, 118, 137, 108, 171, 133, 131, 168, 168, 173, 124, 150, 182, 131, 142, 154, 122, 174, 158, 103, 158, 127, 159, 137, 159, 174, 131, 132, 166, 161, 150, 164, 160, 160, 125, 182, 160, 175, 152, 149, 140, 172, 133, 117, 159, 120, 153, 108, 170, 139, 132, 168, 139, 161, 162, 144, 172, 161, 165, 149, 145, 163, 145, 131, 157, 148, 136, 160, 167, 116, 158, 172, 144, 155, 130, 180, 157, 162, 152, 168, 109, 142, 157, 151, 146, 116, 136, 152, 156, 163, 162, 186, 179, 71, 131, 148, 173, 153, 105, 160, 159, 168, 163, 194, 170, 142, 174, 153, 141, 171, 178, 109, 157, 105, 156, 180, 155, 120, 132, 178, 131, 90, 146, 116, 121, 169, 112, 169, 132, 161, 164, 173, 160, 179, 97, 120, 172, 179, 179, 130, 132, 125, 132, 117, 136, 130, 146, 111, 142, 158, 181, 163, 171, 158, 88, 150, 106, 145, 145, 146, 173, 182, 151, 174, 132, 171, 175, 125, 168, 143, 143, 172, 174, 131, 152, 150, 105, 140, 169, 128, 152, 122, 125, 175, 99, 182, 114, 103, 163, 153, 174, 152, 131, 182, 125, 140, 143, 122, 114, 157, 174, 141, 202, 120, 169, 168, 151, 147, 132, 156, 144, 147, 172, 150, 162, 140, 90, 120, 155, 154, 156, 171, 133, 170, 154, 161, 155, 179, 140, 156, 158, 150, 132, 156, 168, 130, 162, 126, 154, 131, 150, 153, 96, 132, 163, 130, 138, 114, 125, 143, 130, 142, 161, 147, 158, 185, 172, 115, 121, 157, 166, 163, 120, 161, 170, 160, 154, 175, 156, 163, 142, 129, 171, 161, 180, 172, 132, 144, 160, 143, 158, 160, 169, 144, 155, 151, 180, 140, 149, 175, 96, 138, 172, 169, 112, 163, 163, 162, 144, 143, 143, 141, 156, 130, 132, 152, 154, 114, 139, 143, 146, 95, 162, 192, 144, 105, 122, 169, 165, 145, 163, 122, 106, 103, 126, 126, 141, 96, 145, 140, 132, 114, 159, 181, 129, 150, 136, 160, 131, 111, 112, 179, 154, 158, 114, 141, 160, 155, 140, 154, 143, 185, 178, 146, 138, 160, 144, 160, 125, 172, 150, 150, 179, 109, 143, 144, 151, 111, 125, 126, 160, 162, 125, 186, 125, 182, 165, 125, 170, 105, 182, 125, 162, 161, 160, 187, 161, 129, 174, 156, 115, 181, 115, 173, 160, 158, 159, 168, 125, 171, 179, 153, 169, 178, 139, 182, 155, 148, 125, 132, 138, 165, 113, 182, 168, 164, 115, 166, 125, 124, 140, 126, 157, 154, 130, 154, 126, 156, 173, 97, 145, 158, 122, 161, 145, 122, 160, 134, 155, 96, 178, 162, 99, 126, 163, 152, 130, 148, 132, 144, 127, 179, 162, 182, 140, 105, 173, 160, 169, 115, 108, 194, 109, 132, 127, 181, 142, 182, 150, 169, 162, 158, 111, 162, 123, 169, 151, 140, 165, 162, 172, 163, 125, 168, 108, 97, 170, 152, 143, 146, 163, 163, 157, 151, 169, 122, 147, 123, 175, 116, 130, 96, 155, 172, 173, 162, 190, 166, 161, 140, 169, 184, 177, 147, 148, 140, 142, 105, 161, 146, 117, 164, 170, 162, 178, 160, 159, 143, 142, 173, 150, 113, 125, 163, 132, 178, 132, 147, 142, 130, 165, 162, 162, 181, 173, 170, 168, 140, 175, 131, 174, 95, 158, 143, 164, 141, 118, 159, 113], \"yaxis\": \"y\"}],                        {\"coloraxis\": {\"colorbar\": {\"title\": {\"text\": \"Heart Disease Presence\"}}, \"colorscale\": [[0.0, \"#0d0887\"], [0.1111111111111111, \"#46039f\"], [0.2222222222222222, \"#7201a8\"], [0.3333333333333333, \"#9c179e\"], [0.4444444444444444, \"#bd3786\"], [0.5555555555555556, \"#d8576b\"], [0.6666666666666666, \"#ed7953\"], [0.7777777777777778, \"#fb9f3a\"], [0.8888888888888888, \"#fdca26\"], [1.0, \"#f0f921\"]]}, \"legend\": {\"tracegroupgap\": 0}, \"template\": {\"data\": {\"bar\": [{\"error_x\": {\"color\": \"#2a3f5f\"}, \"error_y\": {\"color\": \"#2a3f5f\"}, \"marker\": {\"line\": {\"color\": \"#E5ECF6\", \"width\": 0.5}}, \"type\": \"bar\"}], \"barpolar\": [{\"marker\": {\"line\": {\"color\": \"#E5ECF6\", \"width\": 0.5}}, \"type\": \"barpolar\"}], \"carpet\": [{\"aaxis\": {\"endlinecolor\": \"#2a3f5f\", \"gridcolor\": \"white\", \"linecolor\": \"white\", \"minorgridcolor\": \"white\", \"startlinecolor\": \"#2a3f5f\"}, \"baxis\": {\"endlinecolor\": \"#2a3f5f\", \"gridcolor\": \"white\", \"linecolor\": \"white\", \"minorgridcolor\": \"white\", \"startlinecolor\": \"#2a3f5f\"}, \"type\": \"carpet\"}], \"choropleth\": [{\"colorbar\": {\"outlinewidth\": 0, \"ticks\": \"\"}, \"type\": \"choropleth\"}], \"contour\": [{\"colorbar\": {\"outlinewidth\": 0, \"ticks\": \"\"}, \"colorscale\": [[0.0, \"#0d0887\"], [0.1111111111111111, \"#46039f\"], [0.2222222222222222, \"#7201a8\"], [0.3333333333333333, \"#9c179e\"], [0.4444444444444444, \"#bd3786\"], [0.5555555555555556, \"#d8576b\"], [0.6666666666666666, \"#ed7953\"], [0.7777777777777778, \"#fb9f3a\"], [0.8888888888888888, \"#fdca26\"], [1.0, \"#f0f921\"]], \"type\": \"contour\"}], \"contourcarpet\": [{\"colorbar\": {\"outlinewidth\": 0, \"ticks\": \"\"}, \"type\": \"contourcarpet\"}], \"heatmap\": [{\"colorbar\": {\"outlinewidth\": 0, \"ticks\": \"\"}, \"colorscale\": [[0.0, \"#0d0887\"], [0.1111111111111111, \"#46039f\"], [0.2222222222222222, \"#7201a8\"], [0.3333333333333333, \"#9c179e\"], [0.4444444444444444, \"#bd3786\"], [0.5555555555555556, \"#d8576b\"], [0.6666666666666666, \"#ed7953\"], [0.7777777777777778, \"#fb9f3a\"], [0.8888888888888888, \"#fdca26\"], [1.0, \"#f0f921\"]], \"type\": \"heatmap\"}], \"heatmapgl\": [{\"colorbar\": {\"outlinewidth\": 0, \"ticks\": \"\"}, \"colorscale\": [[0.0, \"#0d0887\"], [0.1111111111111111, \"#46039f\"], [0.2222222222222222, \"#7201a8\"], [0.3333333333333333, \"#9c179e\"], [0.4444444444444444, \"#bd3786\"], [0.5555555555555556, \"#d8576b\"], [0.6666666666666666, \"#ed7953\"], [0.7777777777777778, \"#fb9f3a\"], [0.8888888888888888, \"#fdca26\"], [1.0, \"#f0f921\"]], \"type\": \"heatmapgl\"}], \"histogram\": [{\"marker\": {\"colorbar\": {\"outlinewidth\": 0, \"ticks\": \"\"}}, \"type\": \"histogram\"}], \"histogram2d\": [{\"colorbar\": {\"outlinewidth\": 0, \"ticks\": \"\"}, \"colorscale\": [[0.0, \"#0d0887\"], [0.1111111111111111, \"#46039f\"], [0.2222222222222222, \"#7201a8\"], [0.3333333333333333, \"#9c179e\"], [0.4444444444444444, \"#bd3786\"], [0.5555555555555556, \"#d8576b\"], [0.6666666666666666, \"#ed7953\"], [0.7777777777777778, \"#fb9f3a\"], [0.8888888888888888, \"#fdca26\"], [1.0, \"#f0f921\"]], \"type\": \"histogram2d\"}], \"histogram2dcontour\": [{\"colorbar\": {\"outlinewidth\": 0, \"ticks\": \"\"}, \"colorscale\": [[0.0, \"#0d0887\"], [0.1111111111111111, \"#46039f\"], [0.2222222222222222, \"#7201a8\"], [0.3333333333333333, \"#9c179e\"], [0.4444444444444444, \"#bd3786\"], [0.5555555555555556, \"#d8576b\"], [0.6666666666666666, \"#ed7953\"], [0.7777777777777778, \"#fb9f3a\"], [0.8888888888888888, \"#fdca26\"], [1.0, \"#f0f921\"]], \"type\": \"histogram2dcontour\"}], \"mesh3d\": [{\"colorbar\": {\"outlinewidth\": 0, \"ticks\": \"\"}, \"type\": \"mesh3d\"}], \"parcoords\": [{\"line\": {\"colorbar\": {\"outlinewidth\": 0, \"ticks\": \"\"}}, \"type\": \"parcoords\"}], \"pie\": [{\"automargin\": true, \"type\": \"pie\"}], \"scatter\": [{\"marker\": {\"colorbar\": {\"outlinewidth\": 0, \"ticks\": \"\"}}, \"type\": \"scatter\"}], \"scatter3d\": [{\"line\": {\"colorbar\": {\"outlinewidth\": 0, \"ticks\": \"\"}}, \"marker\": {\"colorbar\": {\"outlinewidth\": 0, \"ticks\": \"\"}}, \"type\": \"scatter3d\"}], \"scattercarpet\": [{\"marker\": {\"colorbar\": {\"outlinewidth\": 0, \"ticks\": \"\"}}, \"type\": \"scattercarpet\"}], \"scattergeo\": [{\"marker\": {\"colorbar\": {\"outlinewidth\": 0, \"ticks\": \"\"}}, \"type\": \"scattergeo\"}], \"scattergl\": [{\"marker\": {\"colorbar\": {\"outlinewidth\": 0, \"ticks\": \"\"}}, \"type\": \"scattergl\"}], \"scattermapbox\": [{\"marker\": {\"colorbar\": {\"outlinewidth\": 0, \"ticks\": \"\"}}, \"type\": \"scattermapbox\"}], \"scatterpolar\": [{\"marker\": {\"colorbar\": {\"outlinewidth\": 0, \"ticks\": \"\"}}, \"type\": \"scatterpolar\"}], \"scatterpolargl\": [{\"marker\": {\"colorbar\": {\"outlinewidth\": 0, \"ticks\": \"\"}}, \"type\": \"scatterpolargl\"}], \"scatterternary\": [{\"marker\": {\"colorbar\": {\"outlinewidth\": 0, \"ticks\": \"\"}}, \"type\": \"scatterternary\"}], \"surface\": [{\"colorbar\": {\"outlinewidth\": 0, \"ticks\": \"\"}, \"colorscale\": [[0.0, \"#0d0887\"], [0.1111111111111111, \"#46039f\"], [0.2222222222222222, \"#7201a8\"], [0.3333333333333333, \"#9c179e\"], [0.4444444444444444, \"#bd3786\"], [0.5555555555555556, \"#d8576b\"], [0.6666666666666666, \"#ed7953\"], [0.7777777777777778, \"#fb9f3a\"], [0.8888888888888888, \"#fdca26\"], [1.0, \"#f0f921\"]], \"type\": \"surface\"}], \"table\": [{\"cells\": {\"fill\": {\"color\": \"#EBF0F8\"}, \"line\": {\"color\": \"white\"}}, \"header\": {\"fill\": {\"color\": \"#C8D4E3\"}, \"line\": {\"color\": \"white\"}}, \"type\": \"table\"}]}, \"layout\": {\"annotationdefaults\": {\"arrowcolor\": \"#2a3f5f\", \"arrowhead\": 0, \"arrowwidth\": 1}, \"autotypenumbers\": \"strict\", \"coloraxis\": {\"colorbar\": {\"outlinewidth\": 0, \"ticks\": \"\"}}, \"colorscale\": {\"diverging\": [[0, \"#8e0152\"], [0.1, \"#c51b7d\"], [0.2, \"#de77ae\"], [0.3, \"#f1b6da\"], [0.4, \"#fde0ef\"], [0.5, \"#f7f7f7\"], [0.6, \"#e6f5d0\"], [0.7, \"#b8e186\"], [0.8, \"#7fbc41\"], [0.9, \"#4d9221\"], [1, \"#276419\"]], \"sequential\": [[0.0, \"#0d0887\"], [0.1111111111111111, \"#46039f\"], [0.2222222222222222, \"#7201a8\"], [0.3333333333333333, \"#9c179e\"], [0.4444444444444444, \"#bd3786\"], [0.5555555555555556, \"#d8576b\"], [0.6666666666666666, \"#ed7953\"], [0.7777777777777778, \"#fb9f3a\"], [0.8888888888888888, \"#fdca26\"], [1.0, \"#f0f921\"]], \"sequentialminus\": [[0.0, \"#0d0887\"], [0.1111111111111111, \"#46039f\"], [0.2222222222222222, \"#7201a8\"], [0.3333333333333333, \"#9c179e\"], [0.4444444444444444, \"#bd3786\"], [0.5555555555555556, \"#d8576b\"], [0.6666666666666666, \"#ed7953\"], [0.7777777777777778, \"#fb9f3a\"], [0.8888888888888888, \"#fdca26\"], [1.0, \"#f0f921\"]]}, \"colorway\": [\"#636efa\", \"#EF553B\", \"#00cc96\", \"#ab63fa\", \"#FFA15A\", \"#19d3f3\", \"#FF6692\", \"#B6E880\", \"#FF97FF\", \"#FECB52\"], \"font\": {\"color\": \"#2a3f5f\"}, \"geo\": {\"bgcolor\": \"white\", \"lakecolor\": \"white\", \"landcolor\": \"#E5ECF6\", \"showlakes\": true, \"showland\": true, \"subunitcolor\": \"white\"}, \"hoverlabel\": {\"align\": \"left\"}, \"hovermode\": \"closest\", \"mapbox\": {\"style\": \"light\"}, \"paper_bgcolor\": \"white\", \"plot_bgcolor\": \"#E5ECF6\", \"polar\": {\"angularaxis\": {\"gridcolor\": \"white\", \"linecolor\": \"white\", \"ticks\": \"\"}, \"bgcolor\": \"#E5ECF6\", \"radialaxis\": {\"gridcolor\": \"white\", \"linecolor\": \"white\", \"ticks\": \"\"}}, \"scene\": {\"xaxis\": {\"backgroundcolor\": \"#E5ECF6\", \"gridcolor\": \"white\", \"gridwidth\": 2, \"linecolor\": \"white\", \"showbackground\": true, \"ticks\": \"\", \"zerolinecolor\": \"white\"}, \"yaxis\": {\"backgroundcolor\": \"#E5ECF6\", \"gridcolor\": \"white\", \"gridwidth\": 2, \"linecolor\": \"white\", \"showbackground\": true, \"ticks\": \"\", \"zerolinecolor\": \"white\"}, \"zaxis\": {\"backgroundcolor\": \"#E5ECF6\", \"gridcolor\": \"white\", \"gridwidth\": 2, \"linecolor\": \"white\", \"showbackground\": true, \"ticks\": \"\", \"zerolinecolor\": \"white\"}}, \"shapedefaults\": {\"line\": {\"color\": \"#2a3f5f\"}}, \"ternary\": {\"aaxis\": {\"gridcolor\": \"white\", \"linecolor\": \"white\", \"ticks\": \"\"}, \"baxis\": {\"gridcolor\": \"white\", \"linecolor\": \"white\", \"ticks\": \"\"}, \"bgcolor\": \"#E5ECF6\", \"caxis\": {\"gridcolor\": \"white\", \"linecolor\": \"white\", \"ticks\": \"\"}}, \"title\": {\"x\": 0.05}, \"xaxis\": {\"automargin\": true, \"gridcolor\": \"white\", \"linecolor\": \"white\", \"ticks\": \"\", \"title\": {\"standoff\": 15}, \"zerolinecolor\": \"white\", \"zerolinewidth\": 2}, \"yaxis\": {\"automargin\": true, \"gridcolor\": \"white\", \"linecolor\": \"white\", \"ticks\": \"\", \"title\": {\"standoff\": 15}, \"zerolinecolor\": \"white\", \"zerolinewidth\": 2}}}, \"title\": {\"text\": \"Age vs. Heart Rate\"}, \"xaxis\": {\"anchor\": \"y\", \"domain\": [0.0, 1.0], \"title\": {\"text\": \"Age\"}}, \"yaxis\": {\"anchor\": \"x\", \"domain\": [0.0, 1.0], \"title\": {\"text\": \"Heart Rate\"}}},                        {\"responsive\": true}                    ).then(function(){\n",
       "                            \n",
       "var gd = document.getElementById('8e1643ae-55d3-4935-8d7c-64ad6c22a681');\n",
       "var x = new MutationObserver(function (mutations, observer) {{\n",
       "        var display = window.getComputedStyle(gd).display;\n",
       "        if (!display || display === 'none') {{\n",
       "            console.log([gd, 'removed!']);\n",
       "            Plotly.purge(gd);\n",
       "            observer.disconnect();\n",
       "        }}\n",
       "}});\n",
       "\n",
       "// Listen for the removal of the full notebook cells\n",
       "var notebookContainer = gd.closest('#notebook-container');\n",
       "if (notebookContainer) {{\n",
       "    x.observe(notebookContainer, {childList: true});\n",
       "}}\n",
       "\n",
       "// Listen for the clearing of the current output cell\n",
       "var outputEl = gd.closest('.output');\n",
       "if (outputEl) {{\n",
       "    x.observe(outputEl, {childList: true});\n",
       "}}\n",
       "\n",
       "                        })                };                });            </script>        </div>"
      ]
     },
     "metadata": {},
     "output_type": "display_data"
    }
   ],
   "source": [
    "# Create a scatter plot using Plotly Express\n",
    "fig = px.scatter(heart, x=\"age\", y=\"thalach\", color=\"disease\", title=\"Age vs. Heart Rate\", labels={\"age\": \"Age\", \"thalach\": \"Heart Rate\", \"disease\": \"Heart Disease Presence\"})\n",
    "\n",
    "# Customize legend labels\n",
    "fig.for_each_trace(lambda trace: trace.update(name=\"No\" if trace.name == 0 else \"Yes\"))\n",
    "\n",
    "# Set axis labels\n",
    "fig.update_xaxes(title_text=\"Age\")\n",
    "fig.update_yaxes(title_text=\"Heart Rate\")\n",
    "\n",
    "fig.show()"
   ]
  },
  {
   "cell_type": "markdown",
   "id": "a5e71a15",
   "metadata": {},
   "source": [
    "The scatter plot suggests that age and maximum heart rate may have an association with heart disease.\n",
    "It appears that as individuals age, those with heart disease tend to have lower maximum heart rates compared to those without heart disease."
   ]
  },
  {
   "cell_type": "code",
   "execution_count": 58,
   "id": "f7ae8ee9",
   "metadata": {},
   "outputs": [
    {
     "data": {
      "application/vnd.plotly.v1+json": {
       "config": {
        "plotlyServerURL": "https://plot.ly"
       },
       "data": [
        {
         "dimensions": [
          {
           "axis": {
            "matches": true
           },
           "label": "age",
           "values": [
            52,
            53,
            70,
            61,
            62,
            58,
            58,
            55,
            46,
            54,
            71,
            43,
            34,
            51,
            52,
            34,
            51,
            54,
            50,
            58,
            60,
            67,
            45,
            63,
            42,
            61,
            44,
            58,
            56,
            55,
            44,
            50,
            57,
            70,
            50,
            46,
            51,
            59,
            64,
            57,
            65,
            54,
            61,
            46,
            55,
            42,
            41,
            66,
            66,
            60,
            58,
            57,
            38,
            49,
            55,
            55,
            56,
            48,
            67,
            57,
            29,
            66,
            67,
            59,
            29,
            59,
            53,
            42,
            37,
            62,
            59,
            61,
            56,
            59,
            48,
            47,
            48,
            63,
            52,
            52,
            50,
            49,
            46,
            38,
            37,
            44,
            58,
            59,
            62,
            68,
            54,
            62,
            63,
            44,
            62,
            45,
            57,
            53,
            65,
            76,
            43,
            57,
            54,
            47,
            52,
            47,
            51,
            62,
            40,
            54,
            44,
            53,
            48,
            57,
            59,
            61,
            63,
            43,
            29,
            42,
            54,
            44,
            60,
            65,
            61,
            60,
            66,
            53,
            52,
            57,
            60,
            51,
            41,
            50,
            54,
            58,
            55,
            64,
            47,
            41,
            57,
            63,
            61,
            34,
            47,
            40,
            51,
            41,
            52,
            39,
            58,
            54,
            58,
            54,
            63,
            54,
            40,
            54,
            67,
            41,
            77,
            51,
            77,
            48,
            56,
            59,
            56,
            57,
            43,
            45,
            43,
            56,
            56,
            39,
            54,
            56,
            56,
            64,
            44,
            56,
            63,
            64,
            60,
            42,
            45,
            57,
            40,
            56,
            63,
            64,
            41,
            56,
            67,
            69,
            67,
            59,
            58,
            45,
            60,
            50,
            62,
            34,
            52,
            64,
            66,
            42,
            59,
            41,
            38,
            62,
            42,
            67,
            50,
            43,
            45,
            49,
            65,
            41,
            46,
            54,
            57,
            63,
            64,
            39,
            51,
            54,
            49,
            44,
            52,
            66,
            58,
            56,
            60,
            41,
            49,
            64,
            49,
            57,
            60,
            62,
            54,
            67,
            38,
            60,
            51,
            44,
            54,
            46,
            39,
            42,
            47,
            45,
            55,
            57,
            35,
            62,
            35,
            64,
            38,
            66,
            44,
            54,
            48,
            55,
            58,
            45,
            53,
            67,
            58,
            71,
            43,
            44,
            39,
            54,
            66,
            56,
            57,
            44,
            55,
            41,
            45,
            35,
            41,
            64,
            58,
            71,
            64,
            71,
            58,
            40,
            52,
            58,
            61,
            59,
            56,
            67,
            67,
            58,
            35,
            52,
            46,
            51,
            55,
            60,
            52,
            62,
            44,
            44,
            59,
            56,
            61,
            48,
            70,
            74,
            40,
            42,
            64,
            63,
            59,
            53,
            53,
            48,
            45,
            66,
            48,
            56,
            54,
            57,
            70,
            53,
            37,
            63,
            37,
            54,
            60,
            58,
            57,
            54,
            56,
            60,
            38,
            44,
            65,
            52,
            41,
            66,
            50,
            54,
            43,
            62,
            66,
            50,
            57,
            57,
            57,
            46,
            59,
            67,
            59,
            53,
            48,
            62,
            43,
            53,
            57,
            53,
            58,
            48,
            58,
            51,
            43,
            55,
            54,
            58,
            46,
            66,
            59,
            64,
            67,
            52,
            58,
            58,
            59,
            58,
            35,
            51,
            42,
            77,
            64,
            63,
            58,
            45,
            51,
            62,
            63,
            66,
            68,
            40,
            66,
            63,
            49,
            71,
            70,
            46,
            61,
            56,
            58,
            58,
            46,
            46,
            41,
            56,
            57,
            70,
            59,
            41,
            54,
            52,
            62,
            65,
            57,
            42,
            57,
            58,
            45,
            51,
            54,
            57,
            43,
            47,
            67,
            65,
            60,
            37,
            41,
            57,
            59,
            67,
            47,
            58,
            62,
            60,
            57,
            57,
            47,
            52,
            53,
            55,
            51,
            52,
            63,
            49,
            66,
            49,
            65,
            69,
            47,
            39,
            43,
            51,
            69,
            48,
            52,
            43,
            67,
            38,
            44,
            47,
            61,
            67,
            60,
            64,
            58,
            41,
            48,
            57,
            57,
            57,
            39,
            58,
            51,
            63,
            51,
            35,
            65,
            62,
            41,
            65,
            54,
            61,
            57,
            57,
            64,
            55,
            51,
            59,
            68,
            57,
            54,
            46,
            71,
            35,
            46,
            45,
            47,
            44,
            61,
            41,
            56,
            55,
            54,
            43,
            44,
            54,
            44,
            49,
            60,
            41,
            49,
            61,
            59,
            58,
            67,
            61,
            58,
            51,
            62,
            62,
            59,
            69,
            60,
            65,
            63,
            53,
            54,
            76,
            50,
            52,
            46,
            64,
            58,
            44,
            62,
            59,
            54,
            48,
            70,
            67,
            51,
            68,
            69,
            54,
            43,
            53,
            58,
            67,
            59,
            48,
            39,
            67,
            58,
            65,
            42,
            44,
            56,
            53,
            50,
            41,
            54,
            42,
            54,
            60,
            34,
            44,
            60,
            43,
            52,
            70,
            62,
            58,
            46,
            44,
            55,
            43,
            55,
            40,
            64,
            59,
            61,
            54,
            74,
            63,
            70,
            63,
            64,
            61,
            59,
            38,
            58,
            63,
            62,
            46,
            58,
            63,
            47,
            71,
            66,
            42,
            64,
            55,
            43,
            55,
            58,
            55,
            51,
            50,
            43,
            41,
            49,
            65,
            57,
            48,
            62,
            61,
            59,
            69,
            58,
            38,
            69,
            65,
            45,
            49,
            45,
            61,
            52,
            53,
            59,
            58,
            65,
            58,
            46,
            56,
            64,
            65,
            44,
            50,
            47,
            64,
            71,
            45,
            62,
            41,
            66,
            56,
            41,
            41,
            57,
            39,
            64,
            59,
            61,
            58,
            47,
            58,
            66,
            65,
            35,
            57,
            29,
            66,
            61,
            52,
            68,
            54,
            63,
            58,
            60,
            63,
            41,
            68,
            42,
            59,
            59,
            43,
            60,
            63,
            52,
            58,
            56,
            54,
            58,
            55,
            53,
            63,
            39,
            35,
            50,
            67,
            66,
            35,
            41,
            35,
            71,
            57,
            51,
            58,
            57,
            56,
            60,
            45,
            56,
            35,
            45,
            66,
            51,
            70,
            55,
            56,
            55,
            52,
            64,
            45,
            67,
            68,
            74,
            60,
            48,
            56,
            46,
            55,
            44,
            52,
            51,
            44,
            52,
            50,
            59,
            67,
            58,
            52,
            44,
            41,
            63,
            58,
            60,
            51,
            64,
            60,
            44,
            58,
            55,
            65,
            48,
            65,
            51,
            48,
            64,
            66,
            46,
            61,
            57,
            49,
            56,
            58,
            63,
            57,
            57,
            68,
            46,
            71,
            41,
            45,
            62,
            65,
            48,
            51,
            61,
            53,
            59,
            34,
            44,
            58,
            64,
            56,
            54,
            55,
            67,
            51,
            62,
            62,
            54,
            54,
            68,
            60,
            61,
            62,
            41,
            65,
            59,
            43,
            67,
            63,
            63,
            52,
            58,
            53,
            57,
            44,
            51,
            54,
            40,
            57,
            62,
            53,
            62,
            58,
            70,
            45,
            42,
            58,
            61,
            62,
            60,
            54,
            61,
            63,
            42,
            57,
            44,
            54,
            51,
            58,
            68,
            55,
            42,
            49,
            53,
            52,
            51,
            51,
            70,
            35,
            58,
            59,
            60,
            56,
            35,
            61,
            58,
            52,
            58,
            37,
            52,
            67,
            65,
            46,
            68,
            43,
            68,
            51,
            52,
            64,
            59,
            52,
            59,
            60,
            41,
            41,
            56,
            56,
            48,
            39,
            64,
            57,
            59,
            60,
            61,
            43,
            54,
            59,
            57,
            57,
            57,
            48,
            70,
            57,
            61,
            57,
            60,
            63,
            55,
            64,
            54,
            52,
            51,
            62,
            59,
            52,
            42,
            59,
            61,
            42,
            62,
            59,
            55,
            64,
            42,
            50,
            62,
            50,
            50,
            58,
            35,
            45,
            66,
            46,
            65,
            47,
            59,
            38,
            39,
            58,
            44,
            54,
            61,
            57,
            54,
            42,
            54,
            60,
            65,
            40,
            51,
            38,
            42,
            56,
            43,
            64,
            53,
            49,
            57,
            52,
            69,
            65,
            66,
            56,
            67,
            54,
            70,
            57,
            67,
            62,
            54,
            45,
            53,
            62,
            49,
            50,
            65,
            69,
            52,
            58,
            52,
            57,
            44,
            76,
            58,
            60,
            53,
            52,
            38,
            52,
            52,
            51,
            43,
            39,
            63,
            52,
            44,
            45,
            57,
            39,
            67,
            64,
            59,
            62,
            55,
            57,
            60,
            71,
            56,
            60,
            50,
            43,
            59,
            44,
            56,
            54,
            42,
            67,
            64,
            42,
            66,
            52,
            51,
            55,
            58,
            56,
            42,
            40,
            51,
            45,
            48,
            58,
            44,
            58,
            65,
            53,
            41,
            47,
            59,
            60,
            47,
            50,
            54
           ]
          },
          {
           "axis": {
            "matches": true
           },
           "label": "sex",
           "values": [
            1,
            1,
            1,
            1,
            0,
            0,
            1,
            1,
            1,
            1,
            0,
            0,
            0,
            1,
            1,
            0,
            0,
            1,
            0,
            1,
            1,
            0,
            1,
            0,
            0,
            0,
            1,
            0,
            1,
            0,
            1,
            0,
            1,
            1,
            1,
            1,
            1,
            1,
            1,
            1,
            0,
            1,
            0,
            1,
            0,
            1,
            1,
            0,
            0,
            1,
            0,
            0,
            1,
            1,
            1,
            1,
            1,
            1,
            1,
            1,
            1,
            0,
            1,
            1,
            1,
            1,
            1,
            1,
            0,
            0,
            1,
            1,
            1,
            1,
            1,
            1,
            1,
            1,
            1,
            1,
            1,
            1,
            1,
            1,
            0,
            1,
            1,
            0,
            0,
            1,
            0,
            0,
            1,
            1,
            1,
            0,
            0,
            1,
            1,
            0,
            0,
            1,
            1,
            1,
            1,
            1,
            1,
            1,
            1,
            1,
            1,
            1,
            1,
            1,
            1,
            0,
            1,
            1,
            1,
            1,
            1,
            1,
            1,
            0,
            1,
            0,
            1,
            1,
            1,
            1,
            0,
            0,
            1,
            1,
            1,
            0,
            0,
            0,
            1,
            1,
            1,
            0,
            1,
            1,
            1,
            1,
            0,
            1,
            1,
            1,
            1,
            1,
            1,
            1,
            1,
            1,
            1,
            1,
            0,
            1,
            1,
            1,
            1,
            1,
            1,
            1,
            1,
            0,
            1,
            0,
            1,
            1,
            1,
            0,
            1,
            0,
            1,
            1,
            1,
            0,
            1,
            1,
            1,
            1,
            1,
            1,
            1,
            1,
            1,
            1,
            1,
            1,
            0,
            1,
            1,
            1,
            1,
            1,
            0,
            1,
            0,
            1,
            1,
            1,
            0,
            1,
            1,
            1,
            1,
            1,
            1,
            1,
            1,
            1,
            1,
            1,
            1,
            1,
            1,
            1,
            0,
            1,
            1,
            0,
            1,
            1,
            1,
            0,
            1,
            0,
            1,
            1,
            1,
            0,
            0,
            1,
            1,
            1,
            1,
            0,
            0,
            1,
            1,
            1,
            1,
            1,
            1,
            1,
            0,
            1,
            1,
            0,
            1,
            1,
            1,
            0,
            0,
            0,
            1,
            1,
            1,
            1,
            1,
            0,
            0,
            1,
            1,
            1,
            1,
            0,
            1,
            1,
            0,
            1,
            1,
            1,
            1,
            1,
            1,
            0,
            0,
            1,
            0,
            1,
            1,
            0,
            0,
            0,
            0,
            1,
            1,
            1,
            1,
            1,
            0,
            1,
            1,
            1,
            1,
            1,
            0,
            1,
            0,
            1,
            0,
            1,
            0,
            1,
            1,
            0,
            1,
            1,
            1,
            0,
            1,
            1,
            0,
            0,
            1,
            0,
            0,
            0,
            1,
            1,
            1,
            0,
            1,
            1,
            1,
            0,
            0,
            0,
            1,
            0,
            1,
            1,
            1,
            1,
            1,
            1,
            1,
            1,
            0,
            1,
            1,
            1,
            1,
            0,
            1,
            0,
            1,
            1,
            1,
            1,
            1,
            0,
            1,
            1,
            1,
            0,
            1,
            1,
            0,
            1,
            0,
            1,
            1,
            1,
            1,
            1,
            0,
            1,
            0,
            1,
            0,
            1,
            1,
            0,
            1,
            1,
            1,
            1,
            1,
            1,
            1,
            1,
            0,
            1,
            1,
            1,
            0,
            1,
            1,
            0,
            1,
            0,
            1,
            1,
            1,
            1,
            1,
            0,
            1,
            0,
            1,
            1,
            1,
            1,
            0,
            1,
            0,
            1,
            1,
            1,
            1,
            0,
            1,
            1,
            0,
            0,
            0,
            0,
            0,
            0,
            1,
            0,
            0,
            1,
            1,
            1,
            1,
            0,
            0,
            1,
            0,
            0,
            0,
            1,
            1,
            1,
            0,
            1,
            1,
            1,
            1,
            1,
            1,
            1,
            0,
            1,
            0,
            0,
            0,
            0,
            0,
            1,
            1,
            0,
            1,
            1,
            1,
            1,
            1,
            1,
            0,
            1,
            1,
            1,
            1,
            1,
            0,
            0,
            0,
            1,
            1,
            1,
            1,
            1,
            1,
            1,
            0,
            0,
            1,
            1,
            1,
            1,
            1,
            1,
            0,
            1,
            0,
            1,
            1,
            1,
            1,
            1,
            1,
            1,
            1,
            0,
            0,
            0,
            0,
            0,
            1,
            0,
            1,
            0,
            0,
            0,
            0,
            1,
            1,
            1,
            1,
            1,
            1,
            0,
            1,
            1,
            1,
            1,
            0,
            1,
            1,
            0,
            0,
            0,
            1,
            1,
            0,
            0,
            0,
            0,
            0,
            0,
            0,
            1,
            1,
            1,
            1,
            1,
            0,
            1,
            1,
            1,
            1,
            0,
            0,
            1,
            1,
            1,
            0,
            1,
            1,
            1,
            1,
            1,
            0,
            1,
            0,
            0,
            0,
            1,
            1,
            0,
            0,
            1,
            0,
            1,
            0,
            1,
            1,
            1,
            1,
            1,
            1,
            1,
            0,
            1,
            1,
            1,
            1,
            1,
            1,
            1,
            1,
            1,
            0,
            1,
            0,
            0,
            1,
            0,
            1,
            1,
            1,
            1,
            1,
            0,
            0,
            1,
            0,
            0,
            1,
            0,
            1,
            1,
            1,
            0,
            0,
            0,
            0,
            1,
            0,
            0,
            1,
            0,
            1,
            1,
            1,
            1,
            0,
            1,
            1,
            1,
            1,
            1,
            0,
            1,
            1,
            1,
            0,
            1,
            1,
            0,
            0,
            0,
            1,
            0,
            0,
            0,
            1,
            1,
            1,
            1,
            1,
            0,
            0,
            0,
            1,
            1,
            0,
            1,
            0,
            1,
            0,
            0,
            1,
            1,
            1,
            1,
            1,
            0,
            0,
            0,
            1,
            1,
            1,
            1,
            0,
            1,
            1,
            1,
            1,
            1,
            1,
            1,
            0,
            1,
            1,
            1,
            1,
            1,
            1,
            0,
            1,
            1,
            0,
            0,
            1,
            0,
            1,
            0,
            1,
            1,
            0,
            1,
            1,
            1,
            1,
            1,
            0,
            1,
            1,
            1,
            1,
            0,
            0,
            1,
            1,
            1,
            0,
            0,
            1,
            1,
            0,
            1,
            0,
            1,
            1,
            1,
            0,
            0,
            0,
            0,
            1,
            1,
            1,
            0,
            1,
            1,
            1,
            0,
            1,
            1,
            1,
            1,
            1,
            1,
            1,
            0,
            1,
            1,
            0,
            1,
            1,
            1,
            1,
            1,
            1,
            0,
            1,
            1,
            0,
            1,
            1,
            1,
            0,
            0,
            1,
            0,
            1,
            0,
            1,
            1,
            1,
            1,
            1,
            0,
            1,
            0,
            0,
            0,
            0,
            1,
            0,
            1,
            1,
            0,
            1,
            1,
            0,
            1,
            1,
            1,
            1,
            1,
            0,
            1,
            1,
            1,
            1,
            0,
            1,
            1,
            1,
            0,
            1,
            1,
            1,
            1,
            0,
            1,
            0,
            1,
            1,
            1,
            1,
            0,
            1,
            1,
            0,
            1,
            1,
            1,
            1,
            1,
            1,
            0,
            1,
            0,
            1,
            1,
            1,
            0,
            1,
            1,
            1,
            1,
            1,
            1,
            1,
            1,
            1,
            1,
            0,
            1,
            1,
            1,
            1,
            0,
            1,
            1,
            1,
            1,
            0,
            1,
            0,
            1,
            1,
            1,
            1,
            1,
            1,
            1,
            0,
            1,
            0,
            1,
            1,
            1,
            1,
            1,
            1,
            0,
            1,
            1,
            1,
            1,
            0,
            1,
            1,
            1,
            1,
            1,
            1,
            0,
            1,
            1,
            1,
            1,
            1,
            1,
            1,
            1,
            1,
            1,
            0,
            0,
            0,
            0,
            1,
            1,
            1,
            0,
            1,
            1,
            0,
            1,
            1,
            0,
            0,
            1,
            1,
            1,
            1,
            0,
            1,
            1,
            1,
            0,
            1,
            1,
            1,
            1,
            1,
            1,
            1,
            1,
            1,
            1,
            1,
            1,
            0,
            1,
            1,
            1,
            1,
            1,
            1,
            1,
            0,
            1,
            1,
            1,
            1,
            1,
            1,
            0,
            0,
            0,
            0,
            1,
            0,
            1,
            0,
            0,
            1,
            1,
            1,
            0,
            0,
            0,
            0,
            1,
            0,
            1,
            0,
            0,
            0,
            0,
            1,
            0,
            0,
            0,
            1,
            0,
            1,
            1,
            1,
            1,
            1,
            1,
            1,
            1,
            0,
            1,
            1,
            1,
            1,
            1,
            0,
            1,
            1,
            1,
            0,
            1,
            1,
            0,
            1,
            1,
            0,
            1,
            1,
            1,
            0,
            1,
            1,
            1,
            1,
            1,
            1,
            1,
            0,
            0,
            1,
            1,
            1,
            1,
            1,
            1,
            1,
            1,
            0,
            1,
            1,
            1,
            1,
            1,
            1,
            1,
            1,
            0,
            1
           ]
          },
          {
           "axis": {
            "matches": true
           },
           "label": "trestbps",
           "values": [
            125,
            140,
            145,
            148,
            138,
            100,
            114,
            160,
            120,
            122,
            112,
            132,
            118,
            140,
            128,
            118,
            140,
            124,
            120,
            140,
            140,
            106,
            104,
            135,
            120,
            145,
            130,
            136,
            130,
            180,
            120,
            120,
            130,
            160,
            129,
            150,
            125,
            138,
            128,
            128,
            160,
            120,
            130,
            120,
            132,
            140,
            135,
            178,
            146,
            117,
            150,
            140,
            138,
            120,
            140,
            140,
            120,
            130,
            152,
            154,
            130,
            146,
            100,
            150,
            130,
            170,
            130,
            136,
            120,
            160,
            170,
            140,
            125,
            140,
            130,
            138,
            124,
            140,
            134,
            134,
            140,
            118,
            150,
            138,
            120,
            120,
            140,
            174,
            140,
            144,
            108,
            124,
            140,
            120,
            128,
            138,
            128,
            123,
            110,
            140,
            122,
            150,
            108,
            138,
            118,
            110,
            140,
            120,
            152,
            110,
            110,
            142,
            130,
            110,
            126,
            145,
            130,
            120,
            130,
            120,
            108,
            120,
            145,
            140,
            120,
            150,
            120,
            130,
            138,
            140,
            150,
            130,
            135,
            129,
            108,
            170,
            132,
            180,
            138,
            110,
            152,
            124,
            134,
            118,
            112,
            110,
            120,
            110,
            152,
            140,
            114,
            192,
            125,
            120,
            130,
            108,
            140,
            120,
            115,
            120,
            125,
            100,
            125,
            124,
            125,
            170,
            132,
            120,
            130,
            112,
            150,
            130,
            120,
            94,
            110,
            200,
            130,
            120,
            110,
            134,
            140,
            110,
            140,
            130,
            128,
            165,
            110,
            125,
            130,
            125,
            112,
            130,
            115,
            160,
            160,
            150,
            100,
            115,
            102,
            144,
            124,
            118,
            152,
            170,
            146,
            148,
            126,
            112,
            138,
            120,
            120,
            100,
            150,
            130,
            128,
            130,
            135,
            120,
            140,
            122,
            130,
            130,
            110,
            94,
            140,
            150,
            118,
            118,
            128,
            178,
            125,
            120,
            125,
            126,
            130,
            170,
            118,
            124,
            117,
            150,
            132,
            152,
            138,
            140,
            125,
            130,
            192,
            140,
            138,
            130,
            110,
            112,
            132,
            165,
            120,
            140,
            138,
            180,
            120,
            120,
            120,
            150,
            122,
            132,
            170,
            104,
            123,
            120,
            132,
            110,
            110,
            120,
            138,
            110,
            160,
            130,
            132,
            130,
            160,
            105,
            130,
            122,
            130,
            110,
            132,
            110,
            140,
            160,
            120,
            152,
            138,
            128,
            150,
            150,
            200,
            100,
            120,
            150,
            122,
            120,
            105,
            94,
            132,
            145,
            136,
            120,
            118,
            120,
            126,
            140,
            120,
            130,
            160,
            120,
            140,
            148,
            140,
            135,
            140,
            128,
            130,
            130,
            142,
            160,
            130,
            140,
            192,
            150,
            130,
            128,
            120,
            108,
            130,
            110,
            130,
            150,
            150,
            125,
            130,
            130,
            138,
            120,
            155,
            172,
            120,
            160,
            150,
            108,
            132,
            130,
            120,
            144,
            110,
            110,
            124,
            138,
            164,
            160,
            134,
            128,
            122,
            130,
            122,
            130,
            130,
            130,
            112,
            110,
            105,
            110,
            132,
            132,
            110,
            120,
            142,
            160,
            140,
            130,
            120,
            118,
            146,
            132,
            110,
            150,
            126,
            110,
            120,
            125,
            120,
            145,
            136,
            110,
            110,
            160,
            130,
            146,
            180,
            110,
            160,
            145,
            120,
            112,
            156,
            105,
            140,
            130,
            140,
            100,
            138,
            150,
            105,
            125,
            150,
            130,
            170,
            130,
            125,
            138,
            124,
            160,
            128,
            102,
            120,
            136,
            142,
            130,
            160,
            150,
            132,
            108,
            152,
            150,
            102,
            130,
            112,
            120,
            174,
            120,
            130,
            120,
            150,
            140,
            152,
            150,
            130,
            128,
            130,
            160,
            120,
            112,
            150,
            134,
            178,
            134,
            150,
            160,
            108,
            138,
            150,
            140,
            140,
            124,
            118,
            110,
            115,
            138,
            130,
            110,
            150,
            160,
            150,
            140,
            130,
            130,
            110,
            150,
            165,
            128,
            140,
            128,
            130,
            150,
            140,
            122,
            110,
            120,
            110,
            135,
            132,
            150,
            128,
            150,
            125,
            132,
            125,
            135,
            180,
            154,
            140,
            142,
            112,
            138,
            142,
            130,
            108,
            118,
            120,
            130,
            200,
            180,
            132,
            120,
            112,
            110,
            120,
            120,
            130,
            105,
            120,
            148,
            140,
            125,
            152,
            148,
            112,
            130,
            160,
            124,
            178,
            160,
            150,
            155,
            124,
            138,
            108,
            140,
            120,
            120,
            120,
            170,
            128,
            140,
            140,
            134,
            125,
            110,
            130,
            106,
            120,
            118,
            140,
            122,
            132,
            130,
            100,
            125,
            140,
            122,
            94,
            120,
            130,
            155,
            120,
            112,
            132,
            138,
            110,
            130,
            160,
            120,
            135,
            145,
            118,
            112,
            125,
            150,
            152,
            130,
            140,
            146,
            101,
            140,
            130,
            120,
            132,
            140,
            125,
            164,
            145,
            122,
            120,
            108,
            160,
            108,
            145,
            148,
            140,
            138,
            120,
            140,
            130,
            140,
            120,
            140,
            130,
            110,
            112,
            136,
            145,
            180,
            132,
            128,
            170,
            140,
            130,
            120,
            115,
            126,
            130,
            110,
            152,
            130,
            138,
            134,
            178,
            140,
            132,
            120,
            140,
            138,
            110,
            130,
            130,
            138,
            125,
            130,
            174,
            120,
            138,
            130,
            138,
            134,
            128,
            120,
            120,
            150,
            108,
            130,
            112,
            130,
            120,
            120,
            150,
            130,
            126,
            110,
            130,
            138,
            125,
            138,
            138,
            114,
            112,
            100,
            150,
            140,
            122,
            124,
            130,
            160,
            130,
            125,
            118,
            120,
            130,
            100,
            130,
            130,
            112,
            180,
            120,
            170,
            164,
            120,
            140,
            150,
            128,
            125,
            200,
            135,
            105,
            135,
            140,
            140,
            118,
            126,
            120,
            152,
            112,
            126,
            130,
            120,
            160,
            110,
            94,
            128,
            128,
            140,
            120,
            110,
            130,
            120,
            112,
            150,
            125,
            156,
            128,
            130,
            135,
            108,
            140,
            115,
            152,
            120,
            120,
            150,
            124,
            130,
            140,
            135,
            120,
            112,
            94,
            108,
            128,
            129,
            110,
            120,
            125,
            128,
            140,
            112,
            130,
            125,
            102,
            100,
            140,
            117,
            120,
            125,
            130,
            160,
            130,
            120,
            130,
            124,
            120,
            160,
            105,
            130,
            150,
            130,
            130,
            150,
            140,
            110,
            110,
            144,
            101,
            110,
            135,
            138,
            150,
            150,
            130,
            100,
            145,
            123,
            134,
            118,
            120,
            146,
            130,
            120,
            150,
            160,
            125,
            140,
            138,
            120,
            110,
            110,
            144,
            120,
            134,
            128,
            135,
            150,
            170,
            115,
            120,
            145,
            124,
            112,
            130,
            142,
            150,
            130,
            94,
            110,
            110,
            124,
            140,
            140,
            128,
            105,
            156,
            115,
            148,
            170,
            140,
            140,
            130,
            140,
            138,
            135,
            130,
            128,
            130,
            124,
            100,
            125,
            118,
            140,
            136,
            118,
            138,
            172,
            125,
            140,
            145,
            138,
            112,
            160,
            140,
            132,
            138,
            138,
            150,
            128,
            120,
            130,
            128,
            120,
            138,
            101,
            120,
            115,
            120,
            140,
            112,
            140,
            170,
            125,
            160,
            150,
            112,
            110,
            120,
            120,
            130,
            140,
            170,
            140,
            160,
            130,
            140,
            122,
            120,
            138,
            132,
            154,
            130,
            124,
            145,
            165,
            120,
            110,
            150,
            150,
            128,
            180,
            110,
            128,
            140,
            130,
            178,
            134,
            102,
            135,
            134,
            102,
            140,
            126,
            130,
            120,
            140,
            120,
            120,
            144,
            140,
            136,
            120,
            104,
            112,
            120,
            135,
            130,
            134,
            120,
            118,
            146,
            120,
            140,
            130,
            130,
            110,
            120,
            124,
            130,
            135,
            152,
            140,
            120,
            130,
            120,
            130,
            140,
            142,
            134,
            140,
            136,
            140,
            120,
            178,
            120,
            152,
            160,
            145,
            132,
            160,
            130,
            135,
            138,
            130,
            130,
            130,
            140,
            140,
            140,
            136,
            100,
            108,
            140,
            108,
            140,
            128,
            120,
            140,
            120,
            138,
            172,
            118,
            125,
            110,
            118,
            108,
            128,
            110,
            142,
            140,
            118,
            106,
            128,
            135,
            130,
            180,
            154,
            140,
            160,
            120,
            117,
            110,
            132,
            110,
            120,
            134,
            120,
            136,
            125,
            145,
            140,
            112,
            108,
            140,
            128,
            140,
            120,
            120,
            152,
            140,
            128,
            110,
            114,
            108,
            128,
            138,
            123,
            110,
            112,
            140,
            125,
            110,
            110,
            120
           ]
          },
          {
           "axis": {
            "matches": true
           },
           "label": "chol",
           "values": [
            212,
            203,
            174,
            203,
            294,
            248,
            318,
            289,
            249,
            286,
            149,
            341,
            210,
            298,
            204,
            210,
            308,
            266,
            244,
            211,
            185,
            223,
            208,
            252,
            209,
            307,
            233,
            319,
            256,
            327,
            169,
            244,
            131,
            269,
            196,
            231,
            213,
            271,
            263,
            229,
            360,
            258,
            330,
            249,
            342,
            226,
            203,
            228,
            278,
            230,
            283,
            241,
            175,
            188,
            217,
            217,
            193,
            245,
            212,
            232,
            204,
            278,
            299,
            212,
            204,
            288,
            197,
            315,
            215,
            164,
            326,
            207,
            249,
            177,
            256,
            257,
            255,
            187,
            201,
            201,
            233,
            149,
            231,
            175,
            215,
            220,
            211,
            249,
            268,
            193,
            267,
            209,
            187,
            169,
            208,
            236,
            303,
            282,
            248,
            197,
            213,
            126,
            309,
            257,
            186,
            275,
            299,
            281,
            223,
            206,
            197,
            226,
            256,
            335,
            218,
            307,
            254,
            177,
            204,
            295,
            309,
            169,
            282,
            417,
            260,
            240,
            302,
            197,
            223,
            192,
            240,
            256,
            203,
            196,
            309,
            225,
            342,
            325,
            257,
            235,
            274,
            197,
            234,
            182,
            204,
            167,
            295,
            172,
            298,
            321,
            318,
            283,
            300,
            258,
            330,
            309,
            199,
            258,
            564,
            157,
            304,
            222,
            304,
            274,
            249,
            326,
            184,
            354,
            315,
            160,
            247,
            283,
            240,
            199,
            239,
            288,
            283,
            246,
            197,
            409,
            187,
            211,
            293,
            180,
            308,
            289,
            167,
            249,
            254,
            309,
            250,
            221,
            564,
            234,
            286,
            212,
            234,
            260,
            318,
            200,
            209,
            182,
            298,
            227,
            278,
            244,
            218,
            250,
            175,
            281,
            240,
            299,
            243,
            315,
            308,
            266,
            254,
            157,
            311,
            286,
            236,
            254,
            211,
            199,
            261,
            232,
            149,
            242,
            205,
            228,
            300,
            236,
            258,
            306,
            269,
            227,
            149,
            261,
            230,
            244,
            288,
            212,
            175,
            185,
            245,
            219,
            283,
            311,
            220,
            180,
            275,
            160,
            353,
            289,
            198,
            394,
            183,
            325,
            231,
            302,
            226,
            232,
            222,
            342,
            225,
            208,
            282,
            237,
            224,
            265,
            211,
            263,
            220,
            206,
            228,
            283,
            207,
            219,
            289,
            198,
            234,
            192,
            204,
            211,
            224,
            265,
            313,
            302,
            340,
            223,
            223,
            259,
            243,
            212,
            288,
            299,
            237,
            270,
            192,
            325,
            204,
            227,
            342,
            282,
            196,
            267,
            242,
            220,
            218,
            294,
            260,
            256,
            269,
            269,
            199,
            244,
            313,
            252,
            177,
            216,
            264,
            275,
            309,
            246,
            245,
            294,
            283,
            276,
            322,
            216,
            215,
            269,
            250,
            214,
            206,
            270,
            126,
            273,
            256,
            253,
            175,
            226,
            269,
            199,
            157,
            246,
            243,
            267,
            247,
            263,
            302,
            200,
            335,
            201,
            261,
            243,
            176,
            286,
            204,
            216,
            222,
            231,
            213,
            246,
            236,
            246,
            230,
            229,
            240,
            175,
            341,
            353,
            214,
            284,
            177,
            228,
            221,
            303,
            237,
            186,
            218,
            224,
            239,
            270,
            282,
            175,
            209,
            304,
            246,
            233,
            319,
            264,
            175,
            164,
            330,
            278,
            274,
            167,
            228,
            233,
            188,
            149,
            245,
            204,
            207,
            256,
            211,
            234,
            243,
            231,
            198,
            249,
            276,
            322,
            288,
            204,
            273,
            223,
            209,
            360,
            303,
            265,
            354,
            319,
            309,
            305,
            201,
            168,
            247,
            243,
            212,
            225,
            318,
            250,
            268,
            354,
            249,
            229,
            253,
            284,
            244,
            293,
            274,
            168,
            253,
            205,
            246,
            289,
            295,
            230,
            407,
            271,
            228,
            271,
            225,
            234,
            243,
            220,
            247,
            261,
            254,
            255,
            186,
            211,
            564,
            175,
            219,
            275,
            243,
            286,
            240,
            313,
            197,
            214,
            229,
            126,
            289,
            229,
            321,
            216,
            305,
            407,
            298,
            192,
            248,
            281,
            172,
            254,
            288,
            243,
            303,
            168,
            309,
            353,
            245,
            234,
            274,
            232,
            239,
            177,
            149,
            183,
            177,
            234,
            243,
            242,
            260,
            204,
            288,
            327,
            288,
            177,
            290,
            206,
            220,
            188,
            206,
            198,
            188,
            203,
            177,
            220,
            277,
            203,
            230,
            256,
            164,
            209,
            270,
            234,
            258,
            269,
            197,
            234,
            267,
            197,
            219,
            325,
            249,
            227,
            259,
            235,
            394,
            204,
            273,
            229,
            322,
            223,
            295,
            277,
            254,
            286,
            341,
            197,
            234,
            254,
            177,
            222,
            199,
            237,
            197,
            269,
            209,
            290,
            184,
            234,
            254,
            214,
            201,
            240,
            304,
            282,
            182,
            290,
            258,
            247,
            298,
            322,
            394,
            218,
            197,
            235,
            262,
            177,
            353,
            199,
            309,
            176,
            307,
            286,
            269,
            269,
            269,
            269,
            212,
            203,
            221,
            175,
            284,
            195,
            263,
            311,
            340,
            195,
            253,
            265,
            212,
            315,
            212,
            327,
            341,
            205,
            225,
            217,
            305,
            219,
            303,
            306,
            266,
            248,
            274,
            256,
            294,
            234,
            270,
            254,
            224,
            231,
            239,
            282,
            264,
            266,
            234,
            166,
            212,
            264,
            249,
            340,
            282,
            197,
            243,
            409,
            263,
            177,
            226,
            243,
            243,
            303,
            149,
            234,
            267,
            157,
            226,
            283,
            306,
            235,
            236,
            220,
            309,
            271,
            166,
            318,
            204,
            248,
            226,
            417,
            192,
            261,
            204,
            246,
            330,
            212,
            277,
            258,
            330,
            234,
            253,
            254,
            268,
            274,
            295,
            326,
            176,
            177,
            185,
            407,
            204,
            300,
            288,
            304,
            240,
            250,
            203,
            195,
            219,
            282,
            219,
            212,
            212,
            282,
            214,
            198,
            302,
            201,
            227,
            216,
            229,
            294,
            178,
            264,
            221,
            198,
            160,
            226,
            213,
            245,
            205,
            256,
            250,
            233,
            335,
            260,
            277,
            211,
            269,
            258,
            274,
            221,
            311,
            250,
            220,
            230,
            227,
            141,
            204,
            196,
            239,
            229,
            300,
            255,
            235,
            268,
            330,
            220,
            318,
            222,
            335,
            230,
            226,
            220,
            262,
            360,
            245,
            177,
            256,
            255,
            246,
            228,
            204,
            330,
            276,
            269,
            221,
            283,
            187,
            335,
            335,
            193,
            197,
            265,
            203,
            236,
            244,
            225,
            275,
            222,
            307,
            282,
            204,
            210,
            169,
            218,
            303,
            240,
            232,
            289,
            254,
            298,
            294,
            281,
            239,
            239,
            193,
            178,
            234,
            208,
            203,
            225,
            288,
            303,
            229,
            233,
            197,
            230,
            197,
            226,
            276,
            233,
            227,
            214,
            167,
            261,
            268,
            203,
            208,
            240,
            245,
            260,
            244,
            225,
            207,
            268,
            253,
            239,
            166,
            252,
            180,
            229,
            233,
            266,
            222,
            220,
            277,
            217,
            315,
            149,
            234,
            199,
            213,
            261,
            174,
            183,
            230,
            273,
            293,
            184,
            183,
            166,
            283,
            255,
            284,
            250,
            255,
            229,
            282,
            197,
            211,
            303,
            211,
            299,
            230,
            335,
            288,
            212,
            273,
            240,
            250,
            235,
            240,
            236,
            275,
            321,
            227,
            192,
            273,
            206,
            207,
            213,
            188,
            271,
            207,
            232,
            131,
            274,
            174,
            289,
            260,
            201,
            258,
            407,
            205,
            325,
            239,
            204,
            299,
            263,
            270,
            201,
            265,
            234,
            234,
            265,
            268,
            218,
            262,
            246,
            226,
            244,
            267,
            200,
            233,
            319,
            198,
            208,
            212,
            249,
            254,
            253,
            204,
            231,
            219,
            218,
            263,
            239,
            330,
            131,
            206,
            240,
            266,
            206,
            254,
            223,
            308,
            231,
            180,
            240,
            315,
            335,
            226,
            271,
            241,
            196,
            239,
            177,
            228,
            193,
            277,
            201,
            174,
            207,
            286,
            263,
            304,
            236,
            264,
            231,
            269,
            233,
            417,
            239,
            196,
            248,
            233,
            241,
            141,
            197,
            259,
            178,
            203,
            325,
            175,
            199,
            186,
            245,
            211,
            219,
            269,
            205,
            197,
            309,
            192,
            219,
            223,
            263,
            234,
            231,
            327,
            232,
            293,
            302,
            236,
            230,
            254,
            247,
            239,
            263,
            409,
            188,
            315,
            254,
            212,
            226,
            212,
            233,
            308,
            205,
            211,
            193,
            295,
            223,
            299,
            308,
            229,
            318,
            141,
            216,
            282,
            282,
            172,
            204,
            221,
            258,
            275,
            254,
            188
           ]
          },
          {
           "axis": {
            "matches": true
           },
           "label": "thalach",
           "values": [
            168,
            155,
            125,
            161,
            106,
            122,
            140,
            145,
            144,
            116,
            125,
            136,
            192,
            122,
            156,
            192,
            142,
            109,
            162,
            165,
            155,
            142,
            148,
            172,
            173,
            146,
            179,
            152,
            142,
            117,
            144,
            162,
            115,
            112,
            163,
            147,
            125,
            182,
            105,
            150,
            151,
            147,
            169,
            144,
            166,
            178,
            132,
            165,
            152,
            160,
            162,
            123,
            173,
            139,
            111,
            111,
            162,
            180,
            150,
            164,
            202,
            152,
            125,
            157,
            202,
            159,
            152,
            125,
            170,
            145,
            140,
            138,
            144,
            162,
            150,
            156,
            175,
            144,
            158,
            158,
            163,
            126,
            147,
            173,
            170,
            170,
            165,
            143,
            160,
            141,
            167,
            163,
            144,
            144,
            140,
            152,
            159,
            95,
            158,
            116,
            165,
            173,
            156,
            156,
            190,
            118,
            173,
            103,
            181,
            108,
            177,
            111,
            150,
            143,
            134,
            146,
            147,
            120,
            202,
            162,
            156,
            144,
            142,
            157,
            140,
            171,
            151,
            152,
            169,
            148,
            171,
            149,
            132,
            163,
            156,
            146,
            166,
            154,
            156,
            153,
            88,
            136,
            145,
            174,
            143,
            114,
            157,
            158,
            178,
            182,
            140,
            195,
            171,
            147,
            132,
            156,
            178,
            147,
            160,
            182,
            162,
            143,
            162,
            166,
            144,
            140,
            105,
            163,
            162,
            138,
            171,
            103,
            169,
            179,
            126,
            133,
            103,
            96,
            177,
            150,
            144,
            144,
            170,
            150,
            170,
            124,
            114,
            144,
            147,
            131,
            179,
            163,
            160,
            131,
            108,
            157,
            156,
            185,
            160,
            126,
            163,
            174,
            178,
            155,
            152,
            178,
            134,
            179,
            173,
            103,
            194,
            125,
            128,
            162,
            170,
            171,
            127,
            182,
            120,
            116,
            174,
            147,
            144,
            179,
            186,
            165,
            126,
            149,
            184,
            165,
            171,
            178,
            141,
            163,
            163,
            155,
            126,
            141,
            160,
            154,
            159,
            150,
            173,
            155,
            166,
            188,
            195,
            120,
            152,
            150,
            118,
            138,
            132,
            124,
            130,
            157,
            182,
            154,
            182,
            151,
            169,
            165,
            186,
            166,
            146,
            148,
            95,
            71,
            173,
            130,
            161,
            173,
            152,
            108,
            138,
            103,
            168,
            188,
            145,
            168,
            175,
            174,
            172,
            144,
            173,
            130,
            133,
            162,
            172,
            181,
            169,
            130,
            137,
            157,
            133,
            125,
            71,
            111,
            174,
            172,
            172,
            154,
            166,
            142,
            169,
            99,
            149,
            170,
            134,
            153,
            140,
            150,
            112,
            121,
            178,
            178,
            133,
            172,
            162,
            115,
            143,
            139,
            147,
            120,
            180,
            153,
            195,
            112,
            109,
            115,
            170,
            169,
            187,
            158,
            132,
            111,
            173,
            152,
            142,
            144,
            173,
            169,
            148,
            162,
            182,
            120,
            128,
            167,
            143,
            97,
            151,
            126,
            143,
            126,
            141,
            152,
            90,
            108,
            162,
            115,
            186,
            146,
            165,
            173,
            174,
            173,
            165,
            168,
            154,
            123,
            136,
            132,
            158,
            160,
            160,
            138,
            164,
            122,
            71,
            190,
            105,
            173,
            142,
            111,
            156,
            123,
            173,
            162,
            96,
            150,
            152,
            132,
            123,
            145,
            132,
            152,
            150,
            114,
            138,
            150,
            139,
            125,
            143,
            172,
            138,
            142,
            165,
            156,
            152,
            147,
            168,
            144,
            112,
            109,
            159,
            172,
            152,
            169,
            163,
            151,
            159,
            122,
            163,
            152,
            147,
            142,
            163,
            174,
            143,
            152,
            150,
            114,
            160,
            187,
            172,
            163,
            143,
            129,
            179,
            160,
            154,
            170,
            88,
            174,
            179,
            184,
            173,
            145,
            157,
            160,
            154,
            162,
            165,
            162,
            114,
            131,
            152,
            152,
            171,
            186,
            146,
            175,
            190,
            161,
            160,
            173,
            188,
            118,
            137,
            108,
            171,
            133,
            131,
            168,
            168,
            173,
            124,
            150,
            182,
            131,
            142,
            154,
            122,
            174,
            158,
            103,
            158,
            127,
            159,
            137,
            159,
            174,
            131,
            132,
            166,
            161,
            150,
            164,
            160,
            160,
            125,
            182,
            160,
            175,
            152,
            149,
            140,
            172,
            133,
            117,
            159,
            120,
            153,
            108,
            170,
            139,
            132,
            168,
            139,
            161,
            162,
            144,
            172,
            161,
            165,
            149,
            145,
            163,
            145,
            131,
            157,
            148,
            136,
            160,
            167,
            116,
            158,
            172,
            144,
            155,
            130,
            180,
            157,
            162,
            152,
            168,
            109,
            142,
            157,
            151,
            146,
            116,
            136,
            152,
            156,
            163,
            162,
            186,
            179,
            71,
            131,
            148,
            173,
            153,
            105,
            160,
            159,
            168,
            163,
            194,
            170,
            142,
            174,
            153,
            141,
            171,
            178,
            109,
            157,
            105,
            156,
            180,
            155,
            120,
            132,
            178,
            131,
            90,
            146,
            116,
            121,
            169,
            112,
            169,
            132,
            161,
            164,
            173,
            160,
            179,
            97,
            120,
            172,
            179,
            179,
            130,
            132,
            125,
            132,
            117,
            136,
            130,
            146,
            111,
            142,
            158,
            181,
            163,
            171,
            158,
            88,
            150,
            106,
            145,
            145,
            146,
            173,
            182,
            151,
            174,
            132,
            171,
            175,
            125,
            168,
            143,
            143,
            172,
            174,
            131,
            152,
            150,
            105,
            140,
            169,
            128,
            152,
            122,
            125,
            175,
            99,
            182,
            114,
            103,
            163,
            153,
            174,
            152,
            131,
            182,
            125,
            140,
            143,
            122,
            114,
            157,
            174,
            141,
            202,
            120,
            169,
            168,
            151,
            147,
            132,
            156,
            144,
            147,
            172,
            150,
            162,
            140,
            90,
            120,
            155,
            154,
            156,
            171,
            133,
            170,
            154,
            161,
            155,
            179,
            140,
            156,
            158,
            150,
            132,
            156,
            168,
            130,
            162,
            126,
            154,
            131,
            150,
            153,
            96,
            132,
            163,
            130,
            138,
            114,
            125,
            143,
            130,
            142,
            161,
            147,
            158,
            185,
            172,
            115,
            121,
            157,
            166,
            163,
            120,
            161,
            170,
            160,
            154,
            175,
            156,
            163,
            142,
            129,
            171,
            161,
            180,
            172,
            132,
            144,
            160,
            143,
            158,
            160,
            169,
            144,
            155,
            151,
            180,
            140,
            149,
            175,
            96,
            138,
            172,
            169,
            112,
            163,
            163,
            162,
            144,
            143,
            143,
            141,
            156,
            130,
            132,
            152,
            154,
            114,
            139,
            143,
            146,
            95,
            162,
            192,
            144,
            105,
            122,
            169,
            165,
            145,
            163,
            122,
            106,
            103,
            126,
            126,
            141,
            96,
            145,
            140,
            132,
            114,
            159,
            181,
            129,
            150,
            136,
            160,
            131,
            111,
            112,
            179,
            154,
            158,
            114,
            141,
            160,
            155,
            140,
            154,
            143,
            185,
            178,
            146,
            138,
            160,
            144,
            160,
            125,
            172,
            150,
            150,
            179,
            109,
            143,
            144,
            151,
            111,
            125,
            126,
            160,
            162,
            125,
            186,
            125,
            182,
            165,
            125,
            170,
            105,
            182,
            125,
            162,
            161,
            160,
            187,
            161,
            129,
            174,
            156,
            115,
            181,
            115,
            173,
            160,
            158,
            159,
            168,
            125,
            171,
            179,
            153,
            169,
            178,
            139,
            182,
            155,
            148,
            125,
            132,
            138,
            165,
            113,
            182,
            168,
            164,
            115,
            166,
            125,
            124,
            140,
            126,
            157,
            154,
            130,
            154,
            126,
            156,
            173,
            97,
            145,
            158,
            122,
            161,
            145,
            122,
            160,
            134,
            155,
            96,
            178,
            162,
            99,
            126,
            163,
            152,
            130,
            148,
            132,
            144,
            127,
            179,
            162,
            182,
            140,
            105,
            173,
            160,
            169,
            115,
            108,
            194,
            109,
            132,
            127,
            181,
            142,
            182,
            150,
            169,
            162,
            158,
            111,
            162,
            123,
            169,
            151,
            140,
            165,
            162,
            172,
            163,
            125,
            168,
            108,
            97,
            170,
            152,
            143,
            146,
            163,
            163,
            157,
            151,
            169,
            122,
            147,
            123,
            175,
            116,
            130,
            96,
            155,
            172,
            173,
            162,
            190,
            166,
            161,
            140,
            169,
            184,
            177,
            147,
            148,
            140,
            142,
            105,
            161,
            146,
            117,
            164,
            170,
            162,
            178,
            160,
            159,
            143,
            142,
            173,
            150,
            113,
            125,
            163,
            132,
            178,
            132,
            147,
            142,
            130,
            165,
            162,
            162,
            181,
            173,
            170,
            168,
            140,
            175,
            131,
            174,
            95,
            158,
            143,
            164,
            141,
            118,
            159,
            113
           ]
          }
         ],
         "hovertemplate": "%{xaxis.title.text}=%{x}<br>%{yaxis.title.text}=%{y}<br>Heart Disease Presence=%{marker.color}<extra></extra>",
         "legendgroup": "",
         "marker": {
          "color": [
           0,
           0,
           0,
           0,
           0,
           1,
           0,
           0,
           0,
           0,
           1,
           0,
           1,
           0,
           0,
           1,
           1,
           0,
           1,
           1,
           0,
           1,
           1,
           1,
           1,
           0,
           1,
           0,
           0,
           0,
           0,
           1,
           0,
           0,
           1,
           0,
           1,
           1,
           1,
           0,
           1,
           1,
           0,
           0,
           1,
           1,
           1,
           0,
           1,
           0,
           1,
           0,
           1,
           0,
           0,
           0,
           1,
           1,
           0,
           0,
           1,
           1,
           0,
           1,
           1,
           0,
           1,
           0,
           1,
           0,
           0,
           0,
           0,
           0,
           0,
           1,
           1,
           0,
           1,
           1,
           0,
           0,
           0,
           1,
           1,
           1,
           1,
           0,
           0,
           0,
           1,
           1,
           0,
           0,
           1,
           1,
           1,
           0,
           0,
           1,
           1,
           1,
           1,
           1,
           1,
           0,
           0,
           0,
           0,
           0,
           0,
           1,
           0,
           0,
           0,
           0,
           0,
           0,
           1,
           1,
           1,
           0,
           0,
           1,
           0,
           1,
           1,
           1,
           1,
           1,
           1,
           1,
           1,
           1,
           1,
           0,
           1,
           1,
           1,
           1,
           0,
           0,
           0,
           1,
           1,
           0,
           1,
           0,
           1,
           1,
           0,
           0,
           0,
           1,
           0,
           1,
           1,
           1,
           1,
           1,
           0,
           1,
           0,
           0,
           0,
           0,
           0,
           1,
           1,
           1,
           1,
           0,
           1,
           1,
           0,
           0,
           0,
           0,
           0,
           0,
           0,
           1,
           0,
           1,
           1,
           0,
           0,
           0,
           0,
           0,
           1,
           1,
           1,
           1,
           0,
           1,
           0,
           1,
           1,
           0,
           1,
           1,
           1,
           1,
           1,
           1,
           0,
           1,
           1,
           0,
           1,
           0,
           0,
           1,
           1,
           1,
           0,
           1,
           0,
           0,
           0,
           0,
           1,
           1,
           1,
           1,
           0,
           1,
           1,
           0,
           0,
           1,
           0,
           1,
           1,
           1,
           0,
           0,
           0,
           0,
           1,
           0,
           1,
           0,
           1,
           1,
           0,
           0,
           1,
           1,
           0,
           1,
           0,
           0,
           0,
           1,
           1,
           1,
           0,
           1,
           1,
           1,
           1,
           1,
           0,
           1,
           0,
           0,
           0,
           1,
           1,
           1,
           1,
           0,
           1,
           0,
           1,
           1,
           0,
           1,
           1,
           1,
           1,
           1,
           0,
           1,
           1,
           1,
           1,
           0,
           1,
           0,
           1,
           1,
           0,
           0,
           0,
           0,
           1,
           1,
           1,
           1,
           1,
           0,
           1,
           0,
           1,
           1,
           0,
           1,
           0,
           0,
           0,
           1,
           1,
           1,
           1,
           1,
           0,
           1,
           1,
           1,
           0,
           0,
           1,
           1,
           0,
           0,
           0,
           1,
           1,
           0,
           1,
           1,
           0,
           0,
           1,
           1,
           0,
           0,
           1,
           1,
           1,
           1,
           1,
           0,
           0,
           1,
           0,
           0,
           1,
           0,
           0,
           1,
           0,
           1,
           0,
           0,
           0,
           1,
           1,
           1,
           1,
           1,
           0,
           1,
           0,
           0,
           1,
           1,
           0,
           0,
           1,
           0,
           1,
           1,
           1,
           1,
           0,
           1,
           0,
           0,
           0,
           0,
           0,
           1,
           1,
           0,
           0,
           1,
           0,
           0,
           1,
           0,
           0,
           1,
           0,
           0,
           1,
           1,
           0,
           1,
           1,
           1,
           0,
           0,
           1,
           0,
           1,
           0,
           1,
           0,
           0,
           0,
           0,
           1,
           1,
           1,
           1,
           1,
           1,
           1,
           1,
           0,
           0,
           0,
           1,
           1,
           0,
           0,
           0,
           0,
           1,
           1,
           1,
           1,
           0,
           0,
           1,
           0,
           0,
           0,
           0,
           1,
           1,
           1,
           1,
           0,
           1,
           0,
           0,
           1,
           0,
           1,
           0,
           1,
           0,
           1,
           1,
           1,
           0,
           1,
           1,
           1,
           1,
           1,
           1,
           0,
           1,
           0,
           1,
           1,
           1,
           1,
           0,
           1,
           0,
           0,
           1,
           0,
           0,
           0,
           0,
           1,
           0,
           0,
           0,
           0,
           1,
           1,
           1,
           1,
           0,
           0,
           1,
           1,
           0,
           0,
           1,
           1,
           1,
           1,
           1,
           1,
           0,
           1,
           0,
           1,
           0,
           0,
           1,
           0,
           0,
           0,
           1,
           0,
           0,
           1,
           0,
           0,
           0,
           1,
           1,
           0,
           0,
           1,
           0,
           1,
           1,
           1,
           0,
           1,
           0,
           1,
           1,
           1,
           1,
           1,
           0,
           1,
           0,
           1,
           1,
           0,
           1,
           0,
           0,
           1,
           1,
           1,
           0,
           0,
           0,
           1,
           0,
           0,
           0,
           1,
           1,
           0,
           1,
           1,
           1,
           0,
           0,
           1,
           1,
           1,
           1,
           1,
           1,
           0,
           1,
           0,
           0,
           1,
           1,
           0,
           1,
           0,
           1,
           1,
           1,
           0,
           0,
           1,
           0,
           0,
           0,
           0,
           1,
           0,
           0,
           0,
           0,
           0,
           1,
           1,
           0,
           1,
           0,
           0,
           1,
           1,
           1,
           1,
           0,
           0,
           0,
           0,
           0,
           0,
           0,
           0,
           0,
           1,
           1,
           1,
           1,
           0,
           0,
           0,
           0,
           0,
           1,
           0,
           0,
           0,
           1,
           0,
           0,
           1,
           1,
           0,
           0,
           1,
           0,
           1,
           0,
           1,
           1,
           0,
           1,
           1,
           1,
           0,
           0,
           1,
           1,
           1,
           0,
           1,
           1,
           0,
           1,
           1,
           0,
           1,
           0,
           1,
           0,
           0,
           1,
           1,
           1,
           1,
           1,
           0,
           1,
           0,
           0,
           0,
           1,
           1,
           0,
           0,
           0,
           0,
           1,
           0,
           1,
           0,
           0,
           0,
           0,
           0,
           0,
           0,
           0,
           1,
           1,
           1,
           0,
           1,
           0,
           0,
           1,
           0,
           0,
           0,
           1,
           0,
           1,
           1,
           1,
           0,
           0,
           1,
           1,
           0,
           1,
           0,
           1,
           1,
           1,
           1,
           0,
           0,
           1,
           1,
           0,
           1,
           1,
           1,
           1,
           0,
           0,
           1,
           0,
           1,
           1,
           0,
           1,
           1,
           0,
           1,
           0,
           0,
           0,
           0,
           1,
           1,
           0,
           1,
           1,
           1,
           0,
           0,
           1,
           1,
           1,
           1,
           1,
           1,
           1,
           1,
           0,
           1,
           1,
           0,
           0,
           1,
           1,
           1,
           0,
           0,
           0,
           0,
           1,
           1,
           1,
           1,
           0,
           0,
           1,
           1,
           0,
           0,
           0,
           1,
           0,
           0,
           1,
           1,
           1,
           0,
           0,
           0,
           0,
           0,
           0,
           0,
           0,
           1,
           0,
           1,
           1,
           0,
           0,
           1,
           0,
           1,
           0,
           0,
           1,
           1,
           0,
           1,
           1,
           1,
           0,
           0,
           0,
           0,
           1,
           1,
           1,
           1,
           1,
           0,
           0,
           0,
           0,
           1,
           0,
           1,
           1,
           0,
           1,
           0,
           1,
           1,
           1,
           0,
           0,
           0,
           1,
           1,
           1,
           1,
           0,
           1,
           0,
           0,
           0,
           0,
           1,
           0,
           1,
           0,
           0,
           1,
           0,
           0,
           0,
           1,
           1,
           1,
           1,
           0,
           0,
           0,
           0,
           0,
           0,
           1,
           1,
           1,
           1,
           1,
           1,
           1,
           1,
           1,
           0,
           0,
           0,
           1,
           0,
           1,
           1,
           0,
           0,
           0,
           0,
           0,
           0,
           1,
           0,
           0,
           0,
           1,
           0,
           0,
           0,
           0,
           1,
           1,
           1,
           1,
           0,
           1,
           0,
           0,
           1,
           0,
           1,
           1,
           0,
           0,
           0,
           0,
           0,
           1,
           0,
           0,
           0,
           1,
           0,
           0,
           0,
           0,
           1,
           1,
           0,
           0,
           0,
           1,
           0,
           0,
           0,
           0,
           1,
           0,
           1,
           1,
           1,
           0,
           1,
           1,
           0,
           1,
           1,
           1,
           0,
           1,
           1,
           1,
           0,
           1,
           0,
           0,
           1,
           1,
           1,
           1,
           1,
           0,
           1,
           1,
           1,
           1,
           1,
           0,
           1,
           1,
           0,
           1,
           0,
           1,
           1,
           1,
           1,
           1,
           1,
           0,
           0,
           1,
           0,
           0,
           1,
           0,
           1,
           1,
           1,
           1,
           0,
           0,
           0,
           1,
           1,
           0,
           1,
           0,
           0,
           1,
           0,
           0,
           0,
           0,
           0,
           1,
           0,
           1,
           1,
           0,
           1,
           1,
           1,
           0,
           0,
           1,
           0,
           0,
           1,
           0,
           0,
           0,
           0,
           1,
           1,
           0,
           0,
           1,
           0
          ],
          "coloraxis": "coloraxis",
          "symbol": "circle"
         },
         "name": "",
         "showlegend": false,
         "type": "splom"
        }
       ],
       "layout": {
        "coloraxis": {
         "colorbar": {
          "title": {
           "text": "Heart Disease Presence"
          }
         },
         "colorscale": [
          [
           0,
           "#0d0887"
          ],
          [
           0.1111111111111111,
           "#46039f"
          ],
          [
           0.2222222222222222,
           "#7201a8"
          ],
          [
           0.3333333333333333,
           "#9c179e"
          ],
          [
           0.4444444444444444,
           "#bd3786"
          ],
          [
           0.5555555555555556,
           "#d8576b"
          ],
          [
           0.6666666666666666,
           "#ed7953"
          ],
          [
           0.7777777777777778,
           "#fb9f3a"
          ],
          [
           0.8888888888888888,
           "#fdca26"
          ],
          [
           1,
           "#f0f921"
          ]
         ]
        },
        "dragmode": "select",
        "legend": {
         "tracegroupgap": 0
        },
        "template": {
         "data": {
          "bar": [
           {
            "error_x": {
             "color": "#2a3f5f"
            },
            "error_y": {
             "color": "#2a3f5f"
            },
            "marker": {
             "line": {
              "color": "#E5ECF6",
              "width": 0.5
             }
            },
            "type": "bar"
           }
          ],
          "barpolar": [
           {
            "marker": {
             "line": {
              "color": "#E5ECF6",
              "width": 0.5
             }
            },
            "type": "barpolar"
           }
          ],
          "carpet": [
           {
            "aaxis": {
             "endlinecolor": "#2a3f5f",
             "gridcolor": "white",
             "linecolor": "white",
             "minorgridcolor": "white",
             "startlinecolor": "#2a3f5f"
            },
            "baxis": {
             "endlinecolor": "#2a3f5f",
             "gridcolor": "white",
             "linecolor": "white",
             "minorgridcolor": "white",
             "startlinecolor": "#2a3f5f"
            },
            "type": "carpet"
           }
          ],
          "choropleth": [
           {
            "colorbar": {
             "outlinewidth": 0,
             "ticks": ""
            },
            "type": "choropleth"
           }
          ],
          "contour": [
           {
            "colorbar": {
             "outlinewidth": 0,
             "ticks": ""
            },
            "colorscale": [
             [
              0,
              "#0d0887"
             ],
             [
              0.1111111111111111,
              "#46039f"
             ],
             [
              0.2222222222222222,
              "#7201a8"
             ],
             [
              0.3333333333333333,
              "#9c179e"
             ],
             [
              0.4444444444444444,
              "#bd3786"
             ],
             [
              0.5555555555555556,
              "#d8576b"
             ],
             [
              0.6666666666666666,
              "#ed7953"
             ],
             [
              0.7777777777777778,
              "#fb9f3a"
             ],
             [
              0.8888888888888888,
              "#fdca26"
             ],
             [
              1,
              "#f0f921"
             ]
            ],
            "type": "contour"
           }
          ],
          "contourcarpet": [
           {
            "colorbar": {
             "outlinewidth": 0,
             "ticks": ""
            },
            "type": "contourcarpet"
           }
          ],
          "heatmap": [
           {
            "colorbar": {
             "outlinewidth": 0,
             "ticks": ""
            },
            "colorscale": [
             [
              0,
              "#0d0887"
             ],
             [
              0.1111111111111111,
              "#46039f"
             ],
             [
              0.2222222222222222,
              "#7201a8"
             ],
             [
              0.3333333333333333,
              "#9c179e"
             ],
             [
              0.4444444444444444,
              "#bd3786"
             ],
             [
              0.5555555555555556,
              "#d8576b"
             ],
             [
              0.6666666666666666,
              "#ed7953"
             ],
             [
              0.7777777777777778,
              "#fb9f3a"
             ],
             [
              0.8888888888888888,
              "#fdca26"
             ],
             [
              1,
              "#f0f921"
             ]
            ],
            "type": "heatmap"
           }
          ],
          "heatmapgl": [
           {
            "colorbar": {
             "outlinewidth": 0,
             "ticks": ""
            },
            "colorscale": [
             [
              0,
              "#0d0887"
             ],
             [
              0.1111111111111111,
              "#46039f"
             ],
             [
              0.2222222222222222,
              "#7201a8"
             ],
             [
              0.3333333333333333,
              "#9c179e"
             ],
             [
              0.4444444444444444,
              "#bd3786"
             ],
             [
              0.5555555555555556,
              "#d8576b"
             ],
             [
              0.6666666666666666,
              "#ed7953"
             ],
             [
              0.7777777777777778,
              "#fb9f3a"
             ],
             [
              0.8888888888888888,
              "#fdca26"
             ],
             [
              1,
              "#f0f921"
             ]
            ],
            "type": "heatmapgl"
           }
          ],
          "histogram": [
           {
            "marker": {
             "colorbar": {
              "outlinewidth": 0,
              "ticks": ""
             }
            },
            "type": "histogram"
           }
          ],
          "histogram2d": [
           {
            "colorbar": {
             "outlinewidth": 0,
             "ticks": ""
            },
            "colorscale": [
             [
              0,
              "#0d0887"
             ],
             [
              0.1111111111111111,
              "#46039f"
             ],
             [
              0.2222222222222222,
              "#7201a8"
             ],
             [
              0.3333333333333333,
              "#9c179e"
             ],
             [
              0.4444444444444444,
              "#bd3786"
             ],
             [
              0.5555555555555556,
              "#d8576b"
             ],
             [
              0.6666666666666666,
              "#ed7953"
             ],
             [
              0.7777777777777778,
              "#fb9f3a"
             ],
             [
              0.8888888888888888,
              "#fdca26"
             ],
             [
              1,
              "#f0f921"
             ]
            ],
            "type": "histogram2d"
           }
          ],
          "histogram2dcontour": [
           {
            "colorbar": {
             "outlinewidth": 0,
             "ticks": ""
            },
            "colorscale": [
             [
              0,
              "#0d0887"
             ],
             [
              0.1111111111111111,
              "#46039f"
             ],
             [
              0.2222222222222222,
              "#7201a8"
             ],
             [
              0.3333333333333333,
              "#9c179e"
             ],
             [
              0.4444444444444444,
              "#bd3786"
             ],
             [
              0.5555555555555556,
              "#d8576b"
             ],
             [
              0.6666666666666666,
              "#ed7953"
             ],
             [
              0.7777777777777778,
              "#fb9f3a"
             ],
             [
              0.8888888888888888,
              "#fdca26"
             ],
             [
              1,
              "#f0f921"
             ]
            ],
            "type": "histogram2dcontour"
           }
          ],
          "mesh3d": [
           {
            "colorbar": {
             "outlinewidth": 0,
             "ticks": ""
            },
            "type": "mesh3d"
           }
          ],
          "parcoords": [
           {
            "line": {
             "colorbar": {
              "outlinewidth": 0,
              "ticks": ""
             }
            },
            "type": "parcoords"
           }
          ],
          "pie": [
           {
            "automargin": true,
            "type": "pie"
           }
          ],
          "scatter": [
           {
            "marker": {
             "colorbar": {
              "outlinewidth": 0,
              "ticks": ""
             }
            },
            "type": "scatter"
           }
          ],
          "scatter3d": [
           {
            "line": {
             "colorbar": {
              "outlinewidth": 0,
              "ticks": ""
             }
            },
            "marker": {
             "colorbar": {
              "outlinewidth": 0,
              "ticks": ""
             }
            },
            "type": "scatter3d"
           }
          ],
          "scattercarpet": [
           {
            "marker": {
             "colorbar": {
              "outlinewidth": 0,
              "ticks": ""
             }
            },
            "type": "scattercarpet"
           }
          ],
          "scattergeo": [
           {
            "marker": {
             "colorbar": {
              "outlinewidth": 0,
              "ticks": ""
             }
            },
            "type": "scattergeo"
           }
          ],
          "scattergl": [
           {
            "marker": {
             "colorbar": {
              "outlinewidth": 0,
              "ticks": ""
             }
            },
            "type": "scattergl"
           }
          ],
          "scattermapbox": [
           {
            "marker": {
             "colorbar": {
              "outlinewidth": 0,
              "ticks": ""
             }
            },
            "type": "scattermapbox"
           }
          ],
          "scatterpolar": [
           {
            "marker": {
             "colorbar": {
              "outlinewidth": 0,
              "ticks": ""
             }
            },
            "type": "scatterpolar"
           }
          ],
          "scatterpolargl": [
           {
            "marker": {
             "colorbar": {
              "outlinewidth": 0,
              "ticks": ""
             }
            },
            "type": "scatterpolargl"
           }
          ],
          "scatterternary": [
           {
            "marker": {
             "colorbar": {
              "outlinewidth": 0,
              "ticks": ""
             }
            },
            "type": "scatterternary"
           }
          ],
          "surface": [
           {
            "colorbar": {
             "outlinewidth": 0,
             "ticks": ""
            },
            "colorscale": [
             [
              0,
              "#0d0887"
             ],
             [
              0.1111111111111111,
              "#46039f"
             ],
             [
              0.2222222222222222,
              "#7201a8"
             ],
             [
              0.3333333333333333,
              "#9c179e"
             ],
             [
              0.4444444444444444,
              "#bd3786"
             ],
             [
              0.5555555555555556,
              "#d8576b"
             ],
             [
              0.6666666666666666,
              "#ed7953"
             ],
             [
              0.7777777777777778,
              "#fb9f3a"
             ],
             [
              0.8888888888888888,
              "#fdca26"
             ],
             [
              1,
              "#f0f921"
             ]
            ],
            "type": "surface"
           }
          ],
          "table": [
           {
            "cells": {
             "fill": {
              "color": "#EBF0F8"
             },
             "line": {
              "color": "white"
             }
            },
            "header": {
             "fill": {
              "color": "#C8D4E3"
             },
             "line": {
              "color": "white"
             }
            },
            "type": "table"
           }
          ]
         },
         "layout": {
          "annotationdefaults": {
           "arrowcolor": "#2a3f5f",
           "arrowhead": 0,
           "arrowwidth": 1
          },
          "autotypenumbers": "strict",
          "coloraxis": {
           "colorbar": {
            "outlinewidth": 0,
            "ticks": ""
           }
          },
          "colorscale": {
           "diverging": [
            [
             0,
             "#8e0152"
            ],
            [
             0.1,
             "#c51b7d"
            ],
            [
             0.2,
             "#de77ae"
            ],
            [
             0.3,
             "#f1b6da"
            ],
            [
             0.4,
             "#fde0ef"
            ],
            [
             0.5,
             "#f7f7f7"
            ],
            [
             0.6,
             "#e6f5d0"
            ],
            [
             0.7,
             "#b8e186"
            ],
            [
             0.8,
             "#7fbc41"
            ],
            [
             0.9,
             "#4d9221"
            ],
            [
             1,
             "#276419"
            ]
           ],
           "sequential": [
            [
             0,
             "#0d0887"
            ],
            [
             0.1111111111111111,
             "#46039f"
            ],
            [
             0.2222222222222222,
             "#7201a8"
            ],
            [
             0.3333333333333333,
             "#9c179e"
            ],
            [
             0.4444444444444444,
             "#bd3786"
            ],
            [
             0.5555555555555556,
             "#d8576b"
            ],
            [
             0.6666666666666666,
             "#ed7953"
            ],
            [
             0.7777777777777778,
             "#fb9f3a"
            ],
            [
             0.8888888888888888,
             "#fdca26"
            ],
            [
             1,
             "#f0f921"
            ]
           ],
           "sequentialminus": [
            [
             0,
             "#0d0887"
            ],
            [
             0.1111111111111111,
             "#46039f"
            ],
            [
             0.2222222222222222,
             "#7201a8"
            ],
            [
             0.3333333333333333,
             "#9c179e"
            ],
            [
             0.4444444444444444,
             "#bd3786"
            ],
            [
             0.5555555555555556,
             "#d8576b"
            ],
            [
             0.6666666666666666,
             "#ed7953"
            ],
            [
             0.7777777777777778,
             "#fb9f3a"
            ],
            [
             0.8888888888888888,
             "#fdca26"
            ],
            [
             1,
             "#f0f921"
            ]
           ]
          },
          "colorway": [
           "#636efa",
           "#EF553B",
           "#00cc96",
           "#ab63fa",
           "#FFA15A",
           "#19d3f3",
           "#FF6692",
           "#B6E880",
           "#FF97FF",
           "#FECB52"
          ],
          "font": {
           "color": "#2a3f5f"
          },
          "geo": {
           "bgcolor": "white",
           "lakecolor": "white",
           "landcolor": "#E5ECF6",
           "showlakes": true,
           "showland": true,
           "subunitcolor": "white"
          },
          "hoverlabel": {
           "align": "left"
          },
          "hovermode": "closest",
          "mapbox": {
           "style": "light"
          },
          "paper_bgcolor": "white",
          "plot_bgcolor": "#E5ECF6",
          "polar": {
           "angularaxis": {
            "gridcolor": "white",
            "linecolor": "white",
            "ticks": ""
           },
           "bgcolor": "#E5ECF6",
           "radialaxis": {
            "gridcolor": "white",
            "linecolor": "white",
            "ticks": ""
           }
          },
          "scene": {
           "xaxis": {
            "backgroundcolor": "#E5ECF6",
            "gridcolor": "white",
            "gridwidth": 2,
            "linecolor": "white",
            "showbackground": true,
            "ticks": "",
            "zerolinecolor": "white"
           },
           "yaxis": {
            "backgroundcolor": "#E5ECF6",
            "gridcolor": "white",
            "gridwidth": 2,
            "linecolor": "white",
            "showbackground": true,
            "ticks": "",
            "zerolinecolor": "white"
           },
           "zaxis": {
            "backgroundcolor": "#E5ECF6",
            "gridcolor": "white",
            "gridwidth": 2,
            "linecolor": "white",
            "showbackground": true,
            "ticks": "",
            "zerolinecolor": "white"
           }
          },
          "shapedefaults": {
           "line": {
            "color": "#2a3f5f"
           }
          },
          "ternary": {
           "aaxis": {
            "gridcolor": "white",
            "linecolor": "white",
            "ticks": ""
           },
           "baxis": {
            "gridcolor": "white",
            "linecolor": "white",
            "ticks": ""
           },
           "bgcolor": "#E5ECF6",
           "caxis": {
            "gridcolor": "white",
            "linecolor": "white",
            "ticks": ""
           }
          },
          "title": {
           "x": 0.05
          },
          "xaxis": {
           "automargin": true,
           "gridcolor": "white",
           "linecolor": "white",
           "ticks": "",
           "title": {
            "standoff": 15
           },
           "zerolinecolor": "white",
           "zerolinewidth": 2
          },
          "yaxis": {
           "automargin": true,
           "gridcolor": "white",
           "linecolor": "white",
           "ticks": "",
           "title": {
            "standoff": 15
           },
           "zerolinecolor": "white",
           "zerolinewidth": 2
          }
         }
        },
        "title": {
         "text": "Pair Plot of Selected Features"
        }
       }
      },
      "text/html": [
       "<div>                            <div id=\"93b490e8-b9ca-4079-b3d0-14f0ddf34594\" class=\"plotly-graph-div\" style=\"height:525px; width:100%;\"></div>            <script type=\"text/javascript\">                require([\"plotly\"], function(Plotly) {                    window.PLOTLYENV=window.PLOTLYENV || {};                                    if (document.getElementById(\"93b490e8-b9ca-4079-b3d0-14f0ddf34594\")) {                    Plotly.newPlot(                        \"93b490e8-b9ca-4079-b3d0-14f0ddf34594\",                        [{\"dimensions\": [{\"axis\": {\"matches\": true}, \"label\": \"age\", \"values\": [52, 53, 70, 61, 62, 58, 58, 55, 46, 54, 71, 43, 34, 51, 52, 34, 51, 54, 50, 58, 60, 67, 45, 63, 42, 61, 44, 58, 56, 55, 44, 50, 57, 70, 50, 46, 51, 59, 64, 57, 65, 54, 61, 46, 55, 42, 41, 66, 66, 60, 58, 57, 38, 49, 55, 55, 56, 48, 67, 57, 29, 66, 67, 59, 29, 59, 53, 42, 37, 62, 59, 61, 56, 59, 48, 47, 48, 63, 52, 52, 50, 49, 46, 38, 37, 44, 58, 59, 62, 68, 54, 62, 63, 44, 62, 45, 57, 53, 65, 76, 43, 57, 54, 47, 52, 47, 51, 62, 40, 54, 44, 53, 48, 57, 59, 61, 63, 43, 29, 42, 54, 44, 60, 65, 61, 60, 66, 53, 52, 57, 60, 51, 41, 50, 54, 58, 55, 64, 47, 41, 57, 63, 61, 34, 47, 40, 51, 41, 52, 39, 58, 54, 58, 54, 63, 54, 40, 54, 67, 41, 77, 51, 77, 48, 56, 59, 56, 57, 43, 45, 43, 56, 56, 39, 54, 56, 56, 64, 44, 56, 63, 64, 60, 42, 45, 57, 40, 56, 63, 64, 41, 56, 67, 69, 67, 59, 58, 45, 60, 50, 62, 34, 52, 64, 66, 42, 59, 41, 38, 62, 42, 67, 50, 43, 45, 49, 65, 41, 46, 54, 57, 63, 64, 39, 51, 54, 49, 44, 52, 66, 58, 56, 60, 41, 49, 64, 49, 57, 60, 62, 54, 67, 38, 60, 51, 44, 54, 46, 39, 42, 47, 45, 55, 57, 35, 62, 35, 64, 38, 66, 44, 54, 48, 55, 58, 45, 53, 67, 58, 71, 43, 44, 39, 54, 66, 56, 57, 44, 55, 41, 45, 35, 41, 64, 58, 71, 64, 71, 58, 40, 52, 58, 61, 59, 56, 67, 67, 58, 35, 52, 46, 51, 55, 60, 52, 62, 44, 44, 59, 56, 61, 48, 70, 74, 40, 42, 64, 63, 59, 53, 53, 48, 45, 66, 48, 56, 54, 57, 70, 53, 37, 63, 37, 54, 60, 58, 57, 54, 56, 60, 38, 44, 65, 52, 41, 66, 50, 54, 43, 62, 66, 50, 57, 57, 57, 46, 59, 67, 59, 53, 48, 62, 43, 53, 57, 53, 58, 48, 58, 51, 43, 55, 54, 58, 46, 66, 59, 64, 67, 52, 58, 58, 59, 58, 35, 51, 42, 77, 64, 63, 58, 45, 51, 62, 63, 66, 68, 40, 66, 63, 49, 71, 70, 46, 61, 56, 58, 58, 46, 46, 41, 56, 57, 70, 59, 41, 54, 52, 62, 65, 57, 42, 57, 58, 45, 51, 54, 57, 43, 47, 67, 65, 60, 37, 41, 57, 59, 67, 47, 58, 62, 60, 57, 57, 47, 52, 53, 55, 51, 52, 63, 49, 66, 49, 65, 69, 47, 39, 43, 51, 69, 48, 52, 43, 67, 38, 44, 47, 61, 67, 60, 64, 58, 41, 48, 57, 57, 57, 39, 58, 51, 63, 51, 35, 65, 62, 41, 65, 54, 61, 57, 57, 64, 55, 51, 59, 68, 57, 54, 46, 71, 35, 46, 45, 47, 44, 61, 41, 56, 55, 54, 43, 44, 54, 44, 49, 60, 41, 49, 61, 59, 58, 67, 61, 58, 51, 62, 62, 59, 69, 60, 65, 63, 53, 54, 76, 50, 52, 46, 64, 58, 44, 62, 59, 54, 48, 70, 67, 51, 68, 69, 54, 43, 53, 58, 67, 59, 48, 39, 67, 58, 65, 42, 44, 56, 53, 50, 41, 54, 42, 54, 60, 34, 44, 60, 43, 52, 70, 62, 58, 46, 44, 55, 43, 55, 40, 64, 59, 61, 54, 74, 63, 70, 63, 64, 61, 59, 38, 58, 63, 62, 46, 58, 63, 47, 71, 66, 42, 64, 55, 43, 55, 58, 55, 51, 50, 43, 41, 49, 65, 57, 48, 62, 61, 59, 69, 58, 38, 69, 65, 45, 49, 45, 61, 52, 53, 59, 58, 65, 58, 46, 56, 64, 65, 44, 50, 47, 64, 71, 45, 62, 41, 66, 56, 41, 41, 57, 39, 64, 59, 61, 58, 47, 58, 66, 65, 35, 57, 29, 66, 61, 52, 68, 54, 63, 58, 60, 63, 41, 68, 42, 59, 59, 43, 60, 63, 52, 58, 56, 54, 58, 55, 53, 63, 39, 35, 50, 67, 66, 35, 41, 35, 71, 57, 51, 58, 57, 56, 60, 45, 56, 35, 45, 66, 51, 70, 55, 56, 55, 52, 64, 45, 67, 68, 74, 60, 48, 56, 46, 55, 44, 52, 51, 44, 52, 50, 59, 67, 58, 52, 44, 41, 63, 58, 60, 51, 64, 60, 44, 58, 55, 65, 48, 65, 51, 48, 64, 66, 46, 61, 57, 49, 56, 58, 63, 57, 57, 68, 46, 71, 41, 45, 62, 65, 48, 51, 61, 53, 59, 34, 44, 58, 64, 56, 54, 55, 67, 51, 62, 62, 54, 54, 68, 60, 61, 62, 41, 65, 59, 43, 67, 63, 63, 52, 58, 53, 57, 44, 51, 54, 40, 57, 62, 53, 62, 58, 70, 45, 42, 58, 61, 62, 60, 54, 61, 63, 42, 57, 44, 54, 51, 58, 68, 55, 42, 49, 53, 52, 51, 51, 70, 35, 58, 59, 60, 56, 35, 61, 58, 52, 58, 37, 52, 67, 65, 46, 68, 43, 68, 51, 52, 64, 59, 52, 59, 60, 41, 41, 56, 56, 48, 39, 64, 57, 59, 60, 61, 43, 54, 59, 57, 57, 57, 48, 70, 57, 61, 57, 60, 63, 55, 64, 54, 52, 51, 62, 59, 52, 42, 59, 61, 42, 62, 59, 55, 64, 42, 50, 62, 50, 50, 58, 35, 45, 66, 46, 65, 47, 59, 38, 39, 58, 44, 54, 61, 57, 54, 42, 54, 60, 65, 40, 51, 38, 42, 56, 43, 64, 53, 49, 57, 52, 69, 65, 66, 56, 67, 54, 70, 57, 67, 62, 54, 45, 53, 62, 49, 50, 65, 69, 52, 58, 52, 57, 44, 76, 58, 60, 53, 52, 38, 52, 52, 51, 43, 39, 63, 52, 44, 45, 57, 39, 67, 64, 59, 62, 55, 57, 60, 71, 56, 60, 50, 43, 59, 44, 56, 54, 42, 67, 64, 42, 66, 52, 51, 55, 58, 56, 42, 40, 51, 45, 48, 58, 44, 58, 65, 53, 41, 47, 59, 60, 47, 50, 54]}, {\"axis\": {\"matches\": true}, \"label\": \"sex\", \"values\": [1, 1, 1, 1, 0, 0, 1, 1, 1, 1, 0, 0, 0, 1, 1, 0, 0, 1, 0, 1, 1, 0, 1, 0, 0, 0, 1, 0, 1, 0, 1, 0, 1, 1, 1, 1, 1, 1, 1, 1, 0, 1, 0, 1, 0, 1, 1, 0, 0, 1, 0, 0, 1, 1, 1, 1, 1, 1, 1, 1, 1, 0, 1, 1, 1, 1, 1, 1, 0, 0, 1, 1, 1, 1, 1, 1, 1, 1, 1, 1, 1, 1, 1, 1, 0, 1, 1, 0, 0, 1, 0, 0, 1, 1, 1, 0, 0, 1, 1, 0, 0, 1, 1, 1, 1, 1, 1, 1, 1, 1, 1, 1, 1, 1, 1, 0, 1, 1, 1, 1, 1, 1, 1, 0, 1, 0, 1, 1, 1, 1, 0, 0, 1, 1, 1, 0, 0, 0, 1, 1, 1, 0, 1, 1, 1, 1, 0, 1, 1, 1, 1, 1, 1, 1, 1, 1, 1, 1, 0, 1, 1, 1, 1, 1, 1, 1, 1, 0, 1, 0, 1, 1, 1, 0, 1, 0, 1, 1, 1, 0, 1, 1, 1, 1, 1, 1, 1, 1, 1, 1, 1, 1, 0, 1, 1, 1, 1, 1, 0, 1, 0, 1, 1, 1, 0, 1, 1, 1, 1, 1, 1, 1, 1, 1, 1, 1, 1, 1, 1, 1, 0, 1, 1, 0, 1, 1, 1, 0, 1, 0, 1, 1, 1, 0, 0, 1, 1, 1, 1, 0, 0, 1, 1, 1, 1, 1, 1, 1, 0, 1, 1, 0, 1, 1, 1, 0, 0, 0, 1, 1, 1, 1, 1, 0, 0, 1, 1, 1, 1, 0, 1, 1, 0, 1, 1, 1, 1, 1, 1, 0, 0, 1, 0, 1, 1, 0, 0, 0, 0, 1, 1, 1, 1, 1, 0, 1, 1, 1, 1, 1, 0, 1, 0, 1, 0, 1, 0, 1, 1, 0, 1, 1, 1, 0, 1, 1, 0, 0, 1, 0, 0, 0, 1, 1, 1, 0, 1, 1, 1, 0, 0, 0, 1, 0, 1, 1, 1, 1, 1, 1, 1, 1, 0, 1, 1, 1, 1, 0, 1, 0, 1, 1, 1, 1, 1, 0, 1, 1, 1, 0, 1, 1, 0, 1, 0, 1, 1, 1, 1, 1, 0, 1, 0, 1, 0, 1, 1, 0, 1, 1, 1, 1, 1, 1, 1, 1, 0, 1, 1, 1, 0, 1, 1, 0, 1, 0, 1, 1, 1, 1, 1, 0, 1, 0, 1, 1, 1, 1, 0, 1, 0, 1, 1, 1, 1, 0, 1, 1, 0, 0, 0, 0, 0, 0, 1, 0, 0, 1, 1, 1, 1, 0, 0, 1, 0, 0, 0, 1, 1, 1, 0, 1, 1, 1, 1, 1, 1, 1, 0, 1, 0, 0, 0, 0, 0, 1, 1, 0, 1, 1, 1, 1, 1, 1, 0, 1, 1, 1, 1, 1, 0, 0, 0, 1, 1, 1, 1, 1, 1, 1, 0, 0, 1, 1, 1, 1, 1, 1, 0, 1, 0, 1, 1, 1, 1, 1, 1, 1, 1, 0, 0, 0, 0, 0, 1, 0, 1, 0, 0, 0, 0, 1, 1, 1, 1, 1, 1, 0, 1, 1, 1, 1, 0, 1, 1, 0, 0, 0, 1, 1, 0, 0, 0, 0, 0, 0, 0, 1, 1, 1, 1, 1, 0, 1, 1, 1, 1, 0, 0, 1, 1, 1, 0, 1, 1, 1, 1, 1, 0, 1, 0, 0, 0, 1, 1, 0, 0, 1, 0, 1, 0, 1, 1, 1, 1, 1, 1, 1, 0, 1, 1, 1, 1, 1, 1, 1, 1, 1, 0, 1, 0, 0, 1, 0, 1, 1, 1, 1, 1, 0, 0, 1, 0, 0, 1, 0, 1, 1, 1, 0, 0, 0, 0, 1, 0, 0, 1, 0, 1, 1, 1, 1, 0, 1, 1, 1, 1, 1, 0, 1, 1, 1, 0, 1, 1, 0, 0, 0, 1, 0, 0, 0, 1, 1, 1, 1, 1, 0, 0, 0, 1, 1, 0, 1, 0, 1, 0, 0, 1, 1, 1, 1, 1, 0, 0, 0, 1, 1, 1, 1, 0, 1, 1, 1, 1, 1, 1, 1, 0, 1, 1, 1, 1, 1, 1, 0, 1, 1, 0, 0, 1, 0, 1, 0, 1, 1, 0, 1, 1, 1, 1, 1, 0, 1, 1, 1, 1, 0, 0, 1, 1, 1, 0, 0, 1, 1, 0, 1, 0, 1, 1, 1, 0, 0, 0, 0, 1, 1, 1, 0, 1, 1, 1, 0, 1, 1, 1, 1, 1, 1, 1, 0, 1, 1, 0, 1, 1, 1, 1, 1, 1, 0, 1, 1, 0, 1, 1, 1, 0, 0, 1, 0, 1, 0, 1, 1, 1, 1, 1, 0, 1, 0, 0, 0, 0, 1, 0, 1, 1, 0, 1, 1, 0, 1, 1, 1, 1, 1, 0, 1, 1, 1, 1, 0, 1, 1, 1, 0, 1, 1, 1, 1, 0, 1, 0, 1, 1, 1, 1, 0, 1, 1, 0, 1, 1, 1, 1, 1, 1, 0, 1, 0, 1, 1, 1, 0, 1, 1, 1, 1, 1, 1, 1, 1, 1, 1, 0, 1, 1, 1, 1, 0, 1, 1, 1, 1, 0, 1, 0, 1, 1, 1, 1, 1, 1, 1, 0, 1, 0, 1, 1, 1, 1, 1, 1, 0, 1, 1, 1, 1, 0, 1, 1, 1, 1, 1, 1, 0, 1, 1, 1, 1, 1, 1, 1, 1, 1, 1, 0, 0, 0, 0, 1, 1, 1, 0, 1, 1, 0, 1, 1, 0, 0, 1, 1, 1, 1, 0, 1, 1, 1, 0, 1, 1, 1, 1, 1, 1, 1, 1, 1, 1, 1, 1, 0, 1, 1, 1, 1, 1, 1, 1, 0, 1, 1, 1, 1, 1, 1, 0, 0, 0, 0, 1, 0, 1, 0, 0, 1, 1, 1, 0, 0, 0, 0, 1, 0, 1, 0, 0, 0, 0, 1, 0, 0, 0, 1, 0, 1, 1, 1, 1, 1, 1, 1, 1, 0, 1, 1, 1, 1, 1, 0, 1, 1, 1, 0, 1, 1, 0, 1, 1, 0, 1, 1, 1, 0, 1, 1, 1, 1, 1, 1, 1, 0, 0, 1, 1, 1, 1, 1, 1, 1, 1, 0, 1, 1, 1, 1, 1, 1, 1, 1, 0, 1]}, {\"axis\": {\"matches\": true}, \"label\": \"trestbps\", \"values\": [125, 140, 145, 148, 138, 100, 114, 160, 120, 122, 112, 132, 118, 140, 128, 118, 140, 124, 120, 140, 140, 106, 104, 135, 120, 145, 130, 136, 130, 180, 120, 120, 130, 160, 129, 150, 125, 138, 128, 128, 160, 120, 130, 120, 132, 140, 135, 178, 146, 117, 150, 140, 138, 120, 140, 140, 120, 130, 152, 154, 130, 146, 100, 150, 130, 170, 130, 136, 120, 160, 170, 140, 125, 140, 130, 138, 124, 140, 134, 134, 140, 118, 150, 138, 120, 120, 140, 174, 140, 144, 108, 124, 140, 120, 128, 138, 128, 123, 110, 140, 122, 150, 108, 138, 118, 110, 140, 120, 152, 110, 110, 142, 130, 110, 126, 145, 130, 120, 130, 120, 108, 120, 145, 140, 120, 150, 120, 130, 138, 140, 150, 130, 135, 129, 108, 170, 132, 180, 138, 110, 152, 124, 134, 118, 112, 110, 120, 110, 152, 140, 114, 192, 125, 120, 130, 108, 140, 120, 115, 120, 125, 100, 125, 124, 125, 170, 132, 120, 130, 112, 150, 130, 120, 94, 110, 200, 130, 120, 110, 134, 140, 110, 140, 130, 128, 165, 110, 125, 130, 125, 112, 130, 115, 160, 160, 150, 100, 115, 102, 144, 124, 118, 152, 170, 146, 148, 126, 112, 138, 120, 120, 100, 150, 130, 128, 130, 135, 120, 140, 122, 130, 130, 110, 94, 140, 150, 118, 118, 128, 178, 125, 120, 125, 126, 130, 170, 118, 124, 117, 150, 132, 152, 138, 140, 125, 130, 192, 140, 138, 130, 110, 112, 132, 165, 120, 140, 138, 180, 120, 120, 120, 150, 122, 132, 170, 104, 123, 120, 132, 110, 110, 120, 138, 110, 160, 130, 132, 130, 160, 105, 130, 122, 130, 110, 132, 110, 140, 160, 120, 152, 138, 128, 150, 150, 200, 100, 120, 150, 122, 120, 105, 94, 132, 145, 136, 120, 118, 120, 126, 140, 120, 130, 160, 120, 140, 148, 140, 135, 140, 128, 130, 130, 142, 160, 130, 140, 192, 150, 130, 128, 120, 108, 130, 110, 130, 150, 150, 125, 130, 130, 138, 120, 155, 172, 120, 160, 150, 108, 132, 130, 120, 144, 110, 110, 124, 138, 164, 160, 134, 128, 122, 130, 122, 130, 130, 130, 112, 110, 105, 110, 132, 132, 110, 120, 142, 160, 140, 130, 120, 118, 146, 132, 110, 150, 126, 110, 120, 125, 120, 145, 136, 110, 110, 160, 130, 146, 180, 110, 160, 145, 120, 112, 156, 105, 140, 130, 140, 100, 138, 150, 105, 125, 150, 130, 170, 130, 125, 138, 124, 160, 128, 102, 120, 136, 142, 130, 160, 150, 132, 108, 152, 150, 102, 130, 112, 120, 174, 120, 130, 120, 150, 140, 152, 150, 130, 128, 130, 160, 120, 112, 150, 134, 178, 134, 150, 160, 108, 138, 150, 140, 140, 124, 118, 110, 115, 138, 130, 110, 150, 160, 150, 140, 130, 130, 110, 150, 165, 128, 140, 128, 130, 150, 140, 122, 110, 120, 110, 135, 132, 150, 128, 150, 125, 132, 125, 135, 180, 154, 140, 142, 112, 138, 142, 130, 108, 118, 120, 130, 200, 180, 132, 120, 112, 110, 120, 120, 130, 105, 120, 148, 140, 125, 152, 148, 112, 130, 160, 124, 178, 160, 150, 155, 124, 138, 108, 140, 120, 120, 120, 170, 128, 140, 140, 134, 125, 110, 130, 106, 120, 118, 140, 122, 132, 130, 100, 125, 140, 122, 94, 120, 130, 155, 120, 112, 132, 138, 110, 130, 160, 120, 135, 145, 118, 112, 125, 150, 152, 130, 140, 146, 101, 140, 130, 120, 132, 140, 125, 164, 145, 122, 120, 108, 160, 108, 145, 148, 140, 138, 120, 140, 130, 140, 120, 140, 130, 110, 112, 136, 145, 180, 132, 128, 170, 140, 130, 120, 115, 126, 130, 110, 152, 130, 138, 134, 178, 140, 132, 120, 140, 138, 110, 130, 130, 138, 125, 130, 174, 120, 138, 130, 138, 134, 128, 120, 120, 150, 108, 130, 112, 130, 120, 120, 150, 130, 126, 110, 130, 138, 125, 138, 138, 114, 112, 100, 150, 140, 122, 124, 130, 160, 130, 125, 118, 120, 130, 100, 130, 130, 112, 180, 120, 170, 164, 120, 140, 150, 128, 125, 200, 135, 105, 135, 140, 140, 118, 126, 120, 152, 112, 126, 130, 120, 160, 110, 94, 128, 128, 140, 120, 110, 130, 120, 112, 150, 125, 156, 128, 130, 135, 108, 140, 115, 152, 120, 120, 150, 124, 130, 140, 135, 120, 112, 94, 108, 128, 129, 110, 120, 125, 128, 140, 112, 130, 125, 102, 100, 140, 117, 120, 125, 130, 160, 130, 120, 130, 124, 120, 160, 105, 130, 150, 130, 130, 150, 140, 110, 110, 144, 101, 110, 135, 138, 150, 150, 130, 100, 145, 123, 134, 118, 120, 146, 130, 120, 150, 160, 125, 140, 138, 120, 110, 110, 144, 120, 134, 128, 135, 150, 170, 115, 120, 145, 124, 112, 130, 142, 150, 130, 94, 110, 110, 124, 140, 140, 128, 105, 156, 115, 148, 170, 140, 140, 130, 140, 138, 135, 130, 128, 130, 124, 100, 125, 118, 140, 136, 118, 138, 172, 125, 140, 145, 138, 112, 160, 140, 132, 138, 138, 150, 128, 120, 130, 128, 120, 138, 101, 120, 115, 120, 140, 112, 140, 170, 125, 160, 150, 112, 110, 120, 120, 130, 140, 170, 140, 160, 130, 140, 122, 120, 138, 132, 154, 130, 124, 145, 165, 120, 110, 150, 150, 128, 180, 110, 128, 140, 130, 178, 134, 102, 135, 134, 102, 140, 126, 130, 120, 140, 120, 120, 144, 140, 136, 120, 104, 112, 120, 135, 130, 134, 120, 118, 146, 120, 140, 130, 130, 110, 120, 124, 130, 135, 152, 140, 120, 130, 120, 130, 140, 142, 134, 140, 136, 140, 120, 178, 120, 152, 160, 145, 132, 160, 130, 135, 138, 130, 130, 130, 140, 140, 140, 136, 100, 108, 140, 108, 140, 128, 120, 140, 120, 138, 172, 118, 125, 110, 118, 108, 128, 110, 142, 140, 118, 106, 128, 135, 130, 180, 154, 140, 160, 120, 117, 110, 132, 110, 120, 134, 120, 136, 125, 145, 140, 112, 108, 140, 128, 140, 120, 120, 152, 140, 128, 110, 114, 108, 128, 138, 123, 110, 112, 140, 125, 110, 110, 120]}, {\"axis\": {\"matches\": true}, \"label\": \"chol\", \"values\": [212, 203, 174, 203, 294, 248, 318, 289, 249, 286, 149, 341, 210, 298, 204, 210, 308, 266, 244, 211, 185, 223, 208, 252, 209, 307, 233, 319, 256, 327, 169, 244, 131, 269, 196, 231, 213, 271, 263, 229, 360, 258, 330, 249, 342, 226, 203, 228, 278, 230, 283, 241, 175, 188, 217, 217, 193, 245, 212, 232, 204, 278, 299, 212, 204, 288, 197, 315, 215, 164, 326, 207, 249, 177, 256, 257, 255, 187, 201, 201, 233, 149, 231, 175, 215, 220, 211, 249, 268, 193, 267, 209, 187, 169, 208, 236, 303, 282, 248, 197, 213, 126, 309, 257, 186, 275, 299, 281, 223, 206, 197, 226, 256, 335, 218, 307, 254, 177, 204, 295, 309, 169, 282, 417, 260, 240, 302, 197, 223, 192, 240, 256, 203, 196, 309, 225, 342, 325, 257, 235, 274, 197, 234, 182, 204, 167, 295, 172, 298, 321, 318, 283, 300, 258, 330, 309, 199, 258, 564, 157, 304, 222, 304, 274, 249, 326, 184, 354, 315, 160, 247, 283, 240, 199, 239, 288, 283, 246, 197, 409, 187, 211, 293, 180, 308, 289, 167, 249, 254, 309, 250, 221, 564, 234, 286, 212, 234, 260, 318, 200, 209, 182, 298, 227, 278, 244, 218, 250, 175, 281, 240, 299, 243, 315, 308, 266, 254, 157, 311, 286, 236, 254, 211, 199, 261, 232, 149, 242, 205, 228, 300, 236, 258, 306, 269, 227, 149, 261, 230, 244, 288, 212, 175, 185, 245, 219, 283, 311, 220, 180, 275, 160, 353, 289, 198, 394, 183, 325, 231, 302, 226, 232, 222, 342, 225, 208, 282, 237, 224, 265, 211, 263, 220, 206, 228, 283, 207, 219, 289, 198, 234, 192, 204, 211, 224, 265, 313, 302, 340, 223, 223, 259, 243, 212, 288, 299, 237, 270, 192, 325, 204, 227, 342, 282, 196, 267, 242, 220, 218, 294, 260, 256, 269, 269, 199, 244, 313, 252, 177, 216, 264, 275, 309, 246, 245, 294, 283, 276, 322, 216, 215, 269, 250, 214, 206, 270, 126, 273, 256, 253, 175, 226, 269, 199, 157, 246, 243, 267, 247, 263, 302, 200, 335, 201, 261, 243, 176, 286, 204, 216, 222, 231, 213, 246, 236, 246, 230, 229, 240, 175, 341, 353, 214, 284, 177, 228, 221, 303, 237, 186, 218, 224, 239, 270, 282, 175, 209, 304, 246, 233, 319, 264, 175, 164, 330, 278, 274, 167, 228, 233, 188, 149, 245, 204, 207, 256, 211, 234, 243, 231, 198, 249, 276, 322, 288, 204, 273, 223, 209, 360, 303, 265, 354, 319, 309, 305, 201, 168, 247, 243, 212, 225, 318, 250, 268, 354, 249, 229, 253, 284, 244, 293, 274, 168, 253, 205, 246, 289, 295, 230, 407, 271, 228, 271, 225, 234, 243, 220, 247, 261, 254, 255, 186, 211, 564, 175, 219, 275, 243, 286, 240, 313, 197, 214, 229, 126, 289, 229, 321, 216, 305, 407, 298, 192, 248, 281, 172, 254, 288, 243, 303, 168, 309, 353, 245, 234, 274, 232, 239, 177, 149, 183, 177, 234, 243, 242, 260, 204, 288, 327, 288, 177, 290, 206, 220, 188, 206, 198, 188, 203, 177, 220, 277, 203, 230, 256, 164, 209, 270, 234, 258, 269, 197, 234, 267, 197, 219, 325, 249, 227, 259, 235, 394, 204, 273, 229, 322, 223, 295, 277, 254, 286, 341, 197, 234, 254, 177, 222, 199, 237, 197, 269, 209, 290, 184, 234, 254, 214, 201, 240, 304, 282, 182, 290, 258, 247, 298, 322, 394, 218, 197, 235, 262, 177, 353, 199, 309, 176, 307, 286, 269, 269, 269, 269, 212, 203, 221, 175, 284, 195, 263, 311, 340, 195, 253, 265, 212, 315, 212, 327, 341, 205, 225, 217, 305, 219, 303, 306, 266, 248, 274, 256, 294, 234, 270, 254, 224, 231, 239, 282, 264, 266, 234, 166, 212, 264, 249, 340, 282, 197, 243, 409, 263, 177, 226, 243, 243, 303, 149, 234, 267, 157, 226, 283, 306, 235, 236, 220, 309, 271, 166, 318, 204, 248, 226, 417, 192, 261, 204, 246, 330, 212, 277, 258, 330, 234, 253, 254, 268, 274, 295, 326, 176, 177, 185, 407, 204, 300, 288, 304, 240, 250, 203, 195, 219, 282, 219, 212, 212, 282, 214, 198, 302, 201, 227, 216, 229, 294, 178, 264, 221, 198, 160, 226, 213, 245, 205, 256, 250, 233, 335, 260, 277, 211, 269, 258, 274, 221, 311, 250, 220, 230, 227, 141, 204, 196, 239, 229, 300, 255, 235, 268, 330, 220, 318, 222, 335, 230, 226, 220, 262, 360, 245, 177, 256, 255, 246, 228, 204, 330, 276, 269, 221, 283, 187, 335, 335, 193, 197, 265, 203, 236, 244, 225, 275, 222, 307, 282, 204, 210, 169, 218, 303, 240, 232, 289, 254, 298, 294, 281, 239, 239, 193, 178, 234, 208, 203, 225, 288, 303, 229, 233, 197, 230, 197, 226, 276, 233, 227, 214, 167, 261, 268, 203, 208, 240, 245, 260, 244, 225, 207, 268, 253, 239, 166, 252, 180, 229, 233, 266, 222, 220, 277, 217, 315, 149, 234, 199, 213, 261, 174, 183, 230, 273, 293, 184, 183, 166, 283, 255, 284, 250, 255, 229, 282, 197, 211, 303, 211, 299, 230, 335, 288, 212, 273, 240, 250, 235, 240, 236, 275, 321, 227, 192, 273, 206, 207, 213, 188, 271, 207, 232, 131, 274, 174, 289, 260, 201, 258, 407, 205, 325, 239, 204, 299, 263, 270, 201, 265, 234, 234, 265, 268, 218, 262, 246, 226, 244, 267, 200, 233, 319, 198, 208, 212, 249, 254, 253, 204, 231, 219, 218, 263, 239, 330, 131, 206, 240, 266, 206, 254, 223, 308, 231, 180, 240, 315, 335, 226, 271, 241, 196, 239, 177, 228, 193, 277, 201, 174, 207, 286, 263, 304, 236, 264, 231, 269, 233, 417, 239, 196, 248, 233, 241, 141, 197, 259, 178, 203, 325, 175, 199, 186, 245, 211, 219, 269, 205, 197, 309, 192, 219, 223, 263, 234, 231, 327, 232, 293, 302, 236, 230, 254, 247, 239, 263, 409, 188, 315, 254, 212, 226, 212, 233, 308, 205, 211, 193, 295, 223, 299, 308, 229, 318, 141, 216, 282, 282, 172, 204, 221, 258, 275, 254, 188]}, {\"axis\": {\"matches\": true}, \"label\": \"thalach\", \"values\": [168, 155, 125, 161, 106, 122, 140, 145, 144, 116, 125, 136, 192, 122, 156, 192, 142, 109, 162, 165, 155, 142, 148, 172, 173, 146, 179, 152, 142, 117, 144, 162, 115, 112, 163, 147, 125, 182, 105, 150, 151, 147, 169, 144, 166, 178, 132, 165, 152, 160, 162, 123, 173, 139, 111, 111, 162, 180, 150, 164, 202, 152, 125, 157, 202, 159, 152, 125, 170, 145, 140, 138, 144, 162, 150, 156, 175, 144, 158, 158, 163, 126, 147, 173, 170, 170, 165, 143, 160, 141, 167, 163, 144, 144, 140, 152, 159, 95, 158, 116, 165, 173, 156, 156, 190, 118, 173, 103, 181, 108, 177, 111, 150, 143, 134, 146, 147, 120, 202, 162, 156, 144, 142, 157, 140, 171, 151, 152, 169, 148, 171, 149, 132, 163, 156, 146, 166, 154, 156, 153, 88, 136, 145, 174, 143, 114, 157, 158, 178, 182, 140, 195, 171, 147, 132, 156, 178, 147, 160, 182, 162, 143, 162, 166, 144, 140, 105, 163, 162, 138, 171, 103, 169, 179, 126, 133, 103, 96, 177, 150, 144, 144, 170, 150, 170, 124, 114, 144, 147, 131, 179, 163, 160, 131, 108, 157, 156, 185, 160, 126, 163, 174, 178, 155, 152, 178, 134, 179, 173, 103, 194, 125, 128, 162, 170, 171, 127, 182, 120, 116, 174, 147, 144, 179, 186, 165, 126, 149, 184, 165, 171, 178, 141, 163, 163, 155, 126, 141, 160, 154, 159, 150, 173, 155, 166, 188, 195, 120, 152, 150, 118, 138, 132, 124, 130, 157, 182, 154, 182, 151, 169, 165, 186, 166, 146, 148, 95, 71, 173, 130, 161, 173, 152, 108, 138, 103, 168, 188, 145, 168, 175, 174, 172, 144, 173, 130, 133, 162, 172, 181, 169, 130, 137, 157, 133, 125, 71, 111, 174, 172, 172, 154, 166, 142, 169, 99, 149, 170, 134, 153, 140, 150, 112, 121, 178, 178, 133, 172, 162, 115, 143, 139, 147, 120, 180, 153, 195, 112, 109, 115, 170, 169, 187, 158, 132, 111, 173, 152, 142, 144, 173, 169, 148, 162, 182, 120, 128, 167, 143, 97, 151, 126, 143, 126, 141, 152, 90, 108, 162, 115, 186, 146, 165, 173, 174, 173, 165, 168, 154, 123, 136, 132, 158, 160, 160, 138, 164, 122, 71, 190, 105, 173, 142, 111, 156, 123, 173, 162, 96, 150, 152, 132, 123, 145, 132, 152, 150, 114, 138, 150, 139, 125, 143, 172, 138, 142, 165, 156, 152, 147, 168, 144, 112, 109, 159, 172, 152, 169, 163, 151, 159, 122, 163, 152, 147, 142, 163, 174, 143, 152, 150, 114, 160, 187, 172, 163, 143, 129, 179, 160, 154, 170, 88, 174, 179, 184, 173, 145, 157, 160, 154, 162, 165, 162, 114, 131, 152, 152, 171, 186, 146, 175, 190, 161, 160, 173, 188, 118, 137, 108, 171, 133, 131, 168, 168, 173, 124, 150, 182, 131, 142, 154, 122, 174, 158, 103, 158, 127, 159, 137, 159, 174, 131, 132, 166, 161, 150, 164, 160, 160, 125, 182, 160, 175, 152, 149, 140, 172, 133, 117, 159, 120, 153, 108, 170, 139, 132, 168, 139, 161, 162, 144, 172, 161, 165, 149, 145, 163, 145, 131, 157, 148, 136, 160, 167, 116, 158, 172, 144, 155, 130, 180, 157, 162, 152, 168, 109, 142, 157, 151, 146, 116, 136, 152, 156, 163, 162, 186, 179, 71, 131, 148, 173, 153, 105, 160, 159, 168, 163, 194, 170, 142, 174, 153, 141, 171, 178, 109, 157, 105, 156, 180, 155, 120, 132, 178, 131, 90, 146, 116, 121, 169, 112, 169, 132, 161, 164, 173, 160, 179, 97, 120, 172, 179, 179, 130, 132, 125, 132, 117, 136, 130, 146, 111, 142, 158, 181, 163, 171, 158, 88, 150, 106, 145, 145, 146, 173, 182, 151, 174, 132, 171, 175, 125, 168, 143, 143, 172, 174, 131, 152, 150, 105, 140, 169, 128, 152, 122, 125, 175, 99, 182, 114, 103, 163, 153, 174, 152, 131, 182, 125, 140, 143, 122, 114, 157, 174, 141, 202, 120, 169, 168, 151, 147, 132, 156, 144, 147, 172, 150, 162, 140, 90, 120, 155, 154, 156, 171, 133, 170, 154, 161, 155, 179, 140, 156, 158, 150, 132, 156, 168, 130, 162, 126, 154, 131, 150, 153, 96, 132, 163, 130, 138, 114, 125, 143, 130, 142, 161, 147, 158, 185, 172, 115, 121, 157, 166, 163, 120, 161, 170, 160, 154, 175, 156, 163, 142, 129, 171, 161, 180, 172, 132, 144, 160, 143, 158, 160, 169, 144, 155, 151, 180, 140, 149, 175, 96, 138, 172, 169, 112, 163, 163, 162, 144, 143, 143, 141, 156, 130, 132, 152, 154, 114, 139, 143, 146, 95, 162, 192, 144, 105, 122, 169, 165, 145, 163, 122, 106, 103, 126, 126, 141, 96, 145, 140, 132, 114, 159, 181, 129, 150, 136, 160, 131, 111, 112, 179, 154, 158, 114, 141, 160, 155, 140, 154, 143, 185, 178, 146, 138, 160, 144, 160, 125, 172, 150, 150, 179, 109, 143, 144, 151, 111, 125, 126, 160, 162, 125, 186, 125, 182, 165, 125, 170, 105, 182, 125, 162, 161, 160, 187, 161, 129, 174, 156, 115, 181, 115, 173, 160, 158, 159, 168, 125, 171, 179, 153, 169, 178, 139, 182, 155, 148, 125, 132, 138, 165, 113, 182, 168, 164, 115, 166, 125, 124, 140, 126, 157, 154, 130, 154, 126, 156, 173, 97, 145, 158, 122, 161, 145, 122, 160, 134, 155, 96, 178, 162, 99, 126, 163, 152, 130, 148, 132, 144, 127, 179, 162, 182, 140, 105, 173, 160, 169, 115, 108, 194, 109, 132, 127, 181, 142, 182, 150, 169, 162, 158, 111, 162, 123, 169, 151, 140, 165, 162, 172, 163, 125, 168, 108, 97, 170, 152, 143, 146, 163, 163, 157, 151, 169, 122, 147, 123, 175, 116, 130, 96, 155, 172, 173, 162, 190, 166, 161, 140, 169, 184, 177, 147, 148, 140, 142, 105, 161, 146, 117, 164, 170, 162, 178, 160, 159, 143, 142, 173, 150, 113, 125, 163, 132, 178, 132, 147, 142, 130, 165, 162, 162, 181, 173, 170, 168, 140, 175, 131, 174, 95, 158, 143, 164, 141, 118, 159, 113]}], \"hovertemplate\": \"%{xaxis.title.text}=%{x}<br>%{yaxis.title.text}=%{y}<br>Heart Disease Presence=%{marker.color}<extra></extra>\", \"legendgroup\": \"\", \"marker\": {\"color\": [0, 0, 0, 0, 0, 1, 0, 0, 0, 0, 1, 0, 1, 0, 0, 1, 1, 0, 1, 1, 0, 1, 1, 1, 1, 0, 1, 0, 0, 0, 0, 1, 0, 0, 1, 0, 1, 1, 1, 0, 1, 1, 0, 0, 1, 1, 1, 0, 1, 0, 1, 0, 1, 0, 0, 0, 1, 1, 0, 0, 1, 1, 0, 1, 1, 0, 1, 0, 1, 0, 0, 0, 0, 0, 0, 1, 1, 0, 1, 1, 0, 0, 0, 1, 1, 1, 1, 0, 0, 0, 1, 1, 0, 0, 1, 1, 1, 0, 0, 1, 1, 1, 1, 1, 1, 0, 0, 0, 0, 0, 0, 1, 0, 0, 0, 0, 0, 0, 1, 1, 1, 0, 0, 1, 0, 1, 1, 1, 1, 1, 1, 1, 1, 1, 1, 0, 1, 1, 1, 1, 0, 0, 0, 1, 1, 0, 1, 0, 1, 1, 0, 0, 0, 1, 0, 1, 1, 1, 1, 1, 0, 1, 0, 0, 0, 0, 0, 1, 1, 1, 1, 0, 1, 1, 0, 0, 0, 0, 0, 0, 0, 1, 0, 1, 1, 0, 0, 0, 0, 0, 1, 1, 1, 1, 0, 1, 0, 1, 1, 0, 1, 1, 1, 1, 1, 1, 0, 1, 1, 0, 1, 0, 0, 1, 1, 1, 0, 1, 0, 0, 0, 0, 1, 1, 1, 1, 0, 1, 1, 0, 0, 1, 0, 1, 1, 1, 0, 0, 0, 0, 1, 0, 1, 0, 1, 1, 0, 0, 1, 1, 0, 1, 0, 0, 0, 1, 1, 1, 0, 1, 1, 1, 1, 1, 0, 1, 0, 0, 0, 1, 1, 1, 1, 0, 1, 0, 1, 1, 0, 1, 1, 1, 1, 1, 0, 1, 1, 1, 1, 0, 1, 0, 1, 1, 0, 0, 0, 0, 1, 1, 1, 1, 1, 0, 1, 0, 1, 1, 0, 1, 0, 0, 0, 1, 1, 1, 1, 1, 0, 1, 1, 1, 0, 0, 1, 1, 0, 0, 0, 1, 1, 0, 1, 1, 0, 0, 1, 1, 0, 0, 1, 1, 1, 1, 1, 0, 0, 1, 0, 0, 1, 0, 0, 1, 0, 1, 0, 0, 0, 1, 1, 1, 1, 1, 0, 1, 0, 0, 1, 1, 0, 0, 1, 0, 1, 1, 1, 1, 0, 1, 0, 0, 0, 0, 0, 1, 1, 0, 0, 1, 0, 0, 1, 0, 0, 1, 0, 0, 1, 1, 0, 1, 1, 1, 0, 0, 1, 0, 1, 0, 1, 0, 0, 0, 0, 1, 1, 1, 1, 1, 1, 1, 1, 0, 0, 0, 1, 1, 0, 0, 0, 0, 1, 1, 1, 1, 0, 0, 1, 0, 0, 0, 0, 1, 1, 1, 1, 0, 1, 0, 0, 1, 0, 1, 0, 1, 0, 1, 1, 1, 0, 1, 1, 1, 1, 1, 1, 0, 1, 0, 1, 1, 1, 1, 0, 1, 0, 0, 1, 0, 0, 0, 0, 1, 0, 0, 0, 0, 1, 1, 1, 1, 0, 0, 1, 1, 0, 0, 1, 1, 1, 1, 1, 1, 0, 1, 0, 1, 0, 0, 1, 0, 0, 0, 1, 0, 0, 1, 0, 0, 0, 1, 1, 0, 0, 1, 0, 1, 1, 1, 0, 1, 0, 1, 1, 1, 1, 1, 0, 1, 0, 1, 1, 0, 1, 0, 0, 1, 1, 1, 0, 0, 0, 1, 0, 0, 0, 1, 1, 0, 1, 1, 1, 0, 0, 1, 1, 1, 1, 1, 1, 0, 1, 0, 0, 1, 1, 0, 1, 0, 1, 1, 1, 0, 0, 1, 0, 0, 0, 0, 1, 0, 0, 0, 0, 0, 1, 1, 0, 1, 0, 0, 1, 1, 1, 1, 0, 0, 0, 0, 0, 0, 0, 0, 0, 1, 1, 1, 1, 0, 0, 0, 0, 0, 1, 0, 0, 0, 1, 0, 0, 1, 1, 0, 0, 1, 0, 1, 0, 1, 1, 0, 1, 1, 1, 0, 0, 1, 1, 1, 0, 1, 1, 0, 1, 1, 0, 1, 0, 1, 0, 0, 1, 1, 1, 1, 1, 0, 1, 0, 0, 0, 1, 1, 0, 0, 0, 0, 1, 0, 1, 0, 0, 0, 0, 0, 0, 0, 0, 1, 1, 1, 0, 1, 0, 0, 1, 0, 0, 0, 1, 0, 1, 1, 1, 0, 0, 1, 1, 0, 1, 0, 1, 1, 1, 1, 0, 0, 1, 1, 0, 1, 1, 1, 1, 0, 0, 1, 0, 1, 1, 0, 1, 1, 0, 1, 0, 0, 0, 0, 1, 1, 0, 1, 1, 1, 0, 0, 1, 1, 1, 1, 1, 1, 1, 1, 0, 1, 1, 0, 0, 1, 1, 1, 0, 0, 0, 0, 1, 1, 1, 1, 0, 0, 1, 1, 0, 0, 0, 1, 0, 0, 1, 1, 1, 0, 0, 0, 0, 0, 0, 0, 0, 1, 0, 1, 1, 0, 0, 1, 0, 1, 0, 0, 1, 1, 0, 1, 1, 1, 0, 0, 0, 0, 1, 1, 1, 1, 1, 0, 0, 0, 0, 1, 0, 1, 1, 0, 1, 0, 1, 1, 1, 0, 0, 0, 1, 1, 1, 1, 0, 1, 0, 0, 0, 0, 1, 0, 1, 0, 0, 1, 0, 0, 0, 1, 1, 1, 1, 0, 0, 0, 0, 0, 0, 1, 1, 1, 1, 1, 1, 1, 1, 1, 0, 0, 0, 1, 0, 1, 1, 0, 0, 0, 0, 0, 0, 1, 0, 0, 0, 1, 0, 0, 0, 0, 1, 1, 1, 1, 0, 1, 0, 0, 1, 0, 1, 1, 0, 0, 0, 0, 0, 1, 0, 0, 0, 1, 0, 0, 0, 0, 1, 1, 0, 0, 0, 1, 0, 0, 0, 0, 1, 0, 1, 1, 1, 0, 1, 1, 0, 1, 1, 1, 0, 1, 1, 1, 0, 1, 0, 0, 1, 1, 1, 1, 1, 0, 1, 1, 1, 1, 1, 0, 1, 1, 0, 1, 0, 1, 1, 1, 1, 1, 1, 0, 0, 1, 0, 0, 1, 0, 1, 1, 1, 1, 0, 0, 0, 1, 1, 0, 1, 0, 0, 1, 0, 0, 0, 0, 0, 1, 0, 1, 1, 0, 1, 1, 1, 0, 0, 1, 0, 0, 1, 0, 0, 0, 0, 1, 1, 0, 0, 1, 0], \"coloraxis\": \"coloraxis\", \"symbol\": \"circle\"}, \"name\": \"\", \"showlegend\": false, \"type\": \"splom\"}],                        {\"coloraxis\": {\"colorbar\": {\"title\": {\"text\": \"Heart Disease Presence\"}}, \"colorscale\": [[0.0, \"#0d0887\"], [0.1111111111111111, \"#46039f\"], [0.2222222222222222, \"#7201a8\"], [0.3333333333333333, \"#9c179e\"], [0.4444444444444444, \"#bd3786\"], [0.5555555555555556, \"#d8576b\"], [0.6666666666666666, \"#ed7953\"], [0.7777777777777778, \"#fb9f3a\"], [0.8888888888888888, \"#fdca26\"], [1.0, \"#f0f921\"]]}, \"dragmode\": \"select\", \"legend\": {\"tracegroupgap\": 0}, \"template\": {\"data\": {\"bar\": [{\"error_x\": {\"color\": \"#2a3f5f\"}, \"error_y\": {\"color\": \"#2a3f5f\"}, \"marker\": {\"line\": {\"color\": \"#E5ECF6\", \"width\": 0.5}}, \"type\": \"bar\"}], \"barpolar\": [{\"marker\": {\"line\": {\"color\": \"#E5ECF6\", \"width\": 0.5}}, \"type\": \"barpolar\"}], \"carpet\": [{\"aaxis\": {\"endlinecolor\": \"#2a3f5f\", \"gridcolor\": \"white\", \"linecolor\": \"white\", \"minorgridcolor\": \"white\", \"startlinecolor\": \"#2a3f5f\"}, \"baxis\": {\"endlinecolor\": \"#2a3f5f\", \"gridcolor\": \"white\", \"linecolor\": \"white\", \"minorgridcolor\": \"white\", \"startlinecolor\": \"#2a3f5f\"}, \"type\": \"carpet\"}], \"choropleth\": [{\"colorbar\": {\"outlinewidth\": 0, \"ticks\": \"\"}, \"type\": \"choropleth\"}], \"contour\": [{\"colorbar\": {\"outlinewidth\": 0, \"ticks\": \"\"}, \"colorscale\": [[0.0, \"#0d0887\"], [0.1111111111111111, \"#46039f\"], [0.2222222222222222, \"#7201a8\"], [0.3333333333333333, \"#9c179e\"], [0.4444444444444444, \"#bd3786\"], [0.5555555555555556, \"#d8576b\"], [0.6666666666666666, \"#ed7953\"], [0.7777777777777778, \"#fb9f3a\"], [0.8888888888888888, \"#fdca26\"], [1.0, \"#f0f921\"]], \"type\": \"contour\"}], \"contourcarpet\": [{\"colorbar\": {\"outlinewidth\": 0, \"ticks\": \"\"}, \"type\": \"contourcarpet\"}], \"heatmap\": [{\"colorbar\": {\"outlinewidth\": 0, \"ticks\": \"\"}, \"colorscale\": [[0.0, \"#0d0887\"], [0.1111111111111111, \"#46039f\"], [0.2222222222222222, \"#7201a8\"], [0.3333333333333333, \"#9c179e\"], [0.4444444444444444, \"#bd3786\"], [0.5555555555555556, \"#d8576b\"], [0.6666666666666666, \"#ed7953\"], [0.7777777777777778, \"#fb9f3a\"], [0.8888888888888888, \"#fdca26\"], [1.0, \"#f0f921\"]], \"type\": \"heatmap\"}], \"heatmapgl\": [{\"colorbar\": {\"outlinewidth\": 0, \"ticks\": \"\"}, \"colorscale\": [[0.0, \"#0d0887\"], [0.1111111111111111, \"#46039f\"], [0.2222222222222222, \"#7201a8\"], [0.3333333333333333, \"#9c179e\"], [0.4444444444444444, \"#bd3786\"], [0.5555555555555556, \"#d8576b\"], [0.6666666666666666, \"#ed7953\"], [0.7777777777777778, \"#fb9f3a\"], [0.8888888888888888, \"#fdca26\"], [1.0, \"#f0f921\"]], \"type\": \"heatmapgl\"}], \"histogram\": [{\"marker\": {\"colorbar\": {\"outlinewidth\": 0, \"ticks\": \"\"}}, \"type\": \"histogram\"}], \"histogram2d\": [{\"colorbar\": {\"outlinewidth\": 0, \"ticks\": \"\"}, \"colorscale\": [[0.0, \"#0d0887\"], [0.1111111111111111, \"#46039f\"], [0.2222222222222222, \"#7201a8\"], [0.3333333333333333, \"#9c179e\"], [0.4444444444444444, \"#bd3786\"], [0.5555555555555556, \"#d8576b\"], [0.6666666666666666, \"#ed7953\"], [0.7777777777777778, \"#fb9f3a\"], [0.8888888888888888, \"#fdca26\"], [1.0, \"#f0f921\"]], \"type\": \"histogram2d\"}], \"histogram2dcontour\": [{\"colorbar\": {\"outlinewidth\": 0, \"ticks\": \"\"}, \"colorscale\": [[0.0, \"#0d0887\"], [0.1111111111111111, \"#46039f\"], [0.2222222222222222, \"#7201a8\"], [0.3333333333333333, \"#9c179e\"], [0.4444444444444444, \"#bd3786\"], [0.5555555555555556, \"#d8576b\"], [0.6666666666666666, \"#ed7953\"], [0.7777777777777778, \"#fb9f3a\"], [0.8888888888888888, \"#fdca26\"], [1.0, \"#f0f921\"]], \"type\": \"histogram2dcontour\"}], \"mesh3d\": [{\"colorbar\": {\"outlinewidth\": 0, \"ticks\": \"\"}, \"type\": \"mesh3d\"}], \"parcoords\": [{\"line\": {\"colorbar\": {\"outlinewidth\": 0, \"ticks\": \"\"}}, \"type\": \"parcoords\"}], \"pie\": [{\"automargin\": true, \"type\": \"pie\"}], \"scatter\": [{\"marker\": {\"colorbar\": {\"outlinewidth\": 0, \"ticks\": \"\"}}, \"type\": \"scatter\"}], \"scatter3d\": [{\"line\": {\"colorbar\": {\"outlinewidth\": 0, \"ticks\": \"\"}}, \"marker\": {\"colorbar\": {\"outlinewidth\": 0, \"ticks\": \"\"}}, \"type\": \"scatter3d\"}], \"scattercarpet\": [{\"marker\": {\"colorbar\": {\"outlinewidth\": 0, \"ticks\": \"\"}}, \"type\": \"scattercarpet\"}], \"scattergeo\": [{\"marker\": {\"colorbar\": {\"outlinewidth\": 0, \"ticks\": \"\"}}, \"type\": \"scattergeo\"}], \"scattergl\": [{\"marker\": {\"colorbar\": {\"outlinewidth\": 0, \"ticks\": \"\"}}, \"type\": \"scattergl\"}], \"scattermapbox\": [{\"marker\": {\"colorbar\": {\"outlinewidth\": 0, \"ticks\": \"\"}}, \"type\": \"scattermapbox\"}], \"scatterpolar\": [{\"marker\": {\"colorbar\": {\"outlinewidth\": 0, \"ticks\": \"\"}}, \"type\": \"scatterpolar\"}], \"scatterpolargl\": [{\"marker\": {\"colorbar\": {\"outlinewidth\": 0, \"ticks\": \"\"}}, \"type\": \"scatterpolargl\"}], \"scatterternary\": [{\"marker\": {\"colorbar\": {\"outlinewidth\": 0, \"ticks\": \"\"}}, \"type\": \"scatterternary\"}], \"surface\": [{\"colorbar\": {\"outlinewidth\": 0, \"ticks\": \"\"}, \"colorscale\": [[0.0, \"#0d0887\"], [0.1111111111111111, \"#46039f\"], [0.2222222222222222, \"#7201a8\"], [0.3333333333333333, \"#9c179e\"], [0.4444444444444444, \"#bd3786\"], [0.5555555555555556, \"#d8576b\"], [0.6666666666666666, \"#ed7953\"], [0.7777777777777778, \"#fb9f3a\"], [0.8888888888888888, \"#fdca26\"], [1.0, \"#f0f921\"]], \"type\": \"surface\"}], \"table\": [{\"cells\": {\"fill\": {\"color\": \"#EBF0F8\"}, \"line\": {\"color\": \"white\"}}, \"header\": {\"fill\": {\"color\": \"#C8D4E3\"}, \"line\": {\"color\": \"white\"}}, \"type\": \"table\"}]}, \"layout\": {\"annotationdefaults\": {\"arrowcolor\": \"#2a3f5f\", \"arrowhead\": 0, \"arrowwidth\": 1}, \"autotypenumbers\": \"strict\", \"coloraxis\": {\"colorbar\": {\"outlinewidth\": 0, \"ticks\": \"\"}}, \"colorscale\": {\"diverging\": [[0, \"#8e0152\"], [0.1, \"#c51b7d\"], [0.2, \"#de77ae\"], [0.3, \"#f1b6da\"], [0.4, \"#fde0ef\"], [0.5, \"#f7f7f7\"], [0.6, \"#e6f5d0\"], [0.7, \"#b8e186\"], [0.8, \"#7fbc41\"], [0.9, \"#4d9221\"], [1, \"#276419\"]], \"sequential\": [[0.0, \"#0d0887\"], [0.1111111111111111, \"#46039f\"], [0.2222222222222222, \"#7201a8\"], [0.3333333333333333, \"#9c179e\"], [0.4444444444444444, \"#bd3786\"], [0.5555555555555556, \"#d8576b\"], [0.6666666666666666, \"#ed7953\"], [0.7777777777777778, \"#fb9f3a\"], [0.8888888888888888, \"#fdca26\"], [1.0, \"#f0f921\"]], \"sequentialminus\": [[0.0, \"#0d0887\"], [0.1111111111111111, \"#46039f\"], [0.2222222222222222, \"#7201a8\"], [0.3333333333333333, \"#9c179e\"], [0.4444444444444444, \"#bd3786\"], [0.5555555555555556, \"#d8576b\"], [0.6666666666666666, \"#ed7953\"], [0.7777777777777778, \"#fb9f3a\"], [0.8888888888888888, \"#fdca26\"], [1.0, \"#f0f921\"]]}, \"colorway\": [\"#636efa\", \"#EF553B\", \"#00cc96\", \"#ab63fa\", \"#FFA15A\", \"#19d3f3\", \"#FF6692\", \"#B6E880\", \"#FF97FF\", \"#FECB52\"], \"font\": {\"color\": \"#2a3f5f\"}, \"geo\": {\"bgcolor\": \"white\", \"lakecolor\": \"white\", \"landcolor\": \"#E5ECF6\", \"showlakes\": true, \"showland\": true, \"subunitcolor\": \"white\"}, \"hoverlabel\": {\"align\": \"left\"}, \"hovermode\": \"closest\", \"mapbox\": {\"style\": \"light\"}, \"paper_bgcolor\": \"white\", \"plot_bgcolor\": \"#E5ECF6\", \"polar\": {\"angularaxis\": {\"gridcolor\": \"white\", \"linecolor\": \"white\", \"ticks\": \"\"}, \"bgcolor\": \"#E5ECF6\", \"radialaxis\": {\"gridcolor\": \"white\", \"linecolor\": \"white\", \"ticks\": \"\"}}, \"scene\": {\"xaxis\": {\"backgroundcolor\": \"#E5ECF6\", \"gridcolor\": \"white\", \"gridwidth\": 2, \"linecolor\": \"white\", \"showbackground\": true, \"ticks\": \"\", \"zerolinecolor\": \"white\"}, \"yaxis\": {\"backgroundcolor\": \"#E5ECF6\", \"gridcolor\": \"white\", \"gridwidth\": 2, \"linecolor\": \"white\", \"showbackground\": true, \"ticks\": \"\", \"zerolinecolor\": \"white\"}, \"zaxis\": {\"backgroundcolor\": \"#E5ECF6\", \"gridcolor\": \"white\", \"gridwidth\": 2, \"linecolor\": \"white\", \"showbackground\": true, \"ticks\": \"\", \"zerolinecolor\": \"white\"}}, \"shapedefaults\": {\"line\": {\"color\": \"#2a3f5f\"}}, \"ternary\": {\"aaxis\": {\"gridcolor\": \"white\", \"linecolor\": \"white\", \"ticks\": \"\"}, \"baxis\": {\"gridcolor\": \"white\", \"linecolor\": \"white\", \"ticks\": \"\"}, \"bgcolor\": \"#E5ECF6\", \"caxis\": {\"gridcolor\": \"white\", \"linecolor\": \"white\", \"ticks\": \"\"}}, \"title\": {\"x\": 0.05}, \"xaxis\": {\"automargin\": true, \"gridcolor\": \"white\", \"linecolor\": \"white\", \"ticks\": \"\", \"title\": {\"standoff\": 15}, \"zerolinecolor\": \"white\", \"zerolinewidth\": 2}, \"yaxis\": {\"automargin\": true, \"gridcolor\": \"white\", \"linecolor\": \"white\", \"ticks\": \"\", \"title\": {\"standoff\": 15}, \"zerolinecolor\": \"white\", \"zerolinewidth\": 2}}}, \"title\": {\"text\": \"Pair Plot of Selected Features\"}},                        {\"responsive\": true}                    ).then(function(){\n",
       "                            \n",
       "var gd = document.getElementById('93b490e8-b9ca-4079-b3d0-14f0ddf34594');\n",
       "var x = new MutationObserver(function (mutations, observer) {{\n",
       "        var display = window.getComputedStyle(gd).display;\n",
       "        if (!display || display === 'none') {{\n",
       "            console.log([gd, 'removed!']);\n",
       "            Plotly.purge(gd);\n",
       "            observer.disconnect();\n",
       "        }}\n",
       "}});\n",
       "\n",
       "// Listen for the removal of the full notebook cells\n",
       "var notebookContainer = gd.closest('#notebook-container');\n",
       "if (notebookContainer) {{\n",
       "    x.observe(notebookContainer, {childList: true});\n",
       "}}\n",
       "\n",
       "// Listen for the clearing of the current output cell\n",
       "var outputEl = gd.closest('.output');\n",
       "if (outputEl) {{\n",
       "    x.observe(outputEl, {childList: true});\n",
       "}}\n",
       "\n",
       "                        })                };                });            </script>        </div>"
      ]
     },
     "metadata": {},
     "output_type": "display_data"
    }
   ],
   "source": [
    "# Create a pair plot using Plotly Express\n",
    "fig = px.scatter_matrix(heart, dimensions=[\"age\",\"sex\", \"trestbps\", \"chol\", \"thalach\"], color=\"disease\", title=\"Pair Plot of Selected Features\", labels={\"disease\": \"Heart Disease Presence\"})\n",
    "\n",
    "fig.show()"
   ]
  },
  {
   "cell_type": "code",
   "execution_count": 61,
   "id": "97d9f663",
   "metadata": {},
   "outputs": [
    {
     "data": {
      "application/vnd.plotly.v1+json": {
       "config": {
        "plotlyServerURL": "https://plot.ly"
       },
       "data": [
        {
         "domain": {
          "x": [
           0,
           1
          ],
          "y": [
           0,
           1
          ]
         },
         "hovertemplate": "label=%{label}<br>value=%{value}<extra></extra>",
         "labels": [
          "Male",
          "Female"
         ],
         "legendgroup": "",
         "marker": {
          "colors": [
           "#66B2FF",
           "#FF9999"
          ]
         },
         "name": "",
         "showlegend": true,
         "textinfo": "percent+label",
         "type": "pie",
         "values": [
          713,
          312
         ]
        }
       ],
       "layout": {
        "legend": {
         "tracegroupgap": 0
        },
        "template": {
         "data": {
          "bar": [
           {
            "error_x": {
             "color": "#2a3f5f"
            },
            "error_y": {
             "color": "#2a3f5f"
            },
            "marker": {
             "line": {
              "color": "#E5ECF6",
              "width": 0.5
             }
            },
            "type": "bar"
           }
          ],
          "barpolar": [
           {
            "marker": {
             "line": {
              "color": "#E5ECF6",
              "width": 0.5
             }
            },
            "type": "barpolar"
           }
          ],
          "carpet": [
           {
            "aaxis": {
             "endlinecolor": "#2a3f5f",
             "gridcolor": "white",
             "linecolor": "white",
             "minorgridcolor": "white",
             "startlinecolor": "#2a3f5f"
            },
            "baxis": {
             "endlinecolor": "#2a3f5f",
             "gridcolor": "white",
             "linecolor": "white",
             "minorgridcolor": "white",
             "startlinecolor": "#2a3f5f"
            },
            "type": "carpet"
           }
          ],
          "choropleth": [
           {
            "colorbar": {
             "outlinewidth": 0,
             "ticks": ""
            },
            "type": "choropleth"
           }
          ],
          "contour": [
           {
            "colorbar": {
             "outlinewidth": 0,
             "ticks": ""
            },
            "colorscale": [
             [
              0,
              "#0d0887"
             ],
             [
              0.1111111111111111,
              "#46039f"
             ],
             [
              0.2222222222222222,
              "#7201a8"
             ],
             [
              0.3333333333333333,
              "#9c179e"
             ],
             [
              0.4444444444444444,
              "#bd3786"
             ],
             [
              0.5555555555555556,
              "#d8576b"
             ],
             [
              0.6666666666666666,
              "#ed7953"
             ],
             [
              0.7777777777777778,
              "#fb9f3a"
             ],
             [
              0.8888888888888888,
              "#fdca26"
             ],
             [
              1,
              "#f0f921"
             ]
            ],
            "type": "contour"
           }
          ],
          "contourcarpet": [
           {
            "colorbar": {
             "outlinewidth": 0,
             "ticks": ""
            },
            "type": "contourcarpet"
           }
          ],
          "heatmap": [
           {
            "colorbar": {
             "outlinewidth": 0,
             "ticks": ""
            },
            "colorscale": [
             [
              0,
              "#0d0887"
             ],
             [
              0.1111111111111111,
              "#46039f"
             ],
             [
              0.2222222222222222,
              "#7201a8"
             ],
             [
              0.3333333333333333,
              "#9c179e"
             ],
             [
              0.4444444444444444,
              "#bd3786"
             ],
             [
              0.5555555555555556,
              "#d8576b"
             ],
             [
              0.6666666666666666,
              "#ed7953"
             ],
             [
              0.7777777777777778,
              "#fb9f3a"
             ],
             [
              0.8888888888888888,
              "#fdca26"
             ],
             [
              1,
              "#f0f921"
             ]
            ],
            "type": "heatmap"
           }
          ],
          "heatmapgl": [
           {
            "colorbar": {
             "outlinewidth": 0,
             "ticks": ""
            },
            "colorscale": [
             [
              0,
              "#0d0887"
             ],
             [
              0.1111111111111111,
              "#46039f"
             ],
             [
              0.2222222222222222,
              "#7201a8"
             ],
             [
              0.3333333333333333,
              "#9c179e"
             ],
             [
              0.4444444444444444,
              "#bd3786"
             ],
             [
              0.5555555555555556,
              "#d8576b"
             ],
             [
              0.6666666666666666,
              "#ed7953"
             ],
             [
              0.7777777777777778,
              "#fb9f3a"
             ],
             [
              0.8888888888888888,
              "#fdca26"
             ],
             [
              1,
              "#f0f921"
             ]
            ],
            "type": "heatmapgl"
           }
          ],
          "histogram": [
           {
            "marker": {
             "colorbar": {
              "outlinewidth": 0,
              "ticks": ""
             }
            },
            "type": "histogram"
           }
          ],
          "histogram2d": [
           {
            "colorbar": {
             "outlinewidth": 0,
             "ticks": ""
            },
            "colorscale": [
             [
              0,
              "#0d0887"
             ],
             [
              0.1111111111111111,
              "#46039f"
             ],
             [
              0.2222222222222222,
              "#7201a8"
             ],
             [
              0.3333333333333333,
              "#9c179e"
             ],
             [
              0.4444444444444444,
              "#bd3786"
             ],
             [
              0.5555555555555556,
              "#d8576b"
             ],
             [
              0.6666666666666666,
              "#ed7953"
             ],
             [
              0.7777777777777778,
              "#fb9f3a"
             ],
             [
              0.8888888888888888,
              "#fdca26"
             ],
             [
              1,
              "#f0f921"
             ]
            ],
            "type": "histogram2d"
           }
          ],
          "histogram2dcontour": [
           {
            "colorbar": {
             "outlinewidth": 0,
             "ticks": ""
            },
            "colorscale": [
             [
              0,
              "#0d0887"
             ],
             [
              0.1111111111111111,
              "#46039f"
             ],
             [
              0.2222222222222222,
              "#7201a8"
             ],
             [
              0.3333333333333333,
              "#9c179e"
             ],
             [
              0.4444444444444444,
              "#bd3786"
             ],
             [
              0.5555555555555556,
              "#d8576b"
             ],
             [
              0.6666666666666666,
              "#ed7953"
             ],
             [
              0.7777777777777778,
              "#fb9f3a"
             ],
             [
              0.8888888888888888,
              "#fdca26"
             ],
             [
              1,
              "#f0f921"
             ]
            ],
            "type": "histogram2dcontour"
           }
          ],
          "mesh3d": [
           {
            "colorbar": {
             "outlinewidth": 0,
             "ticks": ""
            },
            "type": "mesh3d"
           }
          ],
          "parcoords": [
           {
            "line": {
             "colorbar": {
              "outlinewidth": 0,
              "ticks": ""
             }
            },
            "type": "parcoords"
           }
          ],
          "pie": [
           {
            "automargin": true,
            "type": "pie"
           }
          ],
          "scatter": [
           {
            "marker": {
             "colorbar": {
              "outlinewidth": 0,
              "ticks": ""
             }
            },
            "type": "scatter"
           }
          ],
          "scatter3d": [
           {
            "line": {
             "colorbar": {
              "outlinewidth": 0,
              "ticks": ""
             }
            },
            "marker": {
             "colorbar": {
              "outlinewidth": 0,
              "ticks": ""
             }
            },
            "type": "scatter3d"
           }
          ],
          "scattercarpet": [
           {
            "marker": {
             "colorbar": {
              "outlinewidth": 0,
              "ticks": ""
             }
            },
            "type": "scattercarpet"
           }
          ],
          "scattergeo": [
           {
            "marker": {
             "colorbar": {
              "outlinewidth": 0,
              "ticks": ""
             }
            },
            "type": "scattergeo"
           }
          ],
          "scattergl": [
           {
            "marker": {
             "colorbar": {
              "outlinewidth": 0,
              "ticks": ""
             }
            },
            "type": "scattergl"
           }
          ],
          "scattermapbox": [
           {
            "marker": {
             "colorbar": {
              "outlinewidth": 0,
              "ticks": ""
             }
            },
            "type": "scattermapbox"
           }
          ],
          "scatterpolar": [
           {
            "marker": {
             "colorbar": {
              "outlinewidth": 0,
              "ticks": ""
             }
            },
            "type": "scatterpolar"
           }
          ],
          "scatterpolargl": [
           {
            "marker": {
             "colorbar": {
              "outlinewidth": 0,
              "ticks": ""
             }
            },
            "type": "scatterpolargl"
           }
          ],
          "scatterternary": [
           {
            "marker": {
             "colorbar": {
              "outlinewidth": 0,
              "ticks": ""
             }
            },
            "type": "scatterternary"
           }
          ],
          "surface": [
           {
            "colorbar": {
             "outlinewidth": 0,
             "ticks": ""
            },
            "colorscale": [
             [
              0,
              "#0d0887"
             ],
             [
              0.1111111111111111,
              "#46039f"
             ],
             [
              0.2222222222222222,
              "#7201a8"
             ],
             [
              0.3333333333333333,
              "#9c179e"
             ],
             [
              0.4444444444444444,
              "#bd3786"
             ],
             [
              0.5555555555555556,
              "#d8576b"
             ],
             [
              0.6666666666666666,
              "#ed7953"
             ],
             [
              0.7777777777777778,
              "#fb9f3a"
             ],
             [
              0.8888888888888888,
              "#fdca26"
             ],
             [
              1,
              "#f0f921"
             ]
            ],
            "type": "surface"
           }
          ],
          "table": [
           {
            "cells": {
             "fill": {
              "color": "#EBF0F8"
             },
             "line": {
              "color": "white"
             }
            },
            "header": {
             "fill": {
              "color": "#C8D4E3"
             },
             "line": {
              "color": "white"
             }
            },
            "type": "table"
           }
          ]
         },
         "layout": {
          "annotationdefaults": {
           "arrowcolor": "#2a3f5f",
           "arrowhead": 0,
           "arrowwidth": 1
          },
          "autotypenumbers": "strict",
          "coloraxis": {
           "colorbar": {
            "outlinewidth": 0,
            "ticks": ""
           }
          },
          "colorscale": {
           "diverging": [
            [
             0,
             "#8e0152"
            ],
            [
             0.1,
             "#c51b7d"
            ],
            [
             0.2,
             "#de77ae"
            ],
            [
             0.3,
             "#f1b6da"
            ],
            [
             0.4,
             "#fde0ef"
            ],
            [
             0.5,
             "#f7f7f7"
            ],
            [
             0.6,
             "#e6f5d0"
            ],
            [
             0.7,
             "#b8e186"
            ],
            [
             0.8,
             "#7fbc41"
            ],
            [
             0.9,
             "#4d9221"
            ],
            [
             1,
             "#276419"
            ]
           ],
           "sequential": [
            [
             0,
             "#0d0887"
            ],
            [
             0.1111111111111111,
             "#46039f"
            ],
            [
             0.2222222222222222,
             "#7201a8"
            ],
            [
             0.3333333333333333,
             "#9c179e"
            ],
            [
             0.4444444444444444,
             "#bd3786"
            ],
            [
             0.5555555555555556,
             "#d8576b"
            ],
            [
             0.6666666666666666,
             "#ed7953"
            ],
            [
             0.7777777777777778,
             "#fb9f3a"
            ],
            [
             0.8888888888888888,
             "#fdca26"
            ],
            [
             1,
             "#f0f921"
            ]
           ],
           "sequentialminus": [
            [
             0,
             "#0d0887"
            ],
            [
             0.1111111111111111,
             "#46039f"
            ],
            [
             0.2222222222222222,
             "#7201a8"
            ],
            [
             0.3333333333333333,
             "#9c179e"
            ],
            [
             0.4444444444444444,
             "#bd3786"
            ],
            [
             0.5555555555555556,
             "#d8576b"
            ],
            [
             0.6666666666666666,
             "#ed7953"
            ],
            [
             0.7777777777777778,
             "#fb9f3a"
            ],
            [
             0.8888888888888888,
             "#fdca26"
            ],
            [
             1,
             "#f0f921"
            ]
           ]
          },
          "colorway": [
           "#636efa",
           "#EF553B",
           "#00cc96",
           "#ab63fa",
           "#FFA15A",
           "#19d3f3",
           "#FF6692",
           "#B6E880",
           "#FF97FF",
           "#FECB52"
          ],
          "font": {
           "color": "#2a3f5f"
          },
          "geo": {
           "bgcolor": "white",
           "lakecolor": "white",
           "landcolor": "#E5ECF6",
           "showlakes": true,
           "showland": true,
           "subunitcolor": "white"
          },
          "hoverlabel": {
           "align": "left"
          },
          "hovermode": "closest",
          "mapbox": {
           "style": "light"
          },
          "paper_bgcolor": "white",
          "plot_bgcolor": "#E5ECF6",
          "polar": {
           "angularaxis": {
            "gridcolor": "white",
            "linecolor": "white",
            "ticks": ""
           },
           "bgcolor": "#E5ECF6",
           "radialaxis": {
            "gridcolor": "white",
            "linecolor": "white",
            "ticks": ""
           }
          },
          "scene": {
           "xaxis": {
            "backgroundcolor": "#E5ECF6",
            "gridcolor": "white",
            "gridwidth": 2,
            "linecolor": "white",
            "showbackground": true,
            "ticks": "",
            "zerolinecolor": "white"
           },
           "yaxis": {
            "backgroundcolor": "#E5ECF6",
            "gridcolor": "white",
            "gridwidth": 2,
            "linecolor": "white",
            "showbackground": true,
            "ticks": "",
            "zerolinecolor": "white"
           },
           "zaxis": {
            "backgroundcolor": "#E5ECF6",
            "gridcolor": "white",
            "gridwidth": 2,
            "linecolor": "white",
            "showbackground": true,
            "ticks": "",
            "zerolinecolor": "white"
           }
          },
          "shapedefaults": {
           "line": {
            "color": "#2a3f5f"
           }
          },
          "ternary": {
           "aaxis": {
            "gridcolor": "white",
            "linecolor": "white",
            "ticks": ""
           },
           "baxis": {
            "gridcolor": "white",
            "linecolor": "white",
            "ticks": ""
           },
           "bgcolor": "#E5ECF6",
           "caxis": {
            "gridcolor": "white",
            "linecolor": "white",
            "ticks": ""
           }
          },
          "title": {
           "x": 0.05
          },
          "xaxis": {
           "automargin": true,
           "gridcolor": "white",
           "linecolor": "white",
           "ticks": "",
           "title": {
            "standoff": 15
           },
           "zerolinecolor": "white",
           "zerolinewidth": 2
          },
          "yaxis": {
           "automargin": true,
           "gridcolor": "white",
           "linecolor": "white",
           "ticks": "",
           "title": {
            "standoff": 15
           },
           "zerolinecolor": "white",
           "zerolinewidth": 2
          }
         }
        },
        "title": {
         "text": "Gender Distribution"
        }
       }
      },
      "text/html": [
       "<div>                            <div id=\"6002d696-540c-4659-953a-c834ae847161\" class=\"plotly-graph-div\" style=\"height:525px; width:100%;\"></div>            <script type=\"text/javascript\">                require([\"plotly\"], function(Plotly) {                    window.PLOTLYENV=window.PLOTLYENV || {};                                    if (document.getElementById(\"6002d696-540c-4659-953a-c834ae847161\")) {                    Plotly.newPlot(                        \"6002d696-540c-4659-953a-c834ae847161\",                        [{\"domain\": {\"x\": [0.0, 1.0], \"y\": [0.0, 1.0]}, \"hovertemplate\": \"label=%{label}<br>value=%{value}<extra></extra>\", \"labels\": [\"Male\", \"Female\"], \"legendgroup\": \"\", \"marker\": {\"colors\": [\"#66B2FF\", \"#FF9999\"]}, \"name\": \"\", \"showlegend\": true, \"textinfo\": \"percent+label\", \"type\": \"pie\", \"values\": [713, 312]}],                        {\"legend\": {\"tracegroupgap\": 0}, \"template\": {\"data\": {\"bar\": [{\"error_x\": {\"color\": \"#2a3f5f\"}, \"error_y\": {\"color\": \"#2a3f5f\"}, \"marker\": {\"line\": {\"color\": \"#E5ECF6\", \"width\": 0.5}}, \"type\": \"bar\"}], \"barpolar\": [{\"marker\": {\"line\": {\"color\": \"#E5ECF6\", \"width\": 0.5}}, \"type\": \"barpolar\"}], \"carpet\": [{\"aaxis\": {\"endlinecolor\": \"#2a3f5f\", \"gridcolor\": \"white\", \"linecolor\": \"white\", \"minorgridcolor\": \"white\", \"startlinecolor\": \"#2a3f5f\"}, \"baxis\": {\"endlinecolor\": \"#2a3f5f\", \"gridcolor\": \"white\", \"linecolor\": \"white\", \"minorgridcolor\": \"white\", \"startlinecolor\": \"#2a3f5f\"}, \"type\": \"carpet\"}], \"choropleth\": [{\"colorbar\": {\"outlinewidth\": 0, \"ticks\": \"\"}, \"type\": \"choropleth\"}], \"contour\": [{\"colorbar\": {\"outlinewidth\": 0, \"ticks\": \"\"}, \"colorscale\": [[0.0, \"#0d0887\"], [0.1111111111111111, \"#46039f\"], [0.2222222222222222, \"#7201a8\"], [0.3333333333333333, \"#9c179e\"], [0.4444444444444444, \"#bd3786\"], [0.5555555555555556, \"#d8576b\"], [0.6666666666666666, \"#ed7953\"], [0.7777777777777778, \"#fb9f3a\"], [0.8888888888888888, \"#fdca26\"], [1.0, \"#f0f921\"]], \"type\": \"contour\"}], \"contourcarpet\": [{\"colorbar\": {\"outlinewidth\": 0, \"ticks\": \"\"}, \"type\": \"contourcarpet\"}], \"heatmap\": [{\"colorbar\": {\"outlinewidth\": 0, \"ticks\": \"\"}, \"colorscale\": [[0.0, \"#0d0887\"], [0.1111111111111111, \"#46039f\"], [0.2222222222222222, \"#7201a8\"], [0.3333333333333333, \"#9c179e\"], [0.4444444444444444, \"#bd3786\"], [0.5555555555555556, \"#d8576b\"], [0.6666666666666666, \"#ed7953\"], [0.7777777777777778, \"#fb9f3a\"], [0.8888888888888888, \"#fdca26\"], [1.0, \"#f0f921\"]], \"type\": \"heatmap\"}], \"heatmapgl\": [{\"colorbar\": {\"outlinewidth\": 0, \"ticks\": \"\"}, \"colorscale\": [[0.0, \"#0d0887\"], [0.1111111111111111, \"#46039f\"], [0.2222222222222222, \"#7201a8\"], [0.3333333333333333, \"#9c179e\"], [0.4444444444444444, \"#bd3786\"], [0.5555555555555556, \"#d8576b\"], [0.6666666666666666, \"#ed7953\"], [0.7777777777777778, \"#fb9f3a\"], [0.8888888888888888, \"#fdca26\"], [1.0, \"#f0f921\"]], \"type\": \"heatmapgl\"}], \"histogram\": [{\"marker\": {\"colorbar\": {\"outlinewidth\": 0, \"ticks\": \"\"}}, \"type\": \"histogram\"}], \"histogram2d\": [{\"colorbar\": {\"outlinewidth\": 0, \"ticks\": \"\"}, \"colorscale\": [[0.0, \"#0d0887\"], [0.1111111111111111, \"#46039f\"], [0.2222222222222222, \"#7201a8\"], [0.3333333333333333, \"#9c179e\"], [0.4444444444444444, \"#bd3786\"], [0.5555555555555556, \"#d8576b\"], [0.6666666666666666, \"#ed7953\"], [0.7777777777777778, \"#fb9f3a\"], [0.8888888888888888, \"#fdca26\"], [1.0, \"#f0f921\"]], \"type\": \"histogram2d\"}], \"histogram2dcontour\": [{\"colorbar\": {\"outlinewidth\": 0, \"ticks\": \"\"}, \"colorscale\": [[0.0, \"#0d0887\"], [0.1111111111111111, \"#46039f\"], [0.2222222222222222, \"#7201a8\"], [0.3333333333333333, \"#9c179e\"], [0.4444444444444444, \"#bd3786\"], [0.5555555555555556, \"#d8576b\"], [0.6666666666666666, \"#ed7953\"], [0.7777777777777778, \"#fb9f3a\"], [0.8888888888888888, \"#fdca26\"], [1.0, \"#f0f921\"]], \"type\": \"histogram2dcontour\"}], \"mesh3d\": [{\"colorbar\": {\"outlinewidth\": 0, \"ticks\": \"\"}, \"type\": \"mesh3d\"}], \"parcoords\": [{\"line\": {\"colorbar\": {\"outlinewidth\": 0, \"ticks\": \"\"}}, \"type\": \"parcoords\"}], \"pie\": [{\"automargin\": true, \"type\": \"pie\"}], \"scatter\": [{\"marker\": {\"colorbar\": {\"outlinewidth\": 0, \"ticks\": \"\"}}, \"type\": \"scatter\"}], \"scatter3d\": [{\"line\": {\"colorbar\": {\"outlinewidth\": 0, \"ticks\": \"\"}}, \"marker\": {\"colorbar\": {\"outlinewidth\": 0, \"ticks\": \"\"}}, \"type\": \"scatter3d\"}], \"scattercarpet\": [{\"marker\": {\"colorbar\": {\"outlinewidth\": 0, \"ticks\": \"\"}}, \"type\": \"scattercarpet\"}], \"scattergeo\": [{\"marker\": {\"colorbar\": {\"outlinewidth\": 0, \"ticks\": \"\"}}, \"type\": \"scattergeo\"}], \"scattergl\": [{\"marker\": {\"colorbar\": {\"outlinewidth\": 0, \"ticks\": \"\"}}, \"type\": \"scattergl\"}], \"scattermapbox\": [{\"marker\": {\"colorbar\": {\"outlinewidth\": 0, \"ticks\": \"\"}}, \"type\": \"scattermapbox\"}], \"scatterpolar\": [{\"marker\": {\"colorbar\": {\"outlinewidth\": 0, \"ticks\": \"\"}}, \"type\": \"scatterpolar\"}], \"scatterpolargl\": [{\"marker\": {\"colorbar\": {\"outlinewidth\": 0, \"ticks\": \"\"}}, \"type\": \"scatterpolargl\"}], \"scatterternary\": [{\"marker\": {\"colorbar\": {\"outlinewidth\": 0, \"ticks\": \"\"}}, \"type\": \"scatterternary\"}], \"surface\": [{\"colorbar\": {\"outlinewidth\": 0, \"ticks\": \"\"}, \"colorscale\": [[0.0, \"#0d0887\"], [0.1111111111111111, \"#46039f\"], [0.2222222222222222, \"#7201a8\"], [0.3333333333333333, \"#9c179e\"], [0.4444444444444444, \"#bd3786\"], [0.5555555555555556, \"#d8576b\"], [0.6666666666666666, \"#ed7953\"], [0.7777777777777778, \"#fb9f3a\"], [0.8888888888888888, \"#fdca26\"], [1.0, \"#f0f921\"]], \"type\": \"surface\"}], \"table\": [{\"cells\": {\"fill\": {\"color\": \"#EBF0F8\"}, \"line\": {\"color\": \"white\"}}, \"header\": {\"fill\": {\"color\": \"#C8D4E3\"}, \"line\": {\"color\": \"white\"}}, \"type\": \"table\"}]}, \"layout\": {\"annotationdefaults\": {\"arrowcolor\": \"#2a3f5f\", \"arrowhead\": 0, \"arrowwidth\": 1}, \"autotypenumbers\": \"strict\", \"coloraxis\": {\"colorbar\": {\"outlinewidth\": 0, \"ticks\": \"\"}}, \"colorscale\": {\"diverging\": [[0, \"#8e0152\"], [0.1, \"#c51b7d\"], [0.2, \"#de77ae\"], [0.3, \"#f1b6da\"], [0.4, \"#fde0ef\"], [0.5, \"#f7f7f7\"], [0.6, \"#e6f5d0\"], [0.7, \"#b8e186\"], [0.8, \"#7fbc41\"], [0.9, \"#4d9221\"], [1, \"#276419\"]], \"sequential\": [[0.0, \"#0d0887\"], [0.1111111111111111, \"#46039f\"], [0.2222222222222222, \"#7201a8\"], [0.3333333333333333, \"#9c179e\"], [0.4444444444444444, \"#bd3786\"], [0.5555555555555556, \"#d8576b\"], [0.6666666666666666, \"#ed7953\"], [0.7777777777777778, \"#fb9f3a\"], [0.8888888888888888, \"#fdca26\"], [1.0, \"#f0f921\"]], \"sequentialminus\": [[0.0, \"#0d0887\"], [0.1111111111111111, \"#46039f\"], [0.2222222222222222, \"#7201a8\"], [0.3333333333333333, \"#9c179e\"], [0.4444444444444444, \"#bd3786\"], [0.5555555555555556, \"#d8576b\"], [0.6666666666666666, \"#ed7953\"], [0.7777777777777778, \"#fb9f3a\"], [0.8888888888888888, \"#fdca26\"], [1.0, \"#f0f921\"]]}, \"colorway\": [\"#636efa\", \"#EF553B\", \"#00cc96\", \"#ab63fa\", \"#FFA15A\", \"#19d3f3\", \"#FF6692\", \"#B6E880\", \"#FF97FF\", \"#FECB52\"], \"font\": {\"color\": \"#2a3f5f\"}, \"geo\": {\"bgcolor\": \"white\", \"lakecolor\": \"white\", \"landcolor\": \"#E5ECF6\", \"showlakes\": true, \"showland\": true, \"subunitcolor\": \"white\"}, \"hoverlabel\": {\"align\": \"left\"}, \"hovermode\": \"closest\", \"mapbox\": {\"style\": \"light\"}, \"paper_bgcolor\": \"white\", \"plot_bgcolor\": \"#E5ECF6\", \"polar\": {\"angularaxis\": {\"gridcolor\": \"white\", \"linecolor\": \"white\", \"ticks\": \"\"}, \"bgcolor\": \"#E5ECF6\", \"radialaxis\": {\"gridcolor\": \"white\", \"linecolor\": \"white\", \"ticks\": \"\"}}, \"scene\": {\"xaxis\": {\"backgroundcolor\": \"#E5ECF6\", \"gridcolor\": \"white\", \"gridwidth\": 2, \"linecolor\": \"white\", \"showbackground\": true, \"ticks\": \"\", \"zerolinecolor\": \"white\"}, \"yaxis\": {\"backgroundcolor\": \"#E5ECF6\", \"gridcolor\": \"white\", \"gridwidth\": 2, \"linecolor\": \"white\", \"showbackground\": true, \"ticks\": \"\", \"zerolinecolor\": \"white\"}, \"zaxis\": {\"backgroundcolor\": \"#E5ECF6\", \"gridcolor\": \"white\", \"gridwidth\": 2, \"linecolor\": \"white\", \"showbackground\": true, \"ticks\": \"\", \"zerolinecolor\": \"white\"}}, \"shapedefaults\": {\"line\": {\"color\": \"#2a3f5f\"}}, \"ternary\": {\"aaxis\": {\"gridcolor\": \"white\", \"linecolor\": \"white\", \"ticks\": \"\"}, \"baxis\": {\"gridcolor\": \"white\", \"linecolor\": \"white\", \"ticks\": \"\"}, \"bgcolor\": \"#E5ECF6\", \"caxis\": {\"gridcolor\": \"white\", \"linecolor\": \"white\", \"ticks\": \"\"}}, \"title\": {\"x\": 0.05}, \"xaxis\": {\"automargin\": true, \"gridcolor\": \"white\", \"linecolor\": \"white\", \"ticks\": \"\", \"title\": {\"standoff\": 15}, \"zerolinecolor\": \"white\", \"zerolinewidth\": 2}, \"yaxis\": {\"automargin\": true, \"gridcolor\": \"white\", \"linecolor\": \"white\", \"ticks\": \"\", \"title\": {\"standoff\": 15}, \"zerolinecolor\": \"white\", \"zerolinewidth\": 2}}}, \"title\": {\"text\": \"Gender Distribution\"}},                        {\"responsive\": true}                    ).then(function(){\n",
       "                            \n",
       "var gd = document.getElementById('6002d696-540c-4659-953a-c834ae847161');\n",
       "var x = new MutationObserver(function (mutations, observer) {{\n",
       "        var display = window.getComputedStyle(gd).display;\n",
       "        if (!display || display === 'none') {{\n",
       "            console.log([gd, 'removed!']);\n",
       "            Plotly.purge(gd);\n",
       "            observer.disconnect();\n",
       "        }}\n",
       "}});\n",
       "\n",
       "// Listen for the removal of the full notebook cells\n",
       "var notebookContainer = gd.closest('#notebook-container');\n",
       "if (notebookContainer) {{\n",
       "    x.observe(notebookContainer, {childList: true});\n",
       "}}\n",
       "\n",
       "// Listen for the clearing of the current output cell\n",
       "var outputEl = gd.closest('.output');\n",
       "if (outputEl) {{\n",
       "    x.observe(outputEl, {childList: true});\n",
       "}}\n",
       "\n",
       "                        })                };                });            </script>        </div>"
      ]
     },
     "metadata": {},
     "output_type": "display_data"
    }
   ],
   "source": [
    "# Calculate gender counts\n",
    "gender_counts = heart['sex'].value_counts()\n",
    "labels = ['Male', 'Feale']\n",
    "\n",
    "# Create a pie chart using Plotly Express\n",
    "fig = px.pie(values=gender_counts, names=labels, title='Gender Distribution')\n",
    "fig.update_traces(textinfo='percent+label', marker=dict(colors=['#66B2FF', '#FF9999']))\n",
    "fig.show()"
   ]
  },
  {
   "cell_type": "markdown",
   "id": "9d5ba4f5",
   "metadata": {},
   "source": [
    "Pie chart showing the percentage of male patients vs female"
   ]
  },
  {
   "cell_type": "code",
   "execution_count": 46,
   "id": "a2cf25f9",
   "metadata": {},
   "outputs": [
    {
     "data": {
      "application/vnd.plotly.v1+json": {
       "config": {
        "plotlyServerURL": "https://plot.ly"
       },
       "data": [
        {
         "alignmentgroup": "True",
         "hovertemplate": "variable=0<br>value=%{x}<br>y=%{y}<extra></extra>",
         "legendgroup": "0",
         "marker": {
          "color": "#636efa"
         },
         "name": "0",
         "offsetgroup": "0",
         "orientation": "h",
         "showlegend": true,
         "textposition": "auto",
         "type": "bar",
         "x": [
          86,
          226
         ],
         "xaxis": "x",
         "y": [
          "Male",
          "Female"
         ],
         "yaxis": "y"
        },
        {
         "alignmentgroup": "True",
         "hovertemplate": "variable=1<br>value=%{x}<br>y=%{y}<extra></extra>",
         "legendgroup": "1",
         "marker": {
          "color": "#EF553B"
         },
         "name": "1",
         "offsetgroup": "1",
         "orientation": "h",
         "showlegend": true,
         "textposition": "auto",
         "type": "bar",
         "x": [
          413,
          300
         ],
         "xaxis": "x",
         "y": [
          "Male",
          "Female"
         ],
         "yaxis": "y"
        }
       ],
       "layout": {
        "barmode": "group",
        "legend": {
         "title": {
          "text": "variable"
         },
         "tracegroupgap": 0
        },
        "template": {
         "data": {
          "bar": [
           {
            "error_x": {
             "color": "#2a3f5f"
            },
            "error_y": {
             "color": "#2a3f5f"
            },
            "marker": {
             "line": {
              "color": "#E5ECF6",
              "width": 0.5
             }
            },
            "type": "bar"
           }
          ],
          "barpolar": [
           {
            "marker": {
             "line": {
              "color": "#E5ECF6",
              "width": 0.5
             }
            },
            "type": "barpolar"
           }
          ],
          "carpet": [
           {
            "aaxis": {
             "endlinecolor": "#2a3f5f",
             "gridcolor": "white",
             "linecolor": "white",
             "minorgridcolor": "white",
             "startlinecolor": "#2a3f5f"
            },
            "baxis": {
             "endlinecolor": "#2a3f5f",
             "gridcolor": "white",
             "linecolor": "white",
             "minorgridcolor": "white",
             "startlinecolor": "#2a3f5f"
            },
            "type": "carpet"
           }
          ],
          "choropleth": [
           {
            "colorbar": {
             "outlinewidth": 0,
             "ticks": ""
            },
            "type": "choropleth"
           }
          ],
          "contour": [
           {
            "colorbar": {
             "outlinewidth": 0,
             "ticks": ""
            },
            "colorscale": [
             [
              0,
              "#0d0887"
             ],
             [
              0.1111111111111111,
              "#46039f"
             ],
             [
              0.2222222222222222,
              "#7201a8"
             ],
             [
              0.3333333333333333,
              "#9c179e"
             ],
             [
              0.4444444444444444,
              "#bd3786"
             ],
             [
              0.5555555555555556,
              "#d8576b"
             ],
             [
              0.6666666666666666,
              "#ed7953"
             ],
             [
              0.7777777777777778,
              "#fb9f3a"
             ],
             [
              0.8888888888888888,
              "#fdca26"
             ],
             [
              1,
              "#f0f921"
             ]
            ],
            "type": "contour"
           }
          ],
          "contourcarpet": [
           {
            "colorbar": {
             "outlinewidth": 0,
             "ticks": ""
            },
            "type": "contourcarpet"
           }
          ],
          "heatmap": [
           {
            "colorbar": {
             "outlinewidth": 0,
             "ticks": ""
            },
            "colorscale": [
             [
              0,
              "#0d0887"
             ],
             [
              0.1111111111111111,
              "#46039f"
             ],
             [
              0.2222222222222222,
              "#7201a8"
             ],
             [
              0.3333333333333333,
              "#9c179e"
             ],
             [
              0.4444444444444444,
              "#bd3786"
             ],
             [
              0.5555555555555556,
              "#d8576b"
             ],
             [
              0.6666666666666666,
              "#ed7953"
             ],
             [
              0.7777777777777778,
              "#fb9f3a"
             ],
             [
              0.8888888888888888,
              "#fdca26"
             ],
             [
              1,
              "#f0f921"
             ]
            ],
            "type": "heatmap"
           }
          ],
          "heatmapgl": [
           {
            "colorbar": {
             "outlinewidth": 0,
             "ticks": ""
            },
            "colorscale": [
             [
              0,
              "#0d0887"
             ],
             [
              0.1111111111111111,
              "#46039f"
             ],
             [
              0.2222222222222222,
              "#7201a8"
             ],
             [
              0.3333333333333333,
              "#9c179e"
             ],
             [
              0.4444444444444444,
              "#bd3786"
             ],
             [
              0.5555555555555556,
              "#d8576b"
             ],
             [
              0.6666666666666666,
              "#ed7953"
             ],
             [
              0.7777777777777778,
              "#fb9f3a"
             ],
             [
              0.8888888888888888,
              "#fdca26"
             ],
             [
              1,
              "#f0f921"
             ]
            ],
            "type": "heatmapgl"
           }
          ],
          "histogram": [
           {
            "marker": {
             "colorbar": {
              "outlinewidth": 0,
              "ticks": ""
             }
            },
            "type": "histogram"
           }
          ],
          "histogram2d": [
           {
            "colorbar": {
             "outlinewidth": 0,
             "ticks": ""
            },
            "colorscale": [
             [
              0,
              "#0d0887"
             ],
             [
              0.1111111111111111,
              "#46039f"
             ],
             [
              0.2222222222222222,
              "#7201a8"
             ],
             [
              0.3333333333333333,
              "#9c179e"
             ],
             [
              0.4444444444444444,
              "#bd3786"
             ],
             [
              0.5555555555555556,
              "#d8576b"
             ],
             [
              0.6666666666666666,
              "#ed7953"
             ],
             [
              0.7777777777777778,
              "#fb9f3a"
             ],
             [
              0.8888888888888888,
              "#fdca26"
             ],
             [
              1,
              "#f0f921"
             ]
            ],
            "type": "histogram2d"
           }
          ],
          "histogram2dcontour": [
           {
            "colorbar": {
             "outlinewidth": 0,
             "ticks": ""
            },
            "colorscale": [
             [
              0,
              "#0d0887"
             ],
             [
              0.1111111111111111,
              "#46039f"
             ],
             [
              0.2222222222222222,
              "#7201a8"
             ],
             [
              0.3333333333333333,
              "#9c179e"
             ],
             [
              0.4444444444444444,
              "#bd3786"
             ],
             [
              0.5555555555555556,
              "#d8576b"
             ],
             [
              0.6666666666666666,
              "#ed7953"
             ],
             [
              0.7777777777777778,
              "#fb9f3a"
             ],
             [
              0.8888888888888888,
              "#fdca26"
             ],
             [
              1,
              "#f0f921"
             ]
            ],
            "type": "histogram2dcontour"
           }
          ],
          "mesh3d": [
           {
            "colorbar": {
             "outlinewidth": 0,
             "ticks": ""
            },
            "type": "mesh3d"
           }
          ],
          "parcoords": [
           {
            "line": {
             "colorbar": {
              "outlinewidth": 0,
              "ticks": ""
             }
            },
            "type": "parcoords"
           }
          ],
          "pie": [
           {
            "automargin": true,
            "type": "pie"
           }
          ],
          "scatter": [
           {
            "marker": {
             "colorbar": {
              "outlinewidth": 0,
              "ticks": ""
             }
            },
            "type": "scatter"
           }
          ],
          "scatter3d": [
           {
            "line": {
             "colorbar": {
              "outlinewidth": 0,
              "ticks": ""
             }
            },
            "marker": {
             "colorbar": {
              "outlinewidth": 0,
              "ticks": ""
             }
            },
            "type": "scatter3d"
           }
          ],
          "scattercarpet": [
           {
            "marker": {
             "colorbar": {
              "outlinewidth": 0,
              "ticks": ""
             }
            },
            "type": "scattercarpet"
           }
          ],
          "scattergeo": [
           {
            "marker": {
             "colorbar": {
              "outlinewidth": 0,
              "ticks": ""
             }
            },
            "type": "scattergeo"
           }
          ],
          "scattergl": [
           {
            "marker": {
             "colorbar": {
              "outlinewidth": 0,
              "ticks": ""
             }
            },
            "type": "scattergl"
           }
          ],
          "scattermapbox": [
           {
            "marker": {
             "colorbar": {
              "outlinewidth": 0,
              "ticks": ""
             }
            },
            "type": "scattermapbox"
           }
          ],
          "scatterpolar": [
           {
            "marker": {
             "colorbar": {
              "outlinewidth": 0,
              "ticks": ""
             }
            },
            "type": "scatterpolar"
           }
          ],
          "scatterpolargl": [
           {
            "marker": {
             "colorbar": {
              "outlinewidth": 0,
              "ticks": ""
             }
            },
            "type": "scatterpolargl"
           }
          ],
          "scatterternary": [
           {
            "marker": {
             "colorbar": {
              "outlinewidth": 0,
              "ticks": ""
             }
            },
            "type": "scatterternary"
           }
          ],
          "surface": [
           {
            "colorbar": {
             "outlinewidth": 0,
             "ticks": ""
            },
            "colorscale": [
             [
              0,
              "#0d0887"
             ],
             [
              0.1111111111111111,
              "#46039f"
             ],
             [
              0.2222222222222222,
              "#7201a8"
             ],
             [
              0.3333333333333333,
              "#9c179e"
             ],
             [
              0.4444444444444444,
              "#bd3786"
             ],
             [
              0.5555555555555556,
              "#d8576b"
             ],
             [
              0.6666666666666666,
              "#ed7953"
             ],
             [
              0.7777777777777778,
              "#fb9f3a"
             ],
             [
              0.8888888888888888,
              "#fdca26"
             ],
             [
              1,
              "#f0f921"
             ]
            ],
            "type": "surface"
           }
          ],
          "table": [
           {
            "cells": {
             "fill": {
              "color": "#EBF0F8"
             },
             "line": {
              "color": "white"
             }
            },
            "header": {
             "fill": {
              "color": "#C8D4E3"
             },
             "line": {
              "color": "white"
             }
            },
            "type": "table"
           }
          ]
         },
         "layout": {
          "annotationdefaults": {
           "arrowcolor": "#2a3f5f",
           "arrowhead": 0,
           "arrowwidth": 1
          },
          "autotypenumbers": "strict",
          "coloraxis": {
           "colorbar": {
            "outlinewidth": 0,
            "ticks": ""
           }
          },
          "colorscale": {
           "diverging": [
            [
             0,
             "#8e0152"
            ],
            [
             0.1,
             "#c51b7d"
            ],
            [
             0.2,
             "#de77ae"
            ],
            [
             0.3,
             "#f1b6da"
            ],
            [
             0.4,
             "#fde0ef"
            ],
            [
             0.5,
             "#f7f7f7"
            ],
            [
             0.6,
             "#e6f5d0"
            ],
            [
             0.7,
             "#b8e186"
            ],
            [
             0.8,
             "#7fbc41"
            ],
            [
             0.9,
             "#4d9221"
            ],
            [
             1,
             "#276419"
            ]
           ],
           "sequential": [
            [
             0,
             "#0d0887"
            ],
            [
             0.1111111111111111,
             "#46039f"
            ],
            [
             0.2222222222222222,
             "#7201a8"
            ],
            [
             0.3333333333333333,
             "#9c179e"
            ],
            [
             0.4444444444444444,
             "#bd3786"
            ],
            [
             0.5555555555555556,
             "#d8576b"
            ],
            [
             0.6666666666666666,
             "#ed7953"
            ],
            [
             0.7777777777777778,
             "#fb9f3a"
            ],
            [
             0.8888888888888888,
             "#fdca26"
            ],
            [
             1,
             "#f0f921"
            ]
           ],
           "sequentialminus": [
            [
             0,
             "#0d0887"
            ],
            [
             0.1111111111111111,
             "#46039f"
            ],
            [
             0.2222222222222222,
             "#7201a8"
            ],
            [
             0.3333333333333333,
             "#9c179e"
            ],
            [
             0.4444444444444444,
             "#bd3786"
            ],
            [
             0.5555555555555556,
             "#d8576b"
            ],
            [
             0.6666666666666666,
             "#ed7953"
            ],
            [
             0.7777777777777778,
             "#fb9f3a"
            ],
            [
             0.8888888888888888,
             "#fdca26"
            ],
            [
             1,
             "#f0f921"
            ]
           ]
          },
          "colorway": [
           "#636efa",
           "#EF553B",
           "#00cc96",
           "#ab63fa",
           "#FFA15A",
           "#19d3f3",
           "#FF6692",
           "#B6E880",
           "#FF97FF",
           "#FECB52"
          ],
          "font": {
           "color": "#2a3f5f"
          },
          "geo": {
           "bgcolor": "white",
           "lakecolor": "white",
           "landcolor": "#E5ECF6",
           "showlakes": true,
           "showland": true,
           "subunitcolor": "white"
          },
          "hoverlabel": {
           "align": "left"
          },
          "hovermode": "closest",
          "mapbox": {
           "style": "light"
          },
          "paper_bgcolor": "white",
          "plot_bgcolor": "#E5ECF6",
          "polar": {
           "angularaxis": {
            "gridcolor": "white",
            "linecolor": "white",
            "ticks": ""
           },
           "bgcolor": "#E5ECF6",
           "radialaxis": {
            "gridcolor": "white",
            "linecolor": "white",
            "ticks": ""
           }
          },
          "scene": {
           "xaxis": {
            "backgroundcolor": "#E5ECF6",
            "gridcolor": "white",
            "gridwidth": 2,
            "linecolor": "white",
            "showbackground": true,
            "ticks": "",
            "zerolinecolor": "white"
           },
           "yaxis": {
            "backgroundcolor": "#E5ECF6",
            "gridcolor": "white",
            "gridwidth": 2,
            "linecolor": "white",
            "showbackground": true,
            "ticks": "",
            "zerolinecolor": "white"
           },
           "zaxis": {
            "backgroundcolor": "#E5ECF6",
            "gridcolor": "white",
            "gridwidth": 2,
            "linecolor": "white",
            "showbackground": true,
            "ticks": "",
            "zerolinecolor": "white"
           }
          },
          "shapedefaults": {
           "line": {
            "color": "#2a3f5f"
           }
          },
          "ternary": {
           "aaxis": {
            "gridcolor": "white",
            "linecolor": "white",
            "ticks": ""
           },
           "baxis": {
            "gridcolor": "white",
            "linecolor": "white",
            "ticks": ""
           },
           "bgcolor": "#E5ECF6",
           "caxis": {
            "gridcolor": "white",
            "linecolor": "white",
            "ticks": ""
           }
          },
          "title": {
           "x": 0.05
          },
          "xaxis": {
           "automargin": true,
           "gridcolor": "white",
           "linecolor": "white",
           "ticks": "",
           "title": {
            "standoff": 15
           },
           "zerolinecolor": "white",
           "zerolinewidth": 2
          },
          "yaxis": {
           "automargin": true,
           "gridcolor": "white",
           "linecolor": "white",
           "ticks": "",
           "title": {
            "standoff": 15
           },
           "zerolinecolor": "white",
           "zerolinewidth": 2
          }
         }
        },
        "title": {
         "text": "Gender Distribution Among Heart Disease Cases and Non-Cases"
        },
        "xaxis": {
         "anchor": "y",
         "domain": [
          0,
          1
         ],
         "ticktext": [
          "No Disease",
          "Disease"
         ],
         "tickvals": [
          0,
          1
         ],
         "title": {
          "text": "Heart Disease Presence"
         }
        },
        "yaxis": {
         "anchor": "x",
         "domain": [
          0,
          1
         ],
         "title": {
          "text": "Count"
         }
        }
       }
      },
      "text/html": [
       "<div>                            <div id=\"9a0dd9e1-8f2c-4aef-b53e-9e609115c824\" class=\"plotly-graph-div\" style=\"height:525px; width:100%;\"></div>            <script type=\"text/javascript\">                require([\"plotly\"], function(Plotly) {                    window.PLOTLYENV=window.PLOTLYENV || {};                                    if (document.getElementById(\"9a0dd9e1-8f2c-4aef-b53e-9e609115c824\")) {                    Plotly.newPlot(                        \"9a0dd9e1-8f2c-4aef-b53e-9e609115c824\",                        [{\"alignmentgroup\": \"True\", \"hovertemplate\": \"variable=0<br>value=%{x}<br>y=%{y}<extra></extra>\", \"legendgroup\": \"0\", \"marker\": {\"color\": \"#636efa\"}, \"name\": \"0\", \"offsetgroup\": \"0\", \"orientation\": \"h\", \"showlegend\": true, \"textposition\": \"auto\", \"type\": \"bar\", \"x\": [86, 226], \"xaxis\": \"x\", \"y\": [\"Male\", \"Female\"], \"yaxis\": \"y\"}, {\"alignmentgroup\": \"True\", \"hovertemplate\": \"variable=1<br>value=%{x}<br>y=%{y}<extra></extra>\", \"legendgroup\": \"1\", \"marker\": {\"color\": \"#EF553B\"}, \"name\": \"1\", \"offsetgroup\": \"1\", \"orientation\": \"h\", \"showlegend\": true, \"textposition\": \"auto\", \"type\": \"bar\", \"x\": [413, 300], \"xaxis\": \"x\", \"y\": [\"Male\", \"Female\"], \"yaxis\": \"y\"}],                        {\"barmode\": \"group\", \"legend\": {\"title\": {\"text\": \"variable\"}, \"tracegroupgap\": 0}, \"template\": {\"data\": {\"bar\": [{\"error_x\": {\"color\": \"#2a3f5f\"}, \"error_y\": {\"color\": \"#2a3f5f\"}, \"marker\": {\"line\": {\"color\": \"#E5ECF6\", \"width\": 0.5}}, \"type\": \"bar\"}], \"barpolar\": [{\"marker\": {\"line\": {\"color\": \"#E5ECF6\", \"width\": 0.5}}, \"type\": \"barpolar\"}], \"carpet\": [{\"aaxis\": {\"endlinecolor\": \"#2a3f5f\", \"gridcolor\": \"white\", \"linecolor\": \"white\", \"minorgridcolor\": \"white\", \"startlinecolor\": \"#2a3f5f\"}, \"baxis\": {\"endlinecolor\": \"#2a3f5f\", \"gridcolor\": \"white\", \"linecolor\": \"white\", \"minorgridcolor\": \"white\", \"startlinecolor\": \"#2a3f5f\"}, \"type\": \"carpet\"}], \"choropleth\": [{\"colorbar\": {\"outlinewidth\": 0, \"ticks\": \"\"}, \"type\": \"choropleth\"}], \"contour\": [{\"colorbar\": {\"outlinewidth\": 0, \"ticks\": \"\"}, \"colorscale\": [[0.0, \"#0d0887\"], [0.1111111111111111, \"#46039f\"], [0.2222222222222222, \"#7201a8\"], [0.3333333333333333, \"#9c179e\"], [0.4444444444444444, \"#bd3786\"], [0.5555555555555556, \"#d8576b\"], [0.6666666666666666, \"#ed7953\"], [0.7777777777777778, \"#fb9f3a\"], [0.8888888888888888, \"#fdca26\"], [1.0, \"#f0f921\"]], \"type\": \"contour\"}], \"contourcarpet\": [{\"colorbar\": {\"outlinewidth\": 0, \"ticks\": \"\"}, \"type\": \"contourcarpet\"}], \"heatmap\": [{\"colorbar\": {\"outlinewidth\": 0, \"ticks\": \"\"}, \"colorscale\": [[0.0, \"#0d0887\"], [0.1111111111111111, \"#46039f\"], [0.2222222222222222, \"#7201a8\"], [0.3333333333333333, \"#9c179e\"], [0.4444444444444444, \"#bd3786\"], [0.5555555555555556, \"#d8576b\"], [0.6666666666666666, \"#ed7953\"], [0.7777777777777778, \"#fb9f3a\"], [0.8888888888888888, \"#fdca26\"], [1.0, \"#f0f921\"]], \"type\": \"heatmap\"}], \"heatmapgl\": [{\"colorbar\": {\"outlinewidth\": 0, \"ticks\": \"\"}, \"colorscale\": [[0.0, \"#0d0887\"], [0.1111111111111111, \"#46039f\"], [0.2222222222222222, \"#7201a8\"], [0.3333333333333333, \"#9c179e\"], [0.4444444444444444, \"#bd3786\"], [0.5555555555555556, \"#d8576b\"], [0.6666666666666666, \"#ed7953\"], [0.7777777777777778, \"#fb9f3a\"], [0.8888888888888888, \"#fdca26\"], [1.0, \"#f0f921\"]], \"type\": \"heatmapgl\"}], \"histogram\": [{\"marker\": {\"colorbar\": {\"outlinewidth\": 0, \"ticks\": \"\"}}, \"type\": \"histogram\"}], \"histogram2d\": [{\"colorbar\": {\"outlinewidth\": 0, \"ticks\": \"\"}, \"colorscale\": [[0.0, \"#0d0887\"], [0.1111111111111111, \"#46039f\"], [0.2222222222222222, \"#7201a8\"], [0.3333333333333333, \"#9c179e\"], [0.4444444444444444, \"#bd3786\"], [0.5555555555555556, \"#d8576b\"], [0.6666666666666666, \"#ed7953\"], [0.7777777777777778, \"#fb9f3a\"], [0.8888888888888888, \"#fdca26\"], [1.0, \"#f0f921\"]], \"type\": \"histogram2d\"}], \"histogram2dcontour\": [{\"colorbar\": {\"outlinewidth\": 0, \"ticks\": \"\"}, \"colorscale\": [[0.0, \"#0d0887\"], [0.1111111111111111, \"#46039f\"], [0.2222222222222222, \"#7201a8\"], [0.3333333333333333, \"#9c179e\"], [0.4444444444444444, \"#bd3786\"], [0.5555555555555556, \"#d8576b\"], [0.6666666666666666, \"#ed7953\"], [0.7777777777777778, \"#fb9f3a\"], [0.8888888888888888, \"#fdca26\"], [1.0, \"#f0f921\"]], \"type\": \"histogram2dcontour\"}], \"mesh3d\": [{\"colorbar\": {\"outlinewidth\": 0, \"ticks\": \"\"}, \"type\": \"mesh3d\"}], \"parcoords\": [{\"line\": {\"colorbar\": {\"outlinewidth\": 0, \"ticks\": \"\"}}, \"type\": \"parcoords\"}], \"pie\": [{\"automargin\": true, \"type\": \"pie\"}], \"scatter\": [{\"marker\": {\"colorbar\": {\"outlinewidth\": 0, \"ticks\": \"\"}}, \"type\": \"scatter\"}], \"scatter3d\": [{\"line\": {\"colorbar\": {\"outlinewidth\": 0, \"ticks\": \"\"}}, \"marker\": {\"colorbar\": {\"outlinewidth\": 0, \"ticks\": \"\"}}, \"type\": \"scatter3d\"}], \"scattercarpet\": [{\"marker\": {\"colorbar\": {\"outlinewidth\": 0, \"ticks\": \"\"}}, \"type\": \"scattercarpet\"}], \"scattergeo\": [{\"marker\": {\"colorbar\": {\"outlinewidth\": 0, \"ticks\": \"\"}}, \"type\": \"scattergeo\"}], \"scattergl\": [{\"marker\": {\"colorbar\": {\"outlinewidth\": 0, \"ticks\": \"\"}}, \"type\": \"scattergl\"}], \"scattermapbox\": [{\"marker\": {\"colorbar\": {\"outlinewidth\": 0, \"ticks\": \"\"}}, \"type\": \"scattermapbox\"}], \"scatterpolar\": [{\"marker\": {\"colorbar\": {\"outlinewidth\": 0, \"ticks\": \"\"}}, \"type\": \"scatterpolar\"}], \"scatterpolargl\": [{\"marker\": {\"colorbar\": {\"outlinewidth\": 0, \"ticks\": \"\"}}, \"type\": \"scatterpolargl\"}], \"scatterternary\": [{\"marker\": {\"colorbar\": {\"outlinewidth\": 0, \"ticks\": \"\"}}, \"type\": \"scatterternary\"}], \"surface\": [{\"colorbar\": {\"outlinewidth\": 0, \"ticks\": \"\"}, \"colorscale\": [[0.0, \"#0d0887\"], [0.1111111111111111, \"#46039f\"], [0.2222222222222222, \"#7201a8\"], [0.3333333333333333, \"#9c179e\"], [0.4444444444444444, \"#bd3786\"], [0.5555555555555556, \"#d8576b\"], [0.6666666666666666, \"#ed7953\"], [0.7777777777777778, \"#fb9f3a\"], [0.8888888888888888, \"#fdca26\"], [1.0, \"#f0f921\"]], \"type\": \"surface\"}], \"table\": [{\"cells\": {\"fill\": {\"color\": \"#EBF0F8\"}, \"line\": {\"color\": \"white\"}}, \"header\": {\"fill\": {\"color\": \"#C8D4E3\"}, \"line\": {\"color\": \"white\"}}, \"type\": \"table\"}]}, \"layout\": {\"annotationdefaults\": {\"arrowcolor\": \"#2a3f5f\", \"arrowhead\": 0, \"arrowwidth\": 1}, \"autotypenumbers\": \"strict\", \"coloraxis\": {\"colorbar\": {\"outlinewidth\": 0, \"ticks\": \"\"}}, \"colorscale\": {\"diverging\": [[0, \"#8e0152\"], [0.1, \"#c51b7d\"], [0.2, \"#de77ae\"], [0.3, \"#f1b6da\"], [0.4, \"#fde0ef\"], [0.5, \"#f7f7f7\"], [0.6, \"#e6f5d0\"], [0.7, \"#b8e186\"], [0.8, \"#7fbc41\"], [0.9, \"#4d9221\"], [1, \"#276419\"]], \"sequential\": [[0.0, \"#0d0887\"], [0.1111111111111111, \"#46039f\"], [0.2222222222222222, \"#7201a8\"], [0.3333333333333333, \"#9c179e\"], [0.4444444444444444, \"#bd3786\"], [0.5555555555555556, \"#d8576b\"], [0.6666666666666666, \"#ed7953\"], [0.7777777777777778, \"#fb9f3a\"], [0.8888888888888888, \"#fdca26\"], [1.0, \"#f0f921\"]], \"sequentialminus\": [[0.0, \"#0d0887\"], [0.1111111111111111, \"#46039f\"], [0.2222222222222222, \"#7201a8\"], [0.3333333333333333, \"#9c179e\"], [0.4444444444444444, \"#bd3786\"], [0.5555555555555556, \"#d8576b\"], [0.6666666666666666, \"#ed7953\"], [0.7777777777777778, \"#fb9f3a\"], [0.8888888888888888, \"#fdca26\"], [1.0, \"#f0f921\"]]}, \"colorway\": [\"#636efa\", \"#EF553B\", \"#00cc96\", \"#ab63fa\", \"#FFA15A\", \"#19d3f3\", \"#FF6692\", \"#B6E880\", \"#FF97FF\", \"#FECB52\"], \"font\": {\"color\": \"#2a3f5f\"}, \"geo\": {\"bgcolor\": \"white\", \"lakecolor\": \"white\", \"landcolor\": \"#E5ECF6\", \"showlakes\": true, \"showland\": true, \"subunitcolor\": \"white\"}, \"hoverlabel\": {\"align\": \"left\"}, \"hovermode\": \"closest\", \"mapbox\": {\"style\": \"light\"}, \"paper_bgcolor\": \"white\", \"plot_bgcolor\": \"#E5ECF6\", \"polar\": {\"angularaxis\": {\"gridcolor\": \"white\", \"linecolor\": \"white\", \"ticks\": \"\"}, \"bgcolor\": \"#E5ECF6\", \"radialaxis\": {\"gridcolor\": \"white\", \"linecolor\": \"white\", \"ticks\": \"\"}}, \"scene\": {\"xaxis\": {\"backgroundcolor\": \"#E5ECF6\", \"gridcolor\": \"white\", \"gridwidth\": 2, \"linecolor\": \"white\", \"showbackground\": true, \"ticks\": \"\", \"zerolinecolor\": \"white\"}, \"yaxis\": {\"backgroundcolor\": \"#E5ECF6\", \"gridcolor\": \"white\", \"gridwidth\": 2, \"linecolor\": \"white\", \"showbackground\": true, \"ticks\": \"\", \"zerolinecolor\": \"white\"}, \"zaxis\": {\"backgroundcolor\": \"#E5ECF6\", \"gridcolor\": \"white\", \"gridwidth\": 2, \"linecolor\": \"white\", \"showbackground\": true, \"ticks\": \"\", \"zerolinecolor\": \"white\"}}, \"shapedefaults\": {\"line\": {\"color\": \"#2a3f5f\"}}, \"ternary\": {\"aaxis\": {\"gridcolor\": \"white\", \"linecolor\": \"white\", \"ticks\": \"\"}, \"baxis\": {\"gridcolor\": \"white\", \"linecolor\": \"white\", \"ticks\": \"\"}, \"bgcolor\": \"#E5ECF6\", \"caxis\": {\"gridcolor\": \"white\", \"linecolor\": \"white\", \"ticks\": \"\"}}, \"title\": {\"x\": 0.05}, \"xaxis\": {\"automargin\": true, \"gridcolor\": \"white\", \"linecolor\": \"white\", \"ticks\": \"\", \"title\": {\"standoff\": 15}, \"zerolinecolor\": \"white\", \"zerolinewidth\": 2}, \"yaxis\": {\"automargin\": true, \"gridcolor\": \"white\", \"linecolor\": \"white\", \"ticks\": \"\", \"title\": {\"standoff\": 15}, \"zerolinecolor\": \"white\", \"zerolinewidth\": 2}}}, \"title\": {\"text\": \"Gender Distribution Among Heart Disease Cases and Non-Cases\"}, \"xaxis\": {\"anchor\": \"y\", \"domain\": [0.0, 1.0], \"ticktext\": [\"No Disease\", \"Disease\"], \"tickvals\": [0, 1], \"title\": {\"text\": \"Heart Disease Presence\"}}, \"yaxis\": {\"anchor\": \"x\", \"domain\": [0.0, 1.0], \"title\": {\"text\": \"Count\"}}},                        {\"responsive\": true}                    ).then(function(){\n",
       "                            \n",
       "var gd = document.getElementById('9a0dd9e1-8f2c-4aef-b53e-9e609115c824');\n",
       "var x = new MutationObserver(function (mutations, observer) {{\n",
       "        var display = window.getComputedStyle(gd).display;\n",
       "        if (!display || display === 'none') {{\n",
       "            console.log([gd, 'removed!']);\n",
       "            Plotly.purge(gd);\n",
       "            observer.disconnect();\n",
       "        }}\n",
       "}});\n",
       "\n",
       "// Listen for the removal of the full notebook cells\n",
       "var notebookContainer = gd.closest('#notebook-container');\n",
       "if (notebookContainer) {{\n",
       "    x.observe(notebookContainer, {childList: true});\n",
       "}}\n",
       "\n",
       "// Listen for the clearing of the current output cell\n",
       "var outputEl = gd.closest('.output');\n",
       "if (outputEl) {{\n",
       "    x.observe(outputEl, {childList: true});\n",
       "}}\n",
       "\n",
       "                        })                };                });            </script>        </div>"
      ]
     },
     "metadata": {},
     "output_type": "display_data"
    }
   ],
   "source": [
    "\n",
    "# Count the number of males and females in heart disease cases and non-cases\n",
    "gender_counts = heart.groupby(['disease', 'sex'])['sex'].count().unstack()\n",
    "\n",
    "# Create a grouped bar chart using Plotly Express\n",
    "fig = px.bar(gender_counts, x=gender_counts.index, y=['Male', 'Female'], title='Gender Distribution Among Heart Disease Cases and Non-Cases')\n",
    "fig.update_layout(barmode='group', xaxis_title='Heart Disease Presence', yaxis_title='Count', xaxis_tickvals=[0, 1], xaxis_ticktext=['No Disease', 'Disease'])\n",
    "fig.show()\n",
    "\n"
   ]
  },
  {
   "cell_type": "markdown",
   "id": "f9c31bc5",
   "metadata": {},
   "source": [
    "There is a clear difference in the gender distribution between heart disease cases and non-cases.\n",
    "Males are more likely to have heart disease than females. This suggests that gender may be a significant risk factor for heart disease."
   ]
  },
  {
   "cell_type": "code",
   "execution_count": 59,
   "id": "dce8a686",
   "metadata": {},
   "outputs": [
    {
     "name": "stdout",
     "output_type": "stream",
     "text": [
      "Chi-squared test statistic: 78.86305133922973\n",
      "P-value: 6.656820681726434e-19\n"
     ]
    },
    {
     "data": {
      "application/vnd.plotly.v1+json": {
       "config": {
        "plotlyServerURL": "https://plot.ly"
       },
       "data": [
        {
         "marker": {
          "color": "#FF9999"
         },
         "name": "No Disease",
         "type": "bar",
         "x": [
          0,
          1
         ],
         "y": [
          86,
          413
         ]
        },
        {
         "marker": {
          "color": "#66B2FF"
         },
         "name": "Disease",
         "type": "bar",
         "x": [
          0,
          1
         ],
         "y": [
          226,
          300
         ]
        }
       ],
       "layout": {
        "barmode": "group",
        "template": {
         "data": {
          "bar": [
           {
            "error_x": {
             "color": "#2a3f5f"
            },
            "error_y": {
             "color": "#2a3f5f"
            },
            "marker": {
             "line": {
              "color": "#E5ECF6",
              "width": 0.5
             }
            },
            "type": "bar"
           }
          ],
          "barpolar": [
           {
            "marker": {
             "line": {
              "color": "#E5ECF6",
              "width": 0.5
             }
            },
            "type": "barpolar"
           }
          ],
          "carpet": [
           {
            "aaxis": {
             "endlinecolor": "#2a3f5f",
             "gridcolor": "white",
             "linecolor": "white",
             "minorgridcolor": "white",
             "startlinecolor": "#2a3f5f"
            },
            "baxis": {
             "endlinecolor": "#2a3f5f",
             "gridcolor": "white",
             "linecolor": "white",
             "minorgridcolor": "white",
             "startlinecolor": "#2a3f5f"
            },
            "type": "carpet"
           }
          ],
          "choropleth": [
           {
            "colorbar": {
             "outlinewidth": 0,
             "ticks": ""
            },
            "type": "choropleth"
           }
          ],
          "contour": [
           {
            "colorbar": {
             "outlinewidth": 0,
             "ticks": ""
            },
            "colorscale": [
             [
              0,
              "#0d0887"
             ],
             [
              0.1111111111111111,
              "#46039f"
             ],
             [
              0.2222222222222222,
              "#7201a8"
             ],
             [
              0.3333333333333333,
              "#9c179e"
             ],
             [
              0.4444444444444444,
              "#bd3786"
             ],
             [
              0.5555555555555556,
              "#d8576b"
             ],
             [
              0.6666666666666666,
              "#ed7953"
             ],
             [
              0.7777777777777778,
              "#fb9f3a"
             ],
             [
              0.8888888888888888,
              "#fdca26"
             ],
             [
              1,
              "#f0f921"
             ]
            ],
            "type": "contour"
           }
          ],
          "contourcarpet": [
           {
            "colorbar": {
             "outlinewidth": 0,
             "ticks": ""
            },
            "type": "contourcarpet"
           }
          ],
          "heatmap": [
           {
            "colorbar": {
             "outlinewidth": 0,
             "ticks": ""
            },
            "colorscale": [
             [
              0,
              "#0d0887"
             ],
             [
              0.1111111111111111,
              "#46039f"
             ],
             [
              0.2222222222222222,
              "#7201a8"
             ],
             [
              0.3333333333333333,
              "#9c179e"
             ],
             [
              0.4444444444444444,
              "#bd3786"
             ],
             [
              0.5555555555555556,
              "#d8576b"
             ],
             [
              0.6666666666666666,
              "#ed7953"
             ],
             [
              0.7777777777777778,
              "#fb9f3a"
             ],
             [
              0.8888888888888888,
              "#fdca26"
             ],
             [
              1,
              "#f0f921"
             ]
            ],
            "type": "heatmap"
           }
          ],
          "heatmapgl": [
           {
            "colorbar": {
             "outlinewidth": 0,
             "ticks": ""
            },
            "colorscale": [
             [
              0,
              "#0d0887"
             ],
             [
              0.1111111111111111,
              "#46039f"
             ],
             [
              0.2222222222222222,
              "#7201a8"
             ],
             [
              0.3333333333333333,
              "#9c179e"
             ],
             [
              0.4444444444444444,
              "#bd3786"
             ],
             [
              0.5555555555555556,
              "#d8576b"
             ],
             [
              0.6666666666666666,
              "#ed7953"
             ],
             [
              0.7777777777777778,
              "#fb9f3a"
             ],
             [
              0.8888888888888888,
              "#fdca26"
             ],
             [
              1,
              "#f0f921"
             ]
            ],
            "type": "heatmapgl"
           }
          ],
          "histogram": [
           {
            "marker": {
             "colorbar": {
              "outlinewidth": 0,
              "ticks": ""
             }
            },
            "type": "histogram"
           }
          ],
          "histogram2d": [
           {
            "colorbar": {
             "outlinewidth": 0,
             "ticks": ""
            },
            "colorscale": [
             [
              0,
              "#0d0887"
             ],
             [
              0.1111111111111111,
              "#46039f"
             ],
             [
              0.2222222222222222,
              "#7201a8"
             ],
             [
              0.3333333333333333,
              "#9c179e"
             ],
             [
              0.4444444444444444,
              "#bd3786"
             ],
             [
              0.5555555555555556,
              "#d8576b"
             ],
             [
              0.6666666666666666,
              "#ed7953"
             ],
             [
              0.7777777777777778,
              "#fb9f3a"
             ],
             [
              0.8888888888888888,
              "#fdca26"
             ],
             [
              1,
              "#f0f921"
             ]
            ],
            "type": "histogram2d"
           }
          ],
          "histogram2dcontour": [
           {
            "colorbar": {
             "outlinewidth": 0,
             "ticks": ""
            },
            "colorscale": [
             [
              0,
              "#0d0887"
             ],
             [
              0.1111111111111111,
              "#46039f"
             ],
             [
              0.2222222222222222,
              "#7201a8"
             ],
             [
              0.3333333333333333,
              "#9c179e"
             ],
             [
              0.4444444444444444,
              "#bd3786"
             ],
             [
              0.5555555555555556,
              "#d8576b"
             ],
             [
              0.6666666666666666,
              "#ed7953"
             ],
             [
              0.7777777777777778,
              "#fb9f3a"
             ],
             [
              0.8888888888888888,
              "#fdca26"
             ],
             [
              1,
              "#f0f921"
             ]
            ],
            "type": "histogram2dcontour"
           }
          ],
          "mesh3d": [
           {
            "colorbar": {
             "outlinewidth": 0,
             "ticks": ""
            },
            "type": "mesh3d"
           }
          ],
          "parcoords": [
           {
            "line": {
             "colorbar": {
              "outlinewidth": 0,
              "ticks": ""
             }
            },
            "type": "parcoords"
           }
          ],
          "pie": [
           {
            "automargin": true,
            "type": "pie"
           }
          ],
          "scatter": [
           {
            "marker": {
             "colorbar": {
              "outlinewidth": 0,
              "ticks": ""
             }
            },
            "type": "scatter"
           }
          ],
          "scatter3d": [
           {
            "line": {
             "colorbar": {
              "outlinewidth": 0,
              "ticks": ""
             }
            },
            "marker": {
             "colorbar": {
              "outlinewidth": 0,
              "ticks": ""
             }
            },
            "type": "scatter3d"
           }
          ],
          "scattercarpet": [
           {
            "marker": {
             "colorbar": {
              "outlinewidth": 0,
              "ticks": ""
             }
            },
            "type": "scattercarpet"
           }
          ],
          "scattergeo": [
           {
            "marker": {
             "colorbar": {
              "outlinewidth": 0,
              "ticks": ""
             }
            },
            "type": "scattergeo"
           }
          ],
          "scattergl": [
           {
            "marker": {
             "colorbar": {
              "outlinewidth": 0,
              "ticks": ""
             }
            },
            "type": "scattergl"
           }
          ],
          "scattermapbox": [
           {
            "marker": {
             "colorbar": {
              "outlinewidth": 0,
              "ticks": ""
             }
            },
            "type": "scattermapbox"
           }
          ],
          "scatterpolar": [
           {
            "marker": {
             "colorbar": {
              "outlinewidth": 0,
              "ticks": ""
             }
            },
            "type": "scatterpolar"
           }
          ],
          "scatterpolargl": [
           {
            "marker": {
             "colorbar": {
              "outlinewidth": 0,
              "ticks": ""
             }
            },
            "type": "scatterpolargl"
           }
          ],
          "scatterternary": [
           {
            "marker": {
             "colorbar": {
              "outlinewidth": 0,
              "ticks": ""
             }
            },
            "type": "scatterternary"
           }
          ],
          "surface": [
           {
            "colorbar": {
             "outlinewidth": 0,
             "ticks": ""
            },
            "colorscale": [
             [
              0,
              "#0d0887"
             ],
             [
              0.1111111111111111,
              "#46039f"
             ],
             [
              0.2222222222222222,
              "#7201a8"
             ],
             [
              0.3333333333333333,
              "#9c179e"
             ],
             [
              0.4444444444444444,
              "#bd3786"
             ],
             [
              0.5555555555555556,
              "#d8576b"
             ],
             [
              0.6666666666666666,
              "#ed7953"
             ],
             [
              0.7777777777777778,
              "#fb9f3a"
             ],
             [
              0.8888888888888888,
              "#fdca26"
             ],
             [
              1,
              "#f0f921"
             ]
            ],
            "type": "surface"
           }
          ],
          "table": [
           {
            "cells": {
             "fill": {
              "color": "#EBF0F8"
             },
             "line": {
              "color": "white"
             }
            },
            "header": {
             "fill": {
              "color": "#C8D4E3"
             },
             "line": {
              "color": "white"
             }
            },
            "type": "table"
           }
          ]
         },
         "layout": {
          "annotationdefaults": {
           "arrowcolor": "#2a3f5f",
           "arrowhead": 0,
           "arrowwidth": 1
          },
          "autotypenumbers": "strict",
          "coloraxis": {
           "colorbar": {
            "outlinewidth": 0,
            "ticks": ""
           }
          },
          "colorscale": {
           "diverging": [
            [
             0,
             "#8e0152"
            ],
            [
             0.1,
             "#c51b7d"
            ],
            [
             0.2,
             "#de77ae"
            ],
            [
             0.3,
             "#f1b6da"
            ],
            [
             0.4,
             "#fde0ef"
            ],
            [
             0.5,
             "#f7f7f7"
            ],
            [
             0.6,
             "#e6f5d0"
            ],
            [
             0.7,
             "#b8e186"
            ],
            [
             0.8,
             "#7fbc41"
            ],
            [
             0.9,
             "#4d9221"
            ],
            [
             1,
             "#276419"
            ]
           ],
           "sequential": [
            [
             0,
             "#0d0887"
            ],
            [
             0.1111111111111111,
             "#46039f"
            ],
            [
             0.2222222222222222,
             "#7201a8"
            ],
            [
             0.3333333333333333,
             "#9c179e"
            ],
            [
             0.4444444444444444,
             "#bd3786"
            ],
            [
             0.5555555555555556,
             "#d8576b"
            ],
            [
             0.6666666666666666,
             "#ed7953"
            ],
            [
             0.7777777777777778,
             "#fb9f3a"
            ],
            [
             0.8888888888888888,
             "#fdca26"
            ],
            [
             1,
             "#f0f921"
            ]
           ],
           "sequentialminus": [
            [
             0,
             "#0d0887"
            ],
            [
             0.1111111111111111,
             "#46039f"
            ],
            [
             0.2222222222222222,
             "#7201a8"
            ],
            [
             0.3333333333333333,
             "#9c179e"
            ],
            [
             0.4444444444444444,
             "#bd3786"
            ],
            [
             0.5555555555555556,
             "#d8576b"
            ],
            [
             0.6666666666666666,
             "#ed7953"
            ],
            [
             0.7777777777777778,
             "#fb9f3a"
            ],
            [
             0.8888888888888888,
             "#fdca26"
            ],
            [
             1,
             "#f0f921"
            ]
           ]
          },
          "colorway": [
           "#636efa",
           "#EF553B",
           "#00cc96",
           "#ab63fa",
           "#FFA15A",
           "#19d3f3",
           "#FF6692",
           "#B6E880",
           "#FF97FF",
           "#FECB52"
          ],
          "font": {
           "color": "#2a3f5f"
          },
          "geo": {
           "bgcolor": "white",
           "lakecolor": "white",
           "landcolor": "#E5ECF6",
           "showlakes": true,
           "showland": true,
           "subunitcolor": "white"
          },
          "hoverlabel": {
           "align": "left"
          },
          "hovermode": "closest",
          "mapbox": {
           "style": "light"
          },
          "paper_bgcolor": "white",
          "plot_bgcolor": "#E5ECF6",
          "polar": {
           "angularaxis": {
            "gridcolor": "white",
            "linecolor": "white",
            "ticks": ""
           },
           "bgcolor": "#E5ECF6",
           "radialaxis": {
            "gridcolor": "white",
            "linecolor": "white",
            "ticks": ""
           }
          },
          "scene": {
           "xaxis": {
            "backgroundcolor": "#E5ECF6",
            "gridcolor": "white",
            "gridwidth": 2,
            "linecolor": "white",
            "showbackground": true,
            "ticks": "",
            "zerolinecolor": "white"
           },
           "yaxis": {
            "backgroundcolor": "#E5ECF6",
            "gridcolor": "white",
            "gridwidth": 2,
            "linecolor": "white",
            "showbackground": true,
            "ticks": "",
            "zerolinecolor": "white"
           },
           "zaxis": {
            "backgroundcolor": "#E5ECF6",
            "gridcolor": "white",
            "gridwidth": 2,
            "linecolor": "white",
            "showbackground": true,
            "ticks": "",
            "zerolinecolor": "white"
           }
          },
          "shapedefaults": {
           "line": {
            "color": "#2a3f5f"
           }
          },
          "ternary": {
           "aaxis": {
            "gridcolor": "white",
            "linecolor": "white",
            "ticks": ""
           },
           "baxis": {
            "gridcolor": "white",
            "linecolor": "white",
            "ticks": ""
           },
           "bgcolor": "#E5ECF6",
           "caxis": {
            "gridcolor": "white",
            "linecolor": "white",
            "ticks": ""
           }
          },
          "title": {
           "x": 0.05
          },
          "xaxis": {
           "automargin": true,
           "gridcolor": "white",
           "linecolor": "white",
           "ticks": "",
           "title": {
            "standoff": 15
           },
           "zerolinecolor": "white",
           "zerolinewidth": 2
          },
          "yaxis": {
           "automargin": true,
           "gridcolor": "white",
           "linecolor": "white",
           "ticks": "",
           "title": {
            "standoff": 15
           },
           "zerolinecolor": "white",
           "zerolinewidth": 2
          }
         }
        },
        "title": {
         "text": "Heart Disease Presence by Gender"
        },
        "xaxis": {
         "ticktext": [
          "Female",
          "Male"
         ],
         "tickvals": [
          0,
          1
         ],
         "title": {
          "text": "Gender (0: Female, 1: Male)"
         }
        },
        "yaxis": {
         "title": {
          "text": "Count"
         }
        }
       }
      },
      "text/html": [
       "<div>                            <div id=\"9e641cbf-47d3-4ddf-9b9e-2aabb9b2cb24\" class=\"plotly-graph-div\" style=\"height:525px; width:100%;\"></div>            <script type=\"text/javascript\">                require([\"plotly\"], function(Plotly) {                    window.PLOTLYENV=window.PLOTLYENV || {};                                    if (document.getElementById(\"9e641cbf-47d3-4ddf-9b9e-2aabb9b2cb24\")) {                    Plotly.newPlot(                        \"9e641cbf-47d3-4ddf-9b9e-2aabb9b2cb24\",                        [{\"marker\": {\"color\": \"#FF9999\"}, \"name\": \"No Disease\", \"type\": \"bar\", \"x\": [0, 1], \"y\": [86, 413]}, {\"marker\": {\"color\": \"#66B2FF\"}, \"name\": \"Disease\", \"type\": \"bar\", \"x\": [0, 1], \"y\": [226, 300]}],                        {\"barmode\": \"group\", \"template\": {\"data\": {\"bar\": [{\"error_x\": {\"color\": \"#2a3f5f\"}, \"error_y\": {\"color\": \"#2a3f5f\"}, \"marker\": {\"line\": {\"color\": \"#E5ECF6\", \"width\": 0.5}}, \"type\": \"bar\"}], \"barpolar\": [{\"marker\": {\"line\": {\"color\": \"#E5ECF6\", \"width\": 0.5}}, \"type\": \"barpolar\"}], \"carpet\": [{\"aaxis\": {\"endlinecolor\": \"#2a3f5f\", \"gridcolor\": \"white\", \"linecolor\": \"white\", \"minorgridcolor\": \"white\", \"startlinecolor\": \"#2a3f5f\"}, \"baxis\": {\"endlinecolor\": \"#2a3f5f\", \"gridcolor\": \"white\", \"linecolor\": \"white\", \"minorgridcolor\": \"white\", \"startlinecolor\": \"#2a3f5f\"}, \"type\": \"carpet\"}], \"choropleth\": [{\"colorbar\": {\"outlinewidth\": 0, \"ticks\": \"\"}, \"type\": \"choropleth\"}], \"contour\": [{\"colorbar\": {\"outlinewidth\": 0, \"ticks\": \"\"}, \"colorscale\": [[0.0, \"#0d0887\"], [0.1111111111111111, \"#46039f\"], [0.2222222222222222, \"#7201a8\"], [0.3333333333333333, \"#9c179e\"], [0.4444444444444444, \"#bd3786\"], [0.5555555555555556, \"#d8576b\"], [0.6666666666666666, \"#ed7953\"], [0.7777777777777778, \"#fb9f3a\"], [0.8888888888888888, \"#fdca26\"], [1.0, \"#f0f921\"]], \"type\": \"contour\"}], \"contourcarpet\": [{\"colorbar\": {\"outlinewidth\": 0, \"ticks\": \"\"}, \"type\": \"contourcarpet\"}], \"heatmap\": [{\"colorbar\": {\"outlinewidth\": 0, \"ticks\": \"\"}, \"colorscale\": [[0.0, \"#0d0887\"], [0.1111111111111111, \"#46039f\"], [0.2222222222222222, \"#7201a8\"], [0.3333333333333333, \"#9c179e\"], [0.4444444444444444, \"#bd3786\"], [0.5555555555555556, \"#d8576b\"], [0.6666666666666666, \"#ed7953\"], [0.7777777777777778, \"#fb9f3a\"], [0.8888888888888888, \"#fdca26\"], [1.0, \"#f0f921\"]], \"type\": \"heatmap\"}], \"heatmapgl\": [{\"colorbar\": {\"outlinewidth\": 0, \"ticks\": \"\"}, \"colorscale\": [[0.0, \"#0d0887\"], [0.1111111111111111, \"#46039f\"], [0.2222222222222222, \"#7201a8\"], [0.3333333333333333, \"#9c179e\"], [0.4444444444444444, \"#bd3786\"], [0.5555555555555556, \"#d8576b\"], [0.6666666666666666, \"#ed7953\"], [0.7777777777777778, \"#fb9f3a\"], [0.8888888888888888, \"#fdca26\"], [1.0, \"#f0f921\"]], \"type\": \"heatmapgl\"}], \"histogram\": [{\"marker\": {\"colorbar\": {\"outlinewidth\": 0, \"ticks\": \"\"}}, \"type\": \"histogram\"}], \"histogram2d\": [{\"colorbar\": {\"outlinewidth\": 0, \"ticks\": \"\"}, \"colorscale\": [[0.0, \"#0d0887\"], [0.1111111111111111, \"#46039f\"], [0.2222222222222222, \"#7201a8\"], [0.3333333333333333, \"#9c179e\"], [0.4444444444444444, \"#bd3786\"], [0.5555555555555556, \"#d8576b\"], [0.6666666666666666, \"#ed7953\"], [0.7777777777777778, \"#fb9f3a\"], [0.8888888888888888, \"#fdca26\"], [1.0, \"#f0f921\"]], \"type\": \"histogram2d\"}], \"histogram2dcontour\": [{\"colorbar\": {\"outlinewidth\": 0, \"ticks\": \"\"}, \"colorscale\": [[0.0, \"#0d0887\"], [0.1111111111111111, \"#46039f\"], [0.2222222222222222, \"#7201a8\"], [0.3333333333333333, \"#9c179e\"], [0.4444444444444444, \"#bd3786\"], [0.5555555555555556, \"#d8576b\"], [0.6666666666666666, \"#ed7953\"], [0.7777777777777778, \"#fb9f3a\"], [0.8888888888888888, \"#fdca26\"], [1.0, \"#f0f921\"]], \"type\": \"histogram2dcontour\"}], \"mesh3d\": [{\"colorbar\": {\"outlinewidth\": 0, \"ticks\": \"\"}, \"type\": \"mesh3d\"}], \"parcoords\": [{\"line\": {\"colorbar\": {\"outlinewidth\": 0, \"ticks\": \"\"}}, \"type\": \"parcoords\"}], \"pie\": [{\"automargin\": true, \"type\": \"pie\"}], \"scatter\": [{\"marker\": {\"colorbar\": {\"outlinewidth\": 0, \"ticks\": \"\"}}, \"type\": \"scatter\"}], \"scatter3d\": [{\"line\": {\"colorbar\": {\"outlinewidth\": 0, \"ticks\": \"\"}}, \"marker\": {\"colorbar\": {\"outlinewidth\": 0, \"ticks\": \"\"}}, \"type\": \"scatter3d\"}], \"scattercarpet\": [{\"marker\": {\"colorbar\": {\"outlinewidth\": 0, \"ticks\": \"\"}}, \"type\": \"scattercarpet\"}], \"scattergeo\": [{\"marker\": {\"colorbar\": {\"outlinewidth\": 0, \"ticks\": \"\"}}, \"type\": \"scattergeo\"}], \"scattergl\": [{\"marker\": {\"colorbar\": {\"outlinewidth\": 0, \"ticks\": \"\"}}, \"type\": \"scattergl\"}], \"scattermapbox\": [{\"marker\": {\"colorbar\": {\"outlinewidth\": 0, \"ticks\": \"\"}}, \"type\": \"scattermapbox\"}], \"scatterpolar\": [{\"marker\": {\"colorbar\": {\"outlinewidth\": 0, \"ticks\": \"\"}}, \"type\": \"scatterpolar\"}], \"scatterpolargl\": [{\"marker\": {\"colorbar\": {\"outlinewidth\": 0, \"ticks\": \"\"}}, \"type\": \"scatterpolargl\"}], \"scatterternary\": [{\"marker\": {\"colorbar\": {\"outlinewidth\": 0, \"ticks\": \"\"}}, \"type\": \"scatterternary\"}], \"surface\": [{\"colorbar\": {\"outlinewidth\": 0, \"ticks\": \"\"}, \"colorscale\": [[0.0, \"#0d0887\"], [0.1111111111111111, \"#46039f\"], [0.2222222222222222, \"#7201a8\"], [0.3333333333333333, \"#9c179e\"], [0.4444444444444444, \"#bd3786\"], [0.5555555555555556, \"#d8576b\"], [0.6666666666666666, \"#ed7953\"], [0.7777777777777778, \"#fb9f3a\"], [0.8888888888888888, \"#fdca26\"], [1.0, \"#f0f921\"]], \"type\": \"surface\"}], \"table\": [{\"cells\": {\"fill\": {\"color\": \"#EBF0F8\"}, \"line\": {\"color\": \"white\"}}, \"header\": {\"fill\": {\"color\": \"#C8D4E3\"}, \"line\": {\"color\": \"white\"}}, \"type\": \"table\"}]}, \"layout\": {\"annotationdefaults\": {\"arrowcolor\": \"#2a3f5f\", \"arrowhead\": 0, \"arrowwidth\": 1}, \"autotypenumbers\": \"strict\", \"coloraxis\": {\"colorbar\": {\"outlinewidth\": 0, \"ticks\": \"\"}}, \"colorscale\": {\"diverging\": [[0, \"#8e0152\"], [0.1, \"#c51b7d\"], [0.2, \"#de77ae\"], [0.3, \"#f1b6da\"], [0.4, \"#fde0ef\"], [0.5, \"#f7f7f7\"], [0.6, \"#e6f5d0\"], [0.7, \"#b8e186\"], [0.8, \"#7fbc41\"], [0.9, \"#4d9221\"], [1, \"#276419\"]], \"sequential\": [[0.0, \"#0d0887\"], [0.1111111111111111, \"#46039f\"], [0.2222222222222222, \"#7201a8\"], [0.3333333333333333, \"#9c179e\"], [0.4444444444444444, \"#bd3786\"], [0.5555555555555556, \"#d8576b\"], [0.6666666666666666, \"#ed7953\"], [0.7777777777777778, \"#fb9f3a\"], [0.8888888888888888, \"#fdca26\"], [1.0, \"#f0f921\"]], \"sequentialminus\": [[0.0, \"#0d0887\"], [0.1111111111111111, \"#46039f\"], [0.2222222222222222, \"#7201a8\"], [0.3333333333333333, \"#9c179e\"], [0.4444444444444444, \"#bd3786\"], [0.5555555555555556, \"#d8576b\"], [0.6666666666666666, \"#ed7953\"], [0.7777777777777778, \"#fb9f3a\"], [0.8888888888888888, \"#fdca26\"], [1.0, \"#f0f921\"]]}, \"colorway\": [\"#636efa\", \"#EF553B\", \"#00cc96\", \"#ab63fa\", \"#FFA15A\", \"#19d3f3\", \"#FF6692\", \"#B6E880\", \"#FF97FF\", \"#FECB52\"], \"font\": {\"color\": \"#2a3f5f\"}, \"geo\": {\"bgcolor\": \"white\", \"lakecolor\": \"white\", \"landcolor\": \"#E5ECF6\", \"showlakes\": true, \"showland\": true, \"subunitcolor\": \"white\"}, \"hoverlabel\": {\"align\": \"left\"}, \"hovermode\": \"closest\", \"mapbox\": {\"style\": \"light\"}, \"paper_bgcolor\": \"white\", \"plot_bgcolor\": \"#E5ECF6\", \"polar\": {\"angularaxis\": {\"gridcolor\": \"white\", \"linecolor\": \"white\", \"ticks\": \"\"}, \"bgcolor\": \"#E5ECF6\", \"radialaxis\": {\"gridcolor\": \"white\", \"linecolor\": \"white\", \"ticks\": \"\"}}, \"scene\": {\"xaxis\": {\"backgroundcolor\": \"#E5ECF6\", \"gridcolor\": \"white\", \"gridwidth\": 2, \"linecolor\": \"white\", \"showbackground\": true, \"ticks\": \"\", \"zerolinecolor\": \"white\"}, \"yaxis\": {\"backgroundcolor\": \"#E5ECF6\", \"gridcolor\": \"white\", \"gridwidth\": 2, \"linecolor\": \"white\", \"showbackground\": true, \"ticks\": \"\", \"zerolinecolor\": \"white\"}, \"zaxis\": {\"backgroundcolor\": \"#E5ECF6\", \"gridcolor\": \"white\", \"gridwidth\": 2, \"linecolor\": \"white\", \"showbackground\": true, \"ticks\": \"\", \"zerolinecolor\": \"white\"}}, \"shapedefaults\": {\"line\": {\"color\": \"#2a3f5f\"}}, \"ternary\": {\"aaxis\": {\"gridcolor\": \"white\", \"linecolor\": \"white\", \"ticks\": \"\"}, \"baxis\": {\"gridcolor\": \"white\", \"linecolor\": \"white\", \"ticks\": \"\"}, \"bgcolor\": \"#E5ECF6\", \"caxis\": {\"gridcolor\": \"white\", \"linecolor\": \"white\", \"ticks\": \"\"}}, \"title\": {\"x\": 0.05}, \"xaxis\": {\"automargin\": true, \"gridcolor\": \"white\", \"linecolor\": \"white\", \"ticks\": \"\", \"title\": {\"standoff\": 15}, \"zerolinecolor\": \"white\", \"zerolinewidth\": 2}, \"yaxis\": {\"automargin\": true, \"gridcolor\": \"white\", \"linecolor\": \"white\", \"ticks\": \"\", \"title\": {\"standoff\": 15}, \"zerolinecolor\": \"white\", \"zerolinewidth\": 2}}}, \"title\": {\"text\": \"Heart Disease Presence by Gender\"}, \"xaxis\": {\"ticktext\": [\"Female\", \"Male\"], \"tickvals\": [0, 1], \"title\": {\"text\": \"Gender (0: Female, 1: Male)\"}}, \"yaxis\": {\"title\": {\"text\": \"Count\"}}},                        {\"responsive\": true}                    ).then(function(){\n",
       "                            \n",
       "var gd = document.getElementById('9e641cbf-47d3-4ddf-9b9e-2aabb9b2cb24');\n",
       "var x = new MutationObserver(function (mutations, observer) {{\n",
       "        var display = window.getComputedStyle(gd).display;\n",
       "        if (!display || display === 'none') {{\n",
       "            console.log([gd, 'removed!']);\n",
       "            Plotly.purge(gd);\n",
       "            observer.disconnect();\n",
       "        }}\n",
       "}});\n",
       "\n",
       "// Listen for the removal of the full notebook cells\n",
       "var notebookContainer = gd.closest('#notebook-container');\n",
       "if (notebookContainer) {{\n",
       "    x.observe(notebookContainer, {childList: true});\n",
       "}}\n",
       "\n",
       "// Listen for the clearing of the current output cell\n",
       "var outputEl = gd.closest('.output');\n",
       "if (outputEl) {{\n",
       "    x.observe(outputEl, {childList: true});\n",
       "}}\n",
       "\n",
       "                        })                };                });            </script>        </div>"
      ]
     },
     "metadata": {},
     "output_type": "display_data"
    }
   ],
   "source": [
    "\n",
    "# Group data by gender and calculate the count of heart disease cases and non-cases\n",
    "gender_heart_disease = heart.groupby(['sex', 'disease'])['disease'].count().unstack()\n",
    "\n",
    "# Create a bar plot using Plotly\n",
    "fig = go.Figure(data=[\n",
    "    go.Bar(x=[0, 1], y=gender_heart_disease[0], name='No Disease', marker_color='#FF9999'),\n",
    "    go.Bar(x=[0, 1], y=gender_heart_disease[1], name='Disease', marker_color='#66B2FF')\n",
    "])\n",
    "\n",
    "# Customize the layout\n",
    "fig.update_layout(\n",
    "    title='Heart Disease Presence by Gender',\n",
    "    xaxis=dict(title='Gender (0: Female, 1: Male)', tickvals=[0, 1], ticktext=['Female', 'Male']),\n",
    "    yaxis=dict(title='Count'),\n",
    "    barmode='group',\n",
    ")\n",
    "\n",
    "# Perform a chi-squared test for gender and heart disease presence\n",
    "chi2, p, _, _ = chi2_contingency(gender_heart_disease)\n",
    "print(f\"Chi-squared test statistic: {chi2}\")\n",
    "print(f\"P-value: {p}\")\n",
    "\n",
    "fig.show()\n"
   ]
  },
  {
   "cell_type": "markdown",
   "id": "99b7f494",
   "metadata": {},
   "source": [
    "The chi-squared test results suggest that there is a strong and highly statistically significant association between gender and the presence of heart disease. This implies that gender is a significant factor in predicting heart disease, and there is evidence to support the claim that gender is associated with heart disease presence in the dataset."
   ]
  },
  {
   "cell_type": "code",
   "execution_count": 62,
   "id": "1b80019a",
   "metadata": {},
   "outputs": [
    {
     "data": {
      "application/vnd.plotly.v1+json": {
       "config": {
        "plotlyServerURL": "https://plot.ly"
       },
       "data": [
        {
         "marker": {
          "color": "blue"
         },
         "nbinsx": 20,
         "type": "histogram",
         "x": [
          52,
          53,
          70,
          61,
          62,
          58,
          58,
          55,
          46,
          54,
          71,
          43,
          34,
          51,
          52,
          34,
          51,
          54,
          50,
          58,
          60,
          67,
          45,
          63,
          42,
          61,
          44,
          58,
          56,
          55,
          44,
          50,
          57,
          70,
          50,
          46,
          51,
          59,
          64,
          57,
          65,
          54,
          61,
          46,
          55,
          42,
          41,
          66,
          66,
          60,
          58,
          57,
          38,
          49,
          55,
          55,
          56,
          48,
          67,
          57,
          29,
          66,
          67,
          59,
          29,
          59,
          53,
          42,
          37,
          62,
          59,
          61,
          56,
          59,
          48,
          47,
          48,
          63,
          52,
          52,
          50,
          49,
          46,
          38,
          37,
          44,
          58,
          59,
          62,
          68,
          54,
          62,
          63,
          44,
          62,
          45,
          57,
          53,
          65,
          76,
          43,
          57,
          54,
          47,
          52,
          47,
          51,
          62,
          40,
          54,
          44,
          53,
          48,
          57,
          59,
          61,
          63,
          43,
          29,
          42,
          54,
          44,
          60,
          65,
          61,
          60,
          66,
          53,
          52,
          57,
          60,
          51,
          41,
          50,
          54,
          58,
          55,
          64,
          47,
          41,
          57,
          63,
          61,
          34,
          47,
          40,
          51,
          41,
          52,
          39,
          58,
          54,
          58,
          54,
          63,
          54,
          40,
          54,
          67,
          41,
          77,
          51,
          77,
          48,
          56,
          59,
          56,
          57,
          43,
          45,
          43,
          56,
          56,
          39,
          54,
          56,
          56,
          64,
          44,
          56,
          63,
          64,
          60,
          42,
          45,
          57,
          40,
          56,
          63,
          64,
          41,
          56,
          67,
          69,
          67,
          59,
          58,
          45,
          60,
          50,
          62,
          34,
          52,
          64,
          66,
          42,
          59,
          41,
          38,
          62,
          42,
          67,
          50,
          43,
          45,
          49,
          65,
          41,
          46,
          54,
          57,
          63,
          64,
          39,
          51,
          54,
          49,
          44,
          52,
          66,
          58,
          56,
          60,
          41,
          49,
          64,
          49,
          57,
          60,
          62,
          54,
          67,
          38,
          60,
          51,
          44,
          54,
          46,
          39,
          42,
          47,
          45,
          55,
          57,
          35,
          62,
          35,
          64,
          38,
          66,
          44,
          54,
          48,
          55,
          58,
          45,
          53,
          67,
          58,
          71,
          43,
          44,
          39,
          54,
          66,
          56,
          57,
          44,
          55,
          41,
          45,
          35,
          41,
          64,
          58,
          71,
          64,
          71,
          58,
          40,
          52,
          58,
          61,
          59,
          56,
          67,
          67,
          58,
          35,
          52,
          46,
          51,
          55,
          60,
          52,
          62,
          44,
          44,
          59,
          56,
          61,
          48,
          70,
          74,
          40,
          42,
          64,
          63,
          59,
          53,
          53,
          48,
          45,
          66,
          48,
          56,
          54,
          57,
          70,
          53,
          37,
          63,
          37,
          54,
          60,
          58,
          57,
          54,
          56,
          60,
          38,
          44,
          65,
          52,
          41,
          66,
          50,
          54,
          43,
          62,
          66,
          50,
          57,
          57,
          57,
          46,
          59,
          67,
          59,
          53,
          48,
          62,
          43,
          53,
          57,
          53,
          58,
          48,
          58,
          51,
          43,
          55,
          54,
          58,
          46,
          66,
          59,
          64,
          67,
          52,
          58,
          58,
          59,
          58,
          35,
          51,
          42,
          77,
          64,
          63,
          58,
          45,
          51,
          62,
          63,
          66,
          68,
          40,
          66,
          63,
          49,
          71,
          70,
          46,
          61,
          56,
          58,
          58,
          46,
          46,
          41,
          56,
          57,
          70,
          59,
          41,
          54,
          52,
          62,
          65,
          57,
          42,
          57,
          58,
          45,
          51,
          54,
          57,
          43,
          47,
          67,
          65,
          60,
          37,
          41,
          57,
          59,
          67,
          47,
          58,
          62,
          60,
          57,
          57,
          47,
          52,
          53,
          55,
          51,
          52,
          63,
          49,
          66,
          49,
          65,
          69,
          47,
          39,
          43,
          51,
          69,
          48,
          52,
          43,
          67,
          38,
          44,
          47,
          61,
          67,
          60,
          64,
          58,
          41,
          48,
          57,
          57,
          57,
          39,
          58,
          51,
          63,
          51,
          35,
          65,
          62,
          41,
          65,
          54,
          61,
          57,
          57,
          64,
          55,
          51,
          59,
          68,
          57,
          54,
          46,
          71,
          35,
          46,
          45,
          47,
          44,
          61,
          41,
          56,
          55,
          54,
          43,
          44,
          54,
          44,
          49,
          60,
          41,
          49,
          61,
          59,
          58,
          67,
          61,
          58,
          51,
          62,
          62,
          59,
          69,
          60,
          65,
          63,
          53,
          54,
          76,
          50,
          52,
          46,
          64,
          58,
          44,
          62,
          59,
          54,
          48,
          70,
          67,
          51,
          68,
          69,
          54,
          43,
          53,
          58,
          67,
          59,
          48,
          39,
          67,
          58,
          65,
          42,
          44,
          56,
          53,
          50,
          41,
          54,
          42,
          54,
          60,
          34,
          44,
          60,
          43,
          52,
          70,
          62,
          58,
          46,
          44,
          55,
          43,
          55,
          40,
          64,
          59,
          61,
          54,
          74,
          63,
          70,
          63,
          64,
          61,
          59,
          38,
          58,
          63,
          62,
          46,
          58,
          63,
          47,
          71,
          66,
          42,
          64,
          55,
          43,
          55,
          58,
          55,
          51,
          50,
          43,
          41,
          49,
          65,
          57,
          48,
          62,
          61,
          59,
          69,
          58,
          38,
          69,
          65,
          45,
          49,
          45,
          61,
          52,
          53,
          59,
          58,
          65,
          58,
          46,
          56,
          64,
          65,
          44,
          50,
          47,
          64,
          71,
          45,
          62,
          41,
          66,
          56,
          41,
          41,
          57,
          39,
          64,
          59,
          61,
          58,
          47,
          58,
          66,
          65,
          35,
          57,
          29,
          66,
          61,
          52,
          68,
          54,
          63,
          58,
          60,
          63,
          41,
          68,
          42,
          59,
          59,
          43,
          60,
          63,
          52,
          58,
          56,
          54,
          58,
          55,
          53,
          63,
          39,
          35,
          50,
          67,
          66,
          35,
          41,
          35,
          71,
          57,
          51,
          58,
          57,
          56,
          60,
          45,
          56,
          35,
          45,
          66,
          51,
          70,
          55,
          56,
          55,
          52,
          64,
          45,
          67,
          68,
          74,
          60,
          48,
          56,
          46,
          55,
          44,
          52,
          51,
          44,
          52,
          50,
          59,
          67,
          58,
          52,
          44,
          41,
          63,
          58,
          60,
          51,
          64,
          60,
          44,
          58,
          55,
          65,
          48,
          65,
          51,
          48,
          64,
          66,
          46,
          61,
          57,
          49,
          56,
          58,
          63,
          57,
          57,
          68,
          46,
          71,
          41,
          45,
          62,
          65,
          48,
          51,
          61,
          53,
          59,
          34,
          44,
          58,
          64,
          56,
          54,
          55,
          67,
          51,
          62,
          62,
          54,
          54,
          68,
          60,
          61,
          62,
          41,
          65,
          59,
          43,
          67,
          63,
          63,
          52,
          58,
          53,
          57,
          44,
          51,
          54,
          40,
          57,
          62,
          53,
          62,
          58,
          70,
          45,
          42,
          58,
          61,
          62,
          60,
          54,
          61,
          63,
          42,
          57,
          44,
          54,
          51,
          58,
          68,
          55,
          42,
          49,
          53,
          52,
          51,
          51,
          70,
          35,
          58,
          59,
          60,
          56,
          35,
          61,
          58,
          52,
          58,
          37,
          52,
          67,
          65,
          46,
          68,
          43,
          68,
          51,
          52,
          64,
          59,
          52,
          59,
          60,
          41,
          41,
          56,
          56,
          48,
          39,
          64,
          57,
          59,
          60,
          61,
          43,
          54,
          59,
          57,
          57,
          57,
          48,
          70,
          57,
          61,
          57,
          60,
          63,
          55,
          64,
          54,
          52,
          51,
          62,
          59,
          52,
          42,
          59,
          61,
          42,
          62,
          59,
          55,
          64,
          42,
          50,
          62,
          50,
          50,
          58,
          35,
          45,
          66,
          46,
          65,
          47,
          59,
          38,
          39,
          58,
          44,
          54,
          61,
          57,
          54,
          42,
          54,
          60,
          65,
          40,
          51,
          38,
          42,
          56,
          43,
          64,
          53,
          49,
          57,
          52,
          69,
          65,
          66,
          56,
          67,
          54,
          70,
          57,
          67,
          62,
          54,
          45,
          53,
          62,
          49,
          50,
          65,
          69,
          52,
          58,
          52,
          57,
          44,
          76,
          58,
          60,
          53,
          52,
          38,
          52,
          52,
          51,
          43,
          39,
          63,
          52,
          44,
          45,
          57,
          39,
          67,
          64,
          59,
          62,
          55,
          57,
          60,
          71,
          56,
          60,
          50,
          43,
          59,
          44,
          56,
          54,
          42,
          67,
          64,
          42,
          66,
          52,
          51,
          55,
          58,
          56,
          42,
          40,
          51,
          45,
          48,
          58,
          44,
          58,
          65,
          53,
          41,
          47,
          59,
          60,
          47,
          50,
          54
         ],
         "xaxis": "x",
         "yaxis": "y"
        },
        {
         "marker": {
          "color": "green"
         },
         "nbinsx": 20,
         "type": "histogram",
         "x": [
          212,
          203,
          174,
          203,
          294,
          248,
          318,
          289,
          249,
          286,
          149,
          341,
          210,
          298,
          204,
          210,
          308,
          266,
          244,
          211,
          185,
          223,
          208,
          252,
          209,
          307,
          233,
          319,
          256,
          327,
          169,
          244,
          131,
          269,
          196,
          231,
          213,
          271,
          263,
          229,
          360,
          258,
          330,
          249,
          342,
          226,
          203,
          228,
          278,
          230,
          283,
          241,
          175,
          188,
          217,
          217,
          193,
          245,
          212,
          232,
          204,
          278,
          299,
          212,
          204,
          288,
          197,
          315,
          215,
          164,
          326,
          207,
          249,
          177,
          256,
          257,
          255,
          187,
          201,
          201,
          233,
          149,
          231,
          175,
          215,
          220,
          211,
          249,
          268,
          193,
          267,
          209,
          187,
          169,
          208,
          236,
          303,
          282,
          248,
          197,
          213,
          126,
          309,
          257,
          186,
          275,
          299,
          281,
          223,
          206,
          197,
          226,
          256,
          335,
          218,
          307,
          254,
          177,
          204,
          295,
          309,
          169,
          282,
          417,
          260,
          240,
          302,
          197,
          223,
          192,
          240,
          256,
          203,
          196,
          309,
          225,
          342,
          325,
          257,
          235,
          274,
          197,
          234,
          182,
          204,
          167,
          295,
          172,
          298,
          321,
          318,
          283,
          300,
          258,
          330,
          309,
          199,
          258,
          564,
          157,
          304,
          222,
          304,
          274,
          249,
          326,
          184,
          354,
          315,
          160,
          247,
          283,
          240,
          199,
          239,
          288,
          283,
          246,
          197,
          409,
          187,
          211,
          293,
          180,
          308,
          289,
          167,
          249,
          254,
          309,
          250,
          221,
          564,
          234,
          286,
          212,
          234,
          260,
          318,
          200,
          209,
          182,
          298,
          227,
          278,
          244,
          218,
          250,
          175,
          281,
          240,
          299,
          243,
          315,
          308,
          266,
          254,
          157,
          311,
          286,
          236,
          254,
          211,
          199,
          261,
          232,
          149,
          242,
          205,
          228,
          300,
          236,
          258,
          306,
          269,
          227,
          149,
          261,
          230,
          244,
          288,
          212,
          175,
          185,
          245,
          219,
          283,
          311,
          220,
          180,
          275,
          160,
          353,
          289,
          198,
          394,
          183,
          325,
          231,
          302,
          226,
          232,
          222,
          342,
          225,
          208,
          282,
          237,
          224,
          265,
          211,
          263,
          220,
          206,
          228,
          283,
          207,
          219,
          289,
          198,
          234,
          192,
          204,
          211,
          224,
          265,
          313,
          302,
          340,
          223,
          223,
          259,
          243,
          212,
          288,
          299,
          237,
          270,
          192,
          325,
          204,
          227,
          342,
          282,
          196,
          267,
          242,
          220,
          218,
          294,
          260,
          256,
          269,
          269,
          199,
          244,
          313,
          252,
          177,
          216,
          264,
          275,
          309,
          246,
          245,
          294,
          283,
          276,
          322,
          216,
          215,
          269,
          250,
          214,
          206,
          270,
          126,
          273,
          256,
          253,
          175,
          226,
          269,
          199,
          157,
          246,
          243,
          267,
          247,
          263,
          302,
          200,
          335,
          201,
          261,
          243,
          176,
          286,
          204,
          216,
          222,
          231,
          213,
          246,
          236,
          246,
          230,
          229,
          240,
          175,
          341,
          353,
          214,
          284,
          177,
          228,
          221,
          303,
          237,
          186,
          218,
          224,
          239,
          270,
          282,
          175,
          209,
          304,
          246,
          233,
          319,
          264,
          175,
          164,
          330,
          278,
          274,
          167,
          228,
          233,
          188,
          149,
          245,
          204,
          207,
          256,
          211,
          234,
          243,
          231,
          198,
          249,
          276,
          322,
          288,
          204,
          273,
          223,
          209,
          360,
          303,
          265,
          354,
          319,
          309,
          305,
          201,
          168,
          247,
          243,
          212,
          225,
          318,
          250,
          268,
          354,
          249,
          229,
          253,
          284,
          244,
          293,
          274,
          168,
          253,
          205,
          246,
          289,
          295,
          230,
          407,
          271,
          228,
          271,
          225,
          234,
          243,
          220,
          247,
          261,
          254,
          255,
          186,
          211,
          564,
          175,
          219,
          275,
          243,
          286,
          240,
          313,
          197,
          214,
          229,
          126,
          289,
          229,
          321,
          216,
          305,
          407,
          298,
          192,
          248,
          281,
          172,
          254,
          288,
          243,
          303,
          168,
          309,
          353,
          245,
          234,
          274,
          232,
          239,
          177,
          149,
          183,
          177,
          234,
          243,
          242,
          260,
          204,
          288,
          327,
          288,
          177,
          290,
          206,
          220,
          188,
          206,
          198,
          188,
          203,
          177,
          220,
          277,
          203,
          230,
          256,
          164,
          209,
          270,
          234,
          258,
          269,
          197,
          234,
          267,
          197,
          219,
          325,
          249,
          227,
          259,
          235,
          394,
          204,
          273,
          229,
          322,
          223,
          295,
          277,
          254,
          286,
          341,
          197,
          234,
          254,
          177,
          222,
          199,
          237,
          197,
          269,
          209,
          290,
          184,
          234,
          254,
          214,
          201,
          240,
          304,
          282,
          182,
          290,
          258,
          247,
          298,
          322,
          394,
          218,
          197,
          235,
          262,
          177,
          353,
          199,
          309,
          176,
          307,
          286,
          269,
          269,
          269,
          269,
          212,
          203,
          221,
          175,
          284,
          195,
          263,
          311,
          340,
          195,
          253,
          265,
          212,
          315,
          212,
          327,
          341,
          205,
          225,
          217,
          305,
          219,
          303,
          306,
          266,
          248,
          274,
          256,
          294,
          234,
          270,
          254,
          224,
          231,
          239,
          282,
          264,
          266,
          234,
          166,
          212,
          264,
          249,
          340,
          282,
          197,
          243,
          409,
          263,
          177,
          226,
          243,
          243,
          303,
          149,
          234,
          267,
          157,
          226,
          283,
          306,
          235,
          236,
          220,
          309,
          271,
          166,
          318,
          204,
          248,
          226,
          417,
          192,
          261,
          204,
          246,
          330,
          212,
          277,
          258,
          330,
          234,
          253,
          254,
          268,
          274,
          295,
          326,
          176,
          177,
          185,
          407,
          204,
          300,
          288,
          304,
          240,
          250,
          203,
          195,
          219,
          282,
          219,
          212,
          212,
          282,
          214,
          198,
          302,
          201,
          227,
          216,
          229,
          294,
          178,
          264,
          221,
          198,
          160,
          226,
          213,
          245,
          205,
          256,
          250,
          233,
          335,
          260,
          277,
          211,
          269,
          258,
          274,
          221,
          311,
          250,
          220,
          230,
          227,
          141,
          204,
          196,
          239,
          229,
          300,
          255,
          235,
          268,
          330,
          220,
          318,
          222,
          335,
          230,
          226,
          220,
          262,
          360,
          245,
          177,
          256,
          255,
          246,
          228,
          204,
          330,
          276,
          269,
          221,
          283,
          187,
          335,
          335,
          193,
          197,
          265,
          203,
          236,
          244,
          225,
          275,
          222,
          307,
          282,
          204,
          210,
          169,
          218,
          303,
          240,
          232,
          289,
          254,
          298,
          294,
          281,
          239,
          239,
          193,
          178,
          234,
          208,
          203,
          225,
          288,
          303,
          229,
          233,
          197,
          230,
          197,
          226,
          276,
          233,
          227,
          214,
          167,
          261,
          268,
          203,
          208,
          240,
          245,
          260,
          244,
          225,
          207,
          268,
          253,
          239,
          166,
          252,
          180,
          229,
          233,
          266,
          222,
          220,
          277,
          217,
          315,
          149,
          234,
          199,
          213,
          261,
          174,
          183,
          230,
          273,
          293,
          184,
          183,
          166,
          283,
          255,
          284,
          250,
          255,
          229,
          282,
          197,
          211,
          303,
          211,
          299,
          230,
          335,
          288,
          212,
          273,
          240,
          250,
          235,
          240,
          236,
          275,
          321,
          227,
          192,
          273,
          206,
          207,
          213,
          188,
          271,
          207,
          232,
          131,
          274,
          174,
          289,
          260,
          201,
          258,
          407,
          205,
          325,
          239,
          204,
          299,
          263,
          270,
          201,
          265,
          234,
          234,
          265,
          268,
          218,
          262,
          246,
          226,
          244,
          267,
          200,
          233,
          319,
          198,
          208,
          212,
          249,
          254,
          253,
          204,
          231,
          219,
          218,
          263,
          239,
          330,
          131,
          206,
          240,
          266,
          206,
          254,
          223,
          308,
          231,
          180,
          240,
          315,
          335,
          226,
          271,
          241,
          196,
          239,
          177,
          228,
          193,
          277,
          201,
          174,
          207,
          286,
          263,
          304,
          236,
          264,
          231,
          269,
          233,
          417,
          239,
          196,
          248,
          233,
          241,
          141,
          197,
          259,
          178,
          203,
          325,
          175,
          199,
          186,
          245,
          211,
          219,
          269,
          205,
          197,
          309,
          192,
          219,
          223,
          263,
          234,
          231,
          327,
          232,
          293,
          302,
          236,
          230,
          254,
          247,
          239,
          263,
          409,
          188,
          315,
          254,
          212,
          226,
          212,
          233,
          308,
          205,
          211,
          193,
          295,
          223,
          299,
          308,
          229,
          318,
          141,
          216,
          282,
          282,
          172,
          204,
          221,
          258,
          275,
          254,
          188
         ],
         "xaxis": "x2",
         "yaxis": "y2"
        },
        {
         "marker": {
          "color": "red"
         },
         "nbinsx": 20,
         "type": "histogram",
         "x": [
          125,
          140,
          145,
          148,
          138,
          100,
          114,
          160,
          120,
          122,
          112,
          132,
          118,
          140,
          128,
          118,
          140,
          124,
          120,
          140,
          140,
          106,
          104,
          135,
          120,
          145,
          130,
          136,
          130,
          180,
          120,
          120,
          130,
          160,
          129,
          150,
          125,
          138,
          128,
          128,
          160,
          120,
          130,
          120,
          132,
          140,
          135,
          178,
          146,
          117,
          150,
          140,
          138,
          120,
          140,
          140,
          120,
          130,
          152,
          154,
          130,
          146,
          100,
          150,
          130,
          170,
          130,
          136,
          120,
          160,
          170,
          140,
          125,
          140,
          130,
          138,
          124,
          140,
          134,
          134,
          140,
          118,
          150,
          138,
          120,
          120,
          140,
          174,
          140,
          144,
          108,
          124,
          140,
          120,
          128,
          138,
          128,
          123,
          110,
          140,
          122,
          150,
          108,
          138,
          118,
          110,
          140,
          120,
          152,
          110,
          110,
          142,
          130,
          110,
          126,
          145,
          130,
          120,
          130,
          120,
          108,
          120,
          145,
          140,
          120,
          150,
          120,
          130,
          138,
          140,
          150,
          130,
          135,
          129,
          108,
          170,
          132,
          180,
          138,
          110,
          152,
          124,
          134,
          118,
          112,
          110,
          120,
          110,
          152,
          140,
          114,
          192,
          125,
          120,
          130,
          108,
          140,
          120,
          115,
          120,
          125,
          100,
          125,
          124,
          125,
          170,
          132,
          120,
          130,
          112,
          150,
          130,
          120,
          94,
          110,
          200,
          130,
          120,
          110,
          134,
          140,
          110,
          140,
          130,
          128,
          165,
          110,
          125,
          130,
          125,
          112,
          130,
          115,
          160,
          160,
          150,
          100,
          115,
          102,
          144,
          124,
          118,
          152,
          170,
          146,
          148,
          126,
          112,
          138,
          120,
          120,
          100,
          150,
          130,
          128,
          130,
          135,
          120,
          140,
          122,
          130,
          130,
          110,
          94,
          140,
          150,
          118,
          118,
          128,
          178,
          125,
          120,
          125,
          126,
          130,
          170,
          118,
          124,
          117,
          150,
          132,
          152,
          138,
          140,
          125,
          130,
          192,
          140,
          138,
          130,
          110,
          112,
          132,
          165,
          120,
          140,
          138,
          180,
          120,
          120,
          120,
          150,
          122,
          132,
          170,
          104,
          123,
          120,
          132,
          110,
          110,
          120,
          138,
          110,
          160,
          130,
          132,
          130,
          160,
          105,
          130,
          122,
          130,
          110,
          132,
          110,
          140,
          160,
          120,
          152,
          138,
          128,
          150,
          150,
          200,
          100,
          120,
          150,
          122,
          120,
          105,
          94,
          132,
          145,
          136,
          120,
          118,
          120,
          126,
          140,
          120,
          130,
          160,
          120,
          140,
          148,
          140,
          135,
          140,
          128,
          130,
          130,
          142,
          160,
          130,
          140,
          192,
          150,
          130,
          128,
          120,
          108,
          130,
          110,
          130,
          150,
          150,
          125,
          130,
          130,
          138,
          120,
          155,
          172,
          120,
          160,
          150,
          108,
          132,
          130,
          120,
          144,
          110,
          110,
          124,
          138,
          164,
          160,
          134,
          128,
          122,
          130,
          122,
          130,
          130,
          130,
          112,
          110,
          105,
          110,
          132,
          132,
          110,
          120,
          142,
          160,
          140,
          130,
          120,
          118,
          146,
          132,
          110,
          150,
          126,
          110,
          120,
          125,
          120,
          145,
          136,
          110,
          110,
          160,
          130,
          146,
          180,
          110,
          160,
          145,
          120,
          112,
          156,
          105,
          140,
          130,
          140,
          100,
          138,
          150,
          105,
          125,
          150,
          130,
          170,
          130,
          125,
          138,
          124,
          160,
          128,
          102,
          120,
          136,
          142,
          130,
          160,
          150,
          132,
          108,
          152,
          150,
          102,
          130,
          112,
          120,
          174,
          120,
          130,
          120,
          150,
          140,
          152,
          150,
          130,
          128,
          130,
          160,
          120,
          112,
          150,
          134,
          178,
          134,
          150,
          160,
          108,
          138,
          150,
          140,
          140,
          124,
          118,
          110,
          115,
          138,
          130,
          110,
          150,
          160,
          150,
          140,
          130,
          130,
          110,
          150,
          165,
          128,
          140,
          128,
          130,
          150,
          140,
          122,
          110,
          120,
          110,
          135,
          132,
          150,
          128,
          150,
          125,
          132,
          125,
          135,
          180,
          154,
          140,
          142,
          112,
          138,
          142,
          130,
          108,
          118,
          120,
          130,
          200,
          180,
          132,
          120,
          112,
          110,
          120,
          120,
          130,
          105,
          120,
          148,
          140,
          125,
          152,
          148,
          112,
          130,
          160,
          124,
          178,
          160,
          150,
          155,
          124,
          138,
          108,
          140,
          120,
          120,
          120,
          170,
          128,
          140,
          140,
          134,
          125,
          110,
          130,
          106,
          120,
          118,
          140,
          122,
          132,
          130,
          100,
          125,
          140,
          122,
          94,
          120,
          130,
          155,
          120,
          112,
          132,
          138,
          110,
          130,
          160,
          120,
          135,
          145,
          118,
          112,
          125,
          150,
          152,
          130,
          140,
          146,
          101,
          140,
          130,
          120,
          132,
          140,
          125,
          164,
          145,
          122,
          120,
          108,
          160,
          108,
          145,
          148,
          140,
          138,
          120,
          140,
          130,
          140,
          120,
          140,
          130,
          110,
          112,
          136,
          145,
          180,
          132,
          128,
          170,
          140,
          130,
          120,
          115,
          126,
          130,
          110,
          152,
          130,
          138,
          134,
          178,
          140,
          132,
          120,
          140,
          138,
          110,
          130,
          130,
          138,
          125,
          130,
          174,
          120,
          138,
          130,
          138,
          134,
          128,
          120,
          120,
          150,
          108,
          130,
          112,
          130,
          120,
          120,
          150,
          130,
          126,
          110,
          130,
          138,
          125,
          138,
          138,
          114,
          112,
          100,
          150,
          140,
          122,
          124,
          130,
          160,
          130,
          125,
          118,
          120,
          130,
          100,
          130,
          130,
          112,
          180,
          120,
          170,
          164,
          120,
          140,
          150,
          128,
          125,
          200,
          135,
          105,
          135,
          140,
          140,
          118,
          126,
          120,
          152,
          112,
          126,
          130,
          120,
          160,
          110,
          94,
          128,
          128,
          140,
          120,
          110,
          130,
          120,
          112,
          150,
          125,
          156,
          128,
          130,
          135,
          108,
          140,
          115,
          152,
          120,
          120,
          150,
          124,
          130,
          140,
          135,
          120,
          112,
          94,
          108,
          128,
          129,
          110,
          120,
          125,
          128,
          140,
          112,
          130,
          125,
          102,
          100,
          140,
          117,
          120,
          125,
          130,
          160,
          130,
          120,
          130,
          124,
          120,
          160,
          105,
          130,
          150,
          130,
          130,
          150,
          140,
          110,
          110,
          144,
          101,
          110,
          135,
          138,
          150,
          150,
          130,
          100,
          145,
          123,
          134,
          118,
          120,
          146,
          130,
          120,
          150,
          160,
          125,
          140,
          138,
          120,
          110,
          110,
          144,
          120,
          134,
          128,
          135,
          150,
          170,
          115,
          120,
          145,
          124,
          112,
          130,
          142,
          150,
          130,
          94,
          110,
          110,
          124,
          140,
          140,
          128,
          105,
          156,
          115,
          148,
          170,
          140,
          140,
          130,
          140,
          138,
          135,
          130,
          128,
          130,
          124,
          100,
          125,
          118,
          140,
          136,
          118,
          138,
          172,
          125,
          140,
          145,
          138,
          112,
          160,
          140,
          132,
          138,
          138,
          150,
          128,
          120,
          130,
          128,
          120,
          138,
          101,
          120,
          115,
          120,
          140,
          112,
          140,
          170,
          125,
          160,
          150,
          112,
          110,
          120,
          120,
          130,
          140,
          170,
          140,
          160,
          130,
          140,
          122,
          120,
          138,
          132,
          154,
          130,
          124,
          145,
          165,
          120,
          110,
          150,
          150,
          128,
          180,
          110,
          128,
          140,
          130,
          178,
          134,
          102,
          135,
          134,
          102,
          140,
          126,
          130,
          120,
          140,
          120,
          120,
          144,
          140,
          136,
          120,
          104,
          112,
          120,
          135,
          130,
          134,
          120,
          118,
          146,
          120,
          140,
          130,
          130,
          110,
          120,
          124,
          130,
          135,
          152,
          140,
          120,
          130,
          120,
          130,
          140,
          142,
          134,
          140,
          136,
          140,
          120,
          178,
          120,
          152,
          160,
          145,
          132,
          160,
          130,
          135,
          138,
          130,
          130,
          130,
          140,
          140,
          140,
          136,
          100,
          108,
          140,
          108,
          140,
          128,
          120,
          140,
          120,
          138,
          172,
          118,
          125,
          110,
          118,
          108,
          128,
          110,
          142,
          140,
          118,
          106,
          128,
          135,
          130,
          180,
          154,
          140,
          160,
          120,
          117,
          110,
          132,
          110,
          120,
          134,
          120,
          136,
          125,
          145,
          140,
          112,
          108,
          140,
          128,
          140,
          120,
          120,
          152,
          140,
          128,
          110,
          114,
          108,
          128,
          138,
          123,
          110,
          112,
          140,
          125,
          110,
          110,
          120
         ],
         "xaxis": "x3",
         "yaxis": "y3"
        }
       ],
       "layout": {
        "annotations": [
         {
          "font": {
           "size": 16
          },
          "showarrow": false,
          "text": "Age Distribution",
          "x": 0.14444444444444446,
          "xanchor": "center",
          "xref": "paper",
          "y": 1,
          "yanchor": "bottom",
          "yref": "paper"
         },
         {
          "font": {
           "size": 16
          },
          "showarrow": false,
          "text": "Cholesterol Distribution",
          "x": 0.5,
          "xanchor": "center",
          "xref": "paper",
          "y": 1,
          "yanchor": "bottom",
          "yref": "paper"
         },
         {
          "font": {
           "size": 16
          },
          "showarrow": false,
          "text": "Blood Pressure Distribution",
          "x": 0.8555555555555556,
          "xanchor": "center",
          "xref": "paper",
          "y": 1,
          "yanchor": "bottom",
          "yref": "paper"
         }
        ],
        "height": 400,
        "template": {
         "data": {
          "bar": [
           {
            "error_x": {
             "color": "#2a3f5f"
            },
            "error_y": {
             "color": "#2a3f5f"
            },
            "marker": {
             "line": {
              "color": "#E5ECF6",
              "width": 0.5
             }
            },
            "type": "bar"
           }
          ],
          "barpolar": [
           {
            "marker": {
             "line": {
              "color": "#E5ECF6",
              "width": 0.5
             }
            },
            "type": "barpolar"
           }
          ],
          "carpet": [
           {
            "aaxis": {
             "endlinecolor": "#2a3f5f",
             "gridcolor": "white",
             "linecolor": "white",
             "minorgridcolor": "white",
             "startlinecolor": "#2a3f5f"
            },
            "baxis": {
             "endlinecolor": "#2a3f5f",
             "gridcolor": "white",
             "linecolor": "white",
             "minorgridcolor": "white",
             "startlinecolor": "#2a3f5f"
            },
            "type": "carpet"
           }
          ],
          "choropleth": [
           {
            "colorbar": {
             "outlinewidth": 0,
             "ticks": ""
            },
            "type": "choropleth"
           }
          ],
          "contour": [
           {
            "colorbar": {
             "outlinewidth": 0,
             "ticks": ""
            },
            "colorscale": [
             [
              0,
              "#0d0887"
             ],
             [
              0.1111111111111111,
              "#46039f"
             ],
             [
              0.2222222222222222,
              "#7201a8"
             ],
             [
              0.3333333333333333,
              "#9c179e"
             ],
             [
              0.4444444444444444,
              "#bd3786"
             ],
             [
              0.5555555555555556,
              "#d8576b"
             ],
             [
              0.6666666666666666,
              "#ed7953"
             ],
             [
              0.7777777777777778,
              "#fb9f3a"
             ],
             [
              0.8888888888888888,
              "#fdca26"
             ],
             [
              1,
              "#f0f921"
             ]
            ],
            "type": "contour"
           }
          ],
          "contourcarpet": [
           {
            "colorbar": {
             "outlinewidth": 0,
             "ticks": ""
            },
            "type": "contourcarpet"
           }
          ],
          "heatmap": [
           {
            "colorbar": {
             "outlinewidth": 0,
             "ticks": ""
            },
            "colorscale": [
             [
              0,
              "#0d0887"
             ],
             [
              0.1111111111111111,
              "#46039f"
             ],
             [
              0.2222222222222222,
              "#7201a8"
             ],
             [
              0.3333333333333333,
              "#9c179e"
             ],
             [
              0.4444444444444444,
              "#bd3786"
             ],
             [
              0.5555555555555556,
              "#d8576b"
             ],
             [
              0.6666666666666666,
              "#ed7953"
             ],
             [
              0.7777777777777778,
              "#fb9f3a"
             ],
             [
              0.8888888888888888,
              "#fdca26"
             ],
             [
              1,
              "#f0f921"
             ]
            ],
            "type": "heatmap"
           }
          ],
          "heatmapgl": [
           {
            "colorbar": {
             "outlinewidth": 0,
             "ticks": ""
            },
            "colorscale": [
             [
              0,
              "#0d0887"
             ],
             [
              0.1111111111111111,
              "#46039f"
             ],
             [
              0.2222222222222222,
              "#7201a8"
             ],
             [
              0.3333333333333333,
              "#9c179e"
             ],
             [
              0.4444444444444444,
              "#bd3786"
             ],
             [
              0.5555555555555556,
              "#d8576b"
             ],
             [
              0.6666666666666666,
              "#ed7953"
             ],
             [
              0.7777777777777778,
              "#fb9f3a"
             ],
             [
              0.8888888888888888,
              "#fdca26"
             ],
             [
              1,
              "#f0f921"
             ]
            ],
            "type": "heatmapgl"
           }
          ],
          "histogram": [
           {
            "marker": {
             "colorbar": {
              "outlinewidth": 0,
              "ticks": ""
             }
            },
            "type": "histogram"
           }
          ],
          "histogram2d": [
           {
            "colorbar": {
             "outlinewidth": 0,
             "ticks": ""
            },
            "colorscale": [
             [
              0,
              "#0d0887"
             ],
             [
              0.1111111111111111,
              "#46039f"
             ],
             [
              0.2222222222222222,
              "#7201a8"
             ],
             [
              0.3333333333333333,
              "#9c179e"
             ],
             [
              0.4444444444444444,
              "#bd3786"
             ],
             [
              0.5555555555555556,
              "#d8576b"
             ],
             [
              0.6666666666666666,
              "#ed7953"
             ],
             [
              0.7777777777777778,
              "#fb9f3a"
             ],
             [
              0.8888888888888888,
              "#fdca26"
             ],
             [
              1,
              "#f0f921"
             ]
            ],
            "type": "histogram2d"
           }
          ],
          "histogram2dcontour": [
           {
            "colorbar": {
             "outlinewidth": 0,
             "ticks": ""
            },
            "colorscale": [
             [
              0,
              "#0d0887"
             ],
             [
              0.1111111111111111,
              "#46039f"
             ],
             [
              0.2222222222222222,
              "#7201a8"
             ],
             [
              0.3333333333333333,
              "#9c179e"
             ],
             [
              0.4444444444444444,
              "#bd3786"
             ],
             [
              0.5555555555555556,
              "#d8576b"
             ],
             [
              0.6666666666666666,
              "#ed7953"
             ],
             [
              0.7777777777777778,
              "#fb9f3a"
             ],
             [
              0.8888888888888888,
              "#fdca26"
             ],
             [
              1,
              "#f0f921"
             ]
            ],
            "type": "histogram2dcontour"
           }
          ],
          "mesh3d": [
           {
            "colorbar": {
             "outlinewidth": 0,
             "ticks": ""
            },
            "type": "mesh3d"
           }
          ],
          "parcoords": [
           {
            "line": {
             "colorbar": {
              "outlinewidth": 0,
              "ticks": ""
             }
            },
            "type": "parcoords"
           }
          ],
          "pie": [
           {
            "automargin": true,
            "type": "pie"
           }
          ],
          "scatter": [
           {
            "marker": {
             "colorbar": {
              "outlinewidth": 0,
              "ticks": ""
             }
            },
            "type": "scatter"
           }
          ],
          "scatter3d": [
           {
            "line": {
             "colorbar": {
              "outlinewidth": 0,
              "ticks": ""
             }
            },
            "marker": {
             "colorbar": {
              "outlinewidth": 0,
              "ticks": ""
             }
            },
            "type": "scatter3d"
           }
          ],
          "scattercarpet": [
           {
            "marker": {
             "colorbar": {
              "outlinewidth": 0,
              "ticks": ""
             }
            },
            "type": "scattercarpet"
           }
          ],
          "scattergeo": [
           {
            "marker": {
             "colorbar": {
              "outlinewidth": 0,
              "ticks": ""
             }
            },
            "type": "scattergeo"
           }
          ],
          "scattergl": [
           {
            "marker": {
             "colorbar": {
              "outlinewidth": 0,
              "ticks": ""
             }
            },
            "type": "scattergl"
           }
          ],
          "scattermapbox": [
           {
            "marker": {
             "colorbar": {
              "outlinewidth": 0,
              "ticks": ""
             }
            },
            "type": "scattermapbox"
           }
          ],
          "scatterpolar": [
           {
            "marker": {
             "colorbar": {
              "outlinewidth": 0,
              "ticks": ""
             }
            },
            "type": "scatterpolar"
           }
          ],
          "scatterpolargl": [
           {
            "marker": {
             "colorbar": {
              "outlinewidth": 0,
              "ticks": ""
             }
            },
            "type": "scatterpolargl"
           }
          ],
          "scatterternary": [
           {
            "marker": {
             "colorbar": {
              "outlinewidth": 0,
              "ticks": ""
             }
            },
            "type": "scatterternary"
           }
          ],
          "surface": [
           {
            "colorbar": {
             "outlinewidth": 0,
             "ticks": ""
            },
            "colorscale": [
             [
              0,
              "#0d0887"
             ],
             [
              0.1111111111111111,
              "#46039f"
             ],
             [
              0.2222222222222222,
              "#7201a8"
             ],
             [
              0.3333333333333333,
              "#9c179e"
             ],
             [
              0.4444444444444444,
              "#bd3786"
             ],
             [
              0.5555555555555556,
              "#d8576b"
             ],
             [
              0.6666666666666666,
              "#ed7953"
             ],
             [
              0.7777777777777778,
              "#fb9f3a"
             ],
             [
              0.8888888888888888,
              "#fdca26"
             ],
             [
              1,
              "#f0f921"
             ]
            ],
            "type": "surface"
           }
          ],
          "table": [
           {
            "cells": {
             "fill": {
              "color": "#EBF0F8"
             },
             "line": {
              "color": "white"
             }
            },
            "header": {
             "fill": {
              "color": "#C8D4E3"
             },
             "line": {
              "color": "white"
             }
            },
            "type": "table"
           }
          ]
         },
         "layout": {
          "annotationdefaults": {
           "arrowcolor": "#2a3f5f",
           "arrowhead": 0,
           "arrowwidth": 1
          },
          "autotypenumbers": "strict",
          "coloraxis": {
           "colorbar": {
            "outlinewidth": 0,
            "ticks": ""
           }
          },
          "colorscale": {
           "diverging": [
            [
             0,
             "#8e0152"
            ],
            [
             0.1,
             "#c51b7d"
            ],
            [
             0.2,
             "#de77ae"
            ],
            [
             0.3,
             "#f1b6da"
            ],
            [
             0.4,
             "#fde0ef"
            ],
            [
             0.5,
             "#f7f7f7"
            ],
            [
             0.6,
             "#e6f5d0"
            ],
            [
             0.7,
             "#b8e186"
            ],
            [
             0.8,
             "#7fbc41"
            ],
            [
             0.9,
             "#4d9221"
            ],
            [
             1,
             "#276419"
            ]
           ],
           "sequential": [
            [
             0,
             "#0d0887"
            ],
            [
             0.1111111111111111,
             "#46039f"
            ],
            [
             0.2222222222222222,
             "#7201a8"
            ],
            [
             0.3333333333333333,
             "#9c179e"
            ],
            [
             0.4444444444444444,
             "#bd3786"
            ],
            [
             0.5555555555555556,
             "#d8576b"
            ],
            [
             0.6666666666666666,
             "#ed7953"
            ],
            [
             0.7777777777777778,
             "#fb9f3a"
            ],
            [
             0.8888888888888888,
             "#fdca26"
            ],
            [
             1,
             "#f0f921"
            ]
           ],
           "sequentialminus": [
            [
             0,
             "#0d0887"
            ],
            [
             0.1111111111111111,
             "#46039f"
            ],
            [
             0.2222222222222222,
             "#7201a8"
            ],
            [
             0.3333333333333333,
             "#9c179e"
            ],
            [
             0.4444444444444444,
             "#bd3786"
            ],
            [
             0.5555555555555556,
             "#d8576b"
            ],
            [
             0.6666666666666666,
             "#ed7953"
            ],
            [
             0.7777777777777778,
             "#fb9f3a"
            ],
            [
             0.8888888888888888,
             "#fdca26"
            ],
            [
             1,
             "#f0f921"
            ]
           ]
          },
          "colorway": [
           "#636efa",
           "#EF553B",
           "#00cc96",
           "#ab63fa",
           "#FFA15A",
           "#19d3f3",
           "#FF6692",
           "#B6E880",
           "#FF97FF",
           "#FECB52"
          ],
          "font": {
           "color": "#2a3f5f"
          },
          "geo": {
           "bgcolor": "white",
           "lakecolor": "white",
           "landcolor": "#E5ECF6",
           "showlakes": true,
           "showland": true,
           "subunitcolor": "white"
          },
          "hoverlabel": {
           "align": "left"
          },
          "hovermode": "closest",
          "mapbox": {
           "style": "light"
          },
          "paper_bgcolor": "white",
          "plot_bgcolor": "#E5ECF6",
          "polar": {
           "angularaxis": {
            "gridcolor": "white",
            "linecolor": "white",
            "ticks": ""
           },
           "bgcolor": "#E5ECF6",
           "radialaxis": {
            "gridcolor": "white",
            "linecolor": "white",
            "ticks": ""
           }
          },
          "scene": {
           "xaxis": {
            "backgroundcolor": "#E5ECF6",
            "gridcolor": "white",
            "gridwidth": 2,
            "linecolor": "white",
            "showbackground": true,
            "ticks": "",
            "zerolinecolor": "white"
           },
           "yaxis": {
            "backgroundcolor": "#E5ECF6",
            "gridcolor": "white",
            "gridwidth": 2,
            "linecolor": "white",
            "showbackground": true,
            "ticks": "",
            "zerolinecolor": "white"
           },
           "zaxis": {
            "backgroundcolor": "#E5ECF6",
            "gridcolor": "white",
            "gridwidth": 2,
            "linecolor": "white",
            "showbackground": true,
            "ticks": "",
            "zerolinecolor": "white"
           }
          },
          "shapedefaults": {
           "line": {
            "color": "#2a3f5f"
           }
          },
          "ternary": {
           "aaxis": {
            "gridcolor": "white",
            "linecolor": "white",
            "ticks": ""
           },
           "baxis": {
            "gridcolor": "white",
            "linecolor": "white",
            "ticks": ""
           },
           "bgcolor": "#E5ECF6",
           "caxis": {
            "gridcolor": "white",
            "linecolor": "white",
            "ticks": ""
           }
          },
          "title": {
           "x": 0.05
          },
          "xaxis": {
           "automargin": true,
           "gridcolor": "white",
           "linecolor": "white",
           "ticks": "",
           "title": {
            "standoff": 15
           },
           "zerolinecolor": "white",
           "zerolinewidth": 2
          },
          "yaxis": {
           "automargin": true,
           "gridcolor": "white",
           "linecolor": "white",
           "ticks": "",
           "title": {
            "standoff": 15
           },
           "zerolinecolor": "white",
           "zerolinewidth": 2
          }
         }
        },
        "width": 900,
        "xaxis": {
         "anchor": "y",
         "domain": [
          0,
          0.2888888888888889
         ],
         "title": {
          "text": "Age"
         }
        },
        "xaxis2": {
         "anchor": "y2",
         "domain": [
          0.35555555555555557,
          0.6444444444444445
         ],
         "title": {
          "text": "Cholesterol Level"
         }
        },
        "xaxis3": {
         "anchor": "y3",
         "domain": [
          0.7111111111111111,
          1
         ],
         "title": {
          "text": "Resting Blood Pressure (mm Hg)"
         }
        },
        "yaxis": {
         "anchor": "x",
         "domain": [
          0,
          1
         ],
         "title": {
          "text": "Count"
         }
        },
        "yaxis2": {
         "anchor": "x2",
         "domain": [
          0,
          1
         ],
         "title": {
          "text": "Count"
         }
        },
        "yaxis3": {
         "anchor": "x3",
         "domain": [
          0,
          1
         ],
         "title": {
          "text": "Count"
         }
        }
       }
      },
      "text/html": [
       "<div>                            <div id=\"83234e53-199a-408e-818b-90d159c086eb\" class=\"plotly-graph-div\" style=\"height:400px; width:900px;\"></div>            <script type=\"text/javascript\">                require([\"plotly\"], function(Plotly) {                    window.PLOTLYENV=window.PLOTLYENV || {};                                    if (document.getElementById(\"83234e53-199a-408e-818b-90d159c086eb\")) {                    Plotly.newPlot(                        \"83234e53-199a-408e-818b-90d159c086eb\",                        [{\"marker\": {\"color\": \"blue\"}, \"nbinsx\": 20, \"type\": \"histogram\", \"x\": [52, 53, 70, 61, 62, 58, 58, 55, 46, 54, 71, 43, 34, 51, 52, 34, 51, 54, 50, 58, 60, 67, 45, 63, 42, 61, 44, 58, 56, 55, 44, 50, 57, 70, 50, 46, 51, 59, 64, 57, 65, 54, 61, 46, 55, 42, 41, 66, 66, 60, 58, 57, 38, 49, 55, 55, 56, 48, 67, 57, 29, 66, 67, 59, 29, 59, 53, 42, 37, 62, 59, 61, 56, 59, 48, 47, 48, 63, 52, 52, 50, 49, 46, 38, 37, 44, 58, 59, 62, 68, 54, 62, 63, 44, 62, 45, 57, 53, 65, 76, 43, 57, 54, 47, 52, 47, 51, 62, 40, 54, 44, 53, 48, 57, 59, 61, 63, 43, 29, 42, 54, 44, 60, 65, 61, 60, 66, 53, 52, 57, 60, 51, 41, 50, 54, 58, 55, 64, 47, 41, 57, 63, 61, 34, 47, 40, 51, 41, 52, 39, 58, 54, 58, 54, 63, 54, 40, 54, 67, 41, 77, 51, 77, 48, 56, 59, 56, 57, 43, 45, 43, 56, 56, 39, 54, 56, 56, 64, 44, 56, 63, 64, 60, 42, 45, 57, 40, 56, 63, 64, 41, 56, 67, 69, 67, 59, 58, 45, 60, 50, 62, 34, 52, 64, 66, 42, 59, 41, 38, 62, 42, 67, 50, 43, 45, 49, 65, 41, 46, 54, 57, 63, 64, 39, 51, 54, 49, 44, 52, 66, 58, 56, 60, 41, 49, 64, 49, 57, 60, 62, 54, 67, 38, 60, 51, 44, 54, 46, 39, 42, 47, 45, 55, 57, 35, 62, 35, 64, 38, 66, 44, 54, 48, 55, 58, 45, 53, 67, 58, 71, 43, 44, 39, 54, 66, 56, 57, 44, 55, 41, 45, 35, 41, 64, 58, 71, 64, 71, 58, 40, 52, 58, 61, 59, 56, 67, 67, 58, 35, 52, 46, 51, 55, 60, 52, 62, 44, 44, 59, 56, 61, 48, 70, 74, 40, 42, 64, 63, 59, 53, 53, 48, 45, 66, 48, 56, 54, 57, 70, 53, 37, 63, 37, 54, 60, 58, 57, 54, 56, 60, 38, 44, 65, 52, 41, 66, 50, 54, 43, 62, 66, 50, 57, 57, 57, 46, 59, 67, 59, 53, 48, 62, 43, 53, 57, 53, 58, 48, 58, 51, 43, 55, 54, 58, 46, 66, 59, 64, 67, 52, 58, 58, 59, 58, 35, 51, 42, 77, 64, 63, 58, 45, 51, 62, 63, 66, 68, 40, 66, 63, 49, 71, 70, 46, 61, 56, 58, 58, 46, 46, 41, 56, 57, 70, 59, 41, 54, 52, 62, 65, 57, 42, 57, 58, 45, 51, 54, 57, 43, 47, 67, 65, 60, 37, 41, 57, 59, 67, 47, 58, 62, 60, 57, 57, 47, 52, 53, 55, 51, 52, 63, 49, 66, 49, 65, 69, 47, 39, 43, 51, 69, 48, 52, 43, 67, 38, 44, 47, 61, 67, 60, 64, 58, 41, 48, 57, 57, 57, 39, 58, 51, 63, 51, 35, 65, 62, 41, 65, 54, 61, 57, 57, 64, 55, 51, 59, 68, 57, 54, 46, 71, 35, 46, 45, 47, 44, 61, 41, 56, 55, 54, 43, 44, 54, 44, 49, 60, 41, 49, 61, 59, 58, 67, 61, 58, 51, 62, 62, 59, 69, 60, 65, 63, 53, 54, 76, 50, 52, 46, 64, 58, 44, 62, 59, 54, 48, 70, 67, 51, 68, 69, 54, 43, 53, 58, 67, 59, 48, 39, 67, 58, 65, 42, 44, 56, 53, 50, 41, 54, 42, 54, 60, 34, 44, 60, 43, 52, 70, 62, 58, 46, 44, 55, 43, 55, 40, 64, 59, 61, 54, 74, 63, 70, 63, 64, 61, 59, 38, 58, 63, 62, 46, 58, 63, 47, 71, 66, 42, 64, 55, 43, 55, 58, 55, 51, 50, 43, 41, 49, 65, 57, 48, 62, 61, 59, 69, 58, 38, 69, 65, 45, 49, 45, 61, 52, 53, 59, 58, 65, 58, 46, 56, 64, 65, 44, 50, 47, 64, 71, 45, 62, 41, 66, 56, 41, 41, 57, 39, 64, 59, 61, 58, 47, 58, 66, 65, 35, 57, 29, 66, 61, 52, 68, 54, 63, 58, 60, 63, 41, 68, 42, 59, 59, 43, 60, 63, 52, 58, 56, 54, 58, 55, 53, 63, 39, 35, 50, 67, 66, 35, 41, 35, 71, 57, 51, 58, 57, 56, 60, 45, 56, 35, 45, 66, 51, 70, 55, 56, 55, 52, 64, 45, 67, 68, 74, 60, 48, 56, 46, 55, 44, 52, 51, 44, 52, 50, 59, 67, 58, 52, 44, 41, 63, 58, 60, 51, 64, 60, 44, 58, 55, 65, 48, 65, 51, 48, 64, 66, 46, 61, 57, 49, 56, 58, 63, 57, 57, 68, 46, 71, 41, 45, 62, 65, 48, 51, 61, 53, 59, 34, 44, 58, 64, 56, 54, 55, 67, 51, 62, 62, 54, 54, 68, 60, 61, 62, 41, 65, 59, 43, 67, 63, 63, 52, 58, 53, 57, 44, 51, 54, 40, 57, 62, 53, 62, 58, 70, 45, 42, 58, 61, 62, 60, 54, 61, 63, 42, 57, 44, 54, 51, 58, 68, 55, 42, 49, 53, 52, 51, 51, 70, 35, 58, 59, 60, 56, 35, 61, 58, 52, 58, 37, 52, 67, 65, 46, 68, 43, 68, 51, 52, 64, 59, 52, 59, 60, 41, 41, 56, 56, 48, 39, 64, 57, 59, 60, 61, 43, 54, 59, 57, 57, 57, 48, 70, 57, 61, 57, 60, 63, 55, 64, 54, 52, 51, 62, 59, 52, 42, 59, 61, 42, 62, 59, 55, 64, 42, 50, 62, 50, 50, 58, 35, 45, 66, 46, 65, 47, 59, 38, 39, 58, 44, 54, 61, 57, 54, 42, 54, 60, 65, 40, 51, 38, 42, 56, 43, 64, 53, 49, 57, 52, 69, 65, 66, 56, 67, 54, 70, 57, 67, 62, 54, 45, 53, 62, 49, 50, 65, 69, 52, 58, 52, 57, 44, 76, 58, 60, 53, 52, 38, 52, 52, 51, 43, 39, 63, 52, 44, 45, 57, 39, 67, 64, 59, 62, 55, 57, 60, 71, 56, 60, 50, 43, 59, 44, 56, 54, 42, 67, 64, 42, 66, 52, 51, 55, 58, 56, 42, 40, 51, 45, 48, 58, 44, 58, 65, 53, 41, 47, 59, 60, 47, 50, 54], \"xaxis\": \"x\", \"yaxis\": \"y\"}, {\"marker\": {\"color\": \"green\"}, \"nbinsx\": 20, \"type\": \"histogram\", \"x\": [212, 203, 174, 203, 294, 248, 318, 289, 249, 286, 149, 341, 210, 298, 204, 210, 308, 266, 244, 211, 185, 223, 208, 252, 209, 307, 233, 319, 256, 327, 169, 244, 131, 269, 196, 231, 213, 271, 263, 229, 360, 258, 330, 249, 342, 226, 203, 228, 278, 230, 283, 241, 175, 188, 217, 217, 193, 245, 212, 232, 204, 278, 299, 212, 204, 288, 197, 315, 215, 164, 326, 207, 249, 177, 256, 257, 255, 187, 201, 201, 233, 149, 231, 175, 215, 220, 211, 249, 268, 193, 267, 209, 187, 169, 208, 236, 303, 282, 248, 197, 213, 126, 309, 257, 186, 275, 299, 281, 223, 206, 197, 226, 256, 335, 218, 307, 254, 177, 204, 295, 309, 169, 282, 417, 260, 240, 302, 197, 223, 192, 240, 256, 203, 196, 309, 225, 342, 325, 257, 235, 274, 197, 234, 182, 204, 167, 295, 172, 298, 321, 318, 283, 300, 258, 330, 309, 199, 258, 564, 157, 304, 222, 304, 274, 249, 326, 184, 354, 315, 160, 247, 283, 240, 199, 239, 288, 283, 246, 197, 409, 187, 211, 293, 180, 308, 289, 167, 249, 254, 309, 250, 221, 564, 234, 286, 212, 234, 260, 318, 200, 209, 182, 298, 227, 278, 244, 218, 250, 175, 281, 240, 299, 243, 315, 308, 266, 254, 157, 311, 286, 236, 254, 211, 199, 261, 232, 149, 242, 205, 228, 300, 236, 258, 306, 269, 227, 149, 261, 230, 244, 288, 212, 175, 185, 245, 219, 283, 311, 220, 180, 275, 160, 353, 289, 198, 394, 183, 325, 231, 302, 226, 232, 222, 342, 225, 208, 282, 237, 224, 265, 211, 263, 220, 206, 228, 283, 207, 219, 289, 198, 234, 192, 204, 211, 224, 265, 313, 302, 340, 223, 223, 259, 243, 212, 288, 299, 237, 270, 192, 325, 204, 227, 342, 282, 196, 267, 242, 220, 218, 294, 260, 256, 269, 269, 199, 244, 313, 252, 177, 216, 264, 275, 309, 246, 245, 294, 283, 276, 322, 216, 215, 269, 250, 214, 206, 270, 126, 273, 256, 253, 175, 226, 269, 199, 157, 246, 243, 267, 247, 263, 302, 200, 335, 201, 261, 243, 176, 286, 204, 216, 222, 231, 213, 246, 236, 246, 230, 229, 240, 175, 341, 353, 214, 284, 177, 228, 221, 303, 237, 186, 218, 224, 239, 270, 282, 175, 209, 304, 246, 233, 319, 264, 175, 164, 330, 278, 274, 167, 228, 233, 188, 149, 245, 204, 207, 256, 211, 234, 243, 231, 198, 249, 276, 322, 288, 204, 273, 223, 209, 360, 303, 265, 354, 319, 309, 305, 201, 168, 247, 243, 212, 225, 318, 250, 268, 354, 249, 229, 253, 284, 244, 293, 274, 168, 253, 205, 246, 289, 295, 230, 407, 271, 228, 271, 225, 234, 243, 220, 247, 261, 254, 255, 186, 211, 564, 175, 219, 275, 243, 286, 240, 313, 197, 214, 229, 126, 289, 229, 321, 216, 305, 407, 298, 192, 248, 281, 172, 254, 288, 243, 303, 168, 309, 353, 245, 234, 274, 232, 239, 177, 149, 183, 177, 234, 243, 242, 260, 204, 288, 327, 288, 177, 290, 206, 220, 188, 206, 198, 188, 203, 177, 220, 277, 203, 230, 256, 164, 209, 270, 234, 258, 269, 197, 234, 267, 197, 219, 325, 249, 227, 259, 235, 394, 204, 273, 229, 322, 223, 295, 277, 254, 286, 341, 197, 234, 254, 177, 222, 199, 237, 197, 269, 209, 290, 184, 234, 254, 214, 201, 240, 304, 282, 182, 290, 258, 247, 298, 322, 394, 218, 197, 235, 262, 177, 353, 199, 309, 176, 307, 286, 269, 269, 269, 269, 212, 203, 221, 175, 284, 195, 263, 311, 340, 195, 253, 265, 212, 315, 212, 327, 341, 205, 225, 217, 305, 219, 303, 306, 266, 248, 274, 256, 294, 234, 270, 254, 224, 231, 239, 282, 264, 266, 234, 166, 212, 264, 249, 340, 282, 197, 243, 409, 263, 177, 226, 243, 243, 303, 149, 234, 267, 157, 226, 283, 306, 235, 236, 220, 309, 271, 166, 318, 204, 248, 226, 417, 192, 261, 204, 246, 330, 212, 277, 258, 330, 234, 253, 254, 268, 274, 295, 326, 176, 177, 185, 407, 204, 300, 288, 304, 240, 250, 203, 195, 219, 282, 219, 212, 212, 282, 214, 198, 302, 201, 227, 216, 229, 294, 178, 264, 221, 198, 160, 226, 213, 245, 205, 256, 250, 233, 335, 260, 277, 211, 269, 258, 274, 221, 311, 250, 220, 230, 227, 141, 204, 196, 239, 229, 300, 255, 235, 268, 330, 220, 318, 222, 335, 230, 226, 220, 262, 360, 245, 177, 256, 255, 246, 228, 204, 330, 276, 269, 221, 283, 187, 335, 335, 193, 197, 265, 203, 236, 244, 225, 275, 222, 307, 282, 204, 210, 169, 218, 303, 240, 232, 289, 254, 298, 294, 281, 239, 239, 193, 178, 234, 208, 203, 225, 288, 303, 229, 233, 197, 230, 197, 226, 276, 233, 227, 214, 167, 261, 268, 203, 208, 240, 245, 260, 244, 225, 207, 268, 253, 239, 166, 252, 180, 229, 233, 266, 222, 220, 277, 217, 315, 149, 234, 199, 213, 261, 174, 183, 230, 273, 293, 184, 183, 166, 283, 255, 284, 250, 255, 229, 282, 197, 211, 303, 211, 299, 230, 335, 288, 212, 273, 240, 250, 235, 240, 236, 275, 321, 227, 192, 273, 206, 207, 213, 188, 271, 207, 232, 131, 274, 174, 289, 260, 201, 258, 407, 205, 325, 239, 204, 299, 263, 270, 201, 265, 234, 234, 265, 268, 218, 262, 246, 226, 244, 267, 200, 233, 319, 198, 208, 212, 249, 254, 253, 204, 231, 219, 218, 263, 239, 330, 131, 206, 240, 266, 206, 254, 223, 308, 231, 180, 240, 315, 335, 226, 271, 241, 196, 239, 177, 228, 193, 277, 201, 174, 207, 286, 263, 304, 236, 264, 231, 269, 233, 417, 239, 196, 248, 233, 241, 141, 197, 259, 178, 203, 325, 175, 199, 186, 245, 211, 219, 269, 205, 197, 309, 192, 219, 223, 263, 234, 231, 327, 232, 293, 302, 236, 230, 254, 247, 239, 263, 409, 188, 315, 254, 212, 226, 212, 233, 308, 205, 211, 193, 295, 223, 299, 308, 229, 318, 141, 216, 282, 282, 172, 204, 221, 258, 275, 254, 188], \"xaxis\": \"x2\", \"yaxis\": \"y2\"}, {\"marker\": {\"color\": \"red\"}, \"nbinsx\": 20, \"type\": \"histogram\", \"x\": [125, 140, 145, 148, 138, 100, 114, 160, 120, 122, 112, 132, 118, 140, 128, 118, 140, 124, 120, 140, 140, 106, 104, 135, 120, 145, 130, 136, 130, 180, 120, 120, 130, 160, 129, 150, 125, 138, 128, 128, 160, 120, 130, 120, 132, 140, 135, 178, 146, 117, 150, 140, 138, 120, 140, 140, 120, 130, 152, 154, 130, 146, 100, 150, 130, 170, 130, 136, 120, 160, 170, 140, 125, 140, 130, 138, 124, 140, 134, 134, 140, 118, 150, 138, 120, 120, 140, 174, 140, 144, 108, 124, 140, 120, 128, 138, 128, 123, 110, 140, 122, 150, 108, 138, 118, 110, 140, 120, 152, 110, 110, 142, 130, 110, 126, 145, 130, 120, 130, 120, 108, 120, 145, 140, 120, 150, 120, 130, 138, 140, 150, 130, 135, 129, 108, 170, 132, 180, 138, 110, 152, 124, 134, 118, 112, 110, 120, 110, 152, 140, 114, 192, 125, 120, 130, 108, 140, 120, 115, 120, 125, 100, 125, 124, 125, 170, 132, 120, 130, 112, 150, 130, 120, 94, 110, 200, 130, 120, 110, 134, 140, 110, 140, 130, 128, 165, 110, 125, 130, 125, 112, 130, 115, 160, 160, 150, 100, 115, 102, 144, 124, 118, 152, 170, 146, 148, 126, 112, 138, 120, 120, 100, 150, 130, 128, 130, 135, 120, 140, 122, 130, 130, 110, 94, 140, 150, 118, 118, 128, 178, 125, 120, 125, 126, 130, 170, 118, 124, 117, 150, 132, 152, 138, 140, 125, 130, 192, 140, 138, 130, 110, 112, 132, 165, 120, 140, 138, 180, 120, 120, 120, 150, 122, 132, 170, 104, 123, 120, 132, 110, 110, 120, 138, 110, 160, 130, 132, 130, 160, 105, 130, 122, 130, 110, 132, 110, 140, 160, 120, 152, 138, 128, 150, 150, 200, 100, 120, 150, 122, 120, 105, 94, 132, 145, 136, 120, 118, 120, 126, 140, 120, 130, 160, 120, 140, 148, 140, 135, 140, 128, 130, 130, 142, 160, 130, 140, 192, 150, 130, 128, 120, 108, 130, 110, 130, 150, 150, 125, 130, 130, 138, 120, 155, 172, 120, 160, 150, 108, 132, 130, 120, 144, 110, 110, 124, 138, 164, 160, 134, 128, 122, 130, 122, 130, 130, 130, 112, 110, 105, 110, 132, 132, 110, 120, 142, 160, 140, 130, 120, 118, 146, 132, 110, 150, 126, 110, 120, 125, 120, 145, 136, 110, 110, 160, 130, 146, 180, 110, 160, 145, 120, 112, 156, 105, 140, 130, 140, 100, 138, 150, 105, 125, 150, 130, 170, 130, 125, 138, 124, 160, 128, 102, 120, 136, 142, 130, 160, 150, 132, 108, 152, 150, 102, 130, 112, 120, 174, 120, 130, 120, 150, 140, 152, 150, 130, 128, 130, 160, 120, 112, 150, 134, 178, 134, 150, 160, 108, 138, 150, 140, 140, 124, 118, 110, 115, 138, 130, 110, 150, 160, 150, 140, 130, 130, 110, 150, 165, 128, 140, 128, 130, 150, 140, 122, 110, 120, 110, 135, 132, 150, 128, 150, 125, 132, 125, 135, 180, 154, 140, 142, 112, 138, 142, 130, 108, 118, 120, 130, 200, 180, 132, 120, 112, 110, 120, 120, 130, 105, 120, 148, 140, 125, 152, 148, 112, 130, 160, 124, 178, 160, 150, 155, 124, 138, 108, 140, 120, 120, 120, 170, 128, 140, 140, 134, 125, 110, 130, 106, 120, 118, 140, 122, 132, 130, 100, 125, 140, 122, 94, 120, 130, 155, 120, 112, 132, 138, 110, 130, 160, 120, 135, 145, 118, 112, 125, 150, 152, 130, 140, 146, 101, 140, 130, 120, 132, 140, 125, 164, 145, 122, 120, 108, 160, 108, 145, 148, 140, 138, 120, 140, 130, 140, 120, 140, 130, 110, 112, 136, 145, 180, 132, 128, 170, 140, 130, 120, 115, 126, 130, 110, 152, 130, 138, 134, 178, 140, 132, 120, 140, 138, 110, 130, 130, 138, 125, 130, 174, 120, 138, 130, 138, 134, 128, 120, 120, 150, 108, 130, 112, 130, 120, 120, 150, 130, 126, 110, 130, 138, 125, 138, 138, 114, 112, 100, 150, 140, 122, 124, 130, 160, 130, 125, 118, 120, 130, 100, 130, 130, 112, 180, 120, 170, 164, 120, 140, 150, 128, 125, 200, 135, 105, 135, 140, 140, 118, 126, 120, 152, 112, 126, 130, 120, 160, 110, 94, 128, 128, 140, 120, 110, 130, 120, 112, 150, 125, 156, 128, 130, 135, 108, 140, 115, 152, 120, 120, 150, 124, 130, 140, 135, 120, 112, 94, 108, 128, 129, 110, 120, 125, 128, 140, 112, 130, 125, 102, 100, 140, 117, 120, 125, 130, 160, 130, 120, 130, 124, 120, 160, 105, 130, 150, 130, 130, 150, 140, 110, 110, 144, 101, 110, 135, 138, 150, 150, 130, 100, 145, 123, 134, 118, 120, 146, 130, 120, 150, 160, 125, 140, 138, 120, 110, 110, 144, 120, 134, 128, 135, 150, 170, 115, 120, 145, 124, 112, 130, 142, 150, 130, 94, 110, 110, 124, 140, 140, 128, 105, 156, 115, 148, 170, 140, 140, 130, 140, 138, 135, 130, 128, 130, 124, 100, 125, 118, 140, 136, 118, 138, 172, 125, 140, 145, 138, 112, 160, 140, 132, 138, 138, 150, 128, 120, 130, 128, 120, 138, 101, 120, 115, 120, 140, 112, 140, 170, 125, 160, 150, 112, 110, 120, 120, 130, 140, 170, 140, 160, 130, 140, 122, 120, 138, 132, 154, 130, 124, 145, 165, 120, 110, 150, 150, 128, 180, 110, 128, 140, 130, 178, 134, 102, 135, 134, 102, 140, 126, 130, 120, 140, 120, 120, 144, 140, 136, 120, 104, 112, 120, 135, 130, 134, 120, 118, 146, 120, 140, 130, 130, 110, 120, 124, 130, 135, 152, 140, 120, 130, 120, 130, 140, 142, 134, 140, 136, 140, 120, 178, 120, 152, 160, 145, 132, 160, 130, 135, 138, 130, 130, 130, 140, 140, 140, 136, 100, 108, 140, 108, 140, 128, 120, 140, 120, 138, 172, 118, 125, 110, 118, 108, 128, 110, 142, 140, 118, 106, 128, 135, 130, 180, 154, 140, 160, 120, 117, 110, 132, 110, 120, 134, 120, 136, 125, 145, 140, 112, 108, 140, 128, 140, 120, 120, 152, 140, 128, 110, 114, 108, 128, 138, 123, 110, 112, 140, 125, 110, 110, 120], \"xaxis\": \"x3\", \"yaxis\": \"y3\"}],                        {\"annotations\": [{\"font\": {\"size\": 16}, \"showarrow\": false, \"text\": \"Age Distribution\", \"x\": 0.14444444444444446, \"xanchor\": \"center\", \"xref\": \"paper\", \"y\": 1.0, \"yanchor\": \"bottom\", \"yref\": \"paper\"}, {\"font\": {\"size\": 16}, \"showarrow\": false, \"text\": \"Cholesterol Distribution\", \"x\": 0.5, \"xanchor\": \"center\", \"xref\": \"paper\", \"y\": 1.0, \"yanchor\": \"bottom\", \"yref\": \"paper\"}, {\"font\": {\"size\": 16}, \"showarrow\": false, \"text\": \"Blood Pressure Distribution\", \"x\": 0.8555555555555556, \"xanchor\": \"center\", \"xref\": \"paper\", \"y\": 1.0, \"yanchor\": \"bottom\", \"yref\": \"paper\"}], \"height\": 400, \"template\": {\"data\": {\"bar\": [{\"error_x\": {\"color\": \"#2a3f5f\"}, \"error_y\": {\"color\": \"#2a3f5f\"}, \"marker\": {\"line\": {\"color\": \"#E5ECF6\", \"width\": 0.5}}, \"type\": \"bar\"}], \"barpolar\": [{\"marker\": {\"line\": {\"color\": \"#E5ECF6\", \"width\": 0.5}}, \"type\": \"barpolar\"}], \"carpet\": [{\"aaxis\": {\"endlinecolor\": \"#2a3f5f\", \"gridcolor\": \"white\", \"linecolor\": \"white\", \"minorgridcolor\": \"white\", \"startlinecolor\": \"#2a3f5f\"}, \"baxis\": {\"endlinecolor\": \"#2a3f5f\", \"gridcolor\": \"white\", \"linecolor\": \"white\", \"minorgridcolor\": \"white\", \"startlinecolor\": \"#2a3f5f\"}, \"type\": \"carpet\"}], \"choropleth\": [{\"colorbar\": {\"outlinewidth\": 0, \"ticks\": \"\"}, \"type\": \"choropleth\"}], \"contour\": [{\"colorbar\": {\"outlinewidth\": 0, \"ticks\": \"\"}, \"colorscale\": [[0.0, \"#0d0887\"], [0.1111111111111111, \"#46039f\"], [0.2222222222222222, \"#7201a8\"], [0.3333333333333333, \"#9c179e\"], [0.4444444444444444, \"#bd3786\"], [0.5555555555555556, \"#d8576b\"], [0.6666666666666666, \"#ed7953\"], [0.7777777777777778, \"#fb9f3a\"], [0.8888888888888888, \"#fdca26\"], [1.0, \"#f0f921\"]], \"type\": \"contour\"}], \"contourcarpet\": [{\"colorbar\": {\"outlinewidth\": 0, \"ticks\": \"\"}, \"type\": \"contourcarpet\"}], \"heatmap\": [{\"colorbar\": {\"outlinewidth\": 0, \"ticks\": \"\"}, \"colorscale\": [[0.0, \"#0d0887\"], [0.1111111111111111, \"#46039f\"], [0.2222222222222222, \"#7201a8\"], [0.3333333333333333, \"#9c179e\"], [0.4444444444444444, \"#bd3786\"], [0.5555555555555556, \"#d8576b\"], [0.6666666666666666, \"#ed7953\"], [0.7777777777777778, \"#fb9f3a\"], [0.8888888888888888, \"#fdca26\"], [1.0, \"#f0f921\"]], \"type\": \"heatmap\"}], \"heatmapgl\": [{\"colorbar\": {\"outlinewidth\": 0, \"ticks\": \"\"}, \"colorscale\": [[0.0, \"#0d0887\"], [0.1111111111111111, \"#46039f\"], [0.2222222222222222, \"#7201a8\"], [0.3333333333333333, \"#9c179e\"], [0.4444444444444444, \"#bd3786\"], [0.5555555555555556, \"#d8576b\"], [0.6666666666666666, \"#ed7953\"], [0.7777777777777778, \"#fb9f3a\"], [0.8888888888888888, \"#fdca26\"], [1.0, \"#f0f921\"]], \"type\": \"heatmapgl\"}], \"histogram\": [{\"marker\": {\"colorbar\": {\"outlinewidth\": 0, \"ticks\": \"\"}}, \"type\": \"histogram\"}], \"histogram2d\": [{\"colorbar\": {\"outlinewidth\": 0, \"ticks\": \"\"}, \"colorscale\": [[0.0, \"#0d0887\"], [0.1111111111111111, \"#46039f\"], [0.2222222222222222, \"#7201a8\"], [0.3333333333333333, \"#9c179e\"], [0.4444444444444444, \"#bd3786\"], [0.5555555555555556, \"#d8576b\"], [0.6666666666666666, \"#ed7953\"], [0.7777777777777778, \"#fb9f3a\"], [0.8888888888888888, \"#fdca26\"], [1.0, \"#f0f921\"]], \"type\": \"histogram2d\"}], \"histogram2dcontour\": [{\"colorbar\": {\"outlinewidth\": 0, \"ticks\": \"\"}, \"colorscale\": [[0.0, \"#0d0887\"], [0.1111111111111111, \"#46039f\"], [0.2222222222222222, \"#7201a8\"], [0.3333333333333333, \"#9c179e\"], [0.4444444444444444, \"#bd3786\"], [0.5555555555555556, \"#d8576b\"], [0.6666666666666666, \"#ed7953\"], [0.7777777777777778, \"#fb9f3a\"], [0.8888888888888888, \"#fdca26\"], [1.0, \"#f0f921\"]], \"type\": \"histogram2dcontour\"}], \"mesh3d\": [{\"colorbar\": {\"outlinewidth\": 0, \"ticks\": \"\"}, \"type\": \"mesh3d\"}], \"parcoords\": [{\"line\": {\"colorbar\": {\"outlinewidth\": 0, \"ticks\": \"\"}}, \"type\": \"parcoords\"}], \"pie\": [{\"automargin\": true, \"type\": \"pie\"}], \"scatter\": [{\"marker\": {\"colorbar\": {\"outlinewidth\": 0, \"ticks\": \"\"}}, \"type\": \"scatter\"}], \"scatter3d\": [{\"line\": {\"colorbar\": {\"outlinewidth\": 0, \"ticks\": \"\"}}, \"marker\": {\"colorbar\": {\"outlinewidth\": 0, \"ticks\": \"\"}}, \"type\": \"scatter3d\"}], \"scattercarpet\": [{\"marker\": {\"colorbar\": {\"outlinewidth\": 0, \"ticks\": \"\"}}, \"type\": \"scattercarpet\"}], \"scattergeo\": [{\"marker\": {\"colorbar\": {\"outlinewidth\": 0, \"ticks\": \"\"}}, \"type\": \"scattergeo\"}], \"scattergl\": [{\"marker\": {\"colorbar\": {\"outlinewidth\": 0, \"ticks\": \"\"}}, \"type\": \"scattergl\"}], \"scattermapbox\": [{\"marker\": {\"colorbar\": {\"outlinewidth\": 0, \"ticks\": \"\"}}, \"type\": \"scattermapbox\"}], \"scatterpolar\": [{\"marker\": {\"colorbar\": {\"outlinewidth\": 0, \"ticks\": \"\"}}, \"type\": \"scatterpolar\"}], \"scatterpolargl\": [{\"marker\": {\"colorbar\": {\"outlinewidth\": 0, \"ticks\": \"\"}}, \"type\": \"scatterpolargl\"}], \"scatterternary\": [{\"marker\": {\"colorbar\": {\"outlinewidth\": 0, \"ticks\": \"\"}}, \"type\": \"scatterternary\"}], \"surface\": [{\"colorbar\": {\"outlinewidth\": 0, \"ticks\": \"\"}, \"colorscale\": [[0.0, \"#0d0887\"], [0.1111111111111111, \"#46039f\"], [0.2222222222222222, \"#7201a8\"], [0.3333333333333333, \"#9c179e\"], [0.4444444444444444, \"#bd3786\"], [0.5555555555555556, \"#d8576b\"], [0.6666666666666666, \"#ed7953\"], [0.7777777777777778, \"#fb9f3a\"], [0.8888888888888888, \"#fdca26\"], [1.0, \"#f0f921\"]], \"type\": \"surface\"}], \"table\": [{\"cells\": {\"fill\": {\"color\": \"#EBF0F8\"}, \"line\": {\"color\": \"white\"}}, \"header\": {\"fill\": {\"color\": \"#C8D4E3\"}, \"line\": {\"color\": \"white\"}}, \"type\": \"table\"}]}, \"layout\": {\"annotationdefaults\": {\"arrowcolor\": \"#2a3f5f\", \"arrowhead\": 0, \"arrowwidth\": 1}, \"autotypenumbers\": \"strict\", \"coloraxis\": {\"colorbar\": {\"outlinewidth\": 0, \"ticks\": \"\"}}, \"colorscale\": {\"diverging\": [[0, \"#8e0152\"], [0.1, \"#c51b7d\"], [0.2, \"#de77ae\"], [0.3, \"#f1b6da\"], [0.4, \"#fde0ef\"], [0.5, \"#f7f7f7\"], [0.6, \"#e6f5d0\"], [0.7, \"#b8e186\"], [0.8, \"#7fbc41\"], [0.9, \"#4d9221\"], [1, \"#276419\"]], \"sequential\": [[0.0, \"#0d0887\"], [0.1111111111111111, \"#46039f\"], [0.2222222222222222, \"#7201a8\"], [0.3333333333333333, \"#9c179e\"], [0.4444444444444444, \"#bd3786\"], [0.5555555555555556, \"#d8576b\"], [0.6666666666666666, \"#ed7953\"], [0.7777777777777778, \"#fb9f3a\"], [0.8888888888888888, \"#fdca26\"], [1.0, \"#f0f921\"]], \"sequentialminus\": [[0.0, \"#0d0887\"], [0.1111111111111111, \"#46039f\"], [0.2222222222222222, \"#7201a8\"], [0.3333333333333333, \"#9c179e\"], [0.4444444444444444, \"#bd3786\"], [0.5555555555555556, \"#d8576b\"], [0.6666666666666666, \"#ed7953\"], [0.7777777777777778, \"#fb9f3a\"], [0.8888888888888888, \"#fdca26\"], [1.0, \"#f0f921\"]]}, \"colorway\": [\"#636efa\", \"#EF553B\", \"#00cc96\", \"#ab63fa\", \"#FFA15A\", \"#19d3f3\", \"#FF6692\", \"#B6E880\", \"#FF97FF\", \"#FECB52\"], \"font\": {\"color\": \"#2a3f5f\"}, \"geo\": {\"bgcolor\": \"white\", \"lakecolor\": \"white\", \"landcolor\": \"#E5ECF6\", \"showlakes\": true, \"showland\": true, \"subunitcolor\": \"white\"}, \"hoverlabel\": {\"align\": \"left\"}, \"hovermode\": \"closest\", \"mapbox\": {\"style\": \"light\"}, \"paper_bgcolor\": \"white\", \"plot_bgcolor\": \"#E5ECF6\", \"polar\": {\"angularaxis\": {\"gridcolor\": \"white\", \"linecolor\": \"white\", \"ticks\": \"\"}, \"bgcolor\": \"#E5ECF6\", \"radialaxis\": {\"gridcolor\": \"white\", \"linecolor\": \"white\", \"ticks\": \"\"}}, \"scene\": {\"xaxis\": {\"backgroundcolor\": \"#E5ECF6\", \"gridcolor\": \"white\", \"gridwidth\": 2, \"linecolor\": \"white\", \"showbackground\": true, \"ticks\": \"\", \"zerolinecolor\": \"white\"}, \"yaxis\": {\"backgroundcolor\": \"#E5ECF6\", \"gridcolor\": \"white\", \"gridwidth\": 2, \"linecolor\": \"white\", \"showbackground\": true, \"ticks\": \"\", \"zerolinecolor\": \"white\"}, \"zaxis\": {\"backgroundcolor\": \"#E5ECF6\", \"gridcolor\": \"white\", \"gridwidth\": 2, \"linecolor\": \"white\", \"showbackground\": true, \"ticks\": \"\", \"zerolinecolor\": \"white\"}}, \"shapedefaults\": {\"line\": {\"color\": \"#2a3f5f\"}}, \"ternary\": {\"aaxis\": {\"gridcolor\": \"white\", \"linecolor\": \"white\", \"ticks\": \"\"}, \"baxis\": {\"gridcolor\": \"white\", \"linecolor\": \"white\", \"ticks\": \"\"}, \"bgcolor\": \"#E5ECF6\", \"caxis\": {\"gridcolor\": \"white\", \"linecolor\": \"white\", \"ticks\": \"\"}}, \"title\": {\"x\": 0.05}, \"xaxis\": {\"automargin\": true, \"gridcolor\": \"white\", \"linecolor\": \"white\", \"ticks\": \"\", \"title\": {\"standoff\": 15}, \"zerolinecolor\": \"white\", \"zerolinewidth\": 2}, \"yaxis\": {\"automargin\": true, \"gridcolor\": \"white\", \"linecolor\": \"white\", \"ticks\": \"\", \"title\": {\"standoff\": 15}, \"zerolinecolor\": \"white\", \"zerolinewidth\": 2}}}, \"width\": 900, \"xaxis\": {\"anchor\": \"y\", \"domain\": [0.0, 0.2888888888888889], \"title\": {\"text\": \"Age\"}}, \"xaxis2\": {\"anchor\": \"y2\", \"domain\": [0.35555555555555557, 0.6444444444444445], \"title\": {\"text\": \"Cholesterol Level\"}}, \"xaxis3\": {\"anchor\": \"y3\", \"domain\": [0.7111111111111111, 1.0], \"title\": {\"text\": \"Resting Blood Pressure (mm Hg)\"}}, \"yaxis\": {\"anchor\": \"x\", \"domain\": [0.0, 1.0], \"title\": {\"text\": \"Count\"}}, \"yaxis2\": {\"anchor\": \"x2\", \"domain\": [0.0, 1.0], \"title\": {\"text\": \"Count\"}}, \"yaxis3\": {\"anchor\": \"x3\", \"domain\": [0.0, 1.0], \"title\": {\"text\": \"Count\"}}},                        {\"responsive\": true}                    ).then(function(){\n",
       "                            \n",
       "var gd = document.getElementById('83234e53-199a-408e-818b-90d159c086eb');\n",
       "var x = new MutationObserver(function (mutations, observer) {{\n",
       "        var display = window.getComputedStyle(gd).display;\n",
       "        if (!display || display === 'none') {{\n",
       "            console.log([gd, 'removed!']);\n",
       "            Plotly.purge(gd);\n",
       "            observer.disconnect();\n",
       "        }}\n",
       "}});\n",
       "\n",
       "// Listen for the removal of the full notebook cells\n",
       "var notebookContainer = gd.closest('#notebook-container');\n",
       "if (notebookContainer) {{\n",
       "    x.observe(notebookContainer, {childList: true});\n",
       "}}\n",
       "\n",
       "// Listen for the clearing of the current output cell\n",
       "var outputEl = gd.closest('.output');\n",
       "if (outputEl) {{\n",
       "    x.observe(outputEl, {childList: true});\n",
       "}}\n",
       "\n",
       "                        })                };                });            </script>        </div>"
      ]
     },
     "metadata": {},
     "output_type": "display_data"
    }
   ],
   "source": [
    "import plotly.subplots as sp\n",
    "import plotly.graph_objects as go\n",
    "\n",
    "# Create a subplot grid with three subplots\n",
    "fig = sp.make_subplots(rows=1, cols=3, subplot_titles=(\"Age Distribution\", \"Cholesterol Distribution\", \"Blood Pressure Distribution\"))\n",
    "\n",
    "# Plot the distribution of age\n",
    "age_hist = go.Histogram(x=heart['age'], marker_color='blue', nbinsx=20)\n",
    "fig.add_trace(age_hist, row=1, col=1)\n",
    "fig.update_xaxes(title_text='Age', row=1, col=1)\n",
    "fig.update_yaxes(title_text='Count', row=1, col=1)\n",
    "\n",
    "# Plot the distribution of cholesterol levels\n",
    "chol_hist = go.Histogram(x=heart['chol'], marker_color='green', nbinsx=20)\n",
    "fig.add_trace(chol_hist, row=1, col=2)\n",
    "fig.update_xaxes(title_text='Cholesterol Level', row=1, col=2)\n",
    "fig.update_yaxes(title_text='Count', row=1, col=2)\n",
    "\n",
    "# Plot the distribution of blood pressure (trestbps)\n",
    "trestbps_hist = go.Histogram(x=heart['trestbps'], marker_color='red', nbinsx=20)\n",
    "fig.add_trace(trestbps_hist, row=1, col=3)\n",
    "fig.update_xaxes(title_text='Resting Blood Pressure (mm Hg)', row=1, col=3)\n",
    "fig.update_yaxes(title_text='Count', row=1, col=3)\n",
    "\n",
    "# Update layout\n",
    "fig.update_layout(height=400, width=900)\n",
    "\n",
    "fig.show()\n"
   ]
  },
  {
   "cell_type": "markdown",
   "id": "890eac71",
   "metadata": {},
   "source": [
    "Above creates a grid of subplots to visualize the distribution of age, cholesterol levels, and resting blood pressure. "
   ]
  },
  {
   "cell_type": "code",
   "execution_count": 41,
   "id": "893fcf29",
   "metadata": {},
   "outputs": [
    {
     "data": {
      "image/png": "[encoded data removed]",
      "text/plain": [
       "<Figure size 864x576 with 2 Axes>"
      ]
     },
     "metadata": {},
     "output_type": "display_data"
    }
   ],
   "source": [
    "# Calculate the correlation matrix\n",
    "correlation_matrix = heart.corr()\n",
    "\n",
    "# Set up the heatmap\n",
    "plt.figure(figsize=(12, 8))\n",
    "sns.heatmap(correlation_matrix, annot=True, cmap='coolwarm', fmt=\".2f\", linewidths=0.5)\n",
    "plt.title(\"Correlation Matrix\")\n",
    "\n",
    "plt.show()"
   ]
  },
  {
   "cell_type": "code",
   "execution_count": 24,
   "id": "2414989a",
   "metadata": {},
   "outputs": [
    {
     "name": "stdout",
     "output_type": "stream",
     "text": [
      "disease     1.000000\n",
      "oldpeak     0.438441\n",
      "exang       0.438029\n",
      "cp          0.434854\n",
      "thalach     0.422895\n",
      "ca          0.382085\n",
      "slope       0.345512\n",
      "thal        0.337838\n",
      "sex         0.279501\n",
      "age         0.229324\n",
      "trestbps    0.138772\n",
      "restecg     0.134468\n",
      "chol        0.099966\n",
      "fbs         0.041164\n",
      "Name: disease, dtype: float64\n"
     ]
    }
   ],
   "source": [
    "# Extract correlations with \"target\" feature\n",
    "correlations_with_target = correlation_matrix['disease']\n",
    "\n",
    "# Sort the correlations in descending order\n",
    "sorted_correlations = correlations_with_target.abs().sort_values(ascending=False)\n",
    "\n",
    "# Display the sorted correlations\n",
    "print(sorted_correlations)"
   ]
  },
  {
   "cell_type": "markdown",
   "id": "c6b99354",
   "metadata": {},
   "source": [
    "These features have the highest absolute correlation coefficients with the \"target(disease)\" feature, indicating a stronger relationship with heart disease presence. \"oldpeak,\" \"exang,\" and \"cp\" have the highest correlations and are likely to be the most strongly related features in predicting heart disease."
   ]
  },
  {
   "cell_type": "code",
   "execution_count": 65,
   "id": "54369c0f",
   "metadata": {},
   "outputs": [
    {
     "data": {
      "application/vnd.plotly.v1+json": {
       "config": {
        "plotlyServerURL": "https://plot.ly"
       },
       "data": [
        {
         "alignmentgroup": "True",
         "bingroup": "x",
         "hovertemplate": "Heart Disease Presence=0<br>Chest Pain Type=%{x}<br>count=%{y}<extra></extra>",
         "legendgroup": "0",
         "marker": {
          "color": "#636efa"
         },
         "name": "0",
         "offsetgroup": "0",
         "orientation": "v",
         "showlegend": true,
         "type": "histogram",
         "x": [
          0,
          0,
          0,
          0,
          0,
          0,
          0,
          0,
          0,
          0,
          0,
          0,
          0,
          2,
          0,
          1,
          2,
          0,
          0,
          0,
          2,
          2,
          2,
          0,
          0,
          0,
          0,
          0,
          2,
          0,
          0,
          2,
          1,
          0,
          3,
          0,
          0,
          0,
          0,
          0,
          0,
          0,
          0,
          2,
          2,
          2,
          0,
          0,
          0,
          0,
          0,
          0,
          0,
          0,
          0,
          1,
          0,
          0,
          0,
          0,
          0,
          2,
          0,
          0,
          0,
          0,
          0,
          0,
          0,
          0,
          0,
          3,
          0,
          0,
          0,
          1,
          0,
          0,
          0,
          0,
          0,
          0,
          0,
          0,
          0,
          0,
          0,
          0,
          0,
          0,
          0,
          0,
          0,
          0,
          0,
          0,
          0,
          2,
          0,
          0,
          0,
          2,
          1,
          0,
          0,
          0,
          0,
          0,
          1,
          0,
          2,
          0,
          0,
          0,
          2,
          1,
          0,
          0,
          2,
          2,
          1,
          0,
          0,
          0,
          0,
          0,
          3,
          0,
          0,
          0,
          2,
          0,
          0,
          0,
          2,
          0,
          0,
          0,
          0,
          0,
          0,
          0,
          0,
          2,
          0,
          0,
          2,
          0,
          0,
          1,
          1,
          0,
          0,
          0,
          0,
          0,
          2,
          0,
          1,
          0,
          0,
          2,
          0,
          0,
          1,
          0,
          0,
          3,
          1,
          2,
          1,
          0,
          0,
          1,
          0,
          0,
          2,
          0,
          0,
          0,
          0,
          0,
          1,
          3,
          0,
          0,
          2,
          0,
          2,
          0,
          2,
          0,
          2,
          0,
          0,
          0,
          3,
          1,
          0,
          0,
          0,
          2,
          2,
          0,
          0,
          0,
          1,
          0,
          0,
          0,
          0,
          0,
          0,
          0,
          0,
          2,
          2,
          0,
          0,
          1,
          0,
          2,
          0,
          0,
          0,
          0,
          0,
          1,
          0,
          0,
          2,
          0,
          2,
          1,
          2,
          0,
          0,
          0,
          0,
          0,
          0,
          2,
          0,
          2,
          0,
          0,
          0,
          2,
          0,
          0,
          0,
          0,
          0,
          3,
          1,
          0,
          2,
          0,
          0,
          0,
          0,
          0,
          0,
          0,
          0,
          0,
          0,
          0,
          0,
          0,
          0,
          0,
          2,
          0,
          0,
          0,
          0,
          2,
          0,
          0,
          0,
          1,
          2,
          0,
          0,
          0,
          0,
          0,
          0,
          0,
          0,
          0,
          0,
          0,
          0,
          0,
          0,
          3,
          2,
          2,
          3,
          3,
          3,
          0,
          0,
          0,
          3,
          0,
          0,
          2,
          0,
          0,
          1,
          2,
          0,
          0,
          1,
          1,
          0,
          0,
          0,
          0,
          0,
          0,
          2,
          0,
          0,
          0,
          2,
          0,
          0,
          0,
          0,
          0,
          0,
          0,
          2,
          0,
          0,
          0,
          0,
          2,
          3,
          0,
          0,
          2,
          2,
          0,
          0,
          0,
          0,
          0,
          0,
          0,
          0,
          0,
          0,
          2,
          0,
          0,
          0,
          0,
          0,
          0,
          0,
          0,
          0,
          0,
          0,
          0,
          3,
          0,
          0,
          0,
          0,
          0,
          0,
          1,
          0,
          0,
          0,
          3,
          0,
          3,
          0,
          0,
          0,
          0,
          0,
          1,
          0,
          0,
          0,
          0,
          0,
          0,
          0,
          2,
          0,
          0,
          0,
          2,
          0,
          2,
          3,
          0,
          0,
          0,
          0,
          1,
          0,
          0,
          3,
          0,
          0,
          2,
          3,
          0,
          3,
          3,
          0,
          0,
          0,
          1,
          0,
          0,
          0,
          0,
          0,
          0,
          0,
          0,
          0,
          0,
          0,
          2,
          3,
          0,
          2,
          0,
          0,
          0,
          2,
          1,
          0,
          0,
          0,
          0,
          3,
          3,
          0,
          0,
          0,
          0,
          0,
          0,
          0,
          0,
          0,
          3,
          2,
          0,
          0,
          0,
          0,
          2,
          2,
          0,
          0,
          0,
          0,
          0,
          0,
          0,
          0,
          0,
          1,
          0,
          0,
          0,
          0,
          0,
          0,
          0,
          0,
          0,
          0,
          0,
          0,
          0,
          1,
          0,
          0,
          3,
          0,
          0,
          0,
          0,
          0
         ],
         "xaxis": "x",
         "yaxis": "y"
        },
        {
         "alignmentgroup": "True",
         "bingroup": "x",
         "hovertemplate": "Heart Disease Presence=1<br>Chest Pain Type=%{x}<br>count=%{y}<extra></extra>",
         "legendgroup": "1",
         "marker": {
          "color": "#EF553B"
         },
         "name": "1",
         "offsetgroup": "1",
         "orientation": "v",
         "showlegend": true,
         "type": "histogram",
         "x": [
          0,
          0,
          1,
          1,
          2,
          1,
          2,
          0,
          0,
          2,
          2,
          2,
          1,
          2,
          3,
          0,
          0,
          2,
          2,
          1,
          0,
          1,
          2,
          3,
          2,
          3,
          1,
          1,
          2,
          2,
          1,
          2,
          2,
          2,
          2,
          1,
          1,
          2,
          2,
          1,
          2,
          2,
          0,
          1,
          0,
          0,
          2,
          2,
          2,
          1,
          2,
          3,
          0,
          1,
          1,
          1,
          2,
          3,
          0,
          2,
          2,
          0,
          3,
          2,
          1,
          2,
          1,
          1,
          0,
          2,
          1,
          3,
          0,
          2,
          3,
          2,
          2,
          1,
          3,
          2,
          2,
          1,
          2,
          0,
          2,
          1,
          0,
          1,
          2,
          3,
          2,
          1,
          2,
          1,
          2,
          3,
          2,
          0,
          2,
          0,
          3,
          3,
          3,
          2,
          3,
          2,
          2,
          2,
          2,
          1,
          1,
          1,
          3,
          2,
          0,
          2,
          2,
          1,
          1,
          1,
          0,
          3,
          1,
          2,
          2,
          1,
          2,
          2,
          1,
          0,
          0,
          0,
          0,
          2,
          2,
          0,
          1,
          0,
          2,
          0,
          1,
          2,
          0,
          0,
          1,
          1,
          1,
          1,
          1,
          3,
          2,
          2,
          1,
          2,
          2,
          2,
          2,
          1,
          1,
          1,
          2,
          1,
          2,
          2,
          1,
          1,
          1,
          3,
          3,
          2,
          2,
          2,
          0,
          2,
          1,
          1,
          2,
          2,
          2,
          2,
          2,
          2,
          2,
          2,
          2,
          2,
          1,
          2,
          0,
          0,
          0,
          2,
          0,
          2,
          2,
          2,
          2,
          2,
          2,
          2,
          2,
          0,
          1,
          0,
          3,
          2,
          2,
          3,
          2,
          2,
          0,
          3,
          0,
          1,
          1,
          2,
          0,
          1,
          1,
          2,
          2,
          0,
          2,
          0,
          0,
          0,
          2,
          2,
          2,
          2,
          2,
          0,
          2,
          2,
          2,
          1,
          2,
          2,
          1,
          1,
          3,
          2,
          0,
          0,
          2,
          3,
          0,
          2,
          2,
          1,
          2,
          3,
          2,
          0,
          2,
          2,
          2,
          1,
          1,
          2,
          0,
          2,
          2,
          0,
          0,
          2,
          0,
          0,
          2,
          1,
          2,
          1,
          1,
          1,
          1,
          1,
          2,
          2,
          0,
          3,
          3,
          2,
          0,
          2,
          2,
          2,
          1,
          3,
          2,
          0,
          2,
          0,
          2,
          2,
          2,
          0,
          2,
          0,
          2,
          2,
          0,
          0,
          2,
          2,
          2,
          2,
          3,
          0,
          3,
          0,
          1,
          2,
          1,
          3,
          1,
          1,
          2,
          1,
          2,
          1,
          2,
          2,
          2,
          0,
          1,
          1,
          3,
          3,
          1,
          1,
          0,
          2,
          0,
          0,
          0,
          0,
          2,
          0,
          0,
          1,
          1,
          3,
          1,
          1,
          2,
          0,
          0,
          0,
          3,
          2,
          1,
          1,
          2,
          2,
          2,
          1,
          2,
          2,
          1,
          1,
          2,
          2,
          1,
          0,
          2,
          1,
          2,
          1,
          1,
          3,
          3,
          1,
          1,
          0,
          0,
          2,
          2,
          1,
          1,
          1,
          1,
          2,
          2,
          2,
          2,
          2,
          1,
          2,
          2,
          2,
          1,
          1,
          2,
          1,
          0,
          2,
          2,
          0,
          1,
          0,
          1,
          3,
          1,
          2,
          1,
          0,
          2,
          2,
          1,
          0,
          1,
          2,
          2,
          1,
          1,
          0,
          3,
          0,
          0,
          2,
          2,
          2,
          1,
          2,
          1,
          0,
          3,
          0,
          2,
          2,
          2,
          2,
          1,
          2,
          0,
          2,
          3,
          0,
          0,
          0,
          3,
          2,
          1,
          2,
          0,
          2,
          3,
          2,
          1,
          1,
          1,
          2,
          2,
          3,
          0,
          2,
          0,
          0,
          0,
          0,
          3,
          1,
          0,
          0,
          0,
          1,
          0,
          1,
          0,
          2,
          1,
          0,
          2,
          2,
          2,
          1,
          2,
          0,
          1,
          2,
          3,
          0,
          3,
          2,
          2,
          0,
          2,
          0,
          0,
          2,
          0,
          2,
          3,
          2,
          0,
          0,
          2,
          2,
          2,
          1,
          2,
          2,
          3,
          2,
          0,
          1,
          0,
          0,
          0,
          0,
          2,
          1,
          1,
          0,
          1,
          0,
          0,
          2,
          2,
          3,
          1,
          1,
          2,
          0,
          1,
          0
         ],
         "xaxis": "x",
         "yaxis": "y"
        }
       ],
       "layout": {
        "barmode": "relative",
        "legend": {
         "title": {
          "text": "Heart Disease Presence"
         },
         "tracegroupgap": 0
        },
        "template": {
         "data": {
          "bar": [
           {
            "error_x": {
             "color": "#2a3f5f"
            },
            "error_y": {
             "color": "#2a3f5f"
            },
            "marker": {
             "line": {
              "color": "#E5ECF6",
              "width": 0.5
             }
            },
            "type": "bar"
           }
          ],
          "barpolar": [
           {
            "marker": {
             "line": {
              "color": "#E5ECF6",
              "width": 0.5
             }
            },
            "type": "barpolar"
           }
          ],
          "carpet": [
           {
            "aaxis": {
             "endlinecolor": "#2a3f5f",
             "gridcolor": "white",
             "linecolor": "white",
             "minorgridcolor": "white",
             "startlinecolor": "#2a3f5f"
            },
            "baxis": {
             "endlinecolor": "#2a3f5f",
             "gridcolor": "white",
             "linecolor": "white",
             "minorgridcolor": "white",
             "startlinecolor": "#2a3f5f"
            },
            "type": "carpet"
           }
          ],
          "choropleth": [
           {
            "colorbar": {
             "outlinewidth": 0,
             "ticks": ""
            },
            "type": "choropleth"
           }
          ],
          "contour": [
           {
            "colorbar": {
             "outlinewidth": 0,
             "ticks": ""
            },
            "colorscale": [
             [
              0,
              "#0d0887"
             ],
             [
              0.1111111111111111,
              "#46039f"
             ],
             [
              0.2222222222222222,
              "#7201a8"
             ],
             [
              0.3333333333333333,
              "#9c179e"
             ],
             [
              0.4444444444444444,
              "#bd3786"
             ],
             [
              0.5555555555555556,
              "#d8576b"
             ],
             [
              0.6666666666666666,
              "#ed7953"
             ],
             [
              0.7777777777777778,
              "#fb9f3a"
             ],
             [
              0.8888888888888888,
              "#fdca26"
             ],
             [
              1,
              "#f0f921"
             ]
            ],
            "type": "contour"
           }
          ],
          "contourcarpet": [
           {
            "colorbar": {
             "outlinewidth": 0,
             "ticks": ""
            },
            "type": "contourcarpet"
           }
          ],
          "heatmap": [
           {
            "colorbar": {
             "outlinewidth": 0,
             "ticks": ""
            },
            "colorscale": [
             [
              0,
              "#0d0887"
             ],
             [
              0.1111111111111111,
              "#46039f"
             ],
             [
              0.2222222222222222,
              "#7201a8"
             ],
             [
              0.3333333333333333,
              "#9c179e"
             ],
             [
              0.4444444444444444,
              "#bd3786"
             ],
             [
              0.5555555555555556,
              "#d8576b"
             ],
             [
              0.6666666666666666,
              "#ed7953"
             ],
             [
              0.7777777777777778,
              "#fb9f3a"
             ],
             [
              0.8888888888888888,
              "#fdca26"
             ],
             [
              1,
              "#f0f921"
             ]
            ],
            "type": "heatmap"
           }
          ],
          "heatmapgl": [
           {
            "colorbar": {
             "outlinewidth": 0,
             "ticks": ""
            },
            "colorscale": [
             [
              0,
              "#0d0887"
             ],
             [
              0.1111111111111111,
              "#46039f"
             ],
             [
              0.2222222222222222,
              "#7201a8"
             ],
             [
              0.3333333333333333,
              "#9c179e"
             ],
             [
              0.4444444444444444,
              "#bd3786"
             ],
             [
              0.5555555555555556,
              "#d8576b"
             ],
             [
              0.6666666666666666,
              "#ed7953"
             ],
             [
              0.7777777777777778,
              "#fb9f3a"
             ],
             [
              0.8888888888888888,
              "#fdca26"
             ],
             [
              1,
              "#f0f921"
             ]
            ],
            "type": "heatmapgl"
           }
          ],
          "histogram": [
           {
            "marker": {
             "colorbar": {
              "outlinewidth": 0,
              "ticks": ""
             }
            },
            "type": "histogram"
           }
          ],
          "histogram2d": [
           {
            "colorbar": {
             "outlinewidth": 0,
             "ticks": ""
            },
            "colorscale": [
             [
              0,
              "#0d0887"
             ],
             [
              0.1111111111111111,
              "#46039f"
             ],
             [
              0.2222222222222222,
              "#7201a8"
             ],
             [
              0.3333333333333333,
              "#9c179e"
             ],
             [
              0.4444444444444444,
              "#bd3786"
             ],
             [
              0.5555555555555556,
              "#d8576b"
             ],
             [
              0.6666666666666666,
              "#ed7953"
             ],
             [
              0.7777777777777778,
              "#fb9f3a"
             ],
             [
              0.8888888888888888,
              "#fdca26"
             ],
             [
              1,
              "#f0f921"
             ]
            ],
            "type": "histogram2d"
           }
          ],
          "histogram2dcontour": [
           {
            "colorbar": {
             "outlinewidth": 0,
             "ticks": ""
            },
            "colorscale": [
             [
              0,
              "#0d0887"
             ],
             [
              0.1111111111111111,
              "#46039f"
             ],
             [
              0.2222222222222222,
              "#7201a8"
             ],
             [
              0.3333333333333333,
              "#9c179e"
             ],
             [
              0.4444444444444444,
              "#bd3786"
             ],
             [
              0.5555555555555556,
              "#d8576b"
             ],
             [
              0.6666666666666666,
              "#ed7953"
             ],
             [
              0.7777777777777778,
              "#fb9f3a"
             ],
             [
              0.8888888888888888,
              "#fdca26"
             ],
             [
              1,
              "#f0f921"
             ]
            ],
            "type": "histogram2dcontour"
           }
          ],
          "mesh3d": [
           {
            "colorbar": {
             "outlinewidth": 0,
             "ticks": ""
            },
            "type": "mesh3d"
           }
          ],
          "parcoords": [
           {
            "line": {
             "colorbar": {
              "outlinewidth": 0,
              "ticks": ""
             }
            },
            "type": "parcoords"
           }
          ],
          "pie": [
           {
            "automargin": true,
            "type": "pie"
           }
          ],
          "scatter": [
           {
            "marker": {
             "colorbar": {
              "outlinewidth": 0,
              "ticks": ""
             }
            },
            "type": "scatter"
           }
          ],
          "scatter3d": [
           {
            "line": {
             "colorbar": {
              "outlinewidth": 0,
              "ticks": ""
             }
            },
            "marker": {
             "colorbar": {
              "outlinewidth": 0,
              "ticks": ""
             }
            },
            "type": "scatter3d"
           }
          ],
          "scattercarpet": [
           {
            "marker": {
             "colorbar": {
              "outlinewidth": 0,
              "ticks": ""
             }
            },
            "type": "scattercarpet"
           }
          ],
          "scattergeo": [
           {
            "marker": {
             "colorbar": {
              "outlinewidth": 0,
              "ticks": ""
             }
            },
            "type": "scattergeo"
           }
          ],
          "scattergl": [
           {
            "marker": {
             "colorbar": {
              "outlinewidth": 0,
              "ticks": ""
             }
            },
            "type": "scattergl"
           }
          ],
          "scattermapbox": [
           {
            "marker": {
             "colorbar": {
              "outlinewidth": 0,
              "ticks": ""
             }
            },
            "type": "scattermapbox"
           }
          ],
          "scatterpolar": [
           {
            "marker": {
             "colorbar": {
              "outlinewidth": 0,
              "ticks": ""
             }
            },
            "type": "scatterpolar"
           }
          ],
          "scatterpolargl": [
           {
            "marker": {
             "colorbar": {
              "outlinewidth": 0,
              "ticks": ""
             }
            },
            "type": "scatterpolargl"
           }
          ],
          "scatterternary": [
           {
            "marker": {
             "colorbar": {
              "outlinewidth": 0,
              "ticks": ""
             }
            },
            "type": "scatterternary"
           }
          ],
          "surface": [
           {
            "colorbar": {
             "outlinewidth": 0,
             "ticks": ""
            },
            "colorscale": [
             [
              0,
              "#0d0887"
             ],
             [
              0.1111111111111111,
              "#46039f"
             ],
             [
              0.2222222222222222,
              "#7201a8"
             ],
             [
              0.3333333333333333,
              "#9c179e"
             ],
             [
              0.4444444444444444,
              "#bd3786"
             ],
             [
              0.5555555555555556,
              "#d8576b"
             ],
             [
              0.6666666666666666,
              "#ed7953"
             ],
             [
              0.7777777777777778,
              "#fb9f3a"
             ],
             [
              0.8888888888888888,
              "#fdca26"
             ],
             [
              1,
              "#f0f921"
             ]
            ],
            "type": "surface"
           }
          ],
          "table": [
           {
            "cells": {
             "fill": {
              "color": "#EBF0F8"
             },
             "line": {
              "color": "white"
             }
            },
            "header": {
             "fill": {
              "color": "#C8D4E3"
             },
             "line": {
              "color": "white"
             }
            },
            "type": "table"
           }
          ]
         },
         "layout": {
          "annotationdefaults": {
           "arrowcolor": "#2a3f5f",
           "arrowhead": 0,
           "arrowwidth": 1
          },
          "autotypenumbers": "strict",
          "coloraxis": {
           "colorbar": {
            "outlinewidth": 0,
            "ticks": ""
           }
          },
          "colorscale": {
           "diverging": [
            [
             0,
             "#8e0152"
            ],
            [
             0.1,
             "#c51b7d"
            ],
            [
             0.2,
             "#de77ae"
            ],
            [
             0.3,
             "#f1b6da"
            ],
            [
             0.4,
             "#fde0ef"
            ],
            [
             0.5,
             "#f7f7f7"
            ],
            [
             0.6,
             "#e6f5d0"
            ],
            [
             0.7,
             "#b8e186"
            ],
            [
             0.8,
             "#7fbc41"
            ],
            [
             0.9,
             "#4d9221"
            ],
            [
             1,
             "#276419"
            ]
           ],
           "sequential": [
            [
             0,
             "#0d0887"
            ],
            [
             0.1111111111111111,
             "#46039f"
            ],
            [
             0.2222222222222222,
             "#7201a8"
            ],
            [
             0.3333333333333333,
             "#9c179e"
            ],
            [
             0.4444444444444444,
             "#bd3786"
            ],
            [
             0.5555555555555556,
             "#d8576b"
            ],
            [
             0.6666666666666666,
             "#ed7953"
            ],
            [
             0.7777777777777778,
             "#fb9f3a"
            ],
            [
             0.8888888888888888,
             "#fdca26"
            ],
            [
             1,
             "#f0f921"
            ]
           ],
           "sequentialminus": [
            [
             0,
             "#0d0887"
            ],
            [
             0.1111111111111111,
             "#46039f"
            ],
            [
             0.2222222222222222,
             "#7201a8"
            ],
            [
             0.3333333333333333,
             "#9c179e"
            ],
            [
             0.4444444444444444,
             "#bd3786"
            ],
            [
             0.5555555555555556,
             "#d8576b"
            ],
            [
             0.6666666666666666,
             "#ed7953"
            ],
            [
             0.7777777777777778,
             "#fb9f3a"
            ],
            [
             0.8888888888888888,
             "#fdca26"
            ],
            [
             1,
             "#f0f921"
            ]
           ]
          },
          "colorway": [
           "#636efa",
           "#EF553B",
           "#00cc96",
           "#ab63fa",
           "#FFA15A",
           "#19d3f3",
           "#FF6692",
           "#B6E880",
           "#FF97FF",
           "#FECB52"
          ],
          "font": {
           "color": "#2a3f5f"
          },
          "geo": {
           "bgcolor": "white",
           "lakecolor": "white",
           "landcolor": "#E5ECF6",
           "showlakes": true,
           "showland": true,
           "subunitcolor": "white"
          },
          "hoverlabel": {
           "align": "left"
          },
          "hovermode": "closest",
          "mapbox": {
           "style": "light"
          },
          "paper_bgcolor": "white",
          "plot_bgcolor": "#E5ECF6",
          "polar": {
           "angularaxis": {
            "gridcolor": "white",
            "linecolor": "white",
            "ticks": ""
           },
           "bgcolor": "#E5ECF6",
           "radialaxis": {
            "gridcolor": "white",
            "linecolor": "white",
            "ticks": ""
           }
          },
          "scene": {
           "xaxis": {
            "backgroundcolor": "#E5ECF6",
            "gridcolor": "white",
            "gridwidth": 2,
            "linecolor": "white",
            "showbackground": true,
            "ticks": "",
            "zerolinecolor": "white"
           },
           "yaxis": {
            "backgroundcolor": "#E5ECF6",
            "gridcolor": "white",
            "gridwidth": 2,
            "linecolor": "white",
            "showbackground": true,
            "ticks": "",
            "zerolinecolor": "white"
           },
           "zaxis": {
            "backgroundcolor": "#E5ECF6",
            "gridcolor": "white",
            "gridwidth": 2,
            "linecolor": "white",
            "showbackground": true,
            "ticks": "",
            "zerolinecolor": "white"
           }
          },
          "shapedefaults": {
           "line": {
            "color": "#2a3f5f"
           }
          },
          "ternary": {
           "aaxis": {
            "gridcolor": "white",
            "linecolor": "white",
            "ticks": ""
           },
           "baxis": {
            "gridcolor": "white",
            "linecolor": "white",
            "ticks": ""
           },
           "bgcolor": "#E5ECF6",
           "caxis": {
            "gridcolor": "white",
            "linecolor": "white",
            "ticks": ""
           }
          },
          "title": {
           "x": 0.05
          },
          "xaxis": {
           "automargin": true,
           "gridcolor": "white",
           "linecolor": "white",
           "ticks": "",
           "title": {
            "standoff": 15
           },
           "zerolinecolor": "white",
           "zerolinewidth": 2
          },
          "yaxis": {
           "automargin": true,
           "gridcolor": "white",
           "linecolor": "white",
           "ticks": "",
           "title": {
            "standoff": 15
           },
           "zerolinecolor": "white",
           "zerolinewidth": 2
          }
         }
        },
        "title": {
         "text": "Distribution of Chest Pain Type and Heart Disease"
        },
        "xaxis": {
         "anchor": "y",
         "categoryorder": "total ascending",
         "domain": [
          0,
          1
         ],
         "title": {
          "text": "Chest Pain Type"
         }
        },
        "yaxis": {
         "anchor": "x",
         "domain": [
          0,
          1
         ],
         "title": {
          "text": "Count"
         }
        }
       }
      },
      "text/html": [
       "<div>                            <div id=\"126acaf2-b5bb-4e1c-bece-1dd62c895db3\" class=\"plotly-graph-div\" style=\"height:525px; width:100%;\"></div>            <script type=\"text/javascript\">                require([\"plotly\"], function(Plotly) {                    window.PLOTLYENV=window.PLOTLYENV || {};                                    if (document.getElementById(\"126acaf2-b5bb-4e1c-bece-1dd62c895db3\")) {                    Plotly.newPlot(                        \"126acaf2-b5bb-4e1c-bece-1dd62c895db3\",                        [{\"alignmentgroup\": \"True\", \"bingroup\": \"x\", \"hovertemplate\": \"Heart Disease Presence=0<br>Chest Pain Type=%{x}<br>count=%{y}<extra></extra>\", \"legendgroup\": \"0\", \"marker\": {\"color\": \"#636efa\"}, \"name\": \"0\", \"offsetgroup\": \"0\", \"orientation\": \"v\", \"showlegend\": true, \"type\": \"histogram\", \"x\": [0, 0, 0, 0, 0, 0, 0, 0, 0, 0, 0, 0, 0, 2, 0, 1, 2, 0, 0, 0, 2, 2, 2, 0, 0, 0, 0, 0, 2, 0, 0, 2, 1, 0, 3, 0, 0, 0, 0, 0, 0, 0, 0, 2, 2, 2, 0, 0, 0, 0, 0, 0, 0, 0, 0, 1, 0, 0, 0, 0, 0, 2, 0, 0, 0, 0, 0, 0, 0, 0, 0, 3, 0, 0, 0, 1, 0, 0, 0, 0, 0, 0, 0, 0, 0, 0, 0, 0, 0, 0, 0, 0, 0, 0, 0, 0, 0, 2, 0, 0, 0, 2, 1, 0, 0, 0, 0, 0, 1, 0, 2, 0, 0, 0, 2, 1, 0, 0, 2, 2, 1, 0, 0, 0, 0, 0, 3, 0, 0, 0, 2, 0, 0, 0, 2, 0, 0, 0, 0, 0, 0, 0, 0, 2, 0, 0, 2, 0, 0, 1, 1, 0, 0, 0, 0, 0, 2, 0, 1, 0, 0, 2, 0, 0, 1, 0, 0, 3, 1, 2, 1, 0, 0, 1, 0, 0, 2, 0, 0, 0, 0, 0, 1, 3, 0, 0, 2, 0, 2, 0, 2, 0, 2, 0, 0, 0, 3, 1, 0, 0, 0, 2, 2, 0, 0, 0, 1, 0, 0, 0, 0, 0, 0, 0, 0, 2, 2, 0, 0, 1, 0, 2, 0, 0, 0, 0, 0, 1, 0, 0, 2, 0, 2, 1, 2, 0, 0, 0, 0, 0, 0, 2, 0, 2, 0, 0, 0, 2, 0, 0, 0, 0, 0, 3, 1, 0, 2, 0, 0, 0, 0, 0, 0, 0, 0, 0, 0, 0, 0, 0, 0, 0, 2, 0, 0, 0, 0, 2, 0, 0, 0, 1, 2, 0, 0, 0, 0, 0, 0, 0, 0, 0, 0, 0, 0, 0, 0, 3, 2, 2, 3, 3, 3, 0, 0, 0, 3, 0, 0, 2, 0, 0, 1, 2, 0, 0, 1, 1, 0, 0, 0, 0, 0, 0, 2, 0, 0, 0, 2, 0, 0, 0, 0, 0, 0, 0, 2, 0, 0, 0, 0, 2, 3, 0, 0, 2, 2, 0, 0, 0, 0, 0, 0, 0, 0, 0, 0, 2, 0, 0, 0, 0, 0, 0, 0, 0, 0, 0, 0, 0, 3, 0, 0, 0, 0, 0, 0, 1, 0, 0, 0, 3, 0, 3, 0, 0, 0, 0, 0, 1, 0, 0, 0, 0, 0, 0, 0, 2, 0, 0, 0, 2, 0, 2, 3, 0, 0, 0, 0, 1, 0, 0, 3, 0, 0, 2, 3, 0, 3, 3, 0, 0, 0, 1, 0, 0, 0, 0, 0, 0, 0, 0, 0, 0, 0, 2, 3, 0, 2, 0, 0, 0, 2, 1, 0, 0, 0, 0, 3, 3, 0, 0, 0, 0, 0, 0, 0, 0, 0, 3, 2, 0, 0, 0, 0, 2, 2, 0, 0, 0, 0, 0, 0, 0, 0, 0, 1, 0, 0, 0, 0, 0, 0, 0, 0, 0, 0, 0, 0, 0, 1, 0, 0, 3, 0, 0, 0, 0, 0], \"xaxis\": \"x\", \"yaxis\": \"y\"}, {\"alignmentgroup\": \"True\", \"bingroup\": \"x\", \"hovertemplate\": \"Heart Disease Presence=1<br>Chest Pain Type=%{x}<br>count=%{y}<extra></extra>\", \"legendgroup\": \"1\", \"marker\": {\"color\": \"#EF553B\"}, \"name\": \"1\", \"offsetgroup\": \"1\", \"orientation\": \"v\", \"showlegend\": true, \"type\": \"histogram\", \"x\": [0, 0, 1, 1, 2, 1, 2, 0, 0, 2, 2, 2, 1, 2, 3, 0, 0, 2, 2, 1, 0, 1, 2, 3, 2, 3, 1, 1, 2, 2, 1, 2, 2, 2, 2, 1, 1, 2, 2, 1, 2, 2, 0, 1, 0, 0, 2, 2, 2, 1, 2, 3, 0, 1, 1, 1, 2, 3, 0, 2, 2, 0, 3, 2, 1, 2, 1, 1, 0, 2, 1, 3, 0, 2, 3, 2, 2, 1, 3, 2, 2, 1, 2, 0, 2, 1, 0, 1, 2, 3, 2, 1, 2, 1, 2, 3, 2, 0, 2, 0, 3, 3, 3, 2, 3, 2, 2, 2, 2, 1, 1, 1, 3, 2, 0, 2, 2, 1, 1, 1, 0, 3, 1, 2, 2, 1, 2, 2, 1, 0, 0, 0, 0, 2, 2, 0, 1, 0, 2, 0, 1, 2, 0, 0, 1, 1, 1, 1, 1, 3, 2, 2, 1, 2, 2, 2, 2, 1, 1, 1, 2, 1, 2, 2, 1, 1, 1, 3, 3, 2, 2, 2, 0, 2, 1, 1, 2, 2, 2, 2, 2, 2, 2, 2, 2, 2, 1, 2, 0, 0, 0, 2, 0, 2, 2, 2, 2, 2, 2, 2, 2, 0, 1, 0, 3, 2, 2, 3, 2, 2, 0, 3, 0, 1, 1, 2, 0, 1, 1, 2, 2, 0, 2, 0, 0, 0, 2, 2, 2, 2, 2, 0, 2, 2, 2, 1, 2, 2, 1, 1, 3, 2, 0, 0, 2, 3, 0, 2, 2, 1, 2, 3, 2, 0, 2, 2, 2, 1, 1, 2, 0, 2, 2, 0, 0, 2, 0, 0, 2, 1, 2, 1, 1, 1, 1, 1, 2, 2, 0, 3, 3, 2, 0, 2, 2, 2, 1, 3, 2, 0, 2, 0, 2, 2, 2, 0, 2, 0, 2, 2, 0, 0, 2, 2, 2, 2, 3, 0, 3, 0, 1, 2, 1, 3, 1, 1, 2, 1, 2, 1, 2, 2, 2, 0, 1, 1, 3, 3, 1, 1, 0, 2, 0, 0, 0, 0, 2, 0, 0, 1, 1, 3, 1, 1, 2, 0, 0, 0, 3, 2, 1, 1, 2, 2, 2, 1, 2, 2, 1, 1, 2, 2, 1, 0, 2, 1, 2, 1, 1, 3, 3, 1, 1, 0, 0, 2, 2, 1, 1, 1, 1, 2, 2, 2, 2, 2, 1, 2, 2, 2, 1, 1, 2, 1, 0, 2, 2, 0, 1, 0, 1, 3, 1, 2, 1, 0, 2, 2, 1, 0, 1, 2, 2, 1, 1, 0, 3, 0, 0, 2, 2, 2, 1, 2, 1, 0, 3, 0, 2, 2, 2, 2, 1, 2, 0, 2, 3, 0, 0, 0, 3, 2, 1, 2, 0, 2, 3, 2, 1, 1, 1, 2, 2, 3, 0, 2, 0, 0, 0, 0, 3, 1, 0, 0, 0, 1, 0, 1, 0, 2, 1, 0, 2, 2, 2, 1, 2, 0, 1, 2, 3, 0, 3, 2, 2, 0, 2, 0, 0, 2, 0, 2, 3, 2, 0, 0, 2, 2, 2, 1, 2, 2, 3, 2, 0, 1, 0, 0, 0, 0, 2, 1, 1, 0, 1, 0, 0, 2, 2, 3, 1, 1, 2, 0, 1, 0], \"xaxis\": \"x\", \"yaxis\": \"y\"}],                        {\"barmode\": \"relative\", \"legend\": {\"title\": {\"text\": \"Heart Disease Presence\"}, \"tracegroupgap\": 0}, \"template\": {\"data\": {\"bar\": [{\"error_x\": {\"color\": \"#2a3f5f\"}, \"error_y\": {\"color\": \"#2a3f5f\"}, \"marker\": {\"line\": {\"color\": \"#E5ECF6\", \"width\": 0.5}}, \"type\": \"bar\"}], \"barpolar\": [{\"marker\": {\"line\": {\"color\": \"#E5ECF6\", \"width\": 0.5}}, \"type\": \"barpolar\"}], \"carpet\": [{\"aaxis\": {\"endlinecolor\": \"#2a3f5f\", \"gridcolor\": \"white\", \"linecolor\": \"white\", \"minorgridcolor\": \"white\", \"startlinecolor\": \"#2a3f5f\"}, \"baxis\": {\"endlinecolor\": \"#2a3f5f\", \"gridcolor\": \"white\", \"linecolor\": \"white\", \"minorgridcolor\": \"white\", \"startlinecolor\": \"#2a3f5f\"}, \"type\": \"carpet\"}], \"choropleth\": [{\"colorbar\": {\"outlinewidth\": 0, \"ticks\": \"\"}, \"type\": \"choropleth\"}], \"contour\": [{\"colorbar\": {\"outlinewidth\": 0, \"ticks\": \"\"}, \"colorscale\": [[0.0, \"#0d0887\"], [0.1111111111111111, \"#46039f\"], [0.2222222222222222, \"#7201a8\"], [0.3333333333333333, \"#9c179e\"], [0.4444444444444444, \"#bd3786\"], [0.5555555555555556, \"#d8576b\"], [0.6666666666666666, \"#ed7953\"], [0.7777777777777778, \"#fb9f3a\"], [0.8888888888888888, \"#fdca26\"], [1.0, \"#f0f921\"]], \"type\": \"contour\"}], \"contourcarpet\": [{\"colorbar\": {\"outlinewidth\": 0, \"ticks\": \"\"}, \"type\": \"contourcarpet\"}], \"heatmap\": [{\"colorbar\": {\"outlinewidth\": 0, \"ticks\": \"\"}, \"colorscale\": [[0.0, \"#0d0887\"], [0.1111111111111111, \"#46039f\"], [0.2222222222222222, \"#7201a8\"], [0.3333333333333333, \"#9c179e\"], [0.4444444444444444, \"#bd3786\"], [0.5555555555555556, \"#d8576b\"], [0.6666666666666666, \"#ed7953\"], [0.7777777777777778, \"#fb9f3a\"], [0.8888888888888888, \"#fdca26\"], [1.0, \"#f0f921\"]], \"type\": \"heatmap\"}], \"heatmapgl\": [{\"colorbar\": {\"outlinewidth\": 0, \"ticks\": \"\"}, \"colorscale\": [[0.0, \"#0d0887\"], [0.1111111111111111, \"#46039f\"], [0.2222222222222222, \"#7201a8\"], [0.3333333333333333, \"#9c179e\"], [0.4444444444444444, \"#bd3786\"], [0.5555555555555556, \"#d8576b\"], [0.6666666666666666, \"#ed7953\"], [0.7777777777777778, \"#fb9f3a\"], [0.8888888888888888, \"#fdca26\"], [1.0, \"#f0f921\"]], \"type\": \"heatmapgl\"}], \"histogram\": [{\"marker\": {\"colorbar\": {\"outlinewidth\": 0, \"ticks\": \"\"}}, \"type\": \"histogram\"}], \"histogram2d\": [{\"colorbar\": {\"outlinewidth\": 0, \"ticks\": \"\"}, \"colorscale\": [[0.0, \"#0d0887\"], [0.1111111111111111, \"#46039f\"], [0.2222222222222222, \"#7201a8\"], [0.3333333333333333, \"#9c179e\"], [0.4444444444444444, \"#bd3786\"], [0.5555555555555556, \"#d8576b\"], [0.6666666666666666, \"#ed7953\"], [0.7777777777777778, \"#fb9f3a\"], [0.8888888888888888, \"#fdca26\"], [1.0, \"#f0f921\"]], \"type\": \"histogram2d\"}], \"histogram2dcontour\": [{\"colorbar\": {\"outlinewidth\": 0, \"ticks\": \"\"}, \"colorscale\": [[0.0, \"#0d0887\"], [0.1111111111111111, \"#46039f\"], [0.2222222222222222, \"#7201a8\"], [0.3333333333333333, \"#9c179e\"], [0.4444444444444444, \"#bd3786\"], [0.5555555555555556, \"#d8576b\"], [0.6666666666666666, \"#ed7953\"], [0.7777777777777778, \"#fb9f3a\"], [0.8888888888888888, \"#fdca26\"], [1.0, \"#f0f921\"]], \"type\": \"histogram2dcontour\"}], \"mesh3d\": [{\"colorbar\": {\"outlinewidth\": 0, \"ticks\": \"\"}, \"type\": \"mesh3d\"}], \"parcoords\": [{\"line\": {\"colorbar\": {\"outlinewidth\": 0, \"ticks\": \"\"}}, \"type\": \"parcoords\"}], \"pie\": [{\"automargin\": true, \"type\": \"pie\"}], \"scatter\": [{\"marker\": {\"colorbar\": {\"outlinewidth\": 0, \"ticks\": \"\"}}, \"type\": \"scatter\"}], \"scatter3d\": [{\"line\": {\"colorbar\": {\"outlinewidth\": 0, \"ticks\": \"\"}}, \"marker\": {\"colorbar\": {\"outlinewidth\": 0, \"ticks\": \"\"}}, \"type\": \"scatter3d\"}], \"scattercarpet\": [{\"marker\": {\"colorbar\": {\"outlinewidth\": 0, \"ticks\": \"\"}}, \"type\": \"scattercarpet\"}], \"scattergeo\": [{\"marker\": {\"colorbar\": {\"outlinewidth\": 0, \"ticks\": \"\"}}, \"type\": \"scattergeo\"}], \"scattergl\": [{\"marker\": {\"colorbar\": {\"outlinewidth\": 0, \"ticks\": \"\"}}, \"type\": \"scattergl\"}], \"scattermapbox\": [{\"marker\": {\"colorbar\": {\"outlinewidth\": 0, \"ticks\": \"\"}}, \"type\": \"scattermapbox\"}], \"scatterpolar\": [{\"marker\": {\"colorbar\": {\"outlinewidth\": 0, \"ticks\": \"\"}}, \"type\": \"scatterpolar\"}], \"scatterpolargl\": [{\"marker\": {\"colorbar\": {\"outlinewidth\": 0, \"ticks\": \"\"}}, \"type\": \"scatterpolargl\"}], \"scatterternary\": [{\"marker\": {\"colorbar\": {\"outlinewidth\": 0, \"ticks\": \"\"}}, \"type\": \"scatterternary\"}], \"surface\": [{\"colorbar\": {\"outlinewidth\": 0, \"ticks\": \"\"}, \"colorscale\": [[0.0, \"#0d0887\"], [0.1111111111111111, \"#46039f\"], [0.2222222222222222, \"#7201a8\"], [0.3333333333333333, \"#9c179e\"], [0.4444444444444444, \"#bd3786\"], [0.5555555555555556, \"#d8576b\"], [0.6666666666666666, \"#ed7953\"], [0.7777777777777778, \"#fb9f3a\"], [0.8888888888888888, \"#fdca26\"], [1.0, \"#f0f921\"]], \"type\": \"surface\"}], \"table\": [{\"cells\": {\"fill\": {\"color\": \"#EBF0F8\"}, \"line\": {\"color\": \"white\"}}, \"header\": {\"fill\": {\"color\": \"#C8D4E3\"}, \"line\": {\"color\": \"white\"}}, \"type\": \"table\"}]}, \"layout\": {\"annotationdefaults\": {\"arrowcolor\": \"#2a3f5f\", \"arrowhead\": 0, \"arrowwidth\": 1}, \"autotypenumbers\": \"strict\", \"coloraxis\": {\"colorbar\": {\"outlinewidth\": 0, \"ticks\": \"\"}}, \"colorscale\": {\"diverging\": [[0, \"#8e0152\"], [0.1, \"#c51b7d\"], [0.2, \"#de77ae\"], [0.3, \"#f1b6da\"], [0.4, \"#fde0ef\"], [0.5, \"#f7f7f7\"], [0.6, \"#e6f5d0\"], [0.7, \"#b8e186\"], [0.8, \"#7fbc41\"], [0.9, \"#4d9221\"], [1, \"#276419\"]], \"sequential\": [[0.0, \"#0d0887\"], [0.1111111111111111, \"#46039f\"], [0.2222222222222222, \"#7201a8\"], [0.3333333333333333, \"#9c179e\"], [0.4444444444444444, \"#bd3786\"], [0.5555555555555556, \"#d8576b\"], [0.6666666666666666, \"#ed7953\"], [0.7777777777777778, \"#fb9f3a\"], [0.8888888888888888, \"#fdca26\"], [1.0, \"#f0f921\"]], \"sequentialminus\": [[0.0, \"#0d0887\"], [0.1111111111111111, \"#46039f\"], [0.2222222222222222, \"#7201a8\"], [0.3333333333333333, \"#9c179e\"], [0.4444444444444444, \"#bd3786\"], [0.5555555555555556, \"#d8576b\"], [0.6666666666666666, \"#ed7953\"], [0.7777777777777778, \"#fb9f3a\"], [0.8888888888888888, \"#fdca26\"], [1.0, \"#f0f921\"]]}, \"colorway\": [\"#636efa\", \"#EF553B\", \"#00cc96\", \"#ab63fa\", \"#FFA15A\", \"#19d3f3\", \"#FF6692\", \"#B6E880\", \"#FF97FF\", \"#FECB52\"], \"font\": {\"color\": \"#2a3f5f\"}, \"geo\": {\"bgcolor\": \"white\", \"lakecolor\": \"white\", \"landcolor\": \"#E5ECF6\", \"showlakes\": true, \"showland\": true, \"subunitcolor\": \"white\"}, \"hoverlabel\": {\"align\": \"left\"}, \"hovermode\": \"closest\", \"mapbox\": {\"style\": \"light\"}, \"paper_bgcolor\": \"white\", \"plot_bgcolor\": \"#E5ECF6\", \"polar\": {\"angularaxis\": {\"gridcolor\": \"white\", \"linecolor\": \"white\", \"ticks\": \"\"}, \"bgcolor\": \"#E5ECF6\", \"radialaxis\": {\"gridcolor\": \"white\", \"linecolor\": \"white\", \"ticks\": \"\"}}, \"scene\": {\"xaxis\": {\"backgroundcolor\": \"#E5ECF6\", \"gridcolor\": \"white\", \"gridwidth\": 2, \"linecolor\": \"white\", \"showbackground\": true, \"ticks\": \"\", \"zerolinecolor\": \"white\"}, \"yaxis\": {\"backgroundcolor\": \"#E5ECF6\", \"gridcolor\": \"white\", \"gridwidth\": 2, \"linecolor\": \"white\", \"showbackground\": true, \"ticks\": \"\", \"zerolinecolor\": \"white\"}, \"zaxis\": {\"backgroundcolor\": \"#E5ECF6\", \"gridcolor\": \"white\", \"gridwidth\": 2, \"linecolor\": \"white\", \"showbackground\": true, \"ticks\": \"\", \"zerolinecolor\": \"white\"}}, \"shapedefaults\": {\"line\": {\"color\": \"#2a3f5f\"}}, \"ternary\": {\"aaxis\": {\"gridcolor\": \"white\", \"linecolor\": \"white\", \"ticks\": \"\"}, \"baxis\": {\"gridcolor\": \"white\", \"linecolor\": \"white\", \"ticks\": \"\"}, \"bgcolor\": \"#E5ECF6\", \"caxis\": {\"gridcolor\": \"white\", \"linecolor\": \"white\", \"ticks\": \"\"}}, \"title\": {\"x\": 0.05}, \"xaxis\": {\"automargin\": true, \"gridcolor\": \"white\", \"linecolor\": \"white\", \"ticks\": \"\", \"title\": {\"standoff\": 15}, \"zerolinecolor\": \"white\", \"zerolinewidth\": 2}, \"yaxis\": {\"automargin\": true, \"gridcolor\": \"white\", \"linecolor\": \"white\", \"ticks\": \"\", \"title\": {\"standoff\": 15}, \"zerolinecolor\": \"white\", \"zerolinewidth\": 2}}}, \"title\": {\"text\": \"Distribution of Chest Pain Type and Heart Disease\"}, \"xaxis\": {\"anchor\": \"y\", \"categoryorder\": \"total ascending\", \"domain\": [0.0, 1.0], \"title\": {\"text\": \"Chest Pain Type\"}}, \"yaxis\": {\"anchor\": \"x\", \"domain\": [0.0, 1.0], \"title\": {\"text\": \"Count\"}}},                        {\"responsive\": true}                    ).then(function(){\n",
       "                            \n",
       "var gd = document.getElementById('126acaf2-b5bb-4e1c-bece-1dd62c895db3');\n",
       "var x = new MutationObserver(function (mutations, observer) {{\n",
       "        var display = window.getComputedStyle(gd).display;\n",
       "        if (!display || display === 'none') {{\n",
       "            console.log([gd, 'removed!']);\n",
       "            Plotly.purge(gd);\n",
       "            observer.disconnect();\n",
       "        }}\n",
       "}});\n",
       "\n",
       "// Listen for the removal of the full notebook cells\n",
       "var notebookContainer = gd.closest('#notebook-container');\n",
       "if (notebookContainer) {{\n",
       "    x.observe(notebookContainer, {childList: true});\n",
       "}}\n",
       "\n",
       "// Listen for the clearing of the current output cell\n",
       "var outputEl = gd.closest('.output');\n",
       "if (outputEl) {{\n",
       "    x.observe(outputEl, {childList: true});\n",
       "}}\n",
       "\n",
       "                        })                };                });            </script>        </div>"
      ]
     },
     "metadata": {},
     "output_type": "display_data"
    }
   ],
   "source": [
    "# Create a count plot using Plotly Express\n",
    "fig = px.histogram(heart, x=\"cp\", color=\"disease\", title=\"Distribution of Chest Pain Type and Heart Disease\", labels={\"cp\": \"Chest Pain Type\", \"disease\": \"Heart Disease Presence\"})\n",
    "\n",
    "# Customize the layout\n",
    "fig.update_xaxes(categoryorder=\"total ascending\", title_text=\"Chest Pain Type\")\n",
    "fig.update_yaxes(title_text=\"Count\")\n",
    "\n",
    "fig.show()"
   ]
  },
  {
   "cell_type": "code",
   "execution_count": 47,
   "id": "03052555",
   "metadata": {},
   "outputs": [
    {
     "data": {
      "application/vnd.plotly.v1+json": {
       "config": {
        "plotlyServerURL": "https://plot.ly"
       },
       "data": [
        {
         "alignmentgroup": "True",
         "hovertemplate": "variable=0<br>Chest Pain Type=%{x}<br>value=%{y}<extra></extra>",
         "legendgroup": "0",
         "marker": {
          "color": "#636efa"
         },
         "name": "0",
         "offsetgroup": "0",
         "orientation": "v",
         "showlegend": true,
         "textposition": "auto",
         "type": "bar",
         "x": [
          0,
          1,
          2,
          3
         ],
         "xaxis": "x",
         "y": [
          375,
          33,
          65,
          26
         ],
         "yaxis": "y"
        },
        {
         "alignmentgroup": "True",
         "hovertemplate": "variable=1<br>Chest Pain Type=%{x}<br>value=%{y}<extra></extra>",
         "legendgroup": "1",
         "marker": {
          "color": "#EF553B"
         },
         "name": "1",
         "offsetgroup": "1",
         "orientation": "v",
         "showlegend": true,
         "textposition": "auto",
         "type": "bar",
         "x": [
          0,
          1,
          2,
          3
         ],
         "xaxis": "x",
         "y": [
          122,
          134,
          219,
          51
         ],
         "yaxis": "y"
        }
       ],
       "layout": {
        "annotations": [
         {
          "showarrow": false,
          "text": "Chi-squared test statistic: 280.98<br>P-value: 0.0",
          "x": 0.5,
          "xref": "paper",
          "y": 1.08,
          "yref": "paper"
         }
        ],
        "barmode": "group",
        "legend": {
         "title": {
          "text": "variable"
         },
         "tracegroupgap": 0
        },
        "template": {
         "data": {
          "bar": [
           {
            "error_x": {
             "color": "#2a3f5f"
            },
            "error_y": {
             "color": "#2a3f5f"
            },
            "marker": {
             "line": {
              "color": "#E5ECF6",
              "width": 0.5
             }
            },
            "type": "bar"
           }
          ],
          "barpolar": [
           {
            "marker": {
             "line": {
              "color": "#E5ECF6",
              "width": 0.5
             }
            },
            "type": "barpolar"
           }
          ],
          "carpet": [
           {
            "aaxis": {
             "endlinecolor": "#2a3f5f",
             "gridcolor": "white",
             "linecolor": "white",
             "minorgridcolor": "white",
             "startlinecolor": "#2a3f5f"
            },
            "baxis": {
             "endlinecolor": "#2a3f5f",
             "gridcolor": "white",
             "linecolor": "white",
             "minorgridcolor": "white",
             "startlinecolor": "#2a3f5f"
            },
            "type": "carpet"
           }
          ],
          "choropleth": [
           {
            "colorbar": {
             "outlinewidth": 0,
             "ticks": ""
            },
            "type": "choropleth"
           }
          ],
          "contour": [
           {
            "colorbar": {
             "outlinewidth": 0,
             "ticks": ""
            },
            "colorscale": [
             [
              0,
              "#0d0887"
             ],
             [
              0.1111111111111111,
              "#46039f"
             ],
             [
              0.2222222222222222,
              "#7201a8"
             ],
             [
              0.3333333333333333,
              "#9c179e"
             ],
             [
              0.4444444444444444,
              "#bd3786"
             ],
             [
              0.5555555555555556,
              "#d8576b"
             ],
             [
              0.6666666666666666,
              "#ed7953"
             ],
             [
              0.7777777777777778,
              "#fb9f3a"
             ],
             [
              0.8888888888888888,
              "#fdca26"
             ],
             [
              1,
              "#f0f921"
             ]
            ],
            "type": "contour"
           }
          ],
          "contourcarpet": [
           {
            "colorbar": {
             "outlinewidth": 0,
             "ticks": ""
            },
            "type": "contourcarpet"
           }
          ],
          "heatmap": [
           {
            "colorbar": {
             "outlinewidth": 0,
             "ticks": ""
            },
            "colorscale": [
             [
              0,
              "#0d0887"
             ],
             [
              0.1111111111111111,
              "#46039f"
             ],
             [
              0.2222222222222222,
              "#7201a8"
             ],
             [
              0.3333333333333333,
              "#9c179e"
             ],
             [
              0.4444444444444444,
              "#bd3786"
             ],
             [
              0.5555555555555556,
              "#d8576b"
             ],
             [
              0.6666666666666666,
              "#ed7953"
             ],
             [
              0.7777777777777778,
              "#fb9f3a"
             ],
             [
              0.8888888888888888,
              "#fdca26"
             ],
             [
              1,
              "#f0f921"
             ]
            ],
            "type": "heatmap"
           }
          ],
          "heatmapgl": [
           {
            "colorbar": {
             "outlinewidth": 0,
             "ticks": ""
            },
            "colorscale": [
             [
              0,
              "#0d0887"
             ],
             [
              0.1111111111111111,
              "#46039f"
             ],
             [
              0.2222222222222222,
              "#7201a8"
             ],
             [
              0.3333333333333333,
              "#9c179e"
             ],
             [
              0.4444444444444444,
              "#bd3786"
             ],
             [
              0.5555555555555556,
              "#d8576b"
             ],
             [
              0.6666666666666666,
              "#ed7953"
             ],
             [
              0.7777777777777778,
              "#fb9f3a"
             ],
             [
              0.8888888888888888,
              "#fdca26"
             ],
             [
              1,
              "#f0f921"
             ]
            ],
            "type": "heatmapgl"
           }
          ],
          "histogram": [
           {
            "marker": {
             "colorbar": {
              "outlinewidth": 0,
              "ticks": ""
             }
            },
            "type": "histogram"
           }
          ],
          "histogram2d": [
           {
            "colorbar": {
             "outlinewidth": 0,
             "ticks": ""
            },
            "colorscale": [
             [
              0,
              "#0d0887"
             ],
             [
              0.1111111111111111,
              "#46039f"
             ],
             [
              0.2222222222222222,
              "#7201a8"
             ],
             [
              0.3333333333333333,
              "#9c179e"
             ],
             [
              0.4444444444444444,
              "#bd3786"
             ],
             [
              0.5555555555555556,
              "#d8576b"
             ],
             [
              0.6666666666666666,
              "#ed7953"
             ],
             [
              0.7777777777777778,
              "#fb9f3a"
             ],
             [
              0.8888888888888888,
              "#fdca26"
             ],
             [
              1,
              "#f0f921"
             ]
            ],
            "type": "histogram2d"
           }
          ],
          "histogram2dcontour": [
           {
            "colorbar": {
             "outlinewidth": 0,
             "ticks": ""
            },
            "colorscale": [
             [
              0,
              "#0d0887"
             ],
             [
              0.1111111111111111,
              "#46039f"
             ],
             [
              0.2222222222222222,
              "#7201a8"
             ],
             [
              0.3333333333333333,
              "#9c179e"
             ],
             [
              0.4444444444444444,
              "#bd3786"
             ],
             [
              0.5555555555555556,
              "#d8576b"
             ],
             [
              0.6666666666666666,
              "#ed7953"
             ],
             [
              0.7777777777777778,
              "#fb9f3a"
             ],
             [
              0.8888888888888888,
              "#fdca26"
             ],
             [
              1,
              "#f0f921"
             ]
            ],
            "type": "histogram2dcontour"
           }
          ],
          "mesh3d": [
           {
            "colorbar": {
             "outlinewidth": 0,
             "ticks": ""
            },
            "type": "mesh3d"
           }
          ],
          "parcoords": [
           {
            "line": {
             "colorbar": {
              "outlinewidth": 0,
              "ticks": ""
             }
            },
            "type": "parcoords"
           }
          ],
          "pie": [
           {
            "automargin": true,
            "type": "pie"
           }
          ],
          "scatter": [
           {
            "marker": {
             "colorbar": {
              "outlinewidth": 0,
              "ticks": ""
             }
            },
            "type": "scatter"
           }
          ],
          "scatter3d": [
           {
            "line": {
             "colorbar": {
              "outlinewidth": 0,
              "ticks": ""
             }
            },
            "marker": {
             "colorbar": {
              "outlinewidth": 0,
              "ticks": ""
             }
            },
            "type": "scatter3d"
           }
          ],
          "scattercarpet": [
           {
            "marker": {
             "colorbar": {
              "outlinewidth": 0,
              "ticks": ""
             }
            },
            "type": "scattercarpet"
           }
          ],
          "scattergeo": [
           {
            "marker": {
             "colorbar": {
              "outlinewidth": 0,
              "ticks": ""
             }
            },
            "type": "scattergeo"
           }
          ],
          "scattergl": [
           {
            "marker": {
             "colorbar": {
              "outlinewidth": 0,
              "ticks": ""
             }
            },
            "type": "scattergl"
           }
          ],
          "scattermapbox": [
           {
            "marker": {
             "colorbar": {
              "outlinewidth": 0,
              "ticks": ""
             }
            },
            "type": "scattermapbox"
           }
          ],
          "scatterpolar": [
           {
            "marker": {
             "colorbar": {
              "outlinewidth": 0,
              "ticks": ""
             }
            },
            "type": "scatterpolar"
           }
          ],
          "scatterpolargl": [
           {
            "marker": {
             "colorbar": {
              "outlinewidth": 0,
              "ticks": ""
             }
            },
            "type": "scatterpolargl"
           }
          ],
          "scatterternary": [
           {
            "marker": {
             "colorbar": {
              "outlinewidth": 0,
              "ticks": ""
             }
            },
            "type": "scatterternary"
           }
          ],
          "surface": [
           {
            "colorbar": {
             "outlinewidth": 0,
             "ticks": ""
            },
            "colorscale": [
             [
              0,
              "#0d0887"
             ],
             [
              0.1111111111111111,
              "#46039f"
             ],
             [
              0.2222222222222222,
              "#7201a8"
             ],
             [
              0.3333333333333333,
              "#9c179e"
             ],
             [
              0.4444444444444444,
              "#bd3786"
             ],
             [
              0.5555555555555556,
              "#d8576b"
             ],
             [
              0.6666666666666666,
              "#ed7953"
             ],
             [
              0.7777777777777778,
              "#fb9f3a"
             ],
             [
              0.8888888888888888,
              "#fdca26"
             ],
             [
              1,
              "#f0f921"
             ]
            ],
            "type": "surface"
           }
          ],
          "table": [
           {
            "cells": {
             "fill": {
              "color": "#EBF0F8"
             },
             "line": {
              "color": "white"
             }
            },
            "header": {
             "fill": {
              "color": "#C8D4E3"
             },
             "line": {
              "color": "white"
             }
            },
            "type": "table"
           }
          ]
         },
         "layout": {
          "annotationdefaults": {
           "arrowcolor": "#2a3f5f",
           "arrowhead": 0,
           "arrowwidth": 1
          },
          "autotypenumbers": "strict",
          "coloraxis": {
           "colorbar": {
            "outlinewidth": 0,
            "ticks": ""
           }
          },
          "colorscale": {
           "diverging": [
            [
             0,
             "#8e0152"
            ],
            [
             0.1,
             "#c51b7d"
            ],
            [
             0.2,
             "#de77ae"
            ],
            [
             0.3,
             "#f1b6da"
            ],
            [
             0.4,
             "#fde0ef"
            ],
            [
             0.5,
             "#f7f7f7"
            ],
            [
             0.6,
             "#e6f5d0"
            ],
            [
             0.7,
             "#b8e186"
            ],
            [
             0.8,
             "#7fbc41"
            ],
            [
             0.9,
             "#4d9221"
            ],
            [
             1,
             "#276419"
            ]
           ],
           "sequential": [
            [
             0,
             "#0d0887"
            ],
            [
             0.1111111111111111,
             "#46039f"
            ],
            [
             0.2222222222222222,
             "#7201a8"
            ],
            [
             0.3333333333333333,
             "#9c179e"
            ],
            [
             0.4444444444444444,
             "#bd3786"
            ],
            [
             0.5555555555555556,
             "#d8576b"
            ],
            [
             0.6666666666666666,
             "#ed7953"
            ],
            [
             0.7777777777777778,
             "#fb9f3a"
            ],
            [
             0.8888888888888888,
             "#fdca26"
            ],
            [
             1,
             "#f0f921"
            ]
           ],
           "sequentialminus": [
            [
             0,
             "#0d0887"
            ],
            [
             0.1111111111111111,
             "#46039f"
            ],
            [
             0.2222222222222222,
             "#7201a8"
            ],
            [
             0.3333333333333333,
             "#9c179e"
            ],
            [
             0.4444444444444444,
             "#bd3786"
            ],
            [
             0.5555555555555556,
             "#d8576b"
            ],
            [
             0.6666666666666666,
             "#ed7953"
            ],
            [
             0.7777777777777778,
             "#fb9f3a"
            ],
            [
             0.8888888888888888,
             "#fdca26"
            ],
            [
             1,
             "#f0f921"
            ]
           ]
          },
          "colorway": [
           "#636efa",
           "#EF553B",
           "#00cc96",
           "#ab63fa",
           "#FFA15A",
           "#19d3f3",
           "#FF6692",
           "#B6E880",
           "#FF97FF",
           "#FECB52"
          ],
          "font": {
           "color": "#2a3f5f"
          },
          "geo": {
           "bgcolor": "white",
           "lakecolor": "white",
           "landcolor": "#E5ECF6",
           "showlakes": true,
           "showland": true,
           "subunitcolor": "white"
          },
          "hoverlabel": {
           "align": "left"
          },
          "hovermode": "closest",
          "mapbox": {
           "style": "light"
          },
          "paper_bgcolor": "white",
          "plot_bgcolor": "#E5ECF6",
          "polar": {
           "angularaxis": {
            "gridcolor": "white",
            "linecolor": "white",
            "ticks": ""
           },
           "bgcolor": "#E5ECF6",
           "radialaxis": {
            "gridcolor": "white",
            "linecolor": "white",
            "ticks": ""
           }
          },
          "scene": {
           "xaxis": {
            "backgroundcolor": "#E5ECF6",
            "gridcolor": "white",
            "gridwidth": 2,
            "linecolor": "white",
            "showbackground": true,
            "ticks": "",
            "zerolinecolor": "white"
           },
           "yaxis": {
            "backgroundcolor": "#E5ECF6",
            "gridcolor": "white",
            "gridwidth": 2,
            "linecolor": "white",
            "showbackground": true,
            "ticks": "",
            "zerolinecolor": "white"
           },
           "zaxis": {
            "backgroundcolor": "#E5ECF6",
            "gridcolor": "white",
            "gridwidth": 2,
            "linecolor": "white",
            "showbackground": true,
            "ticks": "",
            "zerolinecolor": "white"
           }
          },
          "shapedefaults": {
           "line": {
            "color": "#2a3f5f"
           }
          },
          "ternary": {
           "aaxis": {
            "gridcolor": "white",
            "linecolor": "white",
            "ticks": ""
           },
           "baxis": {
            "gridcolor": "white",
            "linecolor": "white",
            "ticks": ""
           },
           "bgcolor": "#E5ECF6",
           "caxis": {
            "gridcolor": "white",
            "linecolor": "white",
            "ticks": ""
           }
          },
          "title": {
           "x": 0.05
          },
          "xaxis": {
           "automargin": true,
           "gridcolor": "white",
           "linecolor": "white",
           "ticks": "",
           "title": {
            "standoff": 15
           },
           "zerolinecolor": "white",
           "zerolinewidth": 2
          },
          "yaxis": {
           "automargin": true,
           "gridcolor": "white",
           "linecolor": "white",
           "ticks": "",
           "title": {
            "standoff": 15
           },
           "zerolinecolor": "white",
           "zerolinewidth": 2
          }
         }
        },
        "title": {
         "text": "Heart Disease Presence by Chest Pain Type"
        },
        "xaxis": {
         "anchor": "y",
         "domain": [
          0,
          1
         ],
         "ticktext": [
          "Typical Angina",
          "Atypical Angina",
          "Non-Anginal",
          "Asymptomatic"
         ],
         "tickvals": [
          0,
          1,
          2,
          3
         ],
         "title": {
          "text": "Chest Pain Type"
         }
        },
        "yaxis": {
         "anchor": "x",
         "domain": [
          0,
          1
         ],
         "title": {
          "text": "Count"
         }
        }
       }
      },
      "text/html": [
       "<div>                            <div id=\"9aa62c92-90a1-4104-8136-a10fbc1cb459\" class=\"plotly-graph-div\" style=\"height:525px; width:100%;\"></div>            <script type=\"text/javascript\">                require([\"plotly\"], function(Plotly) {                    window.PLOTLYENV=window.PLOTLYENV || {};                                    if (document.getElementById(\"9aa62c92-90a1-4104-8136-a10fbc1cb459\")) {                    Plotly.newPlot(                        \"9aa62c92-90a1-4104-8136-a10fbc1cb459\",                        [{\"alignmentgroup\": \"True\", \"hovertemplate\": \"variable=0<br>Chest Pain Type=%{x}<br>value=%{y}<extra></extra>\", \"legendgroup\": \"0\", \"marker\": {\"color\": \"#636efa\"}, \"name\": \"0\", \"offsetgroup\": \"0\", \"orientation\": \"v\", \"showlegend\": true, \"textposition\": \"auto\", \"type\": \"bar\", \"x\": [0, 1, 2, 3], \"xaxis\": \"x\", \"y\": [375, 33, 65, 26], \"yaxis\": \"y\"}, {\"alignmentgroup\": \"True\", \"hovertemplate\": \"variable=1<br>Chest Pain Type=%{x}<br>value=%{y}<extra></extra>\", \"legendgroup\": \"1\", \"marker\": {\"color\": \"#EF553B\"}, \"name\": \"1\", \"offsetgroup\": \"1\", \"orientation\": \"v\", \"showlegend\": true, \"textposition\": \"auto\", \"type\": \"bar\", \"x\": [0, 1, 2, 3], \"xaxis\": \"x\", \"y\": [122, 134, 219, 51], \"yaxis\": \"y\"}],                        {\"annotations\": [{\"showarrow\": false, \"text\": \"Chi-squared test statistic: 280.98<br>P-value: 0.0\", \"x\": 0.5, \"xref\": \"paper\", \"y\": 1.08, \"yref\": \"paper\"}], \"barmode\": \"group\", \"legend\": {\"title\": {\"text\": \"variable\"}, \"tracegroupgap\": 0}, \"template\": {\"data\": {\"bar\": [{\"error_x\": {\"color\": \"#2a3f5f\"}, \"error_y\": {\"color\": \"#2a3f5f\"}, \"marker\": {\"line\": {\"color\": \"#E5ECF6\", \"width\": 0.5}}, \"type\": \"bar\"}], \"barpolar\": [{\"marker\": {\"line\": {\"color\": \"#E5ECF6\", \"width\": 0.5}}, \"type\": \"barpolar\"}], \"carpet\": [{\"aaxis\": {\"endlinecolor\": \"#2a3f5f\", \"gridcolor\": \"white\", \"linecolor\": \"white\", \"minorgridcolor\": \"white\", \"startlinecolor\": \"#2a3f5f\"}, \"baxis\": {\"endlinecolor\": \"#2a3f5f\", \"gridcolor\": \"white\", \"linecolor\": \"white\", \"minorgridcolor\": \"white\", \"startlinecolor\": \"#2a3f5f\"}, \"type\": \"carpet\"}], \"choropleth\": [{\"colorbar\": {\"outlinewidth\": 0, \"ticks\": \"\"}, \"type\": \"choropleth\"}], \"contour\": [{\"colorbar\": {\"outlinewidth\": 0, \"ticks\": \"\"}, \"colorscale\": [[0.0, \"#0d0887\"], [0.1111111111111111, \"#46039f\"], [0.2222222222222222, \"#7201a8\"], [0.3333333333333333, \"#9c179e\"], [0.4444444444444444, \"#bd3786\"], [0.5555555555555556, \"#d8576b\"], [0.6666666666666666, \"#ed7953\"], [0.7777777777777778, \"#fb9f3a\"], [0.8888888888888888, \"#fdca26\"], [1.0, \"#f0f921\"]], \"type\": \"contour\"}], \"contourcarpet\": [{\"colorbar\": {\"outlinewidth\": 0, \"ticks\": \"\"}, \"type\": \"contourcarpet\"}], \"heatmap\": [{\"colorbar\": {\"outlinewidth\": 0, \"ticks\": \"\"}, \"colorscale\": [[0.0, \"#0d0887\"], [0.1111111111111111, \"#46039f\"], [0.2222222222222222, \"#7201a8\"], [0.3333333333333333, \"#9c179e\"], [0.4444444444444444, \"#bd3786\"], [0.5555555555555556, \"#d8576b\"], [0.6666666666666666, \"#ed7953\"], [0.7777777777777778, \"#fb9f3a\"], [0.8888888888888888, \"#fdca26\"], [1.0, \"#f0f921\"]], \"type\": \"heatmap\"}], \"heatmapgl\": [{\"colorbar\": {\"outlinewidth\": 0, \"ticks\": \"\"}, \"colorscale\": [[0.0, \"#0d0887\"], [0.1111111111111111, \"#46039f\"], [0.2222222222222222, \"#7201a8\"], [0.3333333333333333, \"#9c179e\"], [0.4444444444444444, \"#bd3786\"], [0.5555555555555556, \"#d8576b\"], [0.6666666666666666, \"#ed7953\"], [0.7777777777777778, \"#fb9f3a\"], [0.8888888888888888, \"#fdca26\"], [1.0, \"#f0f921\"]], \"type\": \"heatmapgl\"}], \"histogram\": [{\"marker\": {\"colorbar\": {\"outlinewidth\": 0, \"ticks\": \"\"}}, \"type\": \"histogram\"}], \"histogram2d\": [{\"colorbar\": {\"outlinewidth\": 0, \"ticks\": \"\"}, \"colorscale\": [[0.0, \"#0d0887\"], [0.1111111111111111, \"#46039f\"], [0.2222222222222222, \"#7201a8\"], [0.3333333333333333, \"#9c179e\"], [0.4444444444444444, \"#bd3786\"], [0.5555555555555556, \"#d8576b\"], [0.6666666666666666, \"#ed7953\"], [0.7777777777777778, \"#fb9f3a\"], [0.8888888888888888, \"#fdca26\"], [1.0, \"#f0f921\"]], \"type\": \"histogram2d\"}], \"histogram2dcontour\": [{\"colorbar\": {\"outlinewidth\": 0, \"ticks\": \"\"}, \"colorscale\": [[0.0, \"#0d0887\"], [0.1111111111111111, \"#46039f\"], [0.2222222222222222, \"#7201a8\"], [0.3333333333333333, \"#9c179e\"], [0.4444444444444444, \"#bd3786\"], [0.5555555555555556, \"#d8576b\"], [0.6666666666666666, \"#ed7953\"], [0.7777777777777778, \"#fb9f3a\"], [0.8888888888888888, \"#fdca26\"], [1.0, \"#f0f921\"]], \"type\": \"histogram2dcontour\"}], \"mesh3d\": [{\"colorbar\": {\"outlinewidth\": 0, \"ticks\": \"\"}, \"type\": \"mesh3d\"}], \"parcoords\": [{\"line\": {\"colorbar\": {\"outlinewidth\": 0, \"ticks\": \"\"}}, \"type\": \"parcoords\"}], \"pie\": [{\"automargin\": true, \"type\": \"pie\"}], \"scatter\": [{\"marker\": {\"colorbar\": {\"outlinewidth\": 0, \"ticks\": \"\"}}, \"type\": \"scatter\"}], \"scatter3d\": [{\"line\": {\"colorbar\": {\"outlinewidth\": 0, \"ticks\": \"\"}}, \"marker\": {\"colorbar\": {\"outlinewidth\": 0, \"ticks\": \"\"}}, \"type\": \"scatter3d\"}], \"scattercarpet\": [{\"marker\": {\"colorbar\": {\"outlinewidth\": 0, \"ticks\": \"\"}}, \"type\": \"scattercarpet\"}], \"scattergeo\": [{\"marker\": {\"colorbar\": {\"outlinewidth\": 0, \"ticks\": \"\"}}, \"type\": \"scattergeo\"}], \"scattergl\": [{\"marker\": {\"colorbar\": {\"outlinewidth\": 0, \"ticks\": \"\"}}, \"type\": \"scattergl\"}], \"scattermapbox\": [{\"marker\": {\"colorbar\": {\"outlinewidth\": 0, \"ticks\": \"\"}}, \"type\": \"scattermapbox\"}], \"scatterpolar\": [{\"marker\": {\"colorbar\": {\"outlinewidth\": 0, \"ticks\": \"\"}}, \"type\": \"scatterpolar\"}], \"scatterpolargl\": [{\"marker\": {\"colorbar\": {\"outlinewidth\": 0, \"ticks\": \"\"}}, \"type\": \"scatterpolargl\"}], \"scatterternary\": [{\"marker\": {\"colorbar\": {\"outlinewidth\": 0, \"ticks\": \"\"}}, \"type\": \"scatterternary\"}], \"surface\": [{\"colorbar\": {\"outlinewidth\": 0, \"ticks\": \"\"}, \"colorscale\": [[0.0, \"#0d0887\"], [0.1111111111111111, \"#46039f\"], [0.2222222222222222, \"#7201a8\"], [0.3333333333333333, \"#9c179e\"], [0.4444444444444444, \"#bd3786\"], [0.5555555555555556, \"#d8576b\"], [0.6666666666666666, \"#ed7953\"], [0.7777777777777778, \"#fb9f3a\"], [0.8888888888888888, \"#fdca26\"], [1.0, \"#f0f921\"]], \"type\": \"surface\"}], \"table\": [{\"cells\": {\"fill\": {\"color\": \"#EBF0F8\"}, \"line\": {\"color\": \"white\"}}, \"header\": {\"fill\": {\"color\": \"#C8D4E3\"}, \"line\": {\"color\": \"white\"}}, \"type\": \"table\"}]}, \"layout\": {\"annotationdefaults\": {\"arrowcolor\": \"#2a3f5f\", \"arrowhead\": 0, \"arrowwidth\": 1}, \"autotypenumbers\": \"strict\", \"coloraxis\": {\"colorbar\": {\"outlinewidth\": 0, \"ticks\": \"\"}}, \"colorscale\": {\"diverging\": [[0, \"#8e0152\"], [0.1, \"#c51b7d\"], [0.2, \"#de77ae\"], [0.3, \"#f1b6da\"], [0.4, \"#fde0ef\"], [0.5, \"#f7f7f7\"], [0.6, \"#e6f5d0\"], [0.7, \"#b8e186\"], [0.8, \"#7fbc41\"], [0.9, \"#4d9221\"], [1, \"#276419\"]], \"sequential\": [[0.0, \"#0d0887\"], [0.1111111111111111, \"#46039f\"], [0.2222222222222222, \"#7201a8\"], [0.3333333333333333, \"#9c179e\"], [0.4444444444444444, \"#bd3786\"], [0.5555555555555556, \"#d8576b\"], [0.6666666666666666, \"#ed7953\"], [0.7777777777777778, \"#fb9f3a\"], [0.8888888888888888, \"#fdca26\"], [1.0, \"#f0f921\"]], \"sequentialminus\": [[0.0, \"#0d0887\"], [0.1111111111111111, \"#46039f\"], [0.2222222222222222, \"#7201a8\"], [0.3333333333333333, \"#9c179e\"], [0.4444444444444444, \"#bd3786\"], [0.5555555555555556, \"#d8576b\"], [0.6666666666666666, \"#ed7953\"], [0.7777777777777778, \"#fb9f3a\"], [0.8888888888888888, \"#fdca26\"], [1.0, \"#f0f921\"]]}, \"colorway\": [\"#636efa\", \"#EF553B\", \"#00cc96\", \"#ab63fa\", \"#FFA15A\", \"#19d3f3\", \"#FF6692\", \"#B6E880\", \"#FF97FF\", \"#FECB52\"], \"font\": {\"color\": \"#2a3f5f\"}, \"geo\": {\"bgcolor\": \"white\", \"lakecolor\": \"white\", \"landcolor\": \"#E5ECF6\", \"showlakes\": true, \"showland\": true, \"subunitcolor\": \"white\"}, \"hoverlabel\": {\"align\": \"left\"}, \"hovermode\": \"closest\", \"mapbox\": {\"style\": \"light\"}, \"paper_bgcolor\": \"white\", \"plot_bgcolor\": \"#E5ECF6\", \"polar\": {\"angularaxis\": {\"gridcolor\": \"white\", \"linecolor\": \"white\", \"ticks\": \"\"}, \"bgcolor\": \"#E5ECF6\", \"radialaxis\": {\"gridcolor\": \"white\", \"linecolor\": \"white\", \"ticks\": \"\"}}, \"scene\": {\"xaxis\": {\"backgroundcolor\": \"#E5ECF6\", \"gridcolor\": \"white\", \"gridwidth\": 2, \"linecolor\": \"white\", \"showbackground\": true, \"ticks\": \"\", \"zerolinecolor\": \"white\"}, \"yaxis\": {\"backgroundcolor\": \"#E5ECF6\", \"gridcolor\": \"white\", \"gridwidth\": 2, \"linecolor\": \"white\", \"showbackground\": true, \"ticks\": \"\", \"zerolinecolor\": \"white\"}, \"zaxis\": {\"backgroundcolor\": \"#E5ECF6\", \"gridcolor\": \"white\", \"gridwidth\": 2, \"linecolor\": \"white\", \"showbackground\": true, \"ticks\": \"\", \"zerolinecolor\": \"white\"}}, \"shapedefaults\": {\"line\": {\"color\": \"#2a3f5f\"}}, \"ternary\": {\"aaxis\": {\"gridcolor\": \"white\", \"linecolor\": \"white\", \"ticks\": \"\"}, \"baxis\": {\"gridcolor\": \"white\", \"linecolor\": \"white\", \"ticks\": \"\"}, \"bgcolor\": \"#E5ECF6\", \"caxis\": {\"gridcolor\": \"white\", \"linecolor\": \"white\", \"ticks\": \"\"}}, \"title\": {\"x\": 0.05}, \"xaxis\": {\"automargin\": true, \"gridcolor\": \"white\", \"linecolor\": \"white\", \"ticks\": \"\", \"title\": {\"standoff\": 15}, \"zerolinecolor\": \"white\", \"zerolinewidth\": 2}, \"yaxis\": {\"automargin\": true, \"gridcolor\": \"white\", \"linecolor\": \"white\", \"ticks\": \"\", \"title\": {\"standoff\": 15}, \"zerolinecolor\": \"white\", \"zerolinewidth\": 2}}}, \"title\": {\"text\": \"Heart Disease Presence by Chest Pain Type\"}, \"xaxis\": {\"anchor\": \"y\", \"domain\": [0.0, 1.0], \"ticktext\": [\"Typical Angina\", \"Atypical Angina\", \"Non-Anginal\", \"Asymptomatic\"], \"tickvals\": [0, 1, 2, 3], \"title\": {\"text\": \"Chest Pain Type\"}}, \"yaxis\": {\"anchor\": \"x\", \"domain\": [0.0, 1.0], \"title\": {\"text\": \"Count\"}}},                        {\"responsive\": true}                    ).then(function(){\n",
       "                            \n",
       "var gd = document.getElementById('9aa62c92-90a1-4104-8136-a10fbc1cb459');\n",
       "var x = new MutationObserver(function (mutations, observer) {{\n",
       "        var display = window.getComputedStyle(gd).display;\n",
       "        if (!display || display === 'none') {{\n",
       "            console.log([gd, 'removed!']);\n",
       "            Plotly.purge(gd);\n",
       "            observer.disconnect();\n",
       "        }}\n",
       "}});\n",
       "\n",
       "// Listen for the removal of the full notebook cells\n",
       "var notebookContainer = gd.closest('#notebook-container');\n",
       "if (notebookContainer) {{\n",
       "    x.observe(notebookContainer, {childList: true});\n",
       "}}\n",
       "\n",
       "// Listen for the clearing of the current output cell\n",
       "var outputEl = gd.closest('.output');\n",
       "if (outputEl) {{\n",
       "    x.observe(outputEl, {childList: true});\n",
       "}}\n",
       "\n",
       "                        })                };                });            </script>        </div>"
      ]
     },
     "metadata": {},
     "output_type": "display_data"
    }
   ],
   "source": [
    "import plotly.graph_objects as go\n",
    "import scipy.stats as stats\n",
    "\n",
    "# Group data by chest pain type and calculate the count of heart disease cases and non-cases\n",
    "cp_heart_disease = heart.groupby(['cp', 'disease'])['disease'].count().unstack()\n",
    "\n",
    "# Create a grouped bar chart using Plotly Express\n",
    "fig = px.bar(cp_heart_disease, x=cp_heart_disease.index, y=[0, 1], title='Heart Disease Presence by Chest Pain Type', labels={'cp': 'Chest Pain Type'})\n",
    "fig.update_layout(barmode='group', xaxis_title='Chest Pain Type', yaxis_title='Count')\n",
    "fig.update_xaxes(tickvals=[0, 1, 2, 3], ticktext=['Typical Angina', 'Atypical Angina', 'Non-Anginal', 'Asymptomatic'])\n",
    "\n",
    "# Perform a chi-squared test for chest pain type and heart disease presence\n",
    "chi2, p, _, _ = stats.chi2_contingency(cp_heart_disease)\n",
    "chi2 = round(chi2, 2)\n",
    "p = round(p, 5)\n",
    "test_result = f\"Chi-squared test statistic: {chi2}<br>P-value: {p}\"\n",
    "\n",
    "# Add a text annotation with the chi-squared test results\n",
    "fig.add_annotation(\n",
    "    go.layout.Annotation(\n",
    "        text=test_result,\n",
    "        x=0.5, y=1.08,\n",
    "        showarrow=False,\n",
    "        xref='paper', yref='paper'\n",
    "    )\n",
    ")\n",
    "\n",
    "fig.show()\n"
   ]
  },
  {
   "cell_type": "markdown",
   "id": "dd9e0a8a",
   "metadata": {},
   "source": [
    "This implies that chest pain type is a significant factor in predicting heart disease, and there is substantial evidence supporting the claim that chest pain type is associated with heart disease presence in the dataset."
   ]
  },
  {
   "cell_type": "markdown",
   "id": "137aa1e3",
   "metadata": {},
   "source": [
    "The type of chest pain (cp) experienced by individuals is associated with heart disease presence.\n",
    "Certain chest pain types, such as \"Atypical Angina\" and \"Non-Anginal,\" are more strongly associated with heart disease than others."
   ]
  },
  {
   "cell_type": "code",
   "execution_count": 48,
   "id": "e84e581a",
   "metadata": {
    "scrolled": true
   },
   "outputs": [
    {
     "data": {
      "application/vnd.plotly.v1+json": {
       "config": {
        "plotlyServerURL": "https://plot.ly"
       },
       "data": [
        {
         "alignmentgroup": "True",
         "hovertemplate": "Exercise-Induced Angina=%{x}<br>index=%{y}<br>Heart Disease Presence=%{marker.color}<extra></extra>",
         "legendgroup": "",
         "marker": {
          "color": [
           0,
           0,
           0,
           0,
           0,
           1,
           0,
           0,
           0,
           0,
           1,
           0,
           1,
           0,
           0,
           1,
           1,
           0,
           1,
           1,
           0,
           1,
           1,
           1,
           1,
           0,
           1,
           0,
           0,
           0,
           0,
           1,
           0,
           0,
           1,
           0,
           1,
           1,
           1,
           0,
           1,
           1,
           0,
           0,
           1,
           1,
           1,
           0,
           1,
           0,
           1,
           0,
           1,
           0,
           0,
           0,
           1,
           1,
           0,
           0,
           1,
           1,
           0,
           1,
           1,
           0,
           1,
           0,
           1,
           0,
           0,
           0,
           0,
           0,
           0,
           1,
           1,
           0,
           1,
           1,
           0,
           0,
           0,
           1,
           1,
           1,
           1,
           0,
           0,
           0,
           1,
           1,
           0,
           0,
           1,
           1,
           1,
           0,
           0,
           1,
           1,
           1,
           1,
           1,
           1,
           0,
           0,
           0,
           0,
           0,
           0,
           1,
           0,
           0,
           0,
           0,
           0,
           0,
           1,
           1,
           1,
           0,
           0,
           1,
           0,
           1,
           1,
           1,
           1,
           1,
           1,
           1,
           1,
           1,
           1,
           0,
           1,
           1,
           1,
           1,
           0,
           0,
           0,
           1,
           1,
           0,
           1,
           0,
           1,
           1,
           0,
           0,
           0,
           1,
           0,
           1,
           1,
           1,
           1,
           1,
           0,
           1,
           0,
           0,
           0,
           0,
           0,
           1,
           1,
           1,
           1,
           0,
           1,
           1,
           0,
           0,
           0,
           0,
           0,
           0,
           0,
           1,
           0,
           1,
           1,
           0,
           0,
           0,
           0,
           0,
           1,
           1,
           1,
           1,
           0,
           1,
           0,
           1,
           1,
           0,
           1,
           1,
           1,
           1,
           1,
           1,
           0,
           1,
           1,
           0,
           1,
           0,
           0,
           1,
           1,
           1,
           0,
           1,
           0,
           0,
           0,
           0,
           1,
           1,
           1,
           1,
           0,
           1,
           1,
           0,
           0,
           1,
           0,
           1,
           1,
           1,
           0,
           0,
           0,
           0,
           1,
           0,
           1,
           0,
           1,
           1,
           0,
           0,
           1,
           1,
           0,
           1,
           0,
           0,
           0,
           1,
           1,
           1,
           0,
           1,
           1,
           1,
           1,
           1,
           0,
           1,
           0,
           0,
           0,
           1,
           1,
           1,
           1,
           0,
           1,
           0,
           1,
           1,
           0,
           1,
           1,
           1,
           1,
           1,
           0,
           1,
           1,
           1,
           1,
           0,
           1,
           0,
           1,
           1,
           0,
           0,
           0,
           0,
           1,
           1,
           1,
           1,
           1,
           0,
           1,
           0,
           1,
           1,
           0,
           1,
           0,
           0,
           0,
           1,
           1,
           1,
           1,
           1,
           0,
           1,
           1,
           1,
           0,
           0,
           1,
           1,
           0,
           0,
           0,
           1,
           1,
           0,
           1,
           1,
           0,
           0,
           1,
           1,
           0,
           0,
           1,
           1,
           1,
           1,
           1,
           0,
           0,
           1,
           0,
           0,
           1,
           0,
           0,
           1,
           0,
           1,
           0,
           0,
           0,
           1,
           1,
           1,
           1,
           1,
           0,
           1,
           0,
           0,
           1,
           1,
           0,
           0,
           1,
           0,
           1,
           1,
           1,
           1,
           0,
           1,
           0,
           0,
           0,
           0,
           0,
           1,
           1,
           0,
           0,
           1,
           0,
           0,
           1,
           0,
           0,
           1,
           0,
           0,
           1,
           1,
           0,
           1,
           1,
           1,
           0,
           0,
           1,
           0,
           1,
           0,
           1,
           0,
           0,
           0,
           0,
           1,
           1,
           1,
           1,
           1,
           1,
           1,
           1,
           0,
           0,
           0,
           1,
           1,
           0,
           0,
           0,
           0,
           1,
           1,
           1,
           1,
           0,
           0,
           1,
           0,
           0,
           0,
           0,
           1,
           1,
           1,
           1,
           0,
           1,
           0,
           0,
           1,
           0,
           1,
           0,
           1,
           0,
           1,
           1,
           1,
           0,
           1,
           1,
           1,
           1,
           1,
           1,
           0,
           1,
           0,
           1,
           1,
           1,
           1,
           0,
           1,
           0,
           0,
           1,
           0,
           0,
           0,
           0,
           1,
           0,
           0,
           0,
           0,
           1,
           1,
           1,
           1,
           0,
           0,
           1,
           1,
           0,
           0,
           1,
           1,
           1,
           1,
           1,
           1,
           0,
           1,
           0,
           1,
           0,
           0,
           1,
           0,
           0,
           0,
           1,
           0,
           0,
           1,
           0,
           0,
           0,
           1,
           1,
           0,
           0,
           1,
           0,
           1,
           1,
           1,
           0,
           1,
           0,
           1,
           1,
           1,
           1,
           1,
           0,
           1,
           0,
           1,
           1,
           0,
           1,
           0,
           0,
           1,
           1,
           1,
           0,
           0,
           0,
           1,
           0,
           0,
           0,
           1,
           1,
           0,
           1,
           1,
           1,
           0,
           0,
           1,
           1,
           1,
           1,
           1,
           1,
           0,
           1,
           0,
           0,
           1,
           1,
           0,
           1,
           0,
           1,
           1,
           1,
           0,
           0,
           1,
           0,
           0,
           0,
           0,
           1,
           0,
           0,
           0,
           0,
           0,
           1,
           1,
           0,
           1,
           0,
           0,
           1,
           1,
           1,
           1,
           0,
           0,
           0,
           0,
           0,
           0,
           0,
           0,
           0,
           1,
           1,
           1,
           1,
           0,
           0,
           0,
           0,
           0,
           1,
           0,
           0,
           0,
           1,
           0,
           0,
           1,
           1,
           0,
           0,
           1,
           0,
           1,
           0,
           1,
           1,
           0,
           1,
           1,
           1,
           0,
           0,
           1,
           1,
           1,
           0,
           1,
           1,
           0,
           1,
           1,
           0,
           1,
           0,
           1,
           0,
           0,
           1,
           1,
           1,
           1,
           1,
           0,
           1,
           0,
           0,
           0,
           1,
           1,
           0,
           0,
           0,
           0,
           1,
           0,
           1,
           0,
           0,
           0,
           0,
           0,
           0,
           0,
           0,
           1,
           1,
           1,
           0,
           1,
           0,
           0,
           1,
           0,
           0,
           0,
           1,
           0,
           1,
           1,
           1,
           0,
           0,
           1,
           1,
           0,
           1,
           0,
           1,
           1,
           1,
           1,
           0,
           0,
           1,
           1,
           0,
           1,
           1,
           1,
           1,
           0,
           0,
           1,
           0,
           1,
           1,
           0,
           1,
           1,
           0,
           1,
           0,
           0,
           0,
           0,
           1,
           1,
           0,
           1,
           1,
           1,
           0,
           0,
           1,
           1,
           1,
           1,
           1,
           1,
           1,
           1,
           0,
           1,
           1,
           0,
           0,
           1,
           1,
           1,
           0,
           0,
           0,
           0,
           1,
           1,
           1,
           1,
           0,
           0,
           1,
           1,
           0,
           0,
           0,
           1,
           0,
           0,
           1,
           1,
           1,
           0,
           0,
           0,
           0,
           0,
           0,
           0,
           0,
           1,
           0,
           1,
           1,
           0,
           0,
           1,
           0,
           1,
           0,
           0,
           1,
           1,
           0,
           1,
           1,
           1,
           0,
           0,
           0,
           0,
           1,
           1,
           1,
           1,
           1,
           0,
           0,
           0,
           0,
           1,
           0,
           1,
           1,
           0,
           1,
           0,
           1,
           1,
           1,
           0,
           0,
           0,
           1,
           1,
           1,
           1,
           0,
           1,
           0,
           0,
           0,
           0,
           1,
           0,
           1,
           0,
           0,
           1,
           0,
           0,
           0,
           1,
           1,
           1,
           1,
           0,
           0,
           0,
           0,
           0,
           0,
           1,
           1,
           1,
           1,
           1,
           1,
           1,
           1,
           1,
           0,
           0,
           0,
           1,
           0,
           1,
           1,
           0,
           0,
           0,
           0,
           0,
           0,
           1,
           0,
           0,
           0,
           1,
           0,
           0,
           0,
           0,
           1,
           1,
           1,
           1,
           0,
           1,
           0,
           0,
           1,
           0,
           1,
           1,
           0,
           0,
           0,
           0,
           0,
           1,
           0,
           0,
           0,
           1,
           0,
           0,
           0,
           0,
           1,
           1,
           0,
           0,
           0,
           1,
           0,
           0,
           0,
           0,
           1,
           0,
           1,
           1,
           1,
           0,
           1,
           1,
           0,
           1,
           1,
           1,
           0,
           1,
           1,
           1,
           0,
           1,
           0,
           0,
           1,
           1,
           1,
           1,
           1,
           0,
           1,
           1,
           1,
           1,
           1,
           0,
           1,
           1,
           0,
           1,
           0,
           1,
           1,
           1,
           1,
           1,
           1,
           0,
           0,
           1,
           0,
           0,
           1,
           0,
           1,
           1,
           1,
           1,
           0,
           0,
           0,
           1,
           1,
           0,
           1,
           0,
           0,
           1,
           0,
           0,
           0,
           0,
           0,
           1,
           0,
           1,
           1,
           0,
           1,
           1,
           1,
           0,
           0,
           1,
           0,
           0,
           1,
           0,
           0,
           0,
           0,
           1,
           1,
           0,
           0,
           1,
           0
          ],
          "coloraxis": "coloraxis"
         },
         "name": "Disease",
         "offsetgroup": "",
         "orientation": "h",
         "showlegend": false,
         "textposition": "auto",
         "type": "bar",
         "x": [
          0,
          1,
          1,
          0,
          0,
          0,
          0,
          1,
          0,
          1,
          0,
          1,
          0,
          1,
          1,
          0,
          0,
          1,
          0,
          0,
          0,
          0,
          1,
          0,
          0,
          1,
          1,
          0,
          1,
          1,
          1,
          0,
          1,
          1,
          0,
          0,
          1,
          0,
          1,
          0,
          0,
          0,
          0,
          0,
          0,
          0,
          0,
          1,
          0,
          1,
          0,
          1,
          0,
          0,
          1,
          1,
          0,
          0,
          0,
          0,
          0,
          0,
          1,
          0,
          0,
          0,
          0,
          1,
          0,
          0,
          1,
          1,
          1,
          1,
          1,
          0,
          0,
          1,
          0,
          0,
          0,
          0,
          0,
          0,
          0,
          0,
          0,
          1,
          0,
          0,
          0,
          0,
          1,
          1,
          0,
          1,
          0,
          1,
          0,
          0,
          0,
          0,
          0,
          0,
          0,
          1,
          1,
          0,
          0,
          1,
          0,
          1,
          1,
          1,
          0,
          1,
          0,
          1,
          0,
          0,
          0,
          1,
          1,
          0,
          1,
          0,
          0,
          0,
          0,
          0,
          0,
          0,
          0,
          0,
          0,
          1,
          0,
          1,
          0,
          0,
          1,
          1,
          0,
          0,
          0,
          1,
          0,
          0,
          0,
          0,
          0,
          0,
          0,
          0,
          1,
          0,
          1,
          0,
          0,
          0,
          1,
          1,
          1,
          0,
          1,
          1,
          1,
          1,
          0,
          0,
          0,
          1,
          0,
          0,
          1,
          1,
          1,
          1,
          0,
          1,
          1,
          1,
          0,
          0,
          0,
          0,
          1,
          1,
          0,
          1,
          0,
          0,
          0,
          0,
          1,
          0,
          0,
          0,
          0,
          1,
          0,
          0,
          0,
          0,
          0,
          0,
          0,
          0,
          0,
          0,
          0,
          1,
          0,
          0,
          0,
          0,
          0,
          0,
          1,
          1,
          0,
          0,
          1,
          0,
          1,
          0,
          0,
          0,
          0,
          1,
          0,
          0,
          1,
          0,
          0,
          0,
          0,
          0,
          1,
          1,
          1,
          0,
          0,
          0,
          0,
          0,
          0,
          1,
          0,
          0,
          1,
          0,
          1,
          0,
          1,
          0,
          0,
          1,
          1,
          0,
          0,
          0,
          0,
          0,
          1,
          1,
          1,
          0,
          0,
          0,
          0,
          0,
          0,
          1,
          0,
          1,
          1,
          0,
          1,
          0,
          0,
          0,
          0,
          1,
          0,
          0,
          0,
          0,
          0,
          0,
          0,
          1,
          1,
          0,
          1,
          1,
          0,
          1,
          0,
          0,
          0,
          1,
          0,
          1,
          0,
          1,
          0,
          0,
          0,
          0,
          1,
          1,
          1,
          1,
          1,
          0,
          0,
          0,
          1,
          0,
          0,
          0,
          1,
          1,
          0,
          0,
          0,
          1,
          0,
          0,
          0,
          1,
          0,
          0,
          1,
          1,
          0,
          0,
          1,
          1,
          0,
          0,
          0,
          0,
          0,
          1,
          0,
          0,
          1,
          0,
          0,
          1,
          1,
          1,
          0,
          1,
          0,
          1,
          0,
          0,
          0,
          0,
          0,
          0,
          0,
          0,
          0,
          0,
          1,
          0,
          1,
          1,
          0,
          0,
          1,
          0,
          1,
          0,
          0,
          0,
          0,
          0,
          1,
          1,
          1,
          0,
          0,
          1,
          1,
          0,
          0,
          0,
          0,
          0,
          1,
          0,
          1,
          1,
          0,
          0,
          0,
          0,
          0,
          0,
          1,
          1,
          0,
          0,
          1,
          0,
          0,
          1,
          1,
          0,
          0,
          0,
          0,
          0,
          0,
          0,
          0,
          0,
          1,
          0,
          1,
          1,
          0,
          0,
          1,
          0,
          0,
          0,
          0,
          0,
          1,
          1,
          1,
          1,
          0,
          0,
          1,
          0,
          1,
          0,
          0,
          0,
          0,
          1,
          0,
          0,
          0,
          0,
          1,
          0,
          0,
          0,
          0,
          0,
          0,
          1,
          0,
          0,
          0,
          0,
          0,
          0,
          0,
          1,
          1,
          1,
          0,
          0,
          0,
          0,
          0,
          0,
          0,
          0,
          0,
          1,
          1,
          0,
          1,
          0,
          0,
          0,
          0,
          0,
          1,
          1,
          0,
          0,
          1,
          1,
          0,
          0,
          1,
          0,
          0,
          1,
          0,
          0,
          1,
          0,
          0,
          0,
          1,
          0,
          1,
          1,
          1,
          1,
          0,
          1,
          0,
          0,
          1,
          0,
          0,
          0,
          1,
          0,
          0,
          0,
          0,
          0,
          0,
          0,
          0,
          0,
          0,
          0,
          1,
          0,
          0,
          0,
          0,
          0,
          0,
          0,
          1,
          0,
          0,
          0,
          0,
          0,
          0,
          0,
          0,
          0,
          0,
          1,
          1,
          0,
          0,
          0,
          1,
          0,
          0,
          0,
          0,
          0,
          0,
          0,
          1,
          0,
          0,
          0,
          0,
          0,
          0,
          1,
          0,
          0,
          1,
          0,
          0,
          0,
          0,
          0,
          0,
          0,
          0,
          1,
          1,
          1,
          1,
          0,
          1,
          1,
          1,
          1,
          1,
          1,
          0,
          0,
          1,
          0,
          0,
          0,
          0,
          1,
          0,
          0,
          0,
          0,
          1,
          1,
          0,
          1,
          1,
          1,
          1,
          1,
          1,
          0,
          0,
          0,
          0,
          0,
          1,
          1,
          0,
          0,
          0,
          0,
          0,
          1,
          0,
          0,
          0,
          0,
          0,
          1,
          0,
          0,
          1,
          0,
          0,
          0,
          1,
          1,
          1,
          0,
          0,
          0,
          0,
          0,
          0,
          0,
          1,
          0,
          0,
          1,
          0,
          0,
          0,
          0,
          1,
          0,
          1,
          0,
          0,
          0,
          0,
          0,
          0,
          0,
          0,
          1,
          0,
          0,
          0,
          0,
          1,
          0,
          1,
          0,
          1,
          1,
          0,
          1,
          0,
          1,
          0,
          0,
          1,
          0,
          1,
          0,
          1,
          0,
          1,
          0,
          0,
          1,
          0,
          0,
          1,
          1,
          0,
          1,
          0,
          1,
          1,
          1,
          0,
          0,
          0,
          0,
          0,
          1,
          0,
          0,
          1,
          0,
          1,
          1,
          0,
          0,
          0,
          0,
          0,
          0,
          1,
          0,
          0,
          0,
          1,
          0,
          0,
          0,
          1,
          0,
          1,
          0,
          1,
          1,
          0,
          1,
          0,
          1,
          1,
          0,
          0,
          1,
          0,
          1,
          0,
          0,
          0,
          0,
          0,
          0,
          0,
          0,
          1,
          0,
          0,
          0,
          1,
          0,
          0,
          0,
          1,
          1,
          1,
          0,
          0,
          0,
          0,
          1,
          1,
          0,
          0,
          1,
          1,
          1,
          0,
          0,
          1,
          0,
          0,
          0,
          0,
          1,
          0,
          1,
          0,
          0,
          1,
          1,
          0,
          0,
          0,
          0,
          0,
          0,
          0,
          0,
          1,
          0,
          1,
          0,
          0,
          1,
          1,
          1,
          1,
          0,
          1,
          0,
          0,
          1,
          0,
          1,
          0,
          0,
          0,
          1,
          1,
          0,
          1,
          0,
          1,
          0,
          0,
          0,
          1,
          1,
          1,
          0,
          0,
          1,
          1,
          0,
          0,
          0,
          1,
          1,
          1,
          0,
          0,
          0,
          0,
          1,
          0,
          1,
          0,
          1,
          0,
          0,
          1,
          1,
          0,
          0,
          0,
          0,
          0,
          1,
          0,
          0,
          0,
          0,
          0,
          0,
          0,
          0,
          0,
          0,
          0,
          0,
          0,
          0,
          0,
          1,
          1,
          0,
          0,
          0,
          1,
          0,
          1,
          0,
          1,
          0,
          1,
          1,
          0,
          0,
          1,
          1,
          1,
          1,
          1,
          0,
          0,
          0,
          0,
          0,
          0,
          0,
          0,
          0,
          0,
          1,
          0,
          0,
          1,
          1,
          0,
          0,
          1,
          1,
          1,
          0,
          0,
          0,
          0,
          1,
          0,
          0,
          0,
          0,
          0,
          1,
          1,
          0,
          1,
          1,
          0,
          0,
          0,
          1,
          0,
          0,
          0,
          0,
          1,
          0,
          1,
          0,
          0,
          0,
          1,
          0,
          0,
          0,
          1,
          1,
          1,
          0,
          0,
          1,
          0,
          0,
          0,
          0,
          0,
          0,
          0,
          0,
          0,
          1,
          0,
          0,
          1,
          0,
          1,
          0,
          0,
          0,
          0,
          0,
          0,
          0,
          1,
          0,
          0,
          1,
          0,
          0,
          0,
          1,
          0,
          0,
          1,
          0,
          0,
          0,
          0,
          1,
          0,
          1,
          1,
          0,
          1,
          0,
          1,
          0,
          0,
          0,
          1,
          0,
          0,
          1,
          0,
          0,
          0,
          0,
          1,
          0,
          0,
          0,
          0,
          1,
          0,
          1,
          0,
          0,
          1,
          1,
          1,
          0,
          0
         ],
         "xaxis": "x",
         "y": [
          0,
          1,
          2,
          3,
          4,
          5,
          6,
          7,
          8,
          9,
          10,
          11,
          12,
          13,
          14,
          15,
          16,
          17,
          18,
          19,
          20,
          21,
          22,
          23,
          24,
          25,
          26,
          27,
          28,
          29,
          30,
          31,
          32,
          33,
          34,
          35,
          36,
          37,
          38,
          39,
          40,
          41,
          42,
          43,
          44,
          45,
          46,
          47,
          48,
          49,
          50,
          51,
          52,
          53,
          54,
          55,
          56,
          57,
          58,
          59,
          60,
          61,
          62,
          63,
          64,
          65,
          66,
          67,
          68,
          69,
          70,
          71,
          72,
          73,
          74,
          75,
          76,
          77,
          78,
          79,
          80,
          81,
          82,
          83,
          84,
          85,
          86,
          87,
          88,
          89,
          90,
          91,
          92,
          93,
          94,
          95,
          96,
          97,
          98,
          99,
          100,
          101,
          102,
          103,
          104,
          105,
          106,
          107,
          108,
          109,
          110,
          111,
          112,
          113,
          114,
          115,
          116,
          117,
          118,
          119,
          120,
          121,
          122,
          123,
          124,
          125,
          126,
          127,
          128,
          129,
          130,
          131,
          132,
          133,
          134,
          135,
          136,
          137,
          138,
          139,
          140,
          141,
          142,
          143,
          144,
          145,
          146,
          147,
          148,
          149,
          150,
          151,
          152,
          153,
          154,
          155,
          156,
          157,
          158,
          159,
          160,
          161,
          162,
          163,
          164,
          165,
          166,
          167,
          168,
          169,
          170,
          171,
          172,
          173,
          174,
          175,
          176,
          177,
          178,
          179,
          180,
          181,
          182,
          183,
          184,
          185,
          186,
          187,
          188,
          189,
          190,
          191,
          192,
          193,
          194,
          195,
          196,
          197,
          198,
          199,
          200,
          201,
          202,
          203,
          204,
          205,
          206,
          207,
          208,
          209,
          210,
          211,
          212,
          213,
          214,
          215,
          216,
          217,
          218,
          219,
          220,
          221,
          222,
          223,
          224,
          225,
          226,
          227,
          228,
          229,
          230,
          231,
          232,
          233,
          234,
          235,
          236,
          237,
          238,
          239,
          240,
          241,
          242,
          243,
          244,
          245,
          246,
          247,
          248,
          249,
          250,
          251,
          252,
          253,
          254,
          255,
          256,
          257,
          258,
          259,
          260,
          261,
          262,
          263,
          264,
          265,
          266,
          267,
          268,
          269,
          270,
          271,
          272,
          273,
          274,
          275,
          276,
          277,
          278,
          279,
          280,
          281,
          282,
          283,
          284,
          285,
          286,
          287,
          288,
          289,
          290,
          291,
          292,
          293,
          294,
          295,
          296,
          297,
          298,
          299,
          300,
          301,
          302,
          303,
          304,
          305,
          306,
          307,
          308,
          309,
          310,
          311,
          312,
          313,
          314,
          315,
          316,
          317,
          318,
          319,
          320,
          321,
          322,
          323,
          324,
          325,
          326,
          327,
          328,
          329,
          330,
          331,
          332,
          333,
          334,
          335,
          336,
          337,
          338,
          339,
          340,
          341,
          342,
          343,
          344,
          345,
          346,
          347,
          348,
          349,
          350,
          351,
          352,
          353,
          354,
          355,
          356,
          357,
          358,
          359,
          360,
          361,
          362,
          363,
          364,
          365,
          366,
          367,
          368,
          369,
          370,
          371,
          372,
          373,
          374,
          375,
          376,
          377,
          378,
          379,
          380,
          381,
          382,
          383,
          384,
          385,
          386,
          387,
          388,
          389,
          390,
          391,
          392,
          393,
          394,
          395,
          396,
          397,
          398,
          399,
          400,
          401,
          402,
          403,
          404,
          405,
          406,
          407,
          408,
          409,
          410,
          411,
          412,
          413,
          414,
          415,
          416,
          417,
          418,
          419,
          420,
          421,
          422,
          423,
          424,
          425,
          426,
          427,
          428,
          429,
          430,
          431,
          432,
          433,
          434,
          435,
          436,
          437,
          438,
          439,
          440,
          441,
          442,
          443,
          444,
          445,
          446,
          447,
          448,
          449,
          450,
          451,
          452,
          453,
          454,
          455,
          456,
          457,
          458,
          459,
          460,
          461,
          462,
          463,
          464,
          465,
          466,
          467,
          468,
          469,
          470,
          471,
          472,
          473,
          474,
          475,
          476,
          477,
          478,
          479,
          480,
          481,
          482,
          483,
          484,
          485,
          486,
          487,
          488,
          489,
          490,
          491,
          492,
          493,
          494,
          495,
          496,
          497,
          498,
          499,
          500,
          501,
          502,
          503,
          504,
          505,
          506,
          507,
          508,
          509,
          510,
          511,
          512,
          513,
          514,
          515,
          516,
          517,
          518,
          519,
          520,
          521,
          522,
          523,
          524,
          525,
          526,
          527,
          528,
          529,
          530,
          531,
          532,
          533,
          534,
          535,
          536,
          537,
          538,
          539,
          540,
          541,
          542,
          543,
          544,
          545,
          546,
          547,
          548,
          549,
          550,
          551,
          552,
          553,
          554,
          555,
          556,
          557,
          558,
          559,
          560,
          561,
          562,
          563,
          564,
          565,
          566,
          567,
          568,
          569,
          570,
          571,
          572,
          573,
          574,
          575,
          576,
          577,
          578,
          579,
          580,
          581,
          582,
          583,
          584,
          585,
          586,
          587,
          588,
          589,
          590,
          591,
          592,
          593,
          594,
          595,
          596,
          597,
          598,
          599,
          600,
          601,
          602,
          603,
          604,
          605,
          606,
          607,
          608,
          609,
          610,
          611,
          612,
          613,
          614,
          615,
          616,
          617,
          618,
          619,
          620,
          621,
          622,
          623,
          624,
          625,
          626,
          627,
          628,
          629,
          630,
          631,
          632,
          633,
          634,
          635,
          636,
          637,
          638,
          639,
          640,
          641,
          642,
          643,
          644,
          645,
          646,
          647,
          648,
          649,
          650,
          651,
          652,
          653,
          654,
          655,
          656,
          657,
          658,
          659,
          660,
          661,
          662,
          663,
          664,
          665,
          666,
          667,
          668,
          669,
          670,
          671,
          672,
          673,
          674,
          675,
          676,
          677,
          678,
          679,
          680,
          681,
          682,
          683,
          684,
          685,
          686,
          687,
          688,
          689,
          690,
          691,
          692,
          693,
          694,
          695,
          696,
          697,
          698,
          699,
          700,
          701,
          702,
          703,
          704,
          705,
          706,
          707,
          708,
          709,
          710,
          711,
          712,
          713,
          714,
          715,
          716,
          717,
          718,
          719,
          720,
          721,
          722,
          723,
          724,
          725,
          726,
          727,
          728,
          729,
          730,
          731,
          732,
          733,
          734,
          735,
          736,
          737,
          738,
          739,
          740,
          741,
          742,
          743,
          744,
          745,
          746,
          747,
          748,
          749,
          750,
          751,
          752,
          753,
          754,
          755,
          756,
          757,
          758,
          759,
          760,
          761,
          762,
          763,
          764,
          765,
          766,
          767,
          768,
          769,
          770,
          771,
          772,
          773,
          774,
          775,
          776,
          777,
          778,
          779,
          780,
          781,
          782,
          783,
          784,
          785,
          786,
          787,
          788,
          789,
          790,
          791,
          792,
          793,
          794,
          795,
          796,
          797,
          798,
          799,
          800,
          801,
          802,
          803,
          804,
          805,
          806,
          807,
          808,
          809,
          810,
          811,
          812,
          813,
          814,
          815,
          816,
          817,
          818,
          819,
          820,
          821,
          822,
          823,
          824,
          825,
          826,
          827,
          828,
          829,
          830,
          831,
          832,
          833,
          834,
          835,
          836,
          837,
          838,
          839,
          840,
          841,
          842,
          843,
          844,
          845,
          846,
          847,
          848,
          849,
          850,
          851,
          852,
          853,
          854,
          855,
          856,
          857,
          858,
          859,
          860,
          861,
          862,
          863,
          864,
          865,
          866,
          867,
          868,
          869,
          870,
          871,
          872,
          873,
          874,
          875,
          876,
          877,
          878,
          879,
          880,
          881,
          882,
          883,
          884,
          885,
          886,
          887,
          888,
          889,
          890,
          891,
          892,
          893,
          894,
          895,
          896,
          897,
          898,
          899,
          900,
          901,
          902,
          903,
          904,
          905,
          906,
          907,
          908,
          909,
          910,
          911,
          912,
          913,
          914,
          915,
          916,
          917,
          918,
          919,
          920,
          921,
          922,
          923,
          924,
          925,
          926,
          927,
          928,
          929,
          930,
          931,
          932,
          933,
          934,
          935,
          936,
          937,
          938,
          939,
          940,
          941,
          942,
          943,
          944,
          945,
          946,
          947,
          948,
          949,
          950,
          951,
          952,
          953,
          954,
          955,
          956,
          957,
          958,
          959,
          960,
          961,
          962,
          963,
          964,
          965,
          966,
          967,
          968,
          969,
          970,
          971,
          972,
          973,
          974,
          975,
          976,
          977,
          978,
          979,
          980,
          981,
          982,
          983,
          984,
          985,
          986,
          987,
          988,
          989,
          990,
          991,
          992,
          993,
          994,
          995,
          996,
          997,
          998,
          999,
          1000,
          1001,
          1002,
          1003,
          1004,
          1005,
          1006,
          1007,
          1008,
          1009,
          1010,
          1011,
          1012,
          1013,
          1014,
          1015,
          1016,
          1017,
          1018,
          1019,
          1020,
          1021,
          1022,
          1023,
          1024
         ],
         "yaxis": "y"
        }
       ],
       "layout": {
        "barmode": "relative",
        "coloraxis": {
         "colorbar": {
          "title": {
           "text": "Heart Disease Presence"
          }
         },
         "colorscale": [
          [
           0,
           "#0d0887"
          ],
          [
           0.1111111111111111,
           "#46039f"
          ],
          [
           0.2222222222222222,
           "#7201a8"
          ],
          [
           0.3333333333333333,
           "#9c179e"
          ],
          [
           0.4444444444444444,
           "#bd3786"
          ],
          [
           0.5555555555555556,
           "#d8576b"
          ],
          [
           0.6666666666666666,
           "#ed7953"
          ],
          [
           0.7777777777777778,
           "#fb9f3a"
          ],
          [
           0.8888888888888888,
           "#fdca26"
          ],
          [
           1,
           "#f0f921"
          ]
         ]
        },
        "legend": {
         "tracegroupgap": 0
        },
        "template": {
         "data": {
          "bar": [
           {
            "error_x": {
             "color": "#2a3f5f"
            },
            "error_y": {
             "color": "#2a3f5f"
            },
            "marker": {
             "line": {
              "color": "#E5ECF6",
              "width": 0.5
             }
            },
            "type": "bar"
           }
          ],
          "barpolar": [
           {
            "marker": {
             "line": {
              "color": "#E5ECF6",
              "width": 0.5
             }
            },
            "type": "barpolar"
           }
          ],
          "carpet": [
           {
            "aaxis": {
             "endlinecolor": "#2a3f5f",
             "gridcolor": "white",
             "linecolor": "white",
             "minorgridcolor": "white",
             "startlinecolor": "#2a3f5f"
            },
            "baxis": {
             "endlinecolor": "#2a3f5f",
             "gridcolor": "white",
             "linecolor": "white",
             "minorgridcolor": "white",
             "startlinecolor": "#2a3f5f"
            },
            "type": "carpet"
           }
          ],
          "choropleth": [
           {
            "colorbar": {
             "outlinewidth": 0,
             "ticks": ""
            },
            "type": "choropleth"
           }
          ],
          "contour": [
           {
            "colorbar": {
             "outlinewidth": 0,
             "ticks": ""
            },
            "colorscale": [
             [
              0,
              "#0d0887"
             ],
             [
              0.1111111111111111,
              "#46039f"
             ],
             [
              0.2222222222222222,
              "#7201a8"
             ],
             [
              0.3333333333333333,
              "#9c179e"
             ],
             [
              0.4444444444444444,
              "#bd3786"
             ],
             [
              0.5555555555555556,
              "#d8576b"
             ],
             [
              0.6666666666666666,
              "#ed7953"
             ],
             [
              0.7777777777777778,
              "#fb9f3a"
             ],
             [
              0.8888888888888888,
              "#fdca26"
             ],
             [
              1,
              "#f0f921"
             ]
            ],
            "type": "contour"
           }
          ],
          "contourcarpet": [
           {
            "colorbar": {
             "outlinewidth": 0,
             "ticks": ""
            },
            "type": "contourcarpet"
           }
          ],
          "heatmap": [
           {
            "colorbar": {
             "outlinewidth": 0,
             "ticks": ""
            },
            "colorscale": [
             [
              0,
              "#0d0887"
             ],
             [
              0.1111111111111111,
              "#46039f"
             ],
             [
              0.2222222222222222,
              "#7201a8"
             ],
             [
              0.3333333333333333,
              "#9c179e"
             ],
             [
              0.4444444444444444,
              "#bd3786"
             ],
             [
              0.5555555555555556,
              "#d8576b"
             ],
             [
              0.6666666666666666,
              "#ed7953"
             ],
             [
              0.7777777777777778,
              "#fb9f3a"
             ],
             [
              0.8888888888888888,
              "#fdca26"
             ],
             [
              1,
              "#f0f921"
             ]
            ],
            "type": "heatmap"
           }
          ],
          "heatmapgl": [
           {
            "colorbar": {
             "outlinewidth": 0,
             "ticks": ""
            },
            "colorscale": [
             [
              0,
              "#0d0887"
             ],
             [
              0.1111111111111111,
              "#46039f"
             ],
             [
              0.2222222222222222,
              "#7201a8"
             ],
             [
              0.3333333333333333,
              "#9c179e"
             ],
             [
              0.4444444444444444,
              "#bd3786"
             ],
             [
              0.5555555555555556,
              "#d8576b"
             ],
             [
              0.6666666666666666,
              "#ed7953"
             ],
             [
              0.7777777777777778,
              "#fb9f3a"
             ],
             [
              0.8888888888888888,
              "#fdca26"
             ],
             [
              1,
              "#f0f921"
             ]
            ],
            "type": "heatmapgl"
           }
          ],
          "histogram": [
           {
            "marker": {
             "colorbar": {
              "outlinewidth": 0,
              "ticks": ""
             }
            },
            "type": "histogram"
           }
          ],
          "histogram2d": [
           {
            "colorbar": {
             "outlinewidth": 0,
             "ticks": ""
            },
            "colorscale": [
             [
              0,
              "#0d0887"
             ],
             [
              0.1111111111111111,
              "#46039f"
             ],
             [
              0.2222222222222222,
              "#7201a8"
             ],
             [
              0.3333333333333333,
              "#9c179e"
             ],
             [
              0.4444444444444444,
              "#bd3786"
             ],
             [
              0.5555555555555556,
              "#d8576b"
             ],
             [
              0.6666666666666666,
              "#ed7953"
             ],
             [
              0.7777777777777778,
              "#fb9f3a"
             ],
             [
              0.8888888888888888,
              "#fdca26"
             ],
             [
              1,
              "#f0f921"
             ]
            ],
            "type": "histogram2d"
           }
          ],
          "histogram2dcontour": [
           {
            "colorbar": {
             "outlinewidth": 0,
             "ticks": ""
            },
            "colorscale": [
             [
              0,
              "#0d0887"
             ],
             [
              0.1111111111111111,
              "#46039f"
             ],
             [
              0.2222222222222222,
              "#7201a8"
             ],
             [
              0.3333333333333333,
              "#9c179e"
             ],
             [
              0.4444444444444444,
              "#bd3786"
             ],
             [
              0.5555555555555556,
              "#d8576b"
             ],
             [
              0.6666666666666666,
              "#ed7953"
             ],
             [
              0.7777777777777778,
              "#fb9f3a"
             ],
             [
              0.8888888888888888,
              "#fdca26"
             ],
             [
              1,
              "#f0f921"
             ]
            ],
            "type": "histogram2dcontour"
           }
          ],
          "mesh3d": [
           {
            "colorbar": {
             "outlinewidth": 0,
             "ticks": ""
            },
            "type": "mesh3d"
           }
          ],
          "parcoords": [
           {
            "line": {
             "colorbar": {
              "outlinewidth": 0,
              "ticks": ""
             }
            },
            "type": "parcoords"
           }
          ],
          "pie": [
           {
            "automargin": true,
            "type": "pie"
           }
          ],
          "scatter": [
           {
            "marker": {
             "colorbar": {
              "outlinewidth": 0,
              "ticks": ""
             }
            },
            "type": "scatter"
           }
          ],
          "scatter3d": [
           {
            "line": {
             "colorbar": {
              "outlinewidth": 0,
              "ticks": ""
             }
            },
            "marker": {
             "colorbar": {
              "outlinewidth": 0,
              "ticks": ""
             }
            },
            "type": "scatter3d"
           }
          ],
          "scattercarpet": [
           {
            "marker": {
             "colorbar": {
              "outlinewidth": 0,
              "ticks": ""
             }
            },
            "type": "scattercarpet"
           }
          ],
          "scattergeo": [
           {
            "marker": {
             "colorbar": {
              "outlinewidth": 0,
              "ticks": ""
             }
            },
            "type": "scattergeo"
           }
          ],
          "scattergl": [
           {
            "marker": {
             "colorbar": {
              "outlinewidth": 0,
              "ticks": ""
             }
            },
            "type": "scattergl"
           }
          ],
          "scattermapbox": [
           {
            "marker": {
             "colorbar": {
              "outlinewidth": 0,
              "ticks": ""
             }
            },
            "type": "scattermapbox"
           }
          ],
          "scatterpolar": [
           {
            "marker": {
             "colorbar": {
              "outlinewidth": 0,
              "ticks": ""
             }
            },
            "type": "scatterpolar"
           }
          ],
          "scatterpolargl": [
           {
            "marker": {
             "colorbar": {
              "outlinewidth": 0,
              "ticks": ""
             }
            },
            "type": "scatterpolargl"
           }
          ],
          "scatterternary": [
           {
            "marker": {
             "colorbar": {
              "outlinewidth": 0,
              "ticks": ""
             }
            },
            "type": "scatterternary"
           }
          ],
          "surface": [
           {
            "colorbar": {
             "outlinewidth": 0,
             "ticks": ""
            },
            "colorscale": [
             [
              0,
              "#0d0887"
             ],
             [
              0.1111111111111111,
              "#46039f"
             ],
             [
              0.2222222222222222,
              "#7201a8"
             ],
             [
              0.3333333333333333,
              "#9c179e"
             ],
             [
              0.4444444444444444,
              "#bd3786"
             ],
             [
              0.5555555555555556,
              "#d8576b"
             ],
             [
              0.6666666666666666,
              "#ed7953"
             ],
             [
              0.7777777777777778,
              "#fb9f3a"
             ],
             [
              0.8888888888888888,
              "#fdca26"
             ],
             [
              1,
              "#f0f921"
             ]
            ],
            "type": "surface"
           }
          ],
          "table": [
           {
            "cells": {
             "fill": {
              "color": "#EBF0F8"
             },
             "line": {
              "color": "white"
             }
            },
            "header": {
             "fill": {
              "color": "#C8D4E3"
             },
             "line": {
              "color": "white"
             }
            },
            "type": "table"
           }
          ]
         },
         "layout": {
          "annotationdefaults": {
           "arrowcolor": "#2a3f5f",
           "arrowhead": 0,
           "arrowwidth": 1
          },
          "autotypenumbers": "strict",
          "coloraxis": {
           "colorbar": {
            "outlinewidth": 0,
            "ticks": ""
           }
          },
          "colorscale": {
           "diverging": [
            [
             0,
             "#8e0152"
            ],
            [
             0.1,
             "#c51b7d"
            ],
            [
             0.2,
             "#de77ae"
            ],
            [
             0.3,
             "#f1b6da"
            ],
            [
             0.4,
             "#fde0ef"
            ],
            [
             0.5,
             "#f7f7f7"
            ],
            [
             0.6,
             "#e6f5d0"
            ],
            [
             0.7,
             "#b8e186"
            ],
            [
             0.8,
             "#7fbc41"
            ],
            [
             0.9,
             "#4d9221"
            ],
            [
             1,
             "#276419"
            ]
           ],
           "sequential": [
            [
             0,
             "#0d0887"
            ],
            [
             0.1111111111111111,
             "#46039f"
            ],
            [
             0.2222222222222222,
             "#7201a8"
            ],
            [
             0.3333333333333333,
             "#9c179e"
            ],
            [
             0.4444444444444444,
             "#bd3786"
            ],
            [
             0.5555555555555556,
             "#d8576b"
            ],
            [
             0.6666666666666666,
             "#ed7953"
            ],
            [
             0.7777777777777778,
             "#fb9f3a"
            ],
            [
             0.8888888888888888,
             "#fdca26"
            ],
            [
             1,
             "#f0f921"
            ]
           ],
           "sequentialminus": [
            [
             0,
             "#0d0887"
            ],
            [
             0.1111111111111111,
             "#46039f"
            ],
            [
             0.2222222222222222,
             "#7201a8"
            ],
            [
             0.3333333333333333,
             "#9c179e"
            ],
            [
             0.4444444444444444,
             "#bd3786"
            ],
            [
             0.5555555555555556,
             "#d8576b"
            ],
            [
             0.6666666666666666,
             "#ed7953"
            ],
            [
             0.7777777777777778,
             "#fb9f3a"
            ],
            [
             0.8888888888888888,
             "#fdca26"
            ],
            [
             1,
             "#f0f921"
            ]
           ]
          },
          "colorway": [
           "#636efa",
           "#EF553B",
           "#00cc96",
           "#ab63fa",
           "#FFA15A",
           "#19d3f3",
           "#FF6692",
           "#B6E880",
           "#FF97FF",
           "#FECB52"
          ],
          "font": {
           "color": "#2a3f5f"
          },
          "geo": {
           "bgcolor": "white",
           "lakecolor": "white",
           "landcolor": "#E5ECF6",
           "showlakes": true,
           "showland": true,
           "subunitcolor": "white"
          },
          "hoverlabel": {
           "align": "left"
          },
          "hovermode": "closest",
          "mapbox": {
           "style": "light"
          },
          "paper_bgcolor": "white",
          "plot_bgcolor": "#E5ECF6",
          "polar": {
           "angularaxis": {
            "gridcolor": "white",
            "linecolor": "white",
            "ticks": ""
           },
           "bgcolor": "#E5ECF6",
           "radialaxis": {
            "gridcolor": "white",
            "linecolor": "white",
            "ticks": ""
           }
          },
          "scene": {
           "xaxis": {
            "backgroundcolor": "#E5ECF6",
            "gridcolor": "white",
            "gridwidth": 2,
            "linecolor": "white",
            "showbackground": true,
            "ticks": "",
            "zerolinecolor": "white"
           },
           "yaxis": {
            "backgroundcolor": "#E5ECF6",
            "gridcolor": "white",
            "gridwidth": 2,
            "linecolor": "white",
            "showbackground": true,
            "ticks": "",
            "zerolinecolor": "white"
           },
           "zaxis": {
            "backgroundcolor": "#E5ECF6",
            "gridcolor": "white",
            "gridwidth": 2,
            "linecolor": "white",
            "showbackground": true,
            "ticks": "",
            "zerolinecolor": "white"
           }
          },
          "shapedefaults": {
           "line": {
            "color": "#2a3f5f"
           }
          },
          "ternary": {
           "aaxis": {
            "gridcolor": "white",
            "linecolor": "white",
            "ticks": ""
           },
           "baxis": {
            "gridcolor": "white",
            "linecolor": "white",
            "ticks": ""
           },
           "bgcolor": "#E5ECF6",
           "caxis": {
            "gridcolor": "white",
            "linecolor": "white",
            "ticks": ""
           }
          },
          "title": {
           "x": 0.05
          },
          "xaxis": {
           "automargin": true,
           "gridcolor": "white",
           "linecolor": "white",
           "ticks": "",
           "title": {
            "standoff": 15
           },
           "zerolinecolor": "white",
           "zerolinewidth": 2
          },
          "yaxis": {
           "automargin": true,
           "gridcolor": "white",
           "linecolor": "white",
           "ticks": "",
           "title": {
            "standoff": 15
           },
           "zerolinecolor": "white",
           "zerolinewidth": 2
          }
         }
        },
        "title": {
         "text": "Exercise-Induced Angina vs. Heart Disease"
        },
        "xaxis": {
         "anchor": "y",
         "domain": [
          0,
          1
         ],
         "ticktext": [
          "No",
          "Yes"
         ],
         "tickvals": [
          0,
          1
         ],
         "title": {
          "text": "Exercise-Induced Angina"
         }
        },
        "yaxis": {
         "anchor": "x",
         "domain": [
          0,
          1
         ],
         "title": {
          "text": "Count"
         }
        }
       }
      },
      "text/html": [
       "<div>                            <div id=\"c49c5fdd-75b9-471c-b0e0-ecf6d222b2e4\" class=\"plotly-graph-div\" style=\"height:525px; width:100%;\"></div>            <script type=\"text/javascript\">                require([\"plotly\"], function(Plotly) {                    window.PLOTLYENV=window.PLOTLYENV || {};                                    if (document.getElementById(\"c49c5fdd-75b9-471c-b0e0-ecf6d222b2e4\")) {                    Plotly.newPlot(                        \"c49c5fdd-75b9-471c-b0e0-ecf6d222b2e4\",                        [{\"alignmentgroup\": \"True\", \"hovertemplate\": \"Exercise-Induced Angina=%{x}<br>index=%{y}<br>Heart Disease Presence=%{marker.color}<extra></extra>\", \"legendgroup\": \"\", \"marker\": {\"color\": [0, 0, 0, 0, 0, 1, 0, 0, 0, 0, 1, 0, 1, 0, 0, 1, 1, 0, 1, 1, 0, 1, 1, 1, 1, 0, 1, 0, 0, 0, 0, 1, 0, 0, 1, 0, 1, 1, 1, 0, 1, 1, 0, 0, 1, 1, 1, 0, 1, 0, 1, 0, 1, 0, 0, 0, 1, 1, 0, 0, 1, 1, 0, 1, 1, 0, 1, 0, 1, 0, 0, 0, 0, 0, 0, 1, 1, 0, 1, 1, 0, 0, 0, 1, 1, 1, 1, 0, 0, 0, 1, 1, 0, 0, 1, 1, 1, 0, 0, 1, 1, 1, 1, 1, 1, 0, 0, 0, 0, 0, 0, 1, 0, 0, 0, 0, 0, 0, 1, 1, 1, 0, 0, 1, 0, 1, 1, 1, 1, 1, 1, 1, 1, 1, 1, 0, 1, 1, 1, 1, 0, 0, 0, 1, 1, 0, 1, 0, 1, 1, 0, 0, 0, 1, 0, 1, 1, 1, 1, 1, 0, 1, 0, 0, 0, 0, 0, 1, 1, 1, 1, 0, 1, 1, 0, 0, 0, 0, 0, 0, 0, 1, 0, 1, 1, 0, 0, 0, 0, 0, 1, 1, 1, 1, 0, 1, 0, 1, 1, 0, 1, 1, 1, 1, 1, 1, 0, 1, 1, 0, 1, 0, 0, 1, 1, 1, 0, 1, 0, 0, 0, 0, 1, 1, 1, 1, 0, 1, 1, 0, 0, 1, 0, 1, 1, 1, 0, 0, 0, 0, 1, 0, 1, 0, 1, 1, 0, 0, 1, 1, 0, 1, 0, 0, 0, 1, 1, 1, 0, 1, 1, 1, 1, 1, 0, 1, 0, 0, 0, 1, 1, 1, 1, 0, 1, 0, 1, 1, 0, 1, 1, 1, 1, 1, 0, 1, 1, 1, 1, 0, 1, 0, 1, 1, 0, 0, 0, 0, 1, 1, 1, 1, 1, 0, 1, 0, 1, 1, 0, 1, 0, 0, 0, 1, 1, 1, 1, 1, 0, 1, 1, 1, 0, 0, 1, 1, 0, 0, 0, 1, 1, 0, 1, 1, 0, 0, 1, 1, 0, 0, 1, 1, 1, 1, 1, 0, 0, 1, 0, 0, 1, 0, 0, 1, 0, 1, 0, 0, 0, 1, 1, 1, 1, 1, 0, 1, 0, 0, 1, 1, 0, 0, 1, 0, 1, 1, 1, 1, 0, 1, 0, 0, 0, 0, 0, 1, 1, 0, 0, 1, 0, 0, 1, 0, 0, 1, 0, 0, 1, 1, 0, 1, 1, 1, 0, 0, 1, 0, 1, 0, 1, 0, 0, 0, 0, 1, 1, 1, 1, 1, 1, 1, 1, 0, 0, 0, 1, 1, 0, 0, 0, 0, 1, 1, 1, 1, 0, 0, 1, 0, 0, 0, 0, 1, 1, 1, 1, 0, 1, 0, 0, 1, 0, 1, 0, 1, 0, 1, 1, 1, 0, 1, 1, 1, 1, 1, 1, 0, 1, 0, 1, 1, 1, 1, 0, 1, 0, 0, 1, 0, 0, 0, 0, 1, 0, 0, 0, 0, 1, 1, 1, 1, 0, 0, 1, 1, 0, 0, 1, 1, 1, 1, 1, 1, 0, 1, 0, 1, 0, 0, 1, 0, 0, 0, 1, 0, 0, 1, 0, 0, 0, 1, 1, 0, 0, 1, 0, 1, 1, 1, 0, 1, 0, 1, 1, 1, 1, 1, 0, 1, 0, 1, 1, 0, 1, 0, 0, 1, 1, 1, 0, 0, 0, 1, 0, 0, 0, 1, 1, 0, 1, 1, 1, 0, 0, 1, 1, 1, 1, 1, 1, 0, 1, 0, 0, 1, 1, 0, 1, 0, 1, 1, 1, 0, 0, 1, 0, 0, 0, 0, 1, 0, 0, 0, 0, 0, 1, 1, 0, 1, 0, 0, 1, 1, 1, 1, 0, 0, 0, 0, 0, 0, 0, 0, 0, 1, 1, 1, 1, 0, 0, 0, 0, 0, 1, 0, 0, 0, 1, 0, 0, 1, 1, 0, 0, 1, 0, 1, 0, 1, 1, 0, 1, 1, 1, 0, 0, 1, 1, 1, 0, 1, 1, 0, 1, 1, 0, 1, 0, 1, 0, 0, 1, 1, 1, 1, 1, 0, 1, 0, 0, 0, 1, 1, 0, 0, 0, 0, 1, 0, 1, 0, 0, 0, 0, 0, 0, 0, 0, 1, 1, 1, 0, 1, 0, 0, 1, 0, 0, 0, 1, 0, 1, 1, 1, 0, 0, 1, 1, 0, 1, 0, 1, 1, 1, 1, 0, 0, 1, 1, 0, 1, 1, 1, 1, 0, 0, 1, 0, 1, 1, 0, 1, 1, 0, 1, 0, 0, 0, 0, 1, 1, 0, 1, 1, 1, 0, 0, 1, 1, 1, 1, 1, 1, 1, 1, 0, 1, 1, 0, 0, 1, 1, 1, 0, 0, 0, 0, 1, 1, 1, 1, 0, 0, 1, 1, 0, 0, 0, 1, 0, 0, 1, 1, 1, 0, 0, 0, 0, 0, 0, 0, 0, 1, 0, 1, 1, 0, 0, 1, 0, 1, 0, 0, 1, 1, 0, 1, 1, 1, 0, 0, 0, 0, 1, 1, 1, 1, 1, 0, 0, 0, 0, 1, 0, 1, 1, 0, 1, 0, 1, 1, 1, 0, 0, 0, 1, 1, 1, 1, 0, 1, 0, 0, 0, 0, 1, 0, 1, 0, 0, 1, 0, 0, 0, 1, 1, 1, 1, 0, 0, 0, 0, 0, 0, 1, 1, 1, 1, 1, 1, 1, 1, 1, 0, 0, 0, 1, 0, 1, 1, 0, 0, 0, 0, 0, 0, 1, 0, 0, 0, 1, 0, 0, 0, 0, 1, 1, 1, 1, 0, 1, 0, 0, 1, 0, 1, 1, 0, 0, 0, 0, 0, 1, 0, 0, 0, 1, 0, 0, 0, 0, 1, 1, 0, 0, 0, 1, 0, 0, 0, 0, 1, 0, 1, 1, 1, 0, 1, 1, 0, 1, 1, 1, 0, 1, 1, 1, 0, 1, 0, 0, 1, 1, 1, 1, 1, 0, 1, 1, 1, 1, 1, 0, 1, 1, 0, 1, 0, 1, 1, 1, 1, 1, 1, 0, 0, 1, 0, 0, 1, 0, 1, 1, 1, 1, 0, 0, 0, 1, 1, 0, 1, 0, 0, 1, 0, 0, 0, 0, 0, 1, 0, 1, 1, 0, 1, 1, 1, 0, 0, 1, 0, 0, 1, 0, 0, 0, 0, 1, 1, 0, 0, 1, 0], \"coloraxis\": \"coloraxis\"}, \"name\": \"Disease\", \"offsetgroup\": \"\", \"orientation\": \"h\", \"showlegend\": false, \"textposition\": \"auto\", \"type\": \"bar\", \"x\": [0, 1, 1, 0, 0, 0, 0, 1, 0, 1, 0, 1, 0, 1, 1, 0, 0, 1, 0, 0, 0, 0, 1, 0, 0, 1, 1, 0, 1, 1, 1, 0, 1, 1, 0, 0, 1, 0, 1, 0, 0, 0, 0, 0, 0, 0, 0, 1, 0, 1, 0, 1, 0, 0, 1, 1, 0, 0, 0, 0, 0, 0, 1, 0, 0, 0, 0, 1, 0, 0, 1, 1, 1, 1, 1, 0, 0, 1, 0, 0, 0, 0, 0, 0, 0, 0, 0, 1, 0, 0, 0, 0, 1, 1, 0, 1, 0, 1, 0, 0, 0, 0, 0, 0, 0, 1, 1, 0, 0, 1, 0, 1, 1, 1, 0, 1, 0, 1, 0, 0, 0, 1, 1, 0, 1, 0, 0, 0, 0, 0, 0, 0, 0, 0, 0, 1, 0, 1, 0, 0, 1, 1, 0, 0, 0, 1, 0, 0, 0, 0, 0, 0, 0, 0, 1, 0, 1, 0, 0, 0, 1, 1, 1, 0, 1, 1, 1, 1, 0, 0, 0, 1, 0, 0, 1, 1, 1, 1, 0, 1, 1, 1, 0, 0, 0, 0, 1, 1, 0, 1, 0, 0, 0, 0, 1, 0, 0, 0, 0, 1, 0, 0, 0, 0, 0, 0, 0, 0, 0, 0, 0, 1, 0, 0, 0, 0, 0, 0, 1, 1, 0, 0, 1, 0, 1, 0, 0, 0, 0, 1, 0, 0, 1, 0, 0, 0, 0, 0, 1, 1, 1, 0, 0, 0, 0, 0, 0, 1, 0, 0, 1, 0, 1, 0, 1, 0, 0, 1, 1, 0, 0, 0, 0, 0, 1, 1, 1, 0, 0, 0, 0, 0, 0, 1, 0, 1, 1, 0, 1, 0, 0, 0, 0, 1, 0, 0, 0, 0, 0, 0, 0, 1, 1, 0, 1, 1, 0, 1, 0, 0, 0, 1, 0, 1, 0, 1, 0, 0, 0, 0, 1, 1, 1, 1, 1, 0, 0, 0, 1, 0, 0, 0, 1, 1, 0, 0, 0, 1, 0, 0, 0, 1, 0, 0, 1, 1, 0, 0, 1, 1, 0, 0, 0, 0, 0, 1, 0, 0, 1, 0, 0, 1, 1, 1, 0, 1, 0, 1, 0, 0, 0, 0, 0, 0, 0, 0, 0, 0, 1, 0, 1, 1, 0, 0, 1, 0, 1, 0, 0, 0, 0, 0, 1, 1, 1, 0, 0, 1, 1, 0, 0, 0, 0, 0, 1, 0, 1, 1, 0, 0, 0, 0, 0, 0, 1, 1, 0, 0, 1, 0, 0, 1, 1, 0, 0, 0, 0, 0, 0, 0, 0, 0, 1, 0, 1, 1, 0, 0, 1, 0, 0, 0, 0, 0, 1, 1, 1, 1, 0, 0, 1, 0, 1, 0, 0, 0, 0, 1, 0, 0, 0, 0, 1, 0, 0, 0, 0, 0, 0, 1, 0, 0, 0, 0, 0, 0, 0, 1, 1, 1, 0, 0, 0, 0, 0, 0, 0, 0, 0, 1, 1, 0, 1, 0, 0, 0, 0, 0, 1, 1, 0, 0, 1, 1, 0, 0, 1, 0, 0, 1, 0, 0, 1, 0, 0, 0, 1, 0, 1, 1, 1, 1, 0, 1, 0, 0, 1, 0, 0, 0, 1, 0, 0, 0, 0, 0, 0, 0, 0, 0, 0, 0, 1, 0, 0, 0, 0, 0, 0, 0, 1, 0, 0, 0, 0, 0, 0, 0, 0, 0, 0, 1, 1, 0, 0, 0, 1, 0, 0, 0, 0, 0, 0, 0, 1, 0, 0, 0, 0, 0, 0, 1, 0, 0, 1, 0, 0, 0, 0, 0, 0, 0, 0, 1, 1, 1, 1, 0, 1, 1, 1, 1, 1, 1, 0, 0, 1, 0, 0, 0, 0, 1, 0, 0, 0, 0, 1, 1, 0, 1, 1, 1, 1, 1, 1, 0, 0, 0, 0, 0, 1, 1, 0, 0, 0, 0, 0, 1, 0, 0, 0, 0, 0, 1, 0, 0, 1, 0, 0, 0, 1, 1, 1, 0, 0, 0, 0, 0, 0, 0, 1, 0, 0, 1, 0, 0, 0, 0, 1, 0, 1, 0, 0, 0, 0, 0, 0, 0, 0, 1, 0, 0, 0, 0, 1, 0, 1, 0, 1, 1, 0, 1, 0, 1, 0, 0, 1, 0, 1, 0, 1, 0, 1, 0, 0, 1, 0, 0, 1, 1, 0, 1, 0, 1, 1, 1, 0, 0, 0, 0, 0, 1, 0, 0, 1, 0, 1, 1, 0, 0, 0, 0, 0, 0, 1, 0, 0, 0, 1, 0, 0, 0, 1, 0, 1, 0, 1, 1, 0, 1, 0, 1, 1, 0, 0, 1, 0, 1, 0, 0, 0, 0, 0, 0, 0, 0, 1, 0, 0, 0, 1, 0, 0, 0, 1, 1, 1, 0, 0, 0, 0, 1, 1, 0, 0, 1, 1, 1, 0, 0, 1, 0, 0, 0, 0, 1, 0, 1, 0, 0, 1, 1, 0, 0, 0, 0, 0, 0, 0, 0, 1, 0, 1, 0, 0, 1, 1, 1, 1, 0, 1, 0, 0, 1, 0, 1, 0, 0, 0, 1, 1, 0, 1, 0, 1, 0, 0, 0, 1, 1, 1, 0, 0, 1, 1, 0, 0, 0, 1, 1, 1, 0, 0, 0, 0, 1, 0, 1, 0, 1, 0, 0, 1, 1, 0, 0, 0, 0, 0, 1, 0, 0, 0, 0, 0, 0, 0, 0, 0, 0, 0, 0, 0, 0, 0, 1, 1, 0, 0, 0, 1, 0, 1, 0, 1, 0, 1, 1, 0, 0, 1, 1, 1, 1, 1, 0, 0, 0, 0, 0, 0, 0, 0, 0, 0, 1, 0, 0, 1, 1, 0, 0, 1, 1, 1, 0, 0, 0, 0, 1, 0, 0, 0, 0, 0, 1, 1, 0, 1, 1, 0, 0, 0, 1, 0, 0, 0, 0, 1, 0, 1, 0, 0, 0, 1, 0, 0, 0, 1, 1, 1, 0, 0, 1, 0, 0, 0, 0, 0, 0, 0, 0, 0, 1, 0, 0, 1, 0, 1, 0, 0, 0, 0, 0, 0, 0, 1, 0, 0, 1, 0, 0, 0, 1, 0, 0, 1, 0, 0, 0, 0, 1, 0, 1, 1, 0, 1, 0, 1, 0, 0, 0, 1, 0, 0, 1, 0, 0, 0, 0, 1, 0, 0, 0, 0, 1, 0, 1, 0, 0, 1, 1, 1, 0, 0], \"xaxis\": \"x\", \"y\": [0, 1, 2, 3, 4, 5, 6, 7, 8, 9, 10, 11, 12, 13, 14, 15, 16, 17, 18, 19, 20, 21, 22, 23, 24, 25, 26, 27, 28, 29, 30, 31, 32, 33, 34, 35, 36, 37, 38, 39, 40, 41, 42, 43, 44, 45, 46, 47, 48, 49, 50, 51, 52, 53, 54, 55, 56, 57, 58, 59, 60, 61, 62, 63, 64, 65, 66, 67, 68, 69, 70, 71, 72, 73, 74, 75, 76, 77, 78, 79, 80, 81, 82, 83, 84, 85, 86, 87, 88, 89, 90, 91, 92, 93, 94, 95, 96, 97, 98, 99, 100, 101, 102, 103, 104, 105, 106, 107, 108, 109, 110, 111, 112, 113, 114, 115, 116, 117, 118, 119, 120, 121, 122, 123, 124, 125, 126, 127, 128, 129, 130, 131, 132, 133, 134, 135, 136, 137, 138, 139, 140, 141, 142, 143, 144, 145, 146, 147, 148, 149, 150, 151, 152, 153, 154, 155, 156, 157, 158, 159, 160, 161, 162, 163, 164, 165, 166, 167, 168, 169, 170, 171, 172, 173, 174, 175, 176, 177, 178, 179, 180, 181, 182, 183, 184, 185, 186, 187, 188, 189, 190, 191, 192, 193, 194, 195, 196, 197, 198, 199, 200, 201, 202, 203, 204, 205, 206, 207, 208, 209, 210, 211, 212, 213, 214, 215, 216, 217, 218, 219, 220, 221, 222, 223, 224, 225, 226, 227, 228, 229, 230, 231, 232, 233, 234, 235, 236, 237, 238, 239, 240, 241, 242, 243, 244, 245, 246, 247, 248, 249, 250, 251, 252, 253, 254, 255, 256, 257, 258, 259, 260, 261, 262, 263, 264, 265, 266, 267, 268, 269, 270, 271, 272, 273, 274, 275, 276, 277, 278, 279, 280, 281, 282, 283, 284, 285, 286, 287, 288, 289, 290, 291, 292, 293, 294, 295, 296, 297, 298, 299, 300, 301, 302, 303, 304, 305, 306, 307, 308, 309, 310, 311, 312, 313, 314, 315, 316, 317, 318, 319, 320, 321, 322, 323, 324, 325, 326, 327, 328, 329, 330, 331, 332, 333, 334, 335, 336, 337, 338, 339, 340, 341, 342, 343, 344, 345, 346, 347, 348, 349, 350, 351, 352, 353, 354, 355, 356, 357, 358, 359, 360, 361, 362, 363, 364, 365, 366, 367, 368, 369, 370, 371, 372, 373, 374, 375, 376, 377, 378, 379, 380, 381, 382, 383, 384, 385, 386, 387, 388, 389, 390, 391, 392, 393, 394, 395, 396, 397, 398, 399, 400, 401, 402, 403, 404, 405, 406, 407, 408, 409, 410, 411, 412, 413, 414, 415, 416, 417, 418, 419, 420, 421, 422, 423, 424, 425, 426, 427, 428, 429, 430, 431, 432, 433, 434, 435, 436, 437, 438, 439, 440, 441, 442, 443, 444, 445, 446, 447, 448, 449, 450, 451, 452, 453, 454, 455, 456, 457, 458, 459, 460, 461, 462, 463, 464, 465, 466, 467, 468, 469, 470, 471, 472, 473, 474, 475, 476, 477, 478, 479, 480, 481, 482, 483, 484, 485, 486, 487, 488, 489, 490, 491, 492, 493, 494, 495, 496, 497, 498, 499, 500, 501, 502, 503, 504, 505, 506, 507, 508, 509, 510, 511, 512, 513, 514, 515, 516, 517, 518, 519, 520, 521, 522, 523, 524, 525, 526, 527, 528, 529, 530, 531, 532, 533, 534, 535, 536, 537, 538, 539, 540, 541, 542, 543, 544, 545, 546, 547, 548, 549, 550, 551, 552, 553, 554, 555, 556, 557, 558, 559, 560, 561, 562, 563, 564, 565, 566, 567, 568, 569, 570, 571, 572, 573, 574, 575, 576, 577, 578, 579, 580, 581, 582, 583, 584, 585, 586, 587, 588, 589, 590, 591, 592, 593, 594, 595, 596, 597, 598, 599, 600, 601, 602, 603, 604, 605, 606, 607, 608, 609, 610, 611, 612, 613, 614, 615, 616, 617, 618, 619, 620, 621, 622, 623, 624, 625, 626, 627, 628, 629, 630, 631, 632, 633, 634, 635, 636, 637, 638, 639, 640, 641, 642, 643, 644, 645, 646, 647, 648, 649, 650, 651, 652, 653, 654, 655, 656, 657, 658, 659, 660, 661, 662, 663, 664, 665, 666, 667, 668, 669, 670, 671, 672, 673, 674, 675, 676, 677, 678, 679, 680, 681, 682, 683, 684, 685, 686, 687, 688, 689, 690, 691, 692, 693, 694, 695, 696, 697, 698, 699, 700, 701, 702, 703, 704, 705, 706, 707, 708, 709, 710, 711, 712, 713, 714, 715, 716, 717, 718, 719, 720, 721, 722, 723, 724, 725, 726, 727, 728, 729, 730, 731, 732, 733, 734, 735, 736, 737, 738, 739, 740, 741, 742, 743, 744, 745, 746, 747, 748, 749, 750, 751, 752, 753, 754, 755, 756, 757, 758, 759, 760, 761, 762, 763, 764, 765, 766, 767, 768, 769, 770, 771, 772, 773, 774, 775, 776, 777, 778, 779, 780, 781, 782, 783, 784, 785, 786, 787, 788, 789, 790, 791, 792, 793, 794, 795, 796, 797, 798, 799, 800, 801, 802, 803, 804, 805, 806, 807, 808, 809, 810, 811, 812, 813, 814, 815, 816, 817, 818, 819, 820, 821, 822, 823, 824, 825, 826, 827, 828, 829, 830, 831, 832, 833, 834, 835, 836, 837, 838, 839, 840, 841, 842, 843, 844, 845, 846, 847, 848, 849, 850, 851, 852, 853, 854, 855, 856, 857, 858, 859, 860, 861, 862, 863, 864, 865, 866, 867, 868, 869, 870, 871, 872, 873, 874, 875, 876, 877, 878, 879, 880, 881, 882, 883, 884, 885, 886, 887, 888, 889, 890, 891, 892, 893, 894, 895, 896, 897, 898, 899, 900, 901, 902, 903, 904, 905, 906, 907, 908, 909, 910, 911, 912, 913, 914, 915, 916, 917, 918, 919, 920, 921, 922, 923, 924, 925, 926, 927, 928, 929, 930, 931, 932, 933, 934, 935, 936, 937, 938, 939, 940, 941, 942, 943, 944, 945, 946, 947, 948, 949, 950, 951, 952, 953, 954, 955, 956, 957, 958, 959, 960, 961, 962, 963, 964, 965, 966, 967, 968, 969, 970, 971, 972, 973, 974, 975, 976, 977, 978, 979, 980, 981, 982, 983, 984, 985, 986, 987, 988, 989, 990, 991, 992, 993, 994, 995, 996, 997, 998, 999, 1000, 1001, 1002, 1003, 1004, 1005, 1006, 1007, 1008, 1009, 1010, 1011, 1012, 1013, 1014, 1015, 1016, 1017, 1018, 1019, 1020, 1021, 1022, 1023, 1024], \"yaxis\": \"y\"}],                        {\"barmode\": \"relative\", \"coloraxis\": {\"colorbar\": {\"title\": {\"text\": \"Heart Disease Presence\"}}, \"colorscale\": [[0.0, \"#0d0887\"], [0.1111111111111111, \"#46039f\"], [0.2222222222222222, \"#7201a8\"], [0.3333333333333333, \"#9c179e\"], [0.4444444444444444, \"#bd3786\"], [0.5555555555555556, \"#d8576b\"], [0.6666666666666666, \"#ed7953\"], [0.7777777777777778, \"#fb9f3a\"], [0.8888888888888888, \"#fdca26\"], [1.0, \"#f0f921\"]]}, \"legend\": {\"tracegroupgap\": 0}, \"template\": {\"data\": {\"bar\": [{\"error_x\": {\"color\": \"#2a3f5f\"}, \"error_y\": {\"color\": \"#2a3f5f\"}, \"marker\": {\"line\": {\"color\": \"#E5ECF6\", \"width\": 0.5}}, \"type\": \"bar\"}], \"barpolar\": [{\"marker\": {\"line\": {\"color\": \"#E5ECF6\", \"width\": 0.5}}, \"type\": \"barpolar\"}], \"carpet\": [{\"aaxis\": {\"endlinecolor\": \"#2a3f5f\", \"gridcolor\": \"white\", \"linecolor\": \"white\", \"minorgridcolor\": \"white\", \"startlinecolor\": \"#2a3f5f\"}, \"baxis\": {\"endlinecolor\": \"#2a3f5f\", \"gridcolor\": \"white\", \"linecolor\": \"white\", \"minorgridcolor\": \"white\", \"startlinecolor\": \"#2a3f5f\"}, \"type\": \"carpet\"}], \"choropleth\": [{\"colorbar\": {\"outlinewidth\": 0, \"ticks\": \"\"}, \"type\": \"choropleth\"}], \"contour\": [{\"colorbar\": {\"outlinewidth\": 0, \"ticks\": \"\"}, \"colorscale\": [[0.0, \"#0d0887\"], [0.1111111111111111, \"#46039f\"], [0.2222222222222222, \"#7201a8\"], [0.3333333333333333, \"#9c179e\"], [0.4444444444444444, \"#bd3786\"], [0.5555555555555556, \"#d8576b\"], [0.6666666666666666, \"#ed7953\"], [0.7777777777777778, \"#fb9f3a\"], [0.8888888888888888, \"#fdca26\"], [1.0, \"#f0f921\"]], \"type\": \"contour\"}], \"contourcarpet\": [{\"colorbar\": {\"outlinewidth\": 0, \"ticks\": \"\"}, \"type\": \"contourcarpet\"}], \"heatmap\": [{\"colorbar\": {\"outlinewidth\": 0, \"ticks\": \"\"}, \"colorscale\": [[0.0, \"#0d0887\"], [0.1111111111111111, \"#46039f\"], [0.2222222222222222, \"#7201a8\"], [0.3333333333333333, \"#9c179e\"], [0.4444444444444444, \"#bd3786\"], [0.5555555555555556, \"#d8576b\"], [0.6666666666666666, \"#ed7953\"], [0.7777777777777778, \"#fb9f3a\"], [0.8888888888888888, \"#fdca26\"], [1.0, \"#f0f921\"]], \"type\": \"heatmap\"}], \"heatmapgl\": [{\"colorbar\": {\"outlinewidth\": 0, \"ticks\": \"\"}, \"colorscale\": [[0.0, \"#0d0887\"], [0.1111111111111111, \"#46039f\"], [0.2222222222222222, \"#7201a8\"], [0.3333333333333333, \"#9c179e\"], [0.4444444444444444, \"#bd3786\"], [0.5555555555555556, \"#d8576b\"], [0.6666666666666666, \"#ed7953\"], [0.7777777777777778, \"#fb9f3a\"], [0.8888888888888888, \"#fdca26\"], [1.0, \"#f0f921\"]], \"type\": \"heatmapgl\"}], \"histogram\": [{\"marker\": {\"colorbar\": {\"outlinewidth\": 0, \"ticks\": \"\"}}, \"type\": \"histogram\"}], \"histogram2d\": [{\"colorbar\": {\"outlinewidth\": 0, \"ticks\": \"\"}, \"colorscale\": [[0.0, \"#0d0887\"], [0.1111111111111111, \"#46039f\"], [0.2222222222222222, \"#7201a8\"], [0.3333333333333333, \"#9c179e\"], [0.4444444444444444, \"#bd3786\"], [0.5555555555555556, \"#d8576b\"], [0.6666666666666666, \"#ed7953\"], [0.7777777777777778, \"#fb9f3a\"], [0.8888888888888888, \"#fdca26\"], [1.0, \"#f0f921\"]], \"type\": \"histogram2d\"}], \"histogram2dcontour\": [{\"colorbar\": {\"outlinewidth\": 0, \"ticks\": \"\"}, \"colorscale\": [[0.0, \"#0d0887\"], [0.1111111111111111, \"#46039f\"], [0.2222222222222222, \"#7201a8\"], [0.3333333333333333, \"#9c179e\"], [0.4444444444444444, \"#bd3786\"], [0.5555555555555556, \"#d8576b\"], [0.6666666666666666, \"#ed7953\"], [0.7777777777777778, \"#fb9f3a\"], [0.8888888888888888, \"#fdca26\"], [1.0, \"#f0f921\"]], \"type\": \"histogram2dcontour\"}], \"mesh3d\": [{\"colorbar\": {\"outlinewidth\": 0, \"ticks\": \"\"}, \"type\": \"mesh3d\"}], \"parcoords\": [{\"line\": {\"colorbar\": {\"outlinewidth\": 0, \"ticks\": \"\"}}, \"type\": \"parcoords\"}], \"pie\": [{\"automargin\": true, \"type\": \"pie\"}], \"scatter\": [{\"marker\": {\"colorbar\": {\"outlinewidth\": 0, \"ticks\": \"\"}}, \"type\": \"scatter\"}], \"scatter3d\": [{\"line\": {\"colorbar\": {\"outlinewidth\": 0, \"ticks\": \"\"}}, \"marker\": {\"colorbar\": {\"outlinewidth\": 0, \"ticks\": \"\"}}, \"type\": \"scatter3d\"}], \"scattercarpet\": [{\"marker\": {\"colorbar\": {\"outlinewidth\": 0, \"ticks\": \"\"}}, \"type\": \"scattercarpet\"}], \"scattergeo\": [{\"marker\": {\"colorbar\": {\"outlinewidth\": 0, \"ticks\": \"\"}}, \"type\": \"scattergeo\"}], \"scattergl\": [{\"marker\": {\"colorbar\": {\"outlinewidth\": 0, \"ticks\": \"\"}}, \"type\": \"scattergl\"}], \"scattermapbox\": [{\"marker\": {\"colorbar\": {\"outlinewidth\": 0, \"ticks\": \"\"}}, \"type\": \"scattermapbox\"}], \"scatterpolar\": [{\"marker\": {\"colorbar\": {\"outlinewidth\": 0, \"ticks\": \"\"}}, \"type\": \"scatterpolar\"}], \"scatterpolargl\": [{\"marker\": {\"colorbar\": {\"outlinewidth\": 0, \"ticks\": \"\"}}, \"type\": \"scatterpolargl\"}], \"scatterternary\": [{\"marker\": {\"colorbar\": {\"outlinewidth\": 0, \"ticks\": \"\"}}, \"type\": \"scatterternary\"}], \"surface\": [{\"colorbar\": {\"outlinewidth\": 0, \"ticks\": \"\"}, \"colorscale\": [[0.0, \"#0d0887\"], [0.1111111111111111, \"#46039f\"], [0.2222222222222222, \"#7201a8\"], [0.3333333333333333, \"#9c179e\"], [0.4444444444444444, \"#bd3786\"], [0.5555555555555556, \"#d8576b\"], [0.6666666666666666, \"#ed7953\"], [0.7777777777777778, \"#fb9f3a\"], [0.8888888888888888, \"#fdca26\"], [1.0, \"#f0f921\"]], \"type\": \"surface\"}], \"table\": [{\"cells\": {\"fill\": {\"color\": \"#EBF0F8\"}, \"line\": {\"color\": \"white\"}}, \"header\": {\"fill\": {\"color\": \"#C8D4E3\"}, \"line\": {\"color\": \"white\"}}, \"type\": \"table\"}]}, \"layout\": {\"annotationdefaults\": {\"arrowcolor\": \"#2a3f5f\", \"arrowhead\": 0, \"arrowwidth\": 1}, \"autotypenumbers\": \"strict\", \"coloraxis\": {\"colorbar\": {\"outlinewidth\": 0, \"ticks\": \"\"}}, \"colorscale\": {\"diverging\": [[0, \"#8e0152\"], [0.1, \"#c51b7d\"], [0.2, \"#de77ae\"], [0.3, \"#f1b6da\"], [0.4, \"#fde0ef\"], [0.5, \"#f7f7f7\"], [0.6, \"#e6f5d0\"], [0.7, \"#b8e186\"], [0.8, \"#7fbc41\"], [0.9, \"#4d9221\"], [1, \"#276419\"]], \"sequential\": [[0.0, \"#0d0887\"], [0.1111111111111111, \"#46039f\"], [0.2222222222222222, \"#7201a8\"], [0.3333333333333333, \"#9c179e\"], [0.4444444444444444, \"#bd3786\"], [0.5555555555555556, \"#d8576b\"], [0.6666666666666666, \"#ed7953\"], [0.7777777777777778, \"#fb9f3a\"], [0.8888888888888888, \"#fdca26\"], [1.0, \"#f0f921\"]], \"sequentialminus\": [[0.0, \"#0d0887\"], [0.1111111111111111, \"#46039f\"], [0.2222222222222222, \"#7201a8\"], [0.3333333333333333, \"#9c179e\"], [0.4444444444444444, \"#bd3786\"], [0.5555555555555556, \"#d8576b\"], [0.6666666666666666, \"#ed7953\"], [0.7777777777777778, \"#fb9f3a\"], [0.8888888888888888, \"#fdca26\"], [1.0, \"#f0f921\"]]}, \"colorway\": [\"#636efa\", \"#EF553B\", \"#00cc96\", \"#ab63fa\", \"#FFA15A\", \"#19d3f3\", \"#FF6692\", \"#B6E880\", \"#FF97FF\", \"#FECB52\"], \"font\": {\"color\": \"#2a3f5f\"}, \"geo\": {\"bgcolor\": \"white\", \"lakecolor\": \"white\", \"landcolor\": \"#E5ECF6\", \"showlakes\": true, \"showland\": true, \"subunitcolor\": \"white\"}, \"hoverlabel\": {\"align\": \"left\"}, \"hovermode\": \"closest\", \"mapbox\": {\"style\": \"light\"}, \"paper_bgcolor\": \"white\", \"plot_bgcolor\": \"#E5ECF6\", \"polar\": {\"angularaxis\": {\"gridcolor\": \"white\", \"linecolor\": \"white\", \"ticks\": \"\"}, \"bgcolor\": \"#E5ECF6\", \"radialaxis\": {\"gridcolor\": \"white\", \"linecolor\": \"white\", \"ticks\": \"\"}}, \"scene\": {\"xaxis\": {\"backgroundcolor\": \"#E5ECF6\", \"gridcolor\": \"white\", \"gridwidth\": 2, \"linecolor\": \"white\", \"showbackground\": true, \"ticks\": \"\", \"zerolinecolor\": \"white\"}, \"yaxis\": {\"backgroundcolor\": \"#E5ECF6\", \"gridcolor\": \"white\", \"gridwidth\": 2, \"linecolor\": \"white\", \"showbackground\": true, \"ticks\": \"\", \"zerolinecolor\": \"white\"}, \"zaxis\": {\"backgroundcolor\": \"#E5ECF6\", \"gridcolor\": \"white\", \"gridwidth\": 2, \"linecolor\": \"white\", \"showbackground\": true, \"ticks\": \"\", \"zerolinecolor\": \"white\"}}, \"shapedefaults\": {\"line\": {\"color\": \"#2a3f5f\"}}, \"ternary\": {\"aaxis\": {\"gridcolor\": \"white\", \"linecolor\": \"white\", \"ticks\": \"\"}, \"baxis\": {\"gridcolor\": \"white\", \"linecolor\": \"white\", \"ticks\": \"\"}, \"bgcolor\": \"#E5ECF6\", \"caxis\": {\"gridcolor\": \"white\", \"linecolor\": \"white\", \"ticks\": \"\"}}, \"title\": {\"x\": 0.05}, \"xaxis\": {\"automargin\": true, \"gridcolor\": \"white\", \"linecolor\": \"white\", \"ticks\": \"\", \"title\": {\"standoff\": 15}, \"zerolinecolor\": \"white\", \"zerolinewidth\": 2}, \"yaxis\": {\"automargin\": true, \"gridcolor\": \"white\", \"linecolor\": \"white\", \"ticks\": \"\", \"title\": {\"standoff\": 15}, \"zerolinecolor\": \"white\", \"zerolinewidth\": 2}}}, \"title\": {\"text\": \"Exercise-Induced Angina vs. Heart Disease\"}, \"xaxis\": {\"anchor\": \"y\", \"domain\": [0.0, 1.0], \"ticktext\": [\"No\", \"Yes\"], \"tickvals\": [0, 1], \"title\": {\"text\": \"Exercise-Induced Angina\"}}, \"yaxis\": {\"anchor\": \"x\", \"domain\": [0.0, 1.0], \"title\": {\"text\": \"Count\"}}},                        {\"responsive\": true}                    ).then(function(){\n",
       "                            \n",
       "var gd = document.getElementById('c49c5fdd-75b9-471c-b0e0-ecf6d222b2e4');\n",
       "var x = new MutationObserver(function (mutations, observer) {{\n",
       "        var display = window.getComputedStyle(gd).display;\n",
       "        if (!display || display === 'none') {{\n",
       "            console.log([gd, 'removed!']);\n",
       "            Plotly.purge(gd);\n",
       "            observer.disconnect();\n",
       "        }}\n",
       "}});\n",
       "\n",
       "// Listen for the removal of the full notebook cells\n",
       "var notebookContainer = gd.closest('#notebook-container');\n",
       "if (notebookContainer) {{\n",
       "    x.observe(notebookContainer, {childList: true});\n",
       "}}\n",
       "\n",
       "// Listen for the clearing of the current output cell\n",
       "var outputEl = gd.closest('.output');\n",
       "if (outputEl) {{\n",
       "    x.observe(outputEl, {childList: true});\n",
       "}}\n",
       "\n",
       "                        })                };                });            </script>        </div>"
      ]
     },
     "metadata": {},
     "output_type": "display_data"
    }
   ],
   "source": [
    "# Create a count plot using Plotly Express\n",
    "fig = px.bar(heart, x=\"exang\", color=\"disease\", title=\"Exercise-Induced Angina vs. Heart Disease\", labels={\"exang\": \"Exercise-Induced Angina\", \"disease\": \"Heart Disease Presence\"})\n",
    "\n",
    "# Customize the legend labels\n",
    "fig.for_each_trace(lambda trace: trace.update(name=\"No Disease\" if trace.name == 0 else \"Disease\"))\n",
    "\n",
    "# Set x-axis labels\n",
    "fig.update_xaxes(tickvals=[0, 1], ticktext=[\"No\", \"Yes\"])\n",
    "\n",
    "# Set y-axis label\n",
    "fig.update_yaxes(title_text=\"Count\")\n",
    "\n",
    "fig.show()\n"
   ]
  },
  {
   "cell_type": "markdown",
   "id": "3e7ac103",
   "metadata": {},
   "source": [
    "For individuals with heart disease, the count of exercise-induced angina (exang = 1) appears lower compared to those without exercise-induced angina (exang = 0).\n",
    "For individuals without heart disease, the count of exercise-induced angina (exang = 1) is noticeably higher than those without exercise-induced angina (exang = 0)."
   ]
  },
  {
   "cell_type": "code",
   "execution_count": 70,
   "id": "e23b0095",
   "metadata": {},
   "outputs": [
    {
     "data": {
      "application/vnd.plotly.v1+json": {
       "config": {
        "plotlyServerURL": "https://plot.ly"
       },
       "data": [
        {
         "marker": {
          "color": "red"
         },
         "name": "Heart Disease",
         "opacity": 0.7,
         "type": "histogram",
         "x": [
          122,
          125,
          192,
          192,
          142,
          162,
          165,
          142,
          148,
          172,
          173,
          179,
          162,
          163,
          125,
          182,
          105,
          151,
          147,
          166,
          178,
          132,
          152,
          162,
          173,
          162,
          180,
          202,
          152,
          157,
          202,
          152,
          170,
          156,
          175,
          158,
          158,
          173,
          170,
          170,
          165,
          167,
          163,
          140,
          152,
          159,
          116,
          165,
          173,
          156,
          156,
          190,
          111,
          202,
          162,
          156,
          157,
          171,
          151,
          152,
          169,
          148,
          171,
          149,
          132,
          163,
          156,
          166,
          154,
          156,
          153,
          174,
          143,
          157,
          178,
          182,
          147,
          156,
          178,
          147,
          160,
          182,
          143,
          163,
          162,
          138,
          171,
          169,
          179,
          144,
          150,
          170,
          179,
          163,
          160,
          131,
          157,
          185,
          160,
          163,
          174,
          178,
          155,
          152,
          178,
          179,
          173,
          194,
          162,
          170,
          171,
          182,
          144,
          179,
          186,
          165,
          149,
          184,
          178,
          163,
          163,
          155,
          159,
          173,
          166,
          188,
          152,
          150,
          138,
          157,
          182,
          154,
          151,
          169,
          165,
          186,
          166,
          148,
          130,
          161,
          173,
          152,
          138,
          168,
          188,
          168,
          175,
          174,
          172,
          144,
          130,
          133,
          162,
          172,
          169,
          137,
          157,
          174,
          172,
          172,
          154,
          166,
          169,
          149,
          170,
          153,
          121,
          178,
          178,
          133,
          172,
          115,
          143,
          139,
          180,
          153,
          115,
          170,
          187,
          158,
          173,
          152,
          173,
          169,
          148,
          162,
          182,
          167,
          151,
          126,
          152,
          115,
          186,
          146,
          165,
          173,
          173,
          154,
          123,
          158,
          160,
          138,
          164,
          122,
          190,
          123,
          173,
          150,
          123,
          152,
          138,
          150,
          125,
          143,
          172,
          165,
          152,
          168,
          172,
          152,
          169,
          163,
          151,
          159,
          122,
          163,
          163,
          174,
          160,
          187,
          172,
          163,
          179,
          174,
          179,
          184,
          173,
          157,
          162,
          162,
          131,
          152,
          171,
          186,
          175,
          190,
          161,
          160,
          173,
          188,
          137,
          171,
          133,
          131,
          168,
          173,
          182,
          174,
          159,
          137,
          159,
          174,
          166,
          161,
          160,
          160,
          125,
          182,
          160,
          175,
          149,
          172,
          159,
          170,
          168,
          144,
          172,
          149,
          163,
          145,
          131,
          148,
          160,
          167,
          116,
          158,
          172,
          155,
          180,
          157,
          152,
          142,
          157,
          151,
          152,
          186,
          179,
          131,
          148,
          173,
          160,
          159,
          168,
          163,
          194,
          170,
          174,
          171,
          178,
          157,
          156,
          180,
          155,
          178,
          121,
          164,
          173,
          179,
          172,
          179,
          179,
          130,
          158,
          181,
          163,
          171,
          145,
          151,
          171,
          175,
          143,
          172,
          131,
          152,
          105,
          140,
          169,
          122,
          125,
          175,
          182,
          114,
          163,
          153,
          152,
          182,
          143,
          122,
          114,
          157,
          174,
          202,
          151,
          147,
          172,
          162,
          170,
          154,
          161,
          179,
          158,
          168,
          162,
          126,
          154,
          153,
          96,
          163,
          138,
          114,
          125,
          143,
          161,
          147,
          185,
          172,
          115,
          121,
          163,
          161,
          170,
          154,
          175,
          163,
          180,
          172,
          144,
          160,
          143,
          169,
          144,
          155,
          151,
          180,
          140,
          149,
          175,
          138,
          172,
          163,
          163,
          162,
          156,
          130,
          132,
          152,
          139,
          143,
          192,
          122,
          169,
          165,
          96,
          140,
          132,
          181,
          150,
          131,
          111,
          179,
          154,
          158,
          140,
          154,
          143,
          185,
          178,
          160,
          172,
          150,
          179,
          143,
          144,
          151,
          160,
          162,
          125,
          186,
          182,
          182,
          162,
          187,
          156,
          115,
          181,
          115,
          171,
          179,
          153,
          169,
          178,
          139,
          182,
          155,
          148,
          165,
          182,
          168,
          126,
          154,
          145,
          158,
          122,
          161,
          122,
          155,
          178,
          162,
          148,
          179,
          173,
          160,
          194,
          142,
          150,
          169,
          162,
          111,
          162,
          169,
          151,
          140,
          162,
          172,
          163,
          168,
          170,
          152,
          143,
          146,
          163,
          157,
          151,
          169,
          122,
          147,
          175,
          116,
          96,
          172,
          173,
          162,
          190,
          166,
          161,
          184,
          148,
          142,
          105,
          161,
          146,
          162,
          178,
          159,
          173,
          178,
          147,
          142,
          165,
          162,
          162,
          170,
          175,
          143,
          164,
          159
         ],
         "xaxis": "x",
         "yaxis": "y"
        },
        {
         "marker": {
          "color": "blue"
         },
         "name": "No Heart Disease",
         "opacity": 0.7,
         "type": "histogram",
         "x": [
          168,
          155,
          125,
          161,
          106,
          140,
          145,
          144,
          116,
          136,
          122,
          156,
          109,
          155,
          146,
          152,
          142,
          117,
          144,
          115,
          112,
          147,
          150,
          169,
          144,
          165,
          160,
          123,
          139,
          111,
          111,
          150,
          164,
          125,
          159,
          125,
          145,
          140,
          138,
          144,
          162,
          150,
          144,
          163,
          126,
          147,
          143,
          160,
          141,
          144,
          144,
          95,
          158,
          118,
          173,
          103,
          181,
          108,
          177,
          150,
          143,
          134,
          146,
          147,
          120,
          144,
          142,
          140,
          146,
          88,
          136,
          145,
          114,
          158,
          140,
          195,
          171,
          132,
          162,
          162,
          166,
          144,
          140,
          105,
          103,
          126,
          133,
          103,
          96,
          177,
          150,
          144,
          170,
          124,
          114,
          144,
          147,
          131,
          108,
          156,
          126,
          134,
          103,
          125,
          128,
          127,
          120,
          116,
          174,
          147,
          126,
          165,
          171,
          141,
          126,
          141,
          160,
          154,
          150,
          155,
          195,
          120,
          118,
          132,
          124,
          130,
          182,
          146,
          95,
          71,
          173,
          108,
          103,
          145,
          173,
          181,
          130,
          133,
          125,
          71,
          111,
          142,
          99,
          134,
          140,
          150,
          112,
          162,
          147,
          120,
          195,
          112,
          109,
          169,
          132,
          111,
          142,
          144,
          120,
          128,
          143,
          97,
          126,
          143,
          141,
          90,
          108,
          162,
          174,
          165,
          168,
          136,
          132,
          160,
          71,
          105,
          173,
          142,
          111,
          156,
          162,
          96,
          152,
          132,
          145,
          132,
          150,
          114,
          139,
          138,
          142,
          156,
          147,
          144,
          112,
          109,
          159,
          152,
          147,
          142,
          143,
          152,
          150,
          114,
          143,
          129,
          160,
          154,
          170,
          88,
          145,
          160,
          154,
          165,
          114,
          152,
          146,
          118,
          108,
          168,
          124,
          150,
          131,
          142,
          154,
          122,
          158,
          103,
          158,
          127,
          131,
          132,
          150,
          164,
          152,
          140,
          133,
          117,
          120,
          153,
          108,
          139,
          132,
          139,
          161,
          162,
          161,
          165,
          145,
          157,
          136,
          144,
          130,
          162,
          168,
          109,
          146,
          116,
          136,
          156,
          163,
          162,
          71,
          153,
          105,
          142,
          153,
          141,
          109,
          105,
          120,
          132,
          131,
          90,
          146,
          116,
          169,
          112,
          169,
          132,
          161,
          160,
          97,
          120,
          132,
          125,
          132,
          117,
          136,
          130,
          146,
          111,
          142,
          158,
          88,
          150,
          106,
          145,
          146,
          173,
          182,
          174,
          132,
          125,
          168,
          143,
          174,
          150,
          128,
          152,
          99,
          103,
          174,
          131,
          125,
          140,
          141,
          120,
          169,
          168,
          132,
          156,
          144,
          147,
          150,
          140,
          90,
          120,
          155,
          154,
          156,
          171,
          133,
          155,
          140,
          156,
          150,
          132,
          156,
          130,
          131,
          150,
          132,
          130,
          130,
          142,
          158,
          157,
          166,
          120,
          160,
          156,
          142,
          129,
          171,
          161,
          132,
          158,
          160,
          96,
          169,
          112,
          144,
          143,
          143,
          141,
          154,
          114,
          146,
          95,
          162,
          144,
          105,
          145,
          163,
          122,
          106,
          103,
          126,
          126,
          141,
          145,
          114,
          159,
          129,
          136,
          160,
          112,
          114,
          141,
          160,
          155,
          146,
          138,
          160,
          144,
          125,
          150,
          109,
          111,
          125,
          126,
          125,
          165,
          125,
          170,
          105,
          125,
          161,
          160,
          161,
          129,
          174,
          173,
          160,
          158,
          159,
          168,
          125,
          125,
          132,
          138,
          113,
          164,
          115,
          166,
          125,
          124,
          140,
          157,
          154,
          130,
          126,
          156,
          173,
          97,
          145,
          160,
          134,
          96,
          99,
          126,
          163,
          152,
          130,
          132,
          144,
          127,
          162,
          182,
          140,
          105,
          169,
          115,
          108,
          109,
          132,
          127,
          181,
          182,
          158,
          123,
          165,
          125,
          108,
          97,
          163,
          123,
          130,
          155,
          140,
          169,
          177,
          147,
          140,
          117,
          164,
          170,
          160,
          143,
          142,
          150,
          113,
          125,
          163,
          132,
          132,
          130,
          181,
          173,
          168,
          140,
          131,
          174,
          95,
          158,
          141,
          118,
          113
         ],
         "xaxis": "x",
         "yaxis": "y"
        }
       ],
       "layout": {
        "annotations": [
         {
          "font": {
           "size": 16
          },
          "showarrow": false,
          "text": "M",
          "x": 0.5,
          "xanchor": "center",
          "xref": "paper",
          "y": 1,
          "yanchor": "bottom",
          "yref": "paper"
         }
        ],
        "template": {
         "data": {
          "bar": [
           {
            "error_x": {
             "color": "#2a3f5f"
            },
            "error_y": {
             "color": "#2a3f5f"
            },
            "marker": {
             "line": {
              "color": "#E5ECF6",
              "width": 0.5
             }
            },
            "type": "bar"
           }
          ],
          "barpolar": [
           {
            "marker": {
             "line": {
              "color": "#E5ECF6",
              "width": 0.5
             }
            },
            "type": "barpolar"
           }
          ],
          "carpet": [
           {
            "aaxis": {
             "endlinecolor": "#2a3f5f",
             "gridcolor": "white",
             "linecolor": "white",
             "minorgridcolor": "white",
             "startlinecolor": "#2a3f5f"
            },
            "baxis": {
             "endlinecolor": "#2a3f5f",
             "gridcolor": "white",
             "linecolor": "white",
             "minorgridcolor": "white",
             "startlinecolor": "#2a3f5f"
            },
            "type": "carpet"
           }
          ],
          "choropleth": [
           {
            "colorbar": {
             "outlinewidth": 0,
             "ticks": ""
            },
            "type": "choropleth"
           }
          ],
          "contour": [
           {
            "colorbar": {
             "outlinewidth": 0,
             "ticks": ""
            },
            "colorscale": [
             [
              0,
              "#0d0887"
             ],
             [
              0.1111111111111111,
              "#46039f"
             ],
             [
              0.2222222222222222,
              "#7201a8"
             ],
             [
              0.3333333333333333,
              "#9c179e"
             ],
             [
              0.4444444444444444,
              "#bd3786"
             ],
             [
              0.5555555555555556,
              "#d8576b"
             ],
             [
              0.6666666666666666,
              "#ed7953"
             ],
             [
              0.7777777777777778,
              "#fb9f3a"
             ],
             [
              0.8888888888888888,
              "#fdca26"
             ],
             [
              1,
              "#f0f921"
             ]
            ],
            "type": "contour"
           }
          ],
          "contourcarpet": [
           {
            "colorbar": {
             "outlinewidth": 0,
             "ticks": ""
            },
            "type": "contourcarpet"
           }
          ],
          "heatmap": [
           {
            "colorbar": {
             "outlinewidth": 0,
             "ticks": ""
            },
            "colorscale": [
             [
              0,
              "#0d0887"
             ],
             [
              0.1111111111111111,
              "#46039f"
             ],
             [
              0.2222222222222222,
              "#7201a8"
             ],
             [
              0.3333333333333333,
              "#9c179e"
             ],
             [
              0.4444444444444444,
              "#bd3786"
             ],
             [
              0.5555555555555556,
              "#d8576b"
             ],
             [
              0.6666666666666666,
              "#ed7953"
             ],
             [
              0.7777777777777778,
              "#fb9f3a"
             ],
             [
              0.8888888888888888,
              "#fdca26"
             ],
             [
              1,
              "#f0f921"
             ]
            ],
            "type": "heatmap"
           }
          ],
          "heatmapgl": [
           {
            "colorbar": {
             "outlinewidth": 0,
             "ticks": ""
            },
            "colorscale": [
             [
              0,
              "#0d0887"
             ],
             [
              0.1111111111111111,
              "#46039f"
             ],
             [
              0.2222222222222222,
              "#7201a8"
             ],
             [
              0.3333333333333333,
              "#9c179e"
             ],
             [
              0.4444444444444444,
              "#bd3786"
             ],
             [
              0.5555555555555556,
              "#d8576b"
             ],
             [
              0.6666666666666666,
              "#ed7953"
             ],
             [
              0.7777777777777778,
              "#fb9f3a"
             ],
             [
              0.8888888888888888,
              "#fdca26"
             ],
             [
              1,
              "#f0f921"
             ]
            ],
            "type": "heatmapgl"
           }
          ],
          "histogram": [
           {
            "marker": {
             "colorbar": {
              "outlinewidth": 0,
              "ticks": ""
             }
            },
            "type": "histogram"
           }
          ],
          "histogram2d": [
           {
            "colorbar": {
             "outlinewidth": 0,
             "ticks": ""
            },
            "colorscale": [
             [
              0,
              "#0d0887"
             ],
             [
              0.1111111111111111,
              "#46039f"
             ],
             [
              0.2222222222222222,
              "#7201a8"
             ],
             [
              0.3333333333333333,
              "#9c179e"
             ],
             [
              0.4444444444444444,
              "#bd3786"
             ],
             [
              0.5555555555555556,
              "#d8576b"
             ],
             [
              0.6666666666666666,
              "#ed7953"
             ],
             [
              0.7777777777777778,
              "#fb9f3a"
             ],
             [
              0.8888888888888888,
              "#fdca26"
             ],
             [
              1,
              "#f0f921"
             ]
            ],
            "type": "histogram2d"
           }
          ],
          "histogram2dcontour": [
           {
            "colorbar": {
             "outlinewidth": 0,
             "ticks": ""
            },
            "colorscale": [
             [
              0,
              "#0d0887"
             ],
             [
              0.1111111111111111,
              "#46039f"
             ],
             [
              0.2222222222222222,
              "#7201a8"
             ],
             [
              0.3333333333333333,
              "#9c179e"
             ],
             [
              0.4444444444444444,
              "#bd3786"
             ],
             [
              0.5555555555555556,
              "#d8576b"
             ],
             [
              0.6666666666666666,
              "#ed7953"
             ],
             [
              0.7777777777777778,
              "#fb9f3a"
             ],
             [
              0.8888888888888888,
              "#fdca26"
             ],
             [
              1,
              "#f0f921"
             ]
            ],
            "type": "histogram2dcontour"
           }
          ],
          "mesh3d": [
           {
            "colorbar": {
             "outlinewidth": 0,
             "ticks": ""
            },
            "type": "mesh3d"
           }
          ],
          "parcoords": [
           {
            "line": {
             "colorbar": {
              "outlinewidth": 0,
              "ticks": ""
             }
            },
            "type": "parcoords"
           }
          ],
          "pie": [
           {
            "automargin": true,
            "type": "pie"
           }
          ],
          "scatter": [
           {
            "marker": {
             "colorbar": {
              "outlinewidth": 0,
              "ticks": ""
             }
            },
            "type": "scatter"
           }
          ],
          "scatter3d": [
           {
            "line": {
             "colorbar": {
              "outlinewidth": 0,
              "ticks": ""
             }
            },
            "marker": {
             "colorbar": {
              "outlinewidth": 0,
              "ticks": ""
             }
            },
            "type": "scatter3d"
           }
          ],
          "scattercarpet": [
           {
            "marker": {
             "colorbar": {
              "outlinewidth": 0,
              "ticks": ""
             }
            },
            "type": "scattercarpet"
           }
          ],
          "scattergeo": [
           {
            "marker": {
             "colorbar": {
              "outlinewidth": 0,
              "ticks": ""
             }
            },
            "type": "scattergeo"
           }
          ],
          "scattergl": [
           {
            "marker": {
             "colorbar": {
              "outlinewidth": 0,
              "ticks": ""
             }
            },
            "type": "scattergl"
           }
          ],
          "scattermapbox": [
           {
            "marker": {
             "colorbar": {
              "outlinewidth": 0,
              "ticks": ""
             }
            },
            "type": "scattermapbox"
           }
          ],
          "scatterpolar": [
           {
            "marker": {
             "colorbar": {
              "outlinewidth": 0,
              "ticks": ""
             }
            },
            "type": "scatterpolar"
           }
          ],
          "scatterpolargl": [
           {
            "marker": {
             "colorbar": {
              "outlinewidth": 0,
              "ticks": ""
             }
            },
            "type": "scatterpolargl"
           }
          ],
          "scatterternary": [
           {
            "marker": {
             "colorbar": {
              "outlinewidth": 0,
              "ticks": ""
             }
            },
            "type": "scatterternary"
           }
          ],
          "surface": [
           {
            "colorbar": {
             "outlinewidth": 0,
             "ticks": ""
            },
            "colorscale": [
             [
              0,
              "#0d0887"
             ],
             [
              0.1111111111111111,
              "#46039f"
             ],
             [
              0.2222222222222222,
              "#7201a8"
             ],
             [
              0.3333333333333333,
              "#9c179e"
             ],
             [
              0.4444444444444444,
              "#bd3786"
             ],
             [
              0.5555555555555556,
              "#d8576b"
             ],
             [
              0.6666666666666666,
              "#ed7953"
             ],
             [
              0.7777777777777778,
              "#fb9f3a"
             ],
             [
              0.8888888888888888,
              "#fdca26"
             ],
             [
              1,
              "#f0f921"
             ]
            ],
            "type": "surface"
           }
          ],
          "table": [
           {
            "cells": {
             "fill": {
              "color": "#EBF0F8"
             },
             "line": {
              "color": "white"
             }
            },
            "header": {
             "fill": {
              "color": "#C8D4E3"
             },
             "line": {
              "color": "white"
             }
            },
            "type": "table"
           }
          ]
         },
         "layout": {
          "annotationdefaults": {
           "arrowcolor": "#2a3f5f",
           "arrowhead": 0,
           "arrowwidth": 1
          },
          "autotypenumbers": "strict",
          "coloraxis": {
           "colorbar": {
            "outlinewidth": 0,
            "ticks": ""
           }
          },
          "colorscale": {
           "diverging": [
            [
             0,
             "#8e0152"
            ],
            [
             0.1,
             "#c51b7d"
            ],
            [
             0.2,
             "#de77ae"
            ],
            [
             0.3,
             "#f1b6da"
            ],
            [
             0.4,
             "#fde0ef"
            ],
            [
             0.5,
             "#f7f7f7"
            ],
            [
             0.6,
             "#e6f5d0"
            ],
            [
             0.7,
             "#b8e186"
            ],
            [
             0.8,
             "#7fbc41"
            ],
            [
             0.9,
             "#4d9221"
            ],
            [
             1,
             "#276419"
            ]
           ],
           "sequential": [
            [
             0,
             "#0d0887"
            ],
            [
             0.1111111111111111,
             "#46039f"
            ],
            [
             0.2222222222222222,
             "#7201a8"
            ],
            [
             0.3333333333333333,
             "#9c179e"
            ],
            [
             0.4444444444444444,
             "#bd3786"
            ],
            [
             0.5555555555555556,
             "#d8576b"
            ],
            [
             0.6666666666666666,
             "#ed7953"
            ],
            [
             0.7777777777777778,
             "#fb9f3a"
            ],
            [
             0.8888888888888888,
             "#fdca26"
            ],
            [
             1,
             "#f0f921"
            ]
           ],
           "sequentialminus": [
            [
             0,
             "#0d0887"
            ],
            [
             0.1111111111111111,
             "#46039f"
            ],
            [
             0.2222222222222222,
             "#7201a8"
            ],
            [
             0.3333333333333333,
             "#9c179e"
            ],
            [
             0.4444444444444444,
             "#bd3786"
            ],
            [
             0.5555555555555556,
             "#d8576b"
            ],
            [
             0.6666666666666666,
             "#ed7953"
            ],
            [
             0.7777777777777778,
             "#fb9f3a"
            ],
            [
             0.8888888888888888,
             "#fdca26"
            ],
            [
             1,
             "#f0f921"
            ]
           ]
          },
          "colorway": [
           "#636efa",
           "#EF553B",
           "#00cc96",
           "#ab63fa",
           "#FFA15A",
           "#19d3f3",
           "#FF6692",
           "#B6E880",
           "#FF97FF",
           "#FECB52"
          ],
          "font": {
           "color": "#2a3f5f"
          },
          "geo": {
           "bgcolor": "white",
           "lakecolor": "white",
           "landcolor": "#E5ECF6",
           "showlakes": true,
           "showland": true,
           "subunitcolor": "white"
          },
          "hoverlabel": {
           "align": "left"
          },
          "hovermode": "closest",
          "mapbox": {
           "style": "light"
          },
          "paper_bgcolor": "white",
          "plot_bgcolor": "#E5ECF6",
          "polar": {
           "angularaxis": {
            "gridcolor": "white",
            "linecolor": "white",
            "ticks": ""
           },
           "bgcolor": "#E5ECF6",
           "radialaxis": {
            "gridcolor": "white",
            "linecolor": "white",
            "ticks": ""
           }
          },
          "scene": {
           "xaxis": {
            "backgroundcolor": "#E5ECF6",
            "gridcolor": "white",
            "gridwidth": 2,
            "linecolor": "white",
            "showbackground": true,
            "ticks": "",
            "zerolinecolor": "white"
           },
           "yaxis": {
            "backgroundcolor": "#E5ECF6",
            "gridcolor": "white",
            "gridwidth": 2,
            "linecolor": "white",
            "showbackground": true,
            "ticks": "",
            "zerolinecolor": "white"
           },
           "zaxis": {
            "backgroundcolor": "#E5ECF6",
            "gridcolor": "white",
            "gridwidth": 2,
            "linecolor": "white",
            "showbackground": true,
            "ticks": "",
            "zerolinecolor": "white"
           }
          },
          "shapedefaults": {
           "line": {
            "color": "#2a3f5f"
           }
          },
          "ternary": {
           "aaxis": {
            "gridcolor": "white",
            "linecolor": "white",
            "ticks": ""
           },
           "baxis": {
            "gridcolor": "white",
            "linecolor": "white",
            "ticks": ""
           },
           "bgcolor": "#E5ECF6",
           "caxis": {
            "gridcolor": "white",
            "linecolor": "white",
            "ticks": ""
           }
          },
          "title": {
           "x": 0.05
          },
          "xaxis": {
           "automargin": true,
           "gridcolor": "white",
           "linecolor": "white",
           "ticks": "",
           "title": {
            "standoff": 15
           },
           "zerolinecolor": "white",
           "zerolinewidth": 2
          },
          "yaxis": {
           "automargin": true,
           "gridcolor": "white",
           "linecolor": "white",
           "ticks": "",
           "title": {
            "standoff": 15
           },
           "zerolinecolor": "white",
           "zerolinewidth": 2
          }
         }
        },
        "xaxis": {
         "anchor": "y",
         "domain": [
          0,
          1
         ],
         "title": {
          "text": "Maximum Heart Rate (thalach)"
         }
        },
        "yaxis": {
         "anchor": "x",
         "domain": [
          0,
          1
         ],
         "title": {
          "text": "Count"
         }
        }
       }
      },
      "text/html": [
       "<div>                            <div id=\"206f0f18-51dc-4015-a5f0-3d4af6fe7a4d\" class=\"plotly-graph-div\" style=\"height:525px; width:100%;\"></div>            <script type=\"text/javascript\">                require([\"plotly\"], function(Plotly) {                    window.PLOTLYENV=window.PLOTLYENV || {};                                    if (document.getElementById(\"206f0f18-51dc-4015-a5f0-3d4af6fe7a4d\")) {                    Plotly.newPlot(                        \"206f0f18-51dc-4015-a5f0-3d4af6fe7a4d\",                        [{\"marker\": {\"color\": \"red\"}, \"name\": \"Heart Disease\", \"opacity\": 0.7, \"type\": \"histogram\", \"x\": [122, 125, 192, 192, 142, 162, 165, 142, 148, 172, 173, 179, 162, 163, 125, 182, 105, 151, 147, 166, 178, 132, 152, 162, 173, 162, 180, 202, 152, 157, 202, 152, 170, 156, 175, 158, 158, 173, 170, 170, 165, 167, 163, 140, 152, 159, 116, 165, 173, 156, 156, 190, 111, 202, 162, 156, 157, 171, 151, 152, 169, 148, 171, 149, 132, 163, 156, 166, 154, 156, 153, 174, 143, 157, 178, 182, 147, 156, 178, 147, 160, 182, 143, 163, 162, 138, 171, 169, 179, 144, 150, 170, 179, 163, 160, 131, 157, 185, 160, 163, 174, 178, 155, 152, 178, 179, 173, 194, 162, 170, 171, 182, 144, 179, 186, 165, 149, 184, 178, 163, 163, 155, 159, 173, 166, 188, 152, 150, 138, 157, 182, 154, 151, 169, 165, 186, 166, 148, 130, 161, 173, 152, 138, 168, 188, 168, 175, 174, 172, 144, 130, 133, 162, 172, 169, 137, 157, 174, 172, 172, 154, 166, 169, 149, 170, 153, 121, 178, 178, 133, 172, 115, 143, 139, 180, 153, 115, 170, 187, 158, 173, 152, 173, 169, 148, 162, 182, 167, 151, 126, 152, 115, 186, 146, 165, 173, 173, 154, 123, 158, 160, 138, 164, 122, 190, 123, 173, 150, 123, 152, 138, 150, 125, 143, 172, 165, 152, 168, 172, 152, 169, 163, 151, 159, 122, 163, 163, 174, 160, 187, 172, 163, 179, 174, 179, 184, 173, 157, 162, 162, 131, 152, 171, 186, 175, 190, 161, 160, 173, 188, 137, 171, 133, 131, 168, 173, 182, 174, 159, 137, 159, 174, 166, 161, 160, 160, 125, 182, 160, 175, 149, 172, 159, 170, 168, 144, 172, 149, 163, 145, 131, 148, 160, 167, 116, 158, 172, 155, 180, 157, 152, 142, 157, 151, 152, 186, 179, 131, 148, 173, 160, 159, 168, 163, 194, 170, 174, 171, 178, 157, 156, 180, 155, 178, 121, 164, 173, 179, 172, 179, 179, 130, 158, 181, 163, 171, 145, 151, 171, 175, 143, 172, 131, 152, 105, 140, 169, 122, 125, 175, 182, 114, 163, 153, 152, 182, 143, 122, 114, 157, 174, 202, 151, 147, 172, 162, 170, 154, 161, 179, 158, 168, 162, 126, 154, 153, 96, 163, 138, 114, 125, 143, 161, 147, 185, 172, 115, 121, 163, 161, 170, 154, 175, 163, 180, 172, 144, 160, 143, 169, 144, 155, 151, 180, 140, 149, 175, 138, 172, 163, 163, 162, 156, 130, 132, 152, 139, 143, 192, 122, 169, 165, 96, 140, 132, 181, 150, 131, 111, 179, 154, 158, 140, 154, 143, 185, 178, 160, 172, 150, 179, 143, 144, 151, 160, 162, 125, 186, 182, 182, 162, 187, 156, 115, 181, 115, 171, 179, 153, 169, 178, 139, 182, 155, 148, 165, 182, 168, 126, 154, 145, 158, 122, 161, 122, 155, 178, 162, 148, 179, 173, 160, 194, 142, 150, 169, 162, 111, 162, 169, 151, 140, 162, 172, 163, 168, 170, 152, 143, 146, 163, 157, 151, 169, 122, 147, 175, 116, 96, 172, 173, 162, 190, 166, 161, 184, 148, 142, 105, 161, 146, 162, 178, 159, 173, 178, 147, 142, 165, 162, 162, 170, 175, 143, 164, 159], \"xaxis\": \"x\", \"yaxis\": \"y\"}, {\"marker\": {\"color\": \"blue\"}, \"name\": \"No Heart Disease\", \"opacity\": 0.7, \"type\": \"histogram\", \"x\": [168, 155, 125, 161, 106, 140, 145, 144, 116, 136, 122, 156, 109, 155, 146, 152, 142, 117, 144, 115, 112, 147, 150, 169, 144, 165, 160, 123, 139, 111, 111, 150, 164, 125, 159, 125, 145, 140, 138, 144, 162, 150, 144, 163, 126, 147, 143, 160, 141, 144, 144, 95, 158, 118, 173, 103, 181, 108, 177, 150, 143, 134, 146, 147, 120, 144, 142, 140, 146, 88, 136, 145, 114, 158, 140, 195, 171, 132, 162, 162, 166, 144, 140, 105, 103, 126, 133, 103, 96, 177, 150, 144, 170, 124, 114, 144, 147, 131, 108, 156, 126, 134, 103, 125, 128, 127, 120, 116, 174, 147, 126, 165, 171, 141, 126, 141, 160, 154, 150, 155, 195, 120, 118, 132, 124, 130, 182, 146, 95, 71, 173, 108, 103, 145, 173, 181, 130, 133, 125, 71, 111, 142, 99, 134, 140, 150, 112, 162, 147, 120, 195, 112, 109, 169, 132, 111, 142, 144, 120, 128, 143, 97, 126, 143, 141, 90, 108, 162, 174, 165, 168, 136, 132, 160, 71, 105, 173, 142, 111, 156, 162, 96, 152, 132, 145, 132, 150, 114, 139, 138, 142, 156, 147, 144, 112, 109, 159, 152, 147, 142, 143, 152, 150, 114, 143, 129, 160, 154, 170, 88, 145, 160, 154, 165, 114, 152, 146, 118, 108, 168, 124, 150, 131, 142, 154, 122, 158, 103, 158, 127, 131, 132, 150, 164, 152, 140, 133, 117, 120, 153, 108, 139, 132, 139, 161, 162, 161, 165, 145, 157, 136, 144, 130, 162, 168, 109, 146, 116, 136, 156, 163, 162, 71, 153, 105, 142, 153, 141, 109, 105, 120, 132, 131, 90, 146, 116, 169, 112, 169, 132, 161, 160, 97, 120, 132, 125, 132, 117, 136, 130, 146, 111, 142, 158, 88, 150, 106, 145, 146, 173, 182, 174, 132, 125, 168, 143, 174, 150, 128, 152, 99, 103, 174, 131, 125, 140, 141, 120, 169, 168, 132, 156, 144, 147, 150, 140, 90, 120, 155, 154, 156, 171, 133, 155, 140, 156, 150, 132, 156, 130, 131, 150, 132, 130, 130, 142, 158, 157, 166, 120, 160, 156, 142, 129, 171, 161, 132, 158, 160, 96, 169, 112, 144, 143, 143, 141, 154, 114, 146, 95, 162, 144, 105, 145, 163, 122, 106, 103, 126, 126, 141, 145, 114, 159, 129, 136, 160, 112, 114, 141, 160, 155, 146, 138, 160, 144, 125, 150, 109, 111, 125, 126, 125, 165, 125, 170, 105, 125, 161, 160, 161, 129, 174, 173, 160, 158, 159, 168, 125, 125, 132, 138, 113, 164, 115, 166, 125, 124, 140, 157, 154, 130, 126, 156, 173, 97, 145, 160, 134, 96, 99, 126, 163, 152, 130, 132, 144, 127, 162, 182, 140, 105, 169, 115, 108, 109, 132, 127, 181, 182, 158, 123, 165, 125, 108, 97, 163, 123, 130, 155, 140, 169, 177, 147, 140, 117, 164, 170, 160, 143, 142, 150, 113, 125, 163, 132, 132, 130, 181, 173, 168, 140, 131, 174, 95, 158, 141, 118, 113], \"xaxis\": \"x\", \"yaxis\": \"y\"}],                        {\"annotations\": [{\"font\": {\"size\": 16}, \"showarrow\": false, \"text\": \"M\", \"x\": 0.5, \"xanchor\": \"center\", \"xref\": \"paper\", \"y\": 1.0, \"yanchor\": \"bottom\", \"yref\": \"paper\"}], \"template\": {\"data\": {\"bar\": [{\"error_x\": {\"color\": \"#2a3f5f\"}, \"error_y\": {\"color\": \"#2a3f5f\"}, \"marker\": {\"line\": {\"color\": \"#E5ECF6\", \"width\": 0.5}}, \"type\": \"bar\"}], \"barpolar\": [{\"marker\": {\"line\": {\"color\": \"#E5ECF6\", \"width\": 0.5}}, \"type\": \"barpolar\"}], \"carpet\": [{\"aaxis\": {\"endlinecolor\": \"#2a3f5f\", \"gridcolor\": \"white\", \"linecolor\": \"white\", \"minorgridcolor\": \"white\", \"startlinecolor\": \"#2a3f5f\"}, \"baxis\": {\"endlinecolor\": \"#2a3f5f\", \"gridcolor\": \"white\", \"linecolor\": \"white\", \"minorgridcolor\": \"white\", \"startlinecolor\": \"#2a3f5f\"}, \"type\": \"carpet\"}], \"choropleth\": [{\"colorbar\": {\"outlinewidth\": 0, \"ticks\": \"\"}, \"type\": \"choropleth\"}], \"contour\": [{\"colorbar\": {\"outlinewidth\": 0, \"ticks\": \"\"}, \"colorscale\": [[0.0, \"#0d0887\"], [0.1111111111111111, \"#46039f\"], [0.2222222222222222, \"#7201a8\"], [0.3333333333333333, \"#9c179e\"], [0.4444444444444444, \"#bd3786\"], [0.5555555555555556, \"#d8576b\"], [0.6666666666666666, \"#ed7953\"], [0.7777777777777778, \"#fb9f3a\"], [0.8888888888888888, \"#fdca26\"], [1.0, \"#f0f921\"]], \"type\": \"contour\"}], \"contourcarpet\": [{\"colorbar\": {\"outlinewidth\": 0, \"ticks\": \"\"}, \"type\": \"contourcarpet\"}], \"heatmap\": [{\"colorbar\": {\"outlinewidth\": 0, \"ticks\": \"\"}, \"colorscale\": [[0.0, \"#0d0887\"], [0.1111111111111111, \"#46039f\"], [0.2222222222222222, \"#7201a8\"], [0.3333333333333333, \"#9c179e\"], [0.4444444444444444, \"#bd3786\"], [0.5555555555555556, \"#d8576b\"], [0.6666666666666666, \"#ed7953\"], [0.7777777777777778, \"#fb9f3a\"], [0.8888888888888888, \"#fdca26\"], [1.0, \"#f0f921\"]], \"type\": \"heatmap\"}], \"heatmapgl\": [{\"colorbar\": {\"outlinewidth\": 0, \"ticks\": \"\"}, \"colorscale\": [[0.0, \"#0d0887\"], [0.1111111111111111, \"#46039f\"], [0.2222222222222222, \"#7201a8\"], [0.3333333333333333, \"#9c179e\"], [0.4444444444444444, \"#bd3786\"], [0.5555555555555556, \"#d8576b\"], [0.6666666666666666, \"#ed7953\"], [0.7777777777777778, \"#fb9f3a\"], [0.8888888888888888, \"#fdca26\"], [1.0, \"#f0f921\"]], \"type\": \"heatmapgl\"}], \"histogram\": [{\"marker\": {\"colorbar\": {\"outlinewidth\": 0, \"ticks\": \"\"}}, \"type\": \"histogram\"}], \"histogram2d\": [{\"colorbar\": {\"outlinewidth\": 0, \"ticks\": \"\"}, \"colorscale\": [[0.0, \"#0d0887\"], [0.1111111111111111, \"#46039f\"], [0.2222222222222222, \"#7201a8\"], [0.3333333333333333, \"#9c179e\"], [0.4444444444444444, \"#bd3786\"], [0.5555555555555556, \"#d8576b\"], [0.6666666666666666, \"#ed7953\"], [0.7777777777777778, \"#fb9f3a\"], [0.8888888888888888, \"#fdca26\"], [1.0, \"#f0f921\"]], \"type\": \"histogram2d\"}], \"histogram2dcontour\": [{\"colorbar\": {\"outlinewidth\": 0, \"ticks\": \"\"}, \"colorscale\": [[0.0, \"#0d0887\"], [0.1111111111111111, \"#46039f\"], [0.2222222222222222, \"#7201a8\"], [0.3333333333333333, \"#9c179e\"], [0.4444444444444444, \"#bd3786\"], [0.5555555555555556, \"#d8576b\"], [0.6666666666666666, \"#ed7953\"], [0.7777777777777778, \"#fb9f3a\"], [0.8888888888888888, \"#fdca26\"], [1.0, \"#f0f921\"]], \"type\": \"histogram2dcontour\"}], \"mesh3d\": [{\"colorbar\": {\"outlinewidth\": 0, \"ticks\": \"\"}, \"type\": \"mesh3d\"}], \"parcoords\": [{\"line\": {\"colorbar\": {\"outlinewidth\": 0, \"ticks\": \"\"}}, \"type\": \"parcoords\"}], \"pie\": [{\"automargin\": true, \"type\": \"pie\"}], \"scatter\": [{\"marker\": {\"colorbar\": {\"outlinewidth\": 0, \"ticks\": \"\"}}, \"type\": \"scatter\"}], \"scatter3d\": [{\"line\": {\"colorbar\": {\"outlinewidth\": 0, \"ticks\": \"\"}}, \"marker\": {\"colorbar\": {\"outlinewidth\": 0, \"ticks\": \"\"}}, \"type\": \"scatter3d\"}], \"scattercarpet\": [{\"marker\": {\"colorbar\": {\"outlinewidth\": 0, \"ticks\": \"\"}}, \"type\": \"scattercarpet\"}], \"scattergeo\": [{\"marker\": {\"colorbar\": {\"outlinewidth\": 0, \"ticks\": \"\"}}, \"type\": \"scattergeo\"}], \"scattergl\": [{\"marker\": {\"colorbar\": {\"outlinewidth\": 0, \"ticks\": \"\"}}, \"type\": \"scattergl\"}], \"scattermapbox\": [{\"marker\": {\"colorbar\": {\"outlinewidth\": 0, \"ticks\": \"\"}}, \"type\": \"scattermapbox\"}], \"scatterpolar\": [{\"marker\": {\"colorbar\": {\"outlinewidth\": 0, \"ticks\": \"\"}}, \"type\": \"scatterpolar\"}], \"scatterpolargl\": [{\"marker\": {\"colorbar\": {\"outlinewidth\": 0, \"ticks\": \"\"}}, \"type\": \"scatterpolargl\"}], \"scatterternary\": [{\"marker\": {\"colorbar\": {\"outlinewidth\": 0, \"ticks\": \"\"}}, \"type\": \"scatterternary\"}], \"surface\": [{\"colorbar\": {\"outlinewidth\": 0, \"ticks\": \"\"}, \"colorscale\": [[0.0, \"#0d0887\"], [0.1111111111111111, \"#46039f\"], [0.2222222222222222, \"#7201a8\"], [0.3333333333333333, \"#9c179e\"], [0.4444444444444444, \"#bd3786\"], [0.5555555555555556, \"#d8576b\"], [0.6666666666666666, \"#ed7953\"], [0.7777777777777778, \"#fb9f3a\"], [0.8888888888888888, \"#fdca26\"], [1.0, \"#f0f921\"]], \"type\": \"surface\"}], \"table\": [{\"cells\": {\"fill\": {\"color\": \"#EBF0F8\"}, \"line\": {\"color\": \"white\"}}, \"header\": {\"fill\": {\"color\": \"#C8D4E3\"}, \"line\": {\"color\": \"white\"}}, \"type\": \"table\"}]}, \"layout\": {\"annotationdefaults\": {\"arrowcolor\": \"#2a3f5f\", \"arrowhead\": 0, \"arrowwidth\": 1}, \"autotypenumbers\": \"strict\", \"coloraxis\": {\"colorbar\": {\"outlinewidth\": 0, \"ticks\": \"\"}}, \"colorscale\": {\"diverging\": [[0, \"#8e0152\"], [0.1, \"#c51b7d\"], [0.2, \"#de77ae\"], [0.3, \"#f1b6da\"], [0.4, \"#fde0ef\"], [0.5, \"#f7f7f7\"], [0.6, \"#e6f5d0\"], [0.7, \"#b8e186\"], [0.8, \"#7fbc41\"], [0.9, \"#4d9221\"], [1, \"#276419\"]], \"sequential\": [[0.0, \"#0d0887\"], [0.1111111111111111, \"#46039f\"], [0.2222222222222222, \"#7201a8\"], [0.3333333333333333, \"#9c179e\"], [0.4444444444444444, \"#bd3786\"], [0.5555555555555556, \"#d8576b\"], [0.6666666666666666, \"#ed7953\"], [0.7777777777777778, \"#fb9f3a\"], [0.8888888888888888, \"#fdca26\"], [1.0, \"#f0f921\"]], \"sequentialminus\": [[0.0, \"#0d0887\"], [0.1111111111111111, \"#46039f\"], [0.2222222222222222, \"#7201a8\"], [0.3333333333333333, \"#9c179e\"], [0.4444444444444444, \"#bd3786\"], [0.5555555555555556, \"#d8576b\"], [0.6666666666666666, \"#ed7953\"], [0.7777777777777778, \"#fb9f3a\"], [0.8888888888888888, \"#fdca26\"], [1.0, \"#f0f921\"]]}, \"colorway\": [\"#636efa\", \"#EF553B\", \"#00cc96\", \"#ab63fa\", \"#FFA15A\", \"#19d3f3\", \"#FF6692\", \"#B6E880\", \"#FF97FF\", \"#FECB52\"], \"font\": {\"color\": \"#2a3f5f\"}, \"geo\": {\"bgcolor\": \"white\", \"lakecolor\": \"white\", \"landcolor\": \"#E5ECF6\", \"showlakes\": true, \"showland\": true, \"subunitcolor\": \"white\"}, \"hoverlabel\": {\"align\": \"left\"}, \"hovermode\": \"closest\", \"mapbox\": {\"style\": \"light\"}, \"paper_bgcolor\": \"white\", \"plot_bgcolor\": \"#E5ECF6\", \"polar\": {\"angularaxis\": {\"gridcolor\": \"white\", \"linecolor\": \"white\", \"ticks\": \"\"}, \"bgcolor\": \"#E5ECF6\", \"radialaxis\": {\"gridcolor\": \"white\", \"linecolor\": \"white\", \"ticks\": \"\"}}, \"scene\": {\"xaxis\": {\"backgroundcolor\": \"#E5ECF6\", \"gridcolor\": \"white\", \"gridwidth\": 2, \"linecolor\": \"white\", \"showbackground\": true, \"ticks\": \"\", \"zerolinecolor\": \"white\"}, \"yaxis\": {\"backgroundcolor\": \"#E5ECF6\", \"gridcolor\": \"white\", \"gridwidth\": 2, \"linecolor\": \"white\", \"showbackground\": true, \"ticks\": \"\", \"zerolinecolor\": \"white\"}, \"zaxis\": {\"backgroundcolor\": \"#E5ECF6\", \"gridcolor\": \"white\", \"gridwidth\": 2, \"linecolor\": \"white\", \"showbackground\": true, \"ticks\": \"\", \"zerolinecolor\": \"white\"}}, \"shapedefaults\": {\"line\": {\"color\": \"#2a3f5f\"}}, \"ternary\": {\"aaxis\": {\"gridcolor\": \"white\", \"linecolor\": \"white\", \"ticks\": \"\"}, \"baxis\": {\"gridcolor\": \"white\", \"linecolor\": \"white\", \"ticks\": \"\"}, \"bgcolor\": \"#E5ECF6\", \"caxis\": {\"gridcolor\": \"white\", \"linecolor\": \"white\", \"ticks\": \"\"}}, \"title\": {\"x\": 0.05}, \"xaxis\": {\"automargin\": true, \"gridcolor\": \"white\", \"linecolor\": \"white\", \"ticks\": \"\", \"title\": {\"standoff\": 15}, \"zerolinecolor\": \"white\", \"zerolinewidth\": 2}, \"yaxis\": {\"automargin\": true, \"gridcolor\": \"white\", \"linecolor\": \"white\", \"ticks\": \"\", \"title\": {\"standoff\": 15}, \"zerolinecolor\": \"white\", \"zerolinewidth\": 2}}}, \"xaxis\": {\"anchor\": \"y\", \"domain\": [0.0, 1.0], \"title\": {\"text\": \"Maximum Heart Rate (thalach)\"}}, \"yaxis\": {\"anchor\": \"x\", \"domain\": [0.0, 1.0], \"title\": {\"text\": \"Count\"}}},                        {\"responsive\": true}                    ).then(function(){\n",
       "                            \n",
       "var gd = document.getElementById('206f0f18-51dc-4015-a5f0-3d4af6fe7a4d');\n",
       "var x = new MutationObserver(function (mutations, observer) {{\n",
       "        var display = window.getComputedStyle(gd).display;\n",
       "        if (!display || display === 'none') {{\n",
       "            console.log([gd, 'removed!']);\n",
       "            Plotly.purge(gd);\n",
       "            observer.disconnect();\n",
       "        }}\n",
       "}});\n",
       "\n",
       "// Listen for the removal of the full notebook cells\n",
       "var notebookContainer = gd.closest('#notebook-container');\n",
       "if (notebookContainer) {{\n",
       "    x.observe(notebookContainer, {childList: true});\n",
       "}}\n",
       "\n",
       "// Listen for the clearing of the current output cell\n",
       "var outputEl = gd.closest('.output');\n",
       "if (outputEl) {{\n",
       "    x.observe(outputEl, {childList: true});\n",
       "}}\n",
       "\n",
       "                        })                };                });            </script>        </div>"
      ]
     },
     "metadata": {},
     "output_type": "display_data"
    }
   ],
   "source": [
    "# Create a subplot grid with one subplot\n",
    "fig = sp.make_subplots(rows=1, cols=1, subplot_titles=(\"Maximum Heart Rate Distribution for Heart Disease Cases and Non-Cases\"))\n",
    "\n",
    "# Create histograms of maximum heart rate for heart disease cases and non-cases\n",
    "histogram_disease = go.Histogram(x=heart[heart['disease'] == 1]['thalach'], name='Heart Disease', marker_color='red', opacity=0.7)\n",
    "histogram_no_disease = go.Histogram(x=heart[heart['disease'] == 0]['thalach'], name='No Heart Disease', marker_color='blue', opacity=0.7)\n",
    "\n",
    "fig.add_trace(histogram_disease, row=1, col=1)\n",
    "fig.add_trace(histogram_no_disease, row=1, col=1)\n",
    "\n",
    "fig.update_xaxes(title_text='Maximum Heart Rate (thalach)', row=1, col=1)\n",
    "fig.update_yaxes(title_text='Count', row=1, col=1)\n",
    "\n",
    "fig.show()\n"
   ]
  },
  {
   "cell_type": "markdown",
   "id": "ff353111",
   "metadata": {},
   "source": [
    "We can see how the two distributions overlap or differ. In this case, it can be observed that the distribution of maximum heart rate for heart disease cases (red) appears to be shifted to the left compared to non-cases (blue). This suggests that, on average, individuals with heart disease tend to have a lower maximum heart rate."
   ]
  },
  {
   "cell_type": "code",
   "execution_count": 68,
   "id": "d3c02254",
   "metadata": {},
   "outputs": [
    {
     "data": {
      "application/vnd.plotly.v1+json": {
       "config": {
        "plotlyServerURL": "https://plot.ly"
       },
       "data": [
        {
         "alignmentgroup": "True",
         "hovertemplate": "sex=1<br>Heart Disease Presence=%{x}<br>age=%{y}<extra></extra>",
         "legendgroup": "1",
         "marker": {
          "color": "#636efa"
         },
         "name": "Female",
         "notched": false,
         "offsetgroup": "1",
         "orientation": "v",
         "showlegend": true,
         "type": "box",
         "x": [
          0,
          0,
          0,
          0,
          0,
          0,
          0,
          0,
          0,
          0,
          0,
          1,
          0,
          1,
          1,
          0,
          0,
          0,
          0,
          1,
          0,
          1,
          1,
          1,
          0,
          1,
          0,
          1,
          1,
          0,
          1,
          0,
          0,
          0,
          1,
          1,
          0,
          0,
          1,
          0,
          1,
          1,
          0,
          1,
          0,
          0,
          0,
          0,
          0,
          0,
          1,
          1,
          0,
          1,
          1,
          0,
          0,
          0,
          1,
          1,
          1,
          0,
          0,
          0,
          1,
          0,
          0,
          1,
          1,
          1,
          1,
          0,
          0,
          0,
          0,
          0,
          0,
          1,
          0,
          0,
          0,
          0,
          0,
          1,
          1,
          1,
          0,
          0,
          0,
          1,
          1,
          1,
          1,
          1,
          1,
          1,
          1,
          1,
          0,
          0,
          1,
          1,
          0,
          0,
          1,
          1,
          0,
          0,
          0,
          1,
          0,
          1,
          1,
          1,
          1,
          0,
          1,
          0,
          0,
          0,
          0,
          0,
          1,
          1,
          0,
          1,
          0,
          0,
          0,
          0,
          0,
          1,
          0,
          1,
          1,
          0,
          0,
          0,
          0,
          0,
          1,
          1,
          1,
          0,
          1,
          0,
          1,
          0,
          1,
          1,
          1,
          1,
          0,
          1,
          1,
          0,
          1,
          0,
          0,
          1,
          1,
          1,
          0,
          1,
          0,
          0,
          0,
          1,
          1,
          1,
          0,
          1,
          0,
          1,
          0,
          1,
          0,
          0,
          0,
          0,
          1,
          0,
          1,
          1,
          0,
          0,
          1,
          0,
          0,
          0,
          0,
          0,
          1,
          1,
          1,
          1,
          1,
          0,
          0,
          0,
          1,
          1,
          0,
          1,
          0,
          1,
          1,
          0,
          1,
          1,
          0,
          0,
          1,
          0,
          1,
          1,
          0,
          0,
          0,
          1,
          1,
          1,
          0,
          0,
          1,
          0,
          0,
          0,
          0,
          1,
          1,
          0,
          0,
          0,
          1,
          0,
          0,
          0,
          1,
          0,
          0,
          1,
          1,
          0,
          0,
          1,
          1,
          1,
          1,
          0,
          0,
          0,
          1,
          0,
          0,
          1,
          0,
          0,
          0,
          0,
          1,
          1,
          1,
          1,
          0,
          0,
          1,
          1,
          0,
          0,
          1,
          1,
          0,
          1,
          0,
          0,
          0,
          0,
          0,
          1,
          0,
          0,
          1,
          0,
          1,
          0,
          0,
          0,
          1,
          1,
          0,
          1,
          0,
          0,
          1,
          0,
          0,
          0,
          0,
          0,
          0,
          1,
          1,
          0,
          1,
          0,
          0,
          0,
          1,
          0,
          1,
          0,
          0,
          0,
          1,
          1,
          1,
          1,
          0,
          0,
          1,
          0,
          1,
          1,
          0,
          1,
          1,
          1,
          1,
          1,
          0,
          1,
          0,
          1,
          0,
          1,
          0,
          0,
          1,
          0,
          0,
          1,
          0,
          0,
          0,
          0,
          1,
          1,
          0,
          0,
          1,
          1,
          0,
          0,
          1,
          0,
          0,
          0,
          0,
          0,
          1,
          0,
          0,
          0,
          0,
          0,
          1,
          0,
          0,
          1,
          1,
          1,
          0,
          1,
          0,
          1,
          0,
          1,
          0,
          0,
          1,
          0,
          0,
          1,
          0,
          0,
          0,
          1,
          0,
          0,
          0,
          1,
          1,
          0,
          1,
          0,
          0,
          1,
          1,
          0,
          0,
          1,
          1,
          1,
          0,
          0,
          1,
          0,
          0,
          0,
          0,
          0,
          0,
          1,
          1,
          0,
          0,
          1,
          0,
          0,
          0,
          0,
          1,
          1,
          0,
          0,
          0,
          0,
          1,
          0,
          0,
          0,
          0,
          0,
          1,
          0,
          0,
          0,
          1,
          1,
          1,
          0,
          0,
          0,
          1,
          0,
          1,
          0,
          1,
          0,
          0,
          1,
          1,
          0,
          1,
          0,
          0,
          1,
          1,
          0,
          0,
          0,
          0,
          0,
          1,
          0,
          0,
          0,
          0,
          0,
          0,
          1,
          0,
          0,
          0,
          0,
          0,
          0,
          1,
          0,
          1,
          1,
          0,
          0,
          0,
          1,
          0,
          1,
          1,
          0,
          1,
          0,
          1,
          0,
          1,
          0,
          1,
          0,
          1,
          0,
          1,
          0,
          0,
          0,
          0,
          1,
          0,
          1,
          1,
          0,
          0,
          1,
          1,
          1,
          1,
          1,
          1,
          0,
          1,
          0,
          1,
          0,
          0,
          0,
          0,
          1,
          1,
          1,
          0,
          0,
          0,
          0,
          1,
          1,
          0,
          0,
          0,
          0,
          0,
          0,
          0,
          0,
          1,
          1,
          0,
          1,
          0,
          1,
          0,
          1,
          0,
          1,
          1,
          0,
          0,
          0,
          1,
          1,
          1,
          1,
          1,
          0,
          0,
          1,
          0,
          1,
          0,
          1,
          0,
          1,
          1,
          1,
          0,
          0,
          0,
          1,
          1,
          1,
          0,
          0,
          0,
          0,
          0,
          0,
          0,
          0,
          1,
          0,
          0,
          0,
          1,
          1,
          0,
          0,
          0,
          0,
          0,
          0,
          1,
          1,
          1,
          1,
          1,
          1,
          1,
          0,
          0,
          0,
          0,
          1,
          1,
          0,
          0,
          0,
          0,
          0,
          0,
          1,
          0,
          0,
          0,
          1,
          1,
          1,
          0,
          0,
          1,
          0,
          1,
          0,
          0,
          0,
          0,
          1,
          0,
          0,
          0,
          1,
          0,
          0,
          0,
          0,
          1,
          1,
          0,
          0,
          1,
          0,
          0,
          0,
          0,
          0,
          1,
          1,
          1,
          0,
          1,
          1,
          1,
          0,
          1,
          0,
          1,
          0,
          1,
          0,
          0,
          1,
          1,
          1,
          1,
          1,
          1,
          0,
          1,
          0,
          0,
          1,
          0,
          1,
          1,
          1,
          0,
          0,
          1,
          0,
          0,
          0,
          1,
          0,
          0,
          0,
          0,
          1,
          0,
          1,
          1,
          1,
          1,
          0,
          0,
          1,
          0,
          0,
          0,
          0,
          0,
          0,
          1,
          1,
          0,
          0,
          0
         ],
         "x0": " ",
         "xaxis": "x",
         "y": [
          52,
          53,
          70,
          61,
          58,
          55,
          46,
          54,
          51,
          52,
          54,
          58,
          60,
          45,
          44,
          56,
          44,
          57,
          70,
          50,
          46,
          51,
          59,
          64,
          57,
          54,
          46,
          42,
          41,
          60,
          38,
          49,
          55,
          55,
          56,
          48,
          67,
          57,
          29,
          67,
          59,
          29,
          59,
          53,
          42,
          59,
          61,
          56,
          59,
          48,
          47,
          48,
          63,
          52,
          52,
          50,
          49,
          46,
          38,
          44,
          58,
          68,
          63,
          44,
          62,
          53,
          65,
          57,
          54,
          47,
          52,
          47,
          51,
          62,
          40,
          54,
          44,
          53,
          48,
          57,
          59,
          63,
          43,
          29,
          42,
          54,
          44,
          60,
          61,
          66,
          53,
          52,
          57,
          41,
          50,
          54,
          47,
          41,
          57,
          61,
          34,
          47,
          40,
          41,
          52,
          39,
          58,
          54,
          58,
          54,
          63,
          54,
          40,
          54,
          41,
          77,
          51,
          77,
          48,
          56,
          59,
          56,
          43,
          43,
          56,
          56,
          54,
          56,
          64,
          44,
          63,
          64,
          60,
          42,
          45,
          57,
          40,
          56,
          63,
          64,
          41,
          56,
          69,
          67,
          59,
          58,
          45,
          50,
          34,
          52,
          64,
          42,
          59,
          41,
          38,
          62,
          42,
          67,
          50,
          43,
          45,
          49,
          65,
          41,
          46,
          54,
          63,
          64,
          51,
          54,
          49,
          52,
          58,
          56,
          60,
          64,
          49,
          57,
          60,
          67,
          38,
          60,
          51,
          44,
          54,
          46,
          42,
          47,
          55,
          57,
          35,
          38,
          66,
          44,
          54,
          48,
          45,
          53,
          67,
          58,
          43,
          44,
          54,
          66,
          56,
          57,
          44,
          55,
          35,
          64,
          58,
          40,
          52,
          58,
          61,
          59,
          67,
          67,
          58,
          35,
          52,
          51,
          60,
          62,
          44,
          59,
          61,
          48,
          70,
          40,
          42,
          59,
          45,
          66,
          48,
          54,
          57,
          70,
          37,
          60,
          58,
          57,
          54,
          56,
          60,
          38,
          44,
          52,
          41,
          66,
          50,
          43,
          66,
          50,
          57,
          57,
          57,
          59,
          67,
          59,
          48,
          62,
          53,
          53,
          58,
          48,
          58,
          51,
          55,
          58,
          66,
          59,
          67,
          52,
          58,
          58,
          59,
          58,
          35,
          51,
          77,
          64,
          63,
          45,
          51,
          63,
          68,
          40,
          66,
          63,
          49,
          70,
          61,
          56,
          58,
          58,
          46,
          56,
          57,
          70,
          59,
          54,
          52,
          45,
          57,
          43,
          47,
          67,
          37,
          67,
          47,
          58,
          60,
          57,
          57,
          47,
          52,
          53,
          55,
          52,
          69,
          47,
          43,
          51,
          69,
          48,
          52,
          43,
          38,
          44,
          47,
          61,
          67,
          41,
          48,
          57,
          57,
          57,
          39,
          58,
          51,
          35,
          65,
          62,
          41,
          65,
          61,
          57,
          64,
          55,
          51,
          59,
          68,
          57,
          54,
          47,
          61,
          43,
          44,
          54,
          44,
          49,
          60,
          49,
          61,
          59,
          58,
          61,
          58,
          59,
          69,
          52,
          46,
          64,
          58,
          44,
          59,
          54,
          48,
          70,
          68,
          69,
          54,
          53,
          58,
          67,
          59,
          48,
          67,
          44,
          56,
          41,
          42,
          60,
          34,
          44,
          60,
          43,
          52,
          70,
          58,
          46,
          44,
          55,
          43,
          55,
          40,
          64,
          59,
          54,
          70,
          64,
          61,
          59,
          38,
          58,
          46,
          47,
          66,
          42,
          64,
          55,
          43,
          49,
          65,
          57,
          48,
          61,
          59,
          69,
          58,
          38,
          65,
          45,
          49,
          61,
          52,
          65,
          64,
          65,
          44,
          50,
          47,
          62,
          41,
          56,
          41,
          64,
          59,
          61,
          58,
          47,
          35,
          57,
          29,
          66,
          52,
          68,
          54,
          63,
          58,
          60,
          63,
          68,
          42,
          59,
          59,
          43,
          60,
          52,
          58,
          58,
          53,
          39,
          35,
          67,
          66,
          35,
          41,
          35,
          57,
          51,
          58,
          57,
          45,
          56,
          35,
          51,
          70,
          56,
          52,
          64,
          45,
          48,
          56,
          46,
          44,
          52,
          51,
          52,
          50,
          59,
          67,
          58,
          52,
          44,
          63,
          58,
          51,
          64,
          60,
          44,
          58,
          55,
          48,
          65,
          48,
          64,
          66,
          57,
          56,
          63,
          57,
          57,
          68,
          46,
          41,
          51,
          53,
          59,
          44,
          58,
          56,
          54,
          55,
          67,
          51,
          62,
          54,
          54,
          68,
          61,
          62,
          41,
          59,
          43,
          67,
          63,
          52,
          53,
          57,
          44,
          51,
          40,
          57,
          53,
          62,
          58,
          70,
          45,
          42,
          61,
          60,
          54,
          61,
          42,
          57,
          44,
          54,
          51,
          58,
          68,
          55,
          42,
          49,
          52,
          51,
          51,
          70,
          58,
          59,
          60,
          56,
          61,
          52,
          58,
          37,
          52,
          67,
          65,
          46,
          43,
          51,
          52,
          64,
          59,
          52,
          59,
          41,
          41,
          56,
          56,
          39,
          64,
          57,
          59,
          60,
          61,
          54,
          59,
          57,
          57,
          57,
          48,
          70,
          57,
          61,
          57,
          54,
          52,
          51,
          59,
          52,
          59,
          61,
          59,
          55,
          64,
          42,
          62,
          50,
          50,
          35,
          45,
          66,
          46,
          65,
          47,
          59,
          38,
          39,
          58,
          44,
          54,
          57,
          54,
          42,
          54,
          60,
          65,
          40,
          38,
          42,
          56,
          43,
          64,
          53,
          65,
          56,
          70,
          57,
          67,
          62,
          50,
          52,
          58,
          53,
          52,
          38,
          52,
          52,
          51,
          43,
          39,
          52,
          44,
          45,
          57,
          39,
          64,
          59,
          62,
          57,
          60,
          56,
          60,
          43,
          59,
          44,
          54,
          42,
          67,
          64,
          42,
          66,
          52,
          58,
          56,
          42,
          40,
          51,
          45,
          48,
          58,
          58,
          65,
          53,
          41,
          47,
          59,
          60,
          47,
          54
         ],
         "y0": " ",
         "yaxis": "y"
        },
        {
         "alignmentgroup": "True",
         "hovertemplate": "sex=0<br>Heart Disease Presence=%{x}<br>age=%{y}<extra></extra>",
         "legendgroup": "0",
         "marker": {
          "color": "#EF553B"
         },
         "name": "Male",
         "notched": false,
         "offsetgroup": "0",
         "orientation": "v",
         "showlegend": true,
         "type": "box",
         "x": [
          0,
          1,
          1,
          0,
          1,
          1,
          1,
          1,
          1,
          1,
          1,
          0,
          0,
          0,
          1,
          1,
          0,
          1,
          0,
          1,
          1,
          0,
          1,
          1,
          0,
          1,
          0,
          0,
          1,
          1,
          1,
          1,
          1,
          1,
          0,
          1,
          1,
          1,
          1,
          0,
          1,
          1,
          0,
          1,
          1,
          1,
          1,
          1,
          0,
          0,
          1,
          1,
          1,
          1,
          0,
          1,
          1,
          0,
          1,
          1,
          0,
          1,
          1,
          1,
          1,
          1,
          1,
          1,
          0,
          1,
          1,
          1,
          1,
          1,
          1,
          1,
          1,
          1,
          0,
          1,
          1,
          1,
          1,
          1,
          1,
          1,
          1,
          1,
          1,
          1,
          1,
          1,
          1,
          0,
          1,
          1,
          1,
          0,
          1,
          1,
          1,
          0,
          0,
          1,
          1,
          1,
          1,
          0,
          0,
          1,
          1,
          1,
          1,
          1,
          1,
          1,
          1,
          1,
          1,
          1,
          0,
          0,
          1,
          0,
          1,
          1,
          1,
          0,
          0,
          1,
          0,
          1,
          0,
          1,
          0,
          1,
          1,
          1,
          1,
          1,
          0,
          0,
          1,
          1,
          1,
          1,
          1,
          1,
          1,
          1,
          1,
          0,
          0,
          1,
          1,
          1,
          1,
          0,
          1,
          0,
          1,
          0,
          1,
          1,
          1,
          1,
          1,
          1,
          1,
          0,
          1,
          1,
          1,
          1,
          1,
          1,
          1,
          1,
          1,
          0,
          1,
          0,
          0,
          1,
          0,
          1,
          1,
          1,
          0,
          0,
          0,
          0,
          0,
          1,
          1,
          0,
          1,
          1,
          1,
          0,
          1,
          1,
          1,
          0,
          1,
          1,
          1,
          1,
          1,
          0,
          1,
          1,
          1,
          1,
          0,
          1,
          0,
          0,
          1,
          1,
          1,
          1,
          1,
          1,
          1,
          1,
          1,
          0,
          1,
          1,
          1,
          1,
          0,
          1,
          1,
          1,
          1,
          1,
          1,
          1,
          0,
          1,
          1,
          1,
          1,
          0,
          0,
          1,
          0,
          1,
          1,
          0,
          1,
          0,
          0,
          1,
          1,
          0,
          0,
          0,
          1,
          1,
          1,
          1,
          1,
          1,
          1,
          1,
          1,
          1,
          0,
          0,
          0,
          1,
          0,
          1,
          1,
          0,
          1,
          0,
          0,
          1,
          1,
          0,
          1,
          1,
          0,
          1,
          1,
          0,
          1,
          1,
          1,
          1,
          1,
          1,
          1,
          1,
          0,
          1,
          1,
          1,
          0,
          1,
          0,
          1,
          1,
          0,
          1,
          0,
          1,
          1
         ],
         "x0": " ",
         "xaxis": "x",
         "y": [
          62,
          58,
          71,
          43,
          34,
          34,
          51,
          50,
          67,
          63,
          42,
          61,
          58,
          55,
          50,
          65,
          61,
          55,
          66,
          66,
          58,
          57,
          66,
          37,
          62,
          37,
          59,
          62,
          54,
          62,
          45,
          57,
          76,
          43,
          61,
          65,
          60,
          60,
          51,
          58,
          55,
          64,
          63,
          51,
          67,
          57,
          45,
          39,
          56,
          56,
          67,
          60,
          62,
          66,
          57,
          39,
          44,
          66,
          41,
          49,
          62,
          54,
          39,
          45,
          62,
          35,
          64,
          55,
          58,
          71,
          39,
          41,
          45,
          41,
          71,
          64,
          71,
          58,
          56,
          46,
          55,
          52,
          44,
          56,
          74,
          64,
          63,
          53,
          53,
          48,
          56,
          53,
          37,
          63,
          54,
          65,
          54,
          62,
          46,
          53,
          43,
          57,
          43,
          54,
          46,
          64,
          42,
          58,
          62,
          66,
          71,
          46,
          46,
          41,
          41,
          62,
          65,
          57,
          42,
          57,
          58,
          51,
          54,
          65,
          60,
          41,
          57,
          59,
          62,
          51,
          63,
          49,
          66,
          49,
          65,
          39,
          67,
          60,
          64,
          58,
          51,
          63,
          54,
          57,
          46,
          71,
          35,
          46,
          45,
          44,
          41,
          56,
          55,
          54,
          41,
          67,
          51,
          62,
          62,
          60,
          65,
          63,
          53,
          54,
          76,
          50,
          62,
          67,
          51,
          43,
          39,
          58,
          65,
          42,
          53,
          50,
          54,
          54,
          62,
          61,
          74,
          63,
          63,
          63,
          62,
          58,
          63,
          71,
          55,
          43,
          55,
          58,
          51,
          50,
          41,
          62,
          69,
          45,
          53,
          59,
          58,
          58,
          46,
          56,
          64,
          71,
          45,
          66,
          41,
          57,
          39,
          58,
          66,
          65,
          61,
          41,
          63,
          56,
          54,
          55,
          63,
          50,
          71,
          56,
          60,
          45,
          66,
          55,
          55,
          67,
          68,
          74,
          60,
          55,
          44,
          41,
          60,
          65,
          51,
          46,
          61,
          49,
          58,
          71,
          45,
          62,
          65,
          48,
          61,
          34,
          64,
          62,
          60,
          65,
          63,
          58,
          54,
          62,
          58,
          62,
          63,
          53,
          35,
          35,
          58,
          68,
          68,
          60,
          48,
          43,
          60,
          63,
          55,
          64,
          62,
          42,
          42,
          62,
          50,
          58,
          61,
          51,
          49,
          57,
          52,
          69,
          66,
          67,
          54,
          62,
          54,
          45,
          53,
          49,
          65,
          69,
          52,
          58,
          57,
          44,
          76,
          60,
          63,
          67,
          55,
          71,
          50,
          56,
          51,
          55,
          44,
          50
         ],
         "y0": " ",
         "yaxis": "y"
        }
       ],
       "layout": {
        "boxmode": "group",
        "legend": {
         "title": {
          "text": "sex"
         },
         "tracegroupgap": 0
        },
        "template": {
         "data": {
          "bar": [
           {
            "error_x": {
             "color": "#2a3f5f"
            },
            "error_y": {
             "color": "#2a3f5f"
            },
            "marker": {
             "line": {
              "color": "#E5ECF6",
              "width": 0.5
             }
            },
            "type": "bar"
           }
          ],
          "barpolar": [
           {
            "marker": {
             "line": {
              "color": "#E5ECF6",
              "width": 0.5
             }
            },
            "type": "barpolar"
           }
          ],
          "carpet": [
           {
            "aaxis": {
             "endlinecolor": "#2a3f5f",
             "gridcolor": "white",
             "linecolor": "white",
             "minorgridcolor": "white",
             "startlinecolor": "#2a3f5f"
            },
            "baxis": {
             "endlinecolor": "#2a3f5f",
             "gridcolor": "white",
             "linecolor": "white",
             "minorgridcolor": "white",
             "startlinecolor": "#2a3f5f"
            },
            "type": "carpet"
           }
          ],
          "choropleth": [
           {
            "colorbar": {
             "outlinewidth": 0,
             "ticks": ""
            },
            "type": "choropleth"
           }
          ],
          "contour": [
           {
            "colorbar": {
             "outlinewidth": 0,
             "ticks": ""
            },
            "colorscale": [
             [
              0,
              "#0d0887"
             ],
             [
              0.1111111111111111,
              "#46039f"
             ],
             [
              0.2222222222222222,
              "#7201a8"
             ],
             [
              0.3333333333333333,
              "#9c179e"
             ],
             [
              0.4444444444444444,
              "#bd3786"
             ],
             [
              0.5555555555555556,
              "#d8576b"
             ],
             [
              0.6666666666666666,
              "#ed7953"
             ],
             [
              0.7777777777777778,
              "#fb9f3a"
             ],
             [
              0.8888888888888888,
              "#fdca26"
             ],
             [
              1,
              "#f0f921"
             ]
            ],
            "type": "contour"
           }
          ],
          "contourcarpet": [
           {
            "colorbar": {
             "outlinewidth": 0,
             "ticks": ""
            },
            "type": "contourcarpet"
           }
          ],
          "heatmap": [
           {
            "colorbar": {
             "outlinewidth": 0,
             "ticks": ""
            },
            "colorscale": [
             [
              0,
              "#0d0887"
             ],
             [
              0.1111111111111111,
              "#46039f"
             ],
             [
              0.2222222222222222,
              "#7201a8"
             ],
             [
              0.3333333333333333,
              "#9c179e"
             ],
             [
              0.4444444444444444,
              "#bd3786"
             ],
             [
              0.5555555555555556,
              "#d8576b"
             ],
             [
              0.6666666666666666,
              "#ed7953"
             ],
             [
              0.7777777777777778,
              "#fb9f3a"
             ],
             [
              0.8888888888888888,
              "#fdca26"
             ],
             [
              1,
              "#f0f921"
             ]
            ],
            "type": "heatmap"
           }
          ],
          "heatmapgl": [
           {
            "colorbar": {
             "outlinewidth": 0,
             "ticks": ""
            },
            "colorscale": [
             [
              0,
              "#0d0887"
             ],
             [
              0.1111111111111111,
              "#46039f"
             ],
             [
              0.2222222222222222,
              "#7201a8"
             ],
             [
              0.3333333333333333,
              "#9c179e"
             ],
             [
              0.4444444444444444,
              "#bd3786"
             ],
             [
              0.5555555555555556,
              "#d8576b"
             ],
             [
              0.6666666666666666,
              "#ed7953"
             ],
             [
              0.7777777777777778,
              "#fb9f3a"
             ],
             [
              0.8888888888888888,
              "#fdca26"
             ],
             [
              1,
              "#f0f921"
             ]
            ],
            "type": "heatmapgl"
           }
          ],
          "histogram": [
           {
            "marker": {
             "colorbar": {
              "outlinewidth": 0,
              "ticks": ""
             }
            },
            "type": "histogram"
           }
          ],
          "histogram2d": [
           {
            "colorbar": {
             "outlinewidth": 0,
             "ticks": ""
            },
            "colorscale": [
             [
              0,
              "#0d0887"
             ],
             [
              0.1111111111111111,
              "#46039f"
             ],
             [
              0.2222222222222222,
              "#7201a8"
             ],
             [
              0.3333333333333333,
              "#9c179e"
             ],
             [
              0.4444444444444444,
              "#bd3786"
             ],
             [
              0.5555555555555556,
              "#d8576b"
             ],
             [
              0.6666666666666666,
              "#ed7953"
             ],
             [
              0.7777777777777778,
              "#fb9f3a"
             ],
             [
              0.8888888888888888,
              "#fdca26"
             ],
             [
              1,
              "#f0f921"
             ]
            ],
            "type": "histogram2d"
           }
          ],
          "histogram2dcontour": [
           {
            "colorbar": {
             "outlinewidth": 0,
             "ticks": ""
            },
            "colorscale": [
             [
              0,
              "#0d0887"
             ],
             [
              0.1111111111111111,
              "#46039f"
             ],
             [
              0.2222222222222222,
              "#7201a8"
             ],
             [
              0.3333333333333333,
              "#9c179e"
             ],
             [
              0.4444444444444444,
              "#bd3786"
             ],
             [
              0.5555555555555556,
              "#d8576b"
             ],
             [
              0.6666666666666666,
              "#ed7953"
             ],
             [
              0.7777777777777778,
              "#fb9f3a"
             ],
             [
              0.8888888888888888,
              "#fdca26"
             ],
             [
              1,
              "#f0f921"
             ]
            ],
            "type": "histogram2dcontour"
           }
          ],
          "mesh3d": [
           {
            "colorbar": {
             "outlinewidth": 0,
             "ticks": ""
            },
            "type": "mesh3d"
           }
          ],
          "parcoords": [
           {
            "line": {
             "colorbar": {
              "outlinewidth": 0,
              "ticks": ""
             }
            },
            "type": "parcoords"
           }
          ],
          "pie": [
           {
            "automargin": true,
            "type": "pie"
           }
          ],
          "scatter": [
           {
            "marker": {
             "colorbar": {
              "outlinewidth": 0,
              "ticks": ""
             }
            },
            "type": "scatter"
           }
          ],
          "scatter3d": [
           {
            "line": {
             "colorbar": {
              "outlinewidth": 0,
              "ticks": ""
             }
            },
            "marker": {
             "colorbar": {
              "outlinewidth": 0,
              "ticks": ""
             }
            },
            "type": "scatter3d"
           }
          ],
          "scattercarpet": [
           {
            "marker": {
             "colorbar": {
              "outlinewidth": 0,
              "ticks": ""
             }
            },
            "type": "scattercarpet"
           }
          ],
          "scattergeo": [
           {
            "marker": {
             "colorbar": {
              "outlinewidth": 0,
              "ticks": ""
             }
            },
            "type": "scattergeo"
           }
          ],
          "scattergl": [
           {
            "marker": {
             "colorbar": {
              "outlinewidth": 0,
              "ticks": ""
             }
            },
            "type": "scattergl"
           }
          ],
          "scattermapbox": [
           {
            "marker": {
             "colorbar": {
              "outlinewidth": 0,
              "ticks": ""
             }
            },
            "type": "scattermapbox"
           }
          ],
          "scatterpolar": [
           {
            "marker": {
             "colorbar": {
              "outlinewidth": 0,
              "ticks": ""
             }
            },
            "type": "scatterpolar"
           }
          ],
          "scatterpolargl": [
           {
            "marker": {
             "colorbar": {
              "outlinewidth": 0,
              "ticks": ""
             }
            },
            "type": "scatterpolargl"
           }
          ],
          "scatterternary": [
           {
            "marker": {
             "colorbar": {
              "outlinewidth": 0,
              "ticks": ""
             }
            },
            "type": "scatterternary"
           }
          ],
          "surface": [
           {
            "colorbar": {
             "outlinewidth": 0,
             "ticks": ""
            },
            "colorscale": [
             [
              0,
              "#0d0887"
             ],
             [
              0.1111111111111111,
              "#46039f"
             ],
             [
              0.2222222222222222,
              "#7201a8"
             ],
             [
              0.3333333333333333,
              "#9c179e"
             ],
             [
              0.4444444444444444,
              "#bd3786"
             ],
             [
              0.5555555555555556,
              "#d8576b"
             ],
             [
              0.6666666666666666,
              "#ed7953"
             ],
             [
              0.7777777777777778,
              "#fb9f3a"
             ],
             [
              0.8888888888888888,
              "#fdca26"
             ],
             [
              1,
              "#f0f921"
             ]
            ],
            "type": "surface"
           }
          ],
          "table": [
           {
            "cells": {
             "fill": {
              "color": "#EBF0F8"
             },
             "line": {
              "color": "white"
             }
            },
            "header": {
             "fill": {
              "color": "#C8D4E3"
             },
             "line": {
              "color": "white"
             }
            },
            "type": "table"
           }
          ]
         },
         "layout": {
          "annotationdefaults": {
           "arrowcolor": "#2a3f5f",
           "arrowhead": 0,
           "arrowwidth": 1
          },
          "autotypenumbers": "strict",
          "coloraxis": {
           "colorbar": {
            "outlinewidth": 0,
            "ticks": ""
           }
          },
          "colorscale": {
           "diverging": [
            [
             0,
             "#8e0152"
            ],
            [
             0.1,
             "#c51b7d"
            ],
            [
             0.2,
             "#de77ae"
            ],
            [
             0.3,
             "#f1b6da"
            ],
            [
             0.4,
             "#fde0ef"
            ],
            [
             0.5,
             "#f7f7f7"
            ],
            [
             0.6,
             "#e6f5d0"
            ],
            [
             0.7,
             "#b8e186"
            ],
            [
             0.8,
             "#7fbc41"
            ],
            [
             0.9,
             "#4d9221"
            ],
            [
             1,
             "#276419"
            ]
           ],
           "sequential": [
            [
             0,
             "#0d0887"
            ],
            [
             0.1111111111111111,
             "#46039f"
            ],
            [
             0.2222222222222222,
             "#7201a8"
            ],
            [
             0.3333333333333333,
             "#9c179e"
            ],
            [
             0.4444444444444444,
             "#bd3786"
            ],
            [
             0.5555555555555556,
             "#d8576b"
            ],
            [
             0.6666666666666666,
             "#ed7953"
            ],
            [
             0.7777777777777778,
             "#fb9f3a"
            ],
            [
             0.8888888888888888,
             "#fdca26"
            ],
            [
             1,
             "#f0f921"
            ]
           ],
           "sequentialminus": [
            [
             0,
             "#0d0887"
            ],
            [
             0.1111111111111111,
             "#46039f"
            ],
            [
             0.2222222222222222,
             "#7201a8"
            ],
            [
             0.3333333333333333,
             "#9c179e"
            ],
            [
             0.4444444444444444,
             "#bd3786"
            ],
            [
             0.5555555555555556,
             "#d8576b"
            ],
            [
             0.6666666666666666,
             "#ed7953"
            ],
            [
             0.7777777777777778,
             "#fb9f3a"
            ],
            [
             0.8888888888888888,
             "#fdca26"
            ],
            [
             1,
             "#f0f921"
            ]
           ]
          },
          "colorway": [
           "#636efa",
           "#EF553B",
           "#00cc96",
           "#ab63fa",
           "#FFA15A",
           "#19d3f3",
           "#FF6692",
           "#B6E880",
           "#FF97FF",
           "#FECB52"
          ],
          "font": {
           "color": "#2a3f5f"
          },
          "geo": {
           "bgcolor": "white",
           "lakecolor": "white",
           "landcolor": "#E5ECF6",
           "showlakes": true,
           "showland": true,
           "subunitcolor": "white"
          },
          "hoverlabel": {
           "align": "left"
          },
          "hovermode": "closest",
          "mapbox": {
           "style": "light"
          },
          "paper_bgcolor": "white",
          "plot_bgcolor": "#E5ECF6",
          "polar": {
           "angularaxis": {
            "gridcolor": "white",
            "linecolor": "white",
            "ticks": ""
           },
           "bgcolor": "#E5ECF6",
           "radialaxis": {
            "gridcolor": "white",
            "linecolor": "white",
            "ticks": ""
           }
          },
          "scene": {
           "xaxis": {
            "backgroundcolor": "#E5ECF6",
            "gridcolor": "white",
            "gridwidth": 2,
            "linecolor": "white",
            "showbackground": true,
            "ticks": "",
            "zerolinecolor": "white"
           },
           "yaxis": {
            "backgroundcolor": "#E5ECF6",
            "gridcolor": "white",
            "gridwidth": 2,
            "linecolor": "white",
            "showbackground": true,
            "ticks": "",
            "zerolinecolor": "white"
           },
           "zaxis": {
            "backgroundcolor": "#E5ECF6",
            "gridcolor": "white",
            "gridwidth": 2,
            "linecolor": "white",
            "showbackground": true,
            "ticks": "",
            "zerolinecolor": "white"
           }
          },
          "shapedefaults": {
           "line": {
            "color": "#2a3f5f"
           }
          },
          "ternary": {
           "aaxis": {
            "gridcolor": "white",
            "linecolor": "white",
            "ticks": ""
           },
           "baxis": {
            "gridcolor": "white",
            "linecolor": "white",
            "ticks": ""
           },
           "bgcolor": "#E5ECF6",
           "caxis": {
            "gridcolor": "white",
            "linecolor": "white",
            "ticks": ""
           }
          },
          "title": {
           "x": 0.05
          },
          "xaxis": {
           "automargin": true,
           "gridcolor": "white",
           "linecolor": "white",
           "ticks": "",
           "title": {
            "standoff": 15
           },
           "zerolinecolor": "white",
           "zerolinewidth": 2
          },
          "yaxis": {
           "automargin": true,
           "gridcolor": "white",
           "linecolor": "white",
           "ticks": "",
           "title": {
            "standoff": 15
           },
           "zerolinecolor": "white",
           "zerolinewidth": 2
          }
         }
        },
        "title": {
         "text": "Age Distribution by Gender for Heart Disease Cases and Non-Cases"
        },
        "xaxis": {
         "anchor": "y",
         "domain": [
          0,
          1
         ],
         "ticktext": [
          "No Disease",
          "Disease"
         ],
         "tickvals": [
          0,
          1
         ],
         "title": {
          "text": "Heart Disease Presence"
         }
        },
        "yaxis": {
         "anchor": "x",
         "domain": [
          0,
          1
         ],
         "title": {
          "text": "Age"
         }
        }
       }
      },
      "text/html": [
       "<div>                            <div id=\"ab5a22ce-d7af-4e3a-b2ac-d1f7154f4e68\" class=\"plotly-graph-div\" style=\"height:525px; width:100%;\"></div>            <script type=\"text/javascript\">                require([\"plotly\"], function(Plotly) {                    window.PLOTLYENV=window.PLOTLYENV || {};                                    if (document.getElementById(\"ab5a22ce-d7af-4e3a-b2ac-d1f7154f4e68\")) {                    Plotly.newPlot(                        \"ab5a22ce-d7af-4e3a-b2ac-d1f7154f4e68\",                        [{\"alignmentgroup\": \"True\", \"hovertemplate\": \"sex=1<br>Heart Disease Presence=%{x}<br>age=%{y}<extra></extra>\", \"legendgroup\": \"1\", \"marker\": {\"color\": \"#636efa\"}, \"name\": \"Female\", \"notched\": false, \"offsetgroup\": \"1\", \"orientation\": \"v\", \"showlegend\": true, \"type\": \"box\", \"x\": [0, 0, 0, 0, 0, 0, 0, 0, 0, 0, 0, 1, 0, 1, 1, 0, 0, 0, 0, 1, 0, 1, 1, 1, 0, 1, 0, 1, 1, 0, 1, 0, 0, 0, 1, 1, 0, 0, 1, 0, 1, 1, 0, 1, 0, 0, 0, 0, 0, 0, 1, 1, 0, 1, 1, 0, 0, 0, 1, 1, 1, 0, 0, 0, 1, 0, 0, 1, 1, 1, 1, 0, 0, 0, 0, 0, 0, 1, 0, 0, 0, 0, 0, 1, 1, 1, 0, 0, 0, 1, 1, 1, 1, 1, 1, 1, 1, 1, 0, 0, 1, 1, 0, 0, 1, 1, 0, 0, 0, 1, 0, 1, 1, 1, 1, 0, 1, 0, 0, 0, 0, 0, 1, 1, 0, 1, 0, 0, 0, 0, 0, 1, 0, 1, 1, 0, 0, 0, 0, 0, 1, 1, 1, 0, 1, 0, 1, 0, 1, 1, 1, 1, 0, 1, 1, 0, 1, 0, 0, 1, 1, 1, 0, 1, 0, 0, 0, 1, 1, 1, 0, 1, 0, 1, 0, 1, 0, 0, 0, 0, 1, 0, 1, 1, 0, 0, 1, 0, 0, 0, 0, 0, 1, 1, 1, 1, 1, 0, 0, 0, 1, 1, 0, 1, 0, 1, 1, 0, 1, 1, 0, 0, 1, 0, 1, 1, 0, 0, 0, 1, 1, 1, 0, 0, 1, 0, 0, 0, 0, 1, 1, 0, 0, 0, 1, 0, 0, 0, 1, 0, 0, 1, 1, 0, 0, 1, 1, 1, 1, 0, 0, 0, 1, 0, 0, 1, 0, 0, 0, 0, 1, 1, 1, 1, 0, 0, 1, 1, 0, 0, 1, 1, 0, 1, 0, 0, 0, 0, 0, 1, 0, 0, 1, 0, 1, 0, 0, 0, 1, 1, 0, 1, 0, 0, 1, 0, 0, 0, 0, 0, 0, 1, 1, 0, 1, 0, 0, 0, 1, 0, 1, 0, 0, 0, 1, 1, 1, 1, 0, 0, 1, 0, 1, 1, 0, 1, 1, 1, 1, 1, 0, 1, 0, 1, 0, 1, 0, 0, 1, 0, 0, 1, 0, 0, 0, 0, 1, 1, 0, 0, 1, 1, 0, 0, 1, 0, 0, 0, 0, 0, 1, 0, 0, 0, 0, 0, 1, 0, 0, 1, 1, 1, 0, 1, 0, 1, 0, 1, 0, 0, 1, 0, 0, 1, 0, 0, 0, 1, 0, 0, 0, 1, 1, 0, 1, 0, 0, 1, 1, 0, 0, 1, 1, 1, 0, 0, 1, 0, 0, 0, 0, 0, 0, 1, 1, 0, 0, 1, 0, 0, 0, 0, 1, 1, 0, 0, 0, 0, 1, 0, 0, 0, 0, 0, 1, 0, 0, 0, 1, 1, 1, 0, 0, 0, 1, 0, 1, 0, 1, 0, 0, 1, 1, 0, 1, 0, 0, 1, 1, 0, 0, 0, 0, 0, 1, 0, 0, 0, 0, 0, 0, 1, 0, 0, 0, 0, 0, 0, 1, 0, 1, 1, 0, 0, 0, 1, 0, 1, 1, 0, 1, 0, 1, 0, 1, 0, 1, 0, 1, 0, 1, 0, 0, 0, 0, 1, 0, 1, 1, 0, 0, 1, 1, 1, 1, 1, 1, 0, 1, 0, 1, 0, 0, 0, 0, 1, 1, 1, 0, 0, 0, 0, 1, 1, 0, 0, 0, 0, 0, 0, 0, 0, 1, 1, 0, 1, 0, 1, 0, 1, 0, 1, 1, 0, 0, 0, 1, 1, 1, 1, 1, 0, 0, 1, 0, 1, 0, 1, 0, 1, 1, 1, 0, 0, 0, 1, 1, 1, 0, 0, 0, 0, 0, 0, 0, 0, 1, 0, 0, 0, 1, 1, 0, 0, 0, 0, 0, 0, 1, 1, 1, 1, 1, 1, 1, 0, 0, 0, 0, 1, 1, 0, 0, 0, 0, 0, 0, 1, 0, 0, 0, 1, 1, 1, 0, 0, 1, 0, 1, 0, 0, 0, 0, 1, 0, 0, 0, 1, 0, 0, 0, 0, 1, 1, 0, 0, 1, 0, 0, 0, 0, 0, 1, 1, 1, 0, 1, 1, 1, 0, 1, 0, 1, 0, 1, 0, 0, 1, 1, 1, 1, 1, 1, 0, 1, 0, 0, 1, 0, 1, 1, 1, 0, 0, 1, 0, 0, 0, 1, 0, 0, 0, 0, 1, 0, 1, 1, 1, 1, 0, 0, 1, 0, 0, 0, 0, 0, 0, 1, 1, 0, 0, 0], \"x0\": \" \", \"xaxis\": \"x\", \"y\": [52, 53, 70, 61, 58, 55, 46, 54, 51, 52, 54, 58, 60, 45, 44, 56, 44, 57, 70, 50, 46, 51, 59, 64, 57, 54, 46, 42, 41, 60, 38, 49, 55, 55, 56, 48, 67, 57, 29, 67, 59, 29, 59, 53, 42, 59, 61, 56, 59, 48, 47, 48, 63, 52, 52, 50, 49, 46, 38, 44, 58, 68, 63, 44, 62, 53, 65, 57, 54, 47, 52, 47, 51, 62, 40, 54, 44, 53, 48, 57, 59, 63, 43, 29, 42, 54, 44, 60, 61, 66, 53, 52, 57, 41, 50, 54, 47, 41, 57, 61, 34, 47, 40, 41, 52, 39, 58, 54, 58, 54, 63, 54, 40, 54, 41, 77, 51, 77, 48, 56, 59, 56, 43, 43, 56, 56, 54, 56, 64, 44, 63, 64, 60, 42, 45, 57, 40, 56, 63, 64, 41, 56, 69, 67, 59, 58, 45, 50, 34, 52, 64, 42, 59, 41, 38, 62, 42, 67, 50, 43, 45, 49, 65, 41, 46, 54, 63, 64, 51, 54, 49, 52, 58, 56, 60, 64, 49, 57, 60, 67, 38, 60, 51, 44, 54, 46, 42, 47, 55, 57, 35, 38, 66, 44, 54, 48, 45, 53, 67, 58, 43, 44, 54, 66, 56, 57, 44, 55, 35, 64, 58, 40, 52, 58, 61, 59, 67, 67, 58, 35, 52, 51, 60, 62, 44, 59, 61, 48, 70, 40, 42, 59, 45, 66, 48, 54, 57, 70, 37, 60, 58, 57, 54, 56, 60, 38, 44, 52, 41, 66, 50, 43, 66, 50, 57, 57, 57, 59, 67, 59, 48, 62, 53, 53, 58, 48, 58, 51, 55, 58, 66, 59, 67, 52, 58, 58, 59, 58, 35, 51, 77, 64, 63, 45, 51, 63, 68, 40, 66, 63, 49, 70, 61, 56, 58, 58, 46, 56, 57, 70, 59, 54, 52, 45, 57, 43, 47, 67, 37, 67, 47, 58, 60, 57, 57, 47, 52, 53, 55, 52, 69, 47, 43, 51, 69, 48, 52, 43, 38, 44, 47, 61, 67, 41, 48, 57, 57, 57, 39, 58, 51, 35, 65, 62, 41, 65, 61, 57, 64, 55, 51, 59, 68, 57, 54, 47, 61, 43, 44, 54, 44, 49, 60, 49, 61, 59, 58, 61, 58, 59, 69, 52, 46, 64, 58, 44, 59, 54, 48, 70, 68, 69, 54, 53, 58, 67, 59, 48, 67, 44, 56, 41, 42, 60, 34, 44, 60, 43, 52, 70, 58, 46, 44, 55, 43, 55, 40, 64, 59, 54, 70, 64, 61, 59, 38, 58, 46, 47, 66, 42, 64, 55, 43, 49, 65, 57, 48, 61, 59, 69, 58, 38, 65, 45, 49, 61, 52, 65, 64, 65, 44, 50, 47, 62, 41, 56, 41, 64, 59, 61, 58, 47, 35, 57, 29, 66, 52, 68, 54, 63, 58, 60, 63, 68, 42, 59, 59, 43, 60, 52, 58, 58, 53, 39, 35, 67, 66, 35, 41, 35, 57, 51, 58, 57, 45, 56, 35, 51, 70, 56, 52, 64, 45, 48, 56, 46, 44, 52, 51, 52, 50, 59, 67, 58, 52, 44, 63, 58, 51, 64, 60, 44, 58, 55, 48, 65, 48, 64, 66, 57, 56, 63, 57, 57, 68, 46, 41, 51, 53, 59, 44, 58, 56, 54, 55, 67, 51, 62, 54, 54, 68, 61, 62, 41, 59, 43, 67, 63, 52, 53, 57, 44, 51, 40, 57, 53, 62, 58, 70, 45, 42, 61, 60, 54, 61, 42, 57, 44, 54, 51, 58, 68, 55, 42, 49, 52, 51, 51, 70, 58, 59, 60, 56, 61, 52, 58, 37, 52, 67, 65, 46, 43, 51, 52, 64, 59, 52, 59, 41, 41, 56, 56, 39, 64, 57, 59, 60, 61, 54, 59, 57, 57, 57, 48, 70, 57, 61, 57, 54, 52, 51, 59, 52, 59, 61, 59, 55, 64, 42, 62, 50, 50, 35, 45, 66, 46, 65, 47, 59, 38, 39, 58, 44, 54, 57, 54, 42, 54, 60, 65, 40, 38, 42, 56, 43, 64, 53, 65, 56, 70, 57, 67, 62, 50, 52, 58, 53, 52, 38, 52, 52, 51, 43, 39, 52, 44, 45, 57, 39, 64, 59, 62, 57, 60, 56, 60, 43, 59, 44, 54, 42, 67, 64, 42, 66, 52, 58, 56, 42, 40, 51, 45, 48, 58, 58, 65, 53, 41, 47, 59, 60, 47, 54], \"y0\": \" \", \"yaxis\": \"y\"}, {\"alignmentgroup\": \"True\", \"hovertemplate\": \"sex=0<br>Heart Disease Presence=%{x}<br>age=%{y}<extra></extra>\", \"legendgroup\": \"0\", \"marker\": {\"color\": \"#EF553B\"}, \"name\": \"Male\", \"notched\": false, \"offsetgroup\": \"0\", \"orientation\": \"v\", \"showlegend\": true, \"type\": \"box\", \"x\": [0, 1, 1, 0, 1, 1, 1, 1, 1, 1, 1, 0, 0, 0, 1, 1, 0, 1, 0, 1, 1, 0, 1, 1, 0, 1, 0, 0, 1, 1, 1, 1, 1, 1, 0, 1, 1, 1, 1, 0, 1, 1, 0, 1, 1, 1, 1, 1, 0, 0, 1, 1, 1, 1, 0, 1, 1, 0, 1, 1, 0, 1, 1, 1, 1, 1, 1, 1, 0, 1, 1, 1, 1, 1, 1, 1, 1, 1, 0, 1, 1, 1, 1, 1, 1, 1, 1, 1, 1, 1, 1, 1, 1, 0, 1, 1, 1, 0, 1, 1, 1, 0, 0, 1, 1, 1, 1, 0, 0, 1, 1, 1, 1, 1, 1, 1, 1, 1, 1, 1, 0, 0, 1, 0, 1, 1, 1, 0, 0, 1, 0, 1, 0, 1, 0, 1, 1, 1, 1, 1, 0, 0, 1, 1, 1, 1, 1, 1, 1, 1, 1, 0, 0, 1, 1, 1, 1, 0, 1, 0, 1, 0, 1, 1, 1, 1, 1, 1, 1, 0, 1, 1, 1, 1, 1, 1, 1, 1, 1, 0, 1, 0, 0, 1, 0, 1, 1, 1, 0, 0, 0, 0, 0, 1, 1, 0, 1, 1, 1, 0, 1, 1, 1, 0, 1, 1, 1, 1, 1, 0, 1, 1, 1, 1, 0, 1, 0, 0, 1, 1, 1, 1, 1, 1, 1, 1, 1, 0, 1, 1, 1, 1, 0, 1, 1, 1, 1, 1, 1, 1, 0, 1, 1, 1, 1, 0, 0, 1, 0, 1, 1, 0, 1, 0, 0, 1, 1, 0, 0, 0, 1, 1, 1, 1, 1, 1, 1, 1, 1, 1, 0, 0, 0, 1, 0, 1, 1, 0, 1, 0, 0, 1, 1, 0, 1, 1, 0, 1, 1, 0, 1, 1, 1, 1, 1, 1, 1, 1, 0, 1, 1, 1, 0, 1, 0, 1, 1, 0, 1, 0, 1, 1], \"x0\": \" \", \"xaxis\": \"x\", \"y\": [62, 58, 71, 43, 34, 34, 51, 50, 67, 63, 42, 61, 58, 55, 50, 65, 61, 55, 66, 66, 58, 57, 66, 37, 62, 37, 59, 62, 54, 62, 45, 57, 76, 43, 61, 65, 60, 60, 51, 58, 55, 64, 63, 51, 67, 57, 45, 39, 56, 56, 67, 60, 62, 66, 57, 39, 44, 66, 41, 49, 62, 54, 39, 45, 62, 35, 64, 55, 58, 71, 39, 41, 45, 41, 71, 64, 71, 58, 56, 46, 55, 52, 44, 56, 74, 64, 63, 53, 53, 48, 56, 53, 37, 63, 54, 65, 54, 62, 46, 53, 43, 57, 43, 54, 46, 64, 42, 58, 62, 66, 71, 46, 46, 41, 41, 62, 65, 57, 42, 57, 58, 51, 54, 65, 60, 41, 57, 59, 62, 51, 63, 49, 66, 49, 65, 39, 67, 60, 64, 58, 51, 63, 54, 57, 46, 71, 35, 46, 45, 44, 41, 56, 55, 54, 41, 67, 51, 62, 62, 60, 65, 63, 53, 54, 76, 50, 62, 67, 51, 43, 39, 58, 65, 42, 53, 50, 54, 54, 62, 61, 74, 63, 63, 63, 62, 58, 63, 71, 55, 43, 55, 58, 51, 50, 41, 62, 69, 45, 53, 59, 58, 58, 46, 56, 64, 71, 45, 66, 41, 57, 39, 58, 66, 65, 61, 41, 63, 56, 54, 55, 63, 50, 71, 56, 60, 45, 66, 55, 55, 67, 68, 74, 60, 55, 44, 41, 60, 65, 51, 46, 61, 49, 58, 71, 45, 62, 65, 48, 61, 34, 64, 62, 60, 65, 63, 58, 54, 62, 58, 62, 63, 53, 35, 35, 58, 68, 68, 60, 48, 43, 60, 63, 55, 64, 62, 42, 42, 62, 50, 58, 61, 51, 49, 57, 52, 69, 66, 67, 54, 62, 54, 45, 53, 49, 65, 69, 52, 58, 57, 44, 76, 60, 63, 67, 55, 71, 50, 56, 51, 55, 44, 50], \"y0\": \" \", \"yaxis\": \"y\"}],                        {\"boxmode\": \"group\", \"legend\": {\"title\": {\"text\": \"sex\"}, \"tracegroupgap\": 0}, \"template\": {\"data\": {\"bar\": [{\"error_x\": {\"color\": \"#2a3f5f\"}, \"error_y\": {\"color\": \"#2a3f5f\"}, \"marker\": {\"line\": {\"color\": \"#E5ECF6\", \"width\": 0.5}}, \"type\": \"bar\"}], \"barpolar\": [{\"marker\": {\"line\": {\"color\": \"#E5ECF6\", \"width\": 0.5}}, \"type\": \"barpolar\"}], \"carpet\": [{\"aaxis\": {\"endlinecolor\": \"#2a3f5f\", \"gridcolor\": \"white\", \"linecolor\": \"white\", \"minorgridcolor\": \"white\", \"startlinecolor\": \"#2a3f5f\"}, \"baxis\": {\"endlinecolor\": \"#2a3f5f\", \"gridcolor\": \"white\", \"linecolor\": \"white\", \"minorgridcolor\": \"white\", \"startlinecolor\": \"#2a3f5f\"}, \"type\": \"carpet\"}], \"choropleth\": [{\"colorbar\": {\"outlinewidth\": 0, \"ticks\": \"\"}, \"type\": \"choropleth\"}], \"contour\": [{\"colorbar\": {\"outlinewidth\": 0, \"ticks\": \"\"}, \"colorscale\": [[0.0, \"#0d0887\"], [0.1111111111111111, \"#46039f\"], [0.2222222222222222, \"#7201a8\"], [0.3333333333333333, \"#9c179e\"], [0.4444444444444444, \"#bd3786\"], [0.5555555555555556, \"#d8576b\"], [0.6666666666666666, \"#ed7953\"], [0.7777777777777778, \"#fb9f3a\"], [0.8888888888888888, \"#fdca26\"], [1.0, \"#f0f921\"]], \"type\": \"contour\"}], \"contourcarpet\": [{\"colorbar\": {\"outlinewidth\": 0, \"ticks\": \"\"}, \"type\": \"contourcarpet\"}], \"heatmap\": [{\"colorbar\": {\"outlinewidth\": 0, \"ticks\": \"\"}, \"colorscale\": [[0.0, \"#0d0887\"], [0.1111111111111111, \"#46039f\"], [0.2222222222222222, \"#7201a8\"], [0.3333333333333333, \"#9c179e\"], [0.4444444444444444, \"#bd3786\"], [0.5555555555555556, \"#d8576b\"], [0.6666666666666666, \"#ed7953\"], [0.7777777777777778, \"#fb9f3a\"], [0.8888888888888888, \"#fdca26\"], [1.0, \"#f0f921\"]], \"type\": \"heatmap\"}], \"heatmapgl\": [{\"colorbar\": {\"outlinewidth\": 0, \"ticks\": \"\"}, \"colorscale\": [[0.0, \"#0d0887\"], [0.1111111111111111, \"#46039f\"], [0.2222222222222222, \"#7201a8\"], [0.3333333333333333, \"#9c179e\"], [0.4444444444444444, \"#bd3786\"], [0.5555555555555556, \"#d8576b\"], [0.6666666666666666, \"#ed7953\"], [0.7777777777777778, \"#fb9f3a\"], [0.8888888888888888, \"#fdca26\"], [1.0, \"#f0f921\"]], \"type\": \"heatmapgl\"}], \"histogram\": [{\"marker\": {\"colorbar\": {\"outlinewidth\": 0, \"ticks\": \"\"}}, \"type\": \"histogram\"}], \"histogram2d\": [{\"colorbar\": {\"outlinewidth\": 0, \"ticks\": \"\"}, \"colorscale\": [[0.0, \"#0d0887\"], [0.1111111111111111, \"#46039f\"], [0.2222222222222222, \"#7201a8\"], [0.3333333333333333, \"#9c179e\"], [0.4444444444444444, \"#bd3786\"], [0.5555555555555556, \"#d8576b\"], [0.6666666666666666, \"#ed7953\"], [0.7777777777777778, \"#fb9f3a\"], [0.8888888888888888, \"#fdca26\"], [1.0, \"#f0f921\"]], \"type\": \"histogram2d\"}], \"histogram2dcontour\": [{\"colorbar\": {\"outlinewidth\": 0, \"ticks\": \"\"}, \"colorscale\": [[0.0, \"#0d0887\"], [0.1111111111111111, \"#46039f\"], [0.2222222222222222, \"#7201a8\"], [0.3333333333333333, \"#9c179e\"], [0.4444444444444444, \"#bd3786\"], [0.5555555555555556, \"#d8576b\"], [0.6666666666666666, \"#ed7953\"], [0.7777777777777778, \"#fb9f3a\"], [0.8888888888888888, \"#fdca26\"], [1.0, \"#f0f921\"]], \"type\": \"histogram2dcontour\"}], \"mesh3d\": [{\"colorbar\": {\"outlinewidth\": 0, \"ticks\": \"\"}, \"type\": \"mesh3d\"}], \"parcoords\": [{\"line\": {\"colorbar\": {\"outlinewidth\": 0, \"ticks\": \"\"}}, \"type\": \"parcoords\"}], \"pie\": [{\"automargin\": true, \"type\": \"pie\"}], \"scatter\": [{\"marker\": {\"colorbar\": {\"outlinewidth\": 0, \"ticks\": \"\"}}, \"type\": \"scatter\"}], \"scatter3d\": [{\"line\": {\"colorbar\": {\"outlinewidth\": 0, \"ticks\": \"\"}}, \"marker\": {\"colorbar\": {\"outlinewidth\": 0, \"ticks\": \"\"}}, \"type\": \"scatter3d\"}], \"scattercarpet\": [{\"marker\": {\"colorbar\": {\"outlinewidth\": 0, \"ticks\": \"\"}}, \"type\": \"scattercarpet\"}], \"scattergeo\": [{\"marker\": {\"colorbar\": {\"outlinewidth\": 0, \"ticks\": \"\"}}, \"type\": \"scattergeo\"}], \"scattergl\": [{\"marker\": {\"colorbar\": {\"outlinewidth\": 0, \"ticks\": \"\"}}, \"type\": \"scattergl\"}], \"scattermapbox\": [{\"marker\": {\"colorbar\": {\"outlinewidth\": 0, \"ticks\": \"\"}}, \"type\": \"scattermapbox\"}], \"scatterpolar\": [{\"marker\": {\"colorbar\": {\"outlinewidth\": 0, \"ticks\": \"\"}}, \"type\": \"scatterpolar\"}], \"scatterpolargl\": [{\"marker\": {\"colorbar\": {\"outlinewidth\": 0, \"ticks\": \"\"}}, \"type\": \"scatterpolargl\"}], \"scatterternary\": [{\"marker\": {\"colorbar\": {\"outlinewidth\": 0, \"ticks\": \"\"}}, \"type\": \"scatterternary\"}], \"surface\": [{\"colorbar\": {\"outlinewidth\": 0, \"ticks\": \"\"}, \"colorscale\": [[0.0, \"#0d0887\"], [0.1111111111111111, \"#46039f\"], [0.2222222222222222, \"#7201a8\"], [0.3333333333333333, \"#9c179e\"], [0.4444444444444444, \"#bd3786\"], [0.5555555555555556, \"#d8576b\"], [0.6666666666666666, \"#ed7953\"], [0.7777777777777778, \"#fb9f3a\"], [0.8888888888888888, \"#fdca26\"], [1.0, \"#f0f921\"]], \"type\": \"surface\"}], \"table\": [{\"cells\": {\"fill\": {\"color\": \"#EBF0F8\"}, \"line\": {\"color\": \"white\"}}, \"header\": {\"fill\": {\"color\": \"#C8D4E3\"}, \"line\": {\"color\": \"white\"}}, \"type\": \"table\"}]}, \"layout\": {\"annotationdefaults\": {\"arrowcolor\": \"#2a3f5f\", \"arrowhead\": 0, \"arrowwidth\": 1}, \"autotypenumbers\": \"strict\", \"coloraxis\": {\"colorbar\": {\"outlinewidth\": 0, \"ticks\": \"\"}}, \"colorscale\": {\"diverging\": [[0, \"#8e0152\"], [0.1, \"#c51b7d\"], [0.2, \"#de77ae\"], [0.3, \"#f1b6da\"], [0.4, \"#fde0ef\"], [0.5, \"#f7f7f7\"], [0.6, \"#e6f5d0\"], [0.7, \"#b8e186\"], [0.8, \"#7fbc41\"], [0.9, \"#4d9221\"], [1, \"#276419\"]], \"sequential\": [[0.0, \"#0d0887\"], [0.1111111111111111, \"#46039f\"], [0.2222222222222222, \"#7201a8\"], [0.3333333333333333, \"#9c179e\"], [0.4444444444444444, \"#bd3786\"], [0.5555555555555556, \"#d8576b\"], [0.6666666666666666, \"#ed7953\"], [0.7777777777777778, \"#fb9f3a\"], [0.8888888888888888, \"#fdca26\"], [1.0, \"#f0f921\"]], \"sequentialminus\": [[0.0, \"#0d0887\"], [0.1111111111111111, \"#46039f\"], [0.2222222222222222, \"#7201a8\"], [0.3333333333333333, \"#9c179e\"], [0.4444444444444444, \"#bd3786\"], [0.5555555555555556, \"#d8576b\"], [0.6666666666666666, \"#ed7953\"], [0.7777777777777778, \"#fb9f3a\"], [0.8888888888888888, \"#fdca26\"], [1.0, \"#f0f921\"]]}, \"colorway\": [\"#636efa\", \"#EF553B\", \"#00cc96\", \"#ab63fa\", \"#FFA15A\", \"#19d3f3\", \"#FF6692\", \"#B6E880\", \"#FF97FF\", \"#FECB52\"], \"font\": {\"color\": \"#2a3f5f\"}, \"geo\": {\"bgcolor\": \"white\", \"lakecolor\": \"white\", \"landcolor\": \"#E5ECF6\", \"showlakes\": true, \"showland\": true, \"subunitcolor\": \"white\"}, \"hoverlabel\": {\"align\": \"left\"}, \"hovermode\": \"closest\", \"mapbox\": {\"style\": \"light\"}, \"paper_bgcolor\": \"white\", \"plot_bgcolor\": \"#E5ECF6\", \"polar\": {\"angularaxis\": {\"gridcolor\": \"white\", \"linecolor\": \"white\", \"ticks\": \"\"}, \"bgcolor\": \"#E5ECF6\", \"radialaxis\": {\"gridcolor\": \"white\", \"linecolor\": \"white\", \"ticks\": \"\"}}, \"scene\": {\"xaxis\": {\"backgroundcolor\": \"#E5ECF6\", \"gridcolor\": \"white\", \"gridwidth\": 2, \"linecolor\": \"white\", \"showbackground\": true, \"ticks\": \"\", \"zerolinecolor\": \"white\"}, \"yaxis\": {\"backgroundcolor\": \"#E5ECF6\", \"gridcolor\": \"white\", \"gridwidth\": 2, \"linecolor\": \"white\", \"showbackground\": true, \"ticks\": \"\", \"zerolinecolor\": \"white\"}, \"zaxis\": {\"backgroundcolor\": \"#E5ECF6\", \"gridcolor\": \"white\", \"gridwidth\": 2, \"linecolor\": \"white\", \"showbackground\": true, \"ticks\": \"\", \"zerolinecolor\": \"white\"}}, \"shapedefaults\": {\"line\": {\"color\": \"#2a3f5f\"}}, \"ternary\": {\"aaxis\": {\"gridcolor\": \"white\", \"linecolor\": \"white\", \"ticks\": \"\"}, \"baxis\": {\"gridcolor\": \"white\", \"linecolor\": \"white\", \"ticks\": \"\"}, \"bgcolor\": \"#E5ECF6\", \"caxis\": {\"gridcolor\": \"white\", \"linecolor\": \"white\", \"ticks\": \"\"}}, \"title\": {\"x\": 0.05}, \"xaxis\": {\"automargin\": true, \"gridcolor\": \"white\", \"linecolor\": \"white\", \"ticks\": \"\", \"title\": {\"standoff\": 15}, \"zerolinecolor\": \"white\", \"zerolinewidth\": 2}, \"yaxis\": {\"automargin\": true, \"gridcolor\": \"white\", \"linecolor\": \"white\", \"ticks\": \"\", \"title\": {\"standoff\": 15}, \"zerolinecolor\": \"white\", \"zerolinewidth\": 2}}}, \"title\": {\"text\": \"Age Distribution by Gender for Heart Disease Cases and Non-Cases\"}, \"xaxis\": {\"anchor\": \"y\", \"domain\": [0.0, 1.0], \"ticktext\": [\"No Disease\", \"Disease\"], \"tickvals\": [0, 1], \"title\": {\"text\": \"Heart Disease Presence\"}}, \"yaxis\": {\"anchor\": \"x\", \"domain\": [0.0, 1.0], \"title\": {\"text\": \"Age\"}}},                        {\"responsive\": true}                    ).then(function(){\n",
       "                            \n",
       "var gd = document.getElementById('ab5a22ce-d7af-4e3a-b2ac-d1f7154f4e68');\n",
       "var x = new MutationObserver(function (mutations, observer) {{\n",
       "        var display = window.getComputedStyle(gd).display;\n",
       "        if (!display || display === 'none') {{\n",
       "            console.log([gd, 'removed!']);\n",
       "            Plotly.purge(gd);\n",
       "            observer.disconnect();\n",
       "        }}\n",
       "}});\n",
       "\n",
       "// Listen for the removal of the full notebook cells\n",
       "var notebookContainer = gd.closest('#notebook-container');\n",
       "if (notebookContainer) {{\n",
       "    x.observe(notebookContainer, {childList: true});\n",
       "}}\n",
       "\n",
       "// Listen for the clearing of the current output cell\n",
       "var outputEl = gd.closest('.output');\n",
       "if (outputEl) {{\n",
       "    x.observe(outputEl, {childList: true});\n",
       "}}\n",
       "\n",
       "                        })                };                });            </script>        </div>"
      ]
     },
     "metadata": {},
     "output_type": "display_data"
    }
   ],
   "source": [
    "# Create a box plot using Plotly Express\n",
    "fig = px.box(heart, x=\"disease\", y=\"age\", color=\"sex\", title=\"Age Distribution by Gender for Heart Disease Cases and Non-Cases\", labels={\"disease\": \"Heart Disease Presence\"})\n",
    "\n",
    "# Customize the legend labels\n",
    "fig.for_each_trace(lambda trace: trace.update(name=\"Male\" if trace.name == \"0\" else \"Female\"))\n",
    "\n",
    "# Set x-axis labels\n",
    "fig.update_xaxes(tickvals=[0, 1], ticktext=[\"No Disease\", \"Disease\"])\n",
    "\n",
    "# Set y-axis label\n",
    "fig.update_yaxes(title_text=\"Age\")\n",
    "\n",
    "fig.show()\n"
   ]
  },
  {
   "cell_type": "markdown",
   "id": "5387a726",
   "metadata": {},
   "source": [
    "Age is an important factor in heart disease. As age increases, the likelihood of heart disease also increases.\n",
    "There is a clear age difference between heart disease cases and non-cases. Heart disease is more prevalent in older individuals."
   ]
  }
 ],
 "metadata": {
  "kernelspec": {
   "display_name": "Python 3 (ipykernel)",
   "language": "python",
   "name": "python3"
  },
  "language_info": {
   "codemirror_mode": {
    "name": "ipython",
    "version": 3
   },
   "file_extension": ".py",
   "mimetype": "text/x-python",
   "name": "python",
   "nbconvert_exporter": "python",
   "pygments_lexer": "ipython3",
   "version": "3.9.12"
  }
 },
 "nbformat": 4,
 "nbformat_minor": 5
}
